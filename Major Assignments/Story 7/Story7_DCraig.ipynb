{
 "cells": [
  {
   "cell_type": "markdown",
   "metadata": {},
   "source": [
    "# Story 7\n",
    "\n",
    "Story - 7 : Where Do Strategic Minerals Come From?\n",
    "The US Geological Survey publishes a list of Strategic Minerals ( https://www.usgs.gov/news/national-news-release/us-geological-survey-releases-2022-list-critical-minerals ). Having a secure supply of these minerals is essential to our security and economic prosperity. However many of these minerals are sourced from outside of the US. This assignment is to develop a reference catalog of the source or sources of each of these minerals and a judgement on the reliability of each source under stressed circumstance (e.g. war, economic crisis, etc.)\n",
    "Notes:\n",
    "You will need to identify a source or sources for each of the minerals in the 2022 List of Critical Minerals\n",
    "\n",
    "You will need to categorize each source country as an ally, a competitor or a neutral party.\n",
    "\n",
    "You will need to develop data visualizations that tell the story of source dependency and shortfall impact.\n",
    "\n",
    "This assignment is due at the end of week fourteen of the semester"
   ]
  },
  {
   "cell_type": "markdown",
   "metadata": {},
   "source": [
    "If I have:\n",
    "\n",
    "1. Tabular data on List of Countries + Status as either Enemy, Ally, Neutral\n",
    "2. List of Critical Minerals and Import Locations for U.S.\n",
    "\n",
    "That should be everything I need to start making graphics."
   ]
  },
  {
   "cell_type": "code",
   "execution_count": 5,
   "metadata": {},
   "outputs": [
    {
     "ename": "TypeError",
     "evalue": "'_VirtualList' object is not callable",
     "output_type": "error",
     "traceback": [
      "\u001b[1;31m---------------------------------------------------------------------------\u001b[0m",
      "\u001b[1;31mTypeError\u001b[0m                                 Traceback (most recent call last)",
      "\u001b[1;32mc:\\Users\\dcrai\\source\\repos\\DATA608\\Major Assignments\\Story 7\\Story7_DCraig.ipynb Cell 3\u001b[0m line \u001b[0;36m1\n\u001b[0;32m     <a href='vscode-notebook-cell:/c%3A/Users/dcrai/source/repos/DATA608/Major%20Assignments/Story%207/Story7_DCraig.ipynb#W4sZmlsZQ%3D%3D?line=9'>10</a>\u001b[0m \u001b[39m# Initialize an empty list to store extracted text\u001b[39;00m\n\u001b[0;32m     <a href='vscode-notebook-cell:/c%3A/Users/dcrai/source/repos/DATA608/Major%20Assignments/Story%207/Story7_DCraig.ipynb#W4sZmlsZQ%3D%3D?line=10'>11</a>\u001b[0m text_data \u001b[39m=\u001b[39m []\n\u001b[1;32m---> <a href='vscode-notebook-cell:/c%3A/Users/dcrai/source/repos/DATA608/Major%20Assignments/Story%207/Story7_DCraig.ipynb#W4sZmlsZQ%3D%3D?line=12'>13</a>\u001b[0m pdf_reader\u001b[39m.\u001b[39;49mpages()\n",
      "\u001b[1;31mTypeError\u001b[0m: '_VirtualList' object is not callable"
     ]
    }
   ],
   "source": [
    "import PyPDF2\n",
    "import re\n",
    "\n",
    "# Open the PDF file\n",
    "pdf_file = open('mcs2023.pdf', 'rb')\n",
    "\n",
    "# Create a PDF reader object\n",
    "pdf_reader = PyPDF2.PdfReader(pdf_file)\n",
    "\n",
    "# Initialize an empty list to store extracted text\n",
    "text_data = []\n",
    "\n",
    "pages = len(pdf_reader.pages)\n",
    "\n"
   ]
  },
  {
   "cell_type": "code",
   "execution_count": 17,
   "metadata": {},
   "outputs": [],
   "source": [
    "import PyPDF2\n",
    "import re\n",
    "\n",
    "# Open the PDF file\n",
    "pdf_file = open('mcs2023.pdf', 'rb')\n",
    "\n",
    "# Create a PDF reader object\n",
    "pdf_reader = PyPDF2.PdfReader(pdf_file)\n",
    "\n",
    "# Initialize an empty list to store extracted text\n",
    "text_data = []\n",
    "\n",
    "\n",
    "\n",
    "# Iterate through each page in the PDF\n",
    "for page in range(len(pdf_reader.pages)):\n",
    "    # Get the text content of the current page\n",
    "    page = pdf_reader.pages[page]\n",
    "    text = page.extract_text()\n",
    "    \n",
    "    # Use regex to find the pattern \"Import Sources (2018–21):\" and extract text after it\n",
    "    matches = re.findall(r'Import Sources \\(201 8–21\\):(.+)', text)\n",
    "    \n",
    "    # If matches are found, add them to the text_data list\n",
    "    if matches:\n",
    "        text_data.extend(matches)\n",
    "\n",
    "# Close the PDF file\n",
    "pdf_file.close()\n",
    "\n",
    "# Create a DataFrame from the extracted text\n",
    "import pandas as pd\n",
    "\n",
    "# Convert the text_data list to a DataFrame\n",
    "df = pd.DataFrame(text_data, columns=['Extracted_Text'])\n",
    "\n",
    "# Display the DataFrame\n",
    "\n"
   ]
  },
  {
   "cell_type": "code",
   "execution_count": 22,
   "metadata": {},
   "outputs": [],
   "source": [
    "pdf_file.close()"
   ]
  },
  {
   "cell_type": "code",
   "execution_count": 18,
   "metadata": {},
   "outputs": [
    {
     "name": "stdout",
     "output_type": "stream",
     "text": [
      "                                       Extracted_Text\n",
      "0     Fused aluminum oxide, crude: China,7 93%; Ba...\n",
      "1     Canada, 50%; United Arab Emirates, 9 %; Russ...\n",
      "2     Ore and concentrates: China , 46%; Italy, 34...\n",
      "3   2 Arsenic acid: Mala ysia, 82%; Hungary, 11%; ...\n",
      "4     Brazil, 75%; and Russia, 25%. The U.S. Censu...\n",
      "..                                                ...\n",
      "68    Comprehensive trade data were not available,...\n",
      "69  8 Yttrium compounds: China,9 94%; Germany, 3%;...\n",
      "70    Comprehensive trade data were not available ...\n",
      "71    Ores and concentrates: Peru, 71 %; Canada, 1...\n",
      "72    Zirconium ores and concentrates: South Afric...\n",
      "\n",
      "[73 rows x 1 columns]\n"
     ]
    }
   ],
   "source": [
    "print(df)"
   ]
  },
  {
   "cell_type": "code",
   "execution_count": 21,
   "metadata": {},
   "outputs": [
    {
     "name": "stdout",
     "output_type": "stream",
     "text": [
      "['  Ore and concentrates: China , 46%; Italy, 34%; India, 12%; Belgium, 5 %; and other, 3%. ']\n"
     ]
    }
   ],
   "source": [
    "pdf_file = open('mcs2023.pdf', 'rb')\n",
    "pdf_reader = PyPDF2.PdfReader(pdf_file)\n",
    "#31 abraisives\n",
    "#33 aluminum\n",
    "\n",
    "text = pdf_reader.pages[35].extract_text()\n",
    "\n",
    "matches = re.findall(r'Import Sources \\(201 8–21\\):(.+)', text)\n",
    "\n",
    "print(matches)\n"
   ]
  },
  {
   "cell_type": "code",
   "execution_count": null,
   "metadata": {},
   "outputs": [],
   "source": [
    "\n",
    "text = \"Prepared by Elizabeth S. Sangine [Contact Kateryna Klochko, (703) 648–4 977, kklochko@usgs.gov] ANTIMONY\\n(Data in metric tons of contained antimony unless otherwise noted)\"\n",
    "\n",
    "# Find the position of ']' in the text\n",
    "end_index = text.find(']')\n",
    "\n",
    "# Extract the text after ']' and before the line break\n",
    "extracted_text = text[end_index + 1: text.find('\\n')]\n",
    "\n",
    "print(extracted_text.strip())\n"
   ]
  }
 ],
 "metadata": {
  "kernelspec": {
   "display_name": "base",
   "language": "python",
   "name": "python3"
  },
  "language_info": {
   "codemirror_mode": {
    "name": "ipython",
    "version": 3
   },
   "file_extension": ".py",
   "mimetype": "text/x-python",
   "name": "python",
   "nbconvert_exporter": "python",
   "pygments_lexer": "ipython3",
   "version": "3.10.13"
  }
 },
 "nbformat": 4,
 "nbformat_minor": 2
}
