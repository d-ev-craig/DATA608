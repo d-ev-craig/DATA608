{
 "cells": [
  {
   "cell_type": "markdown",
   "metadata": {},
   "source": [
    "# Story 7\n",
    "\n",
    "Story - 7 : Where Do Strategic Minerals Come From?\n",
    "The US Geological Survey publishes a list of Strategic Minerals ( https://www.usgs.gov/news/national-news-release/us-geological-survey-releases-2022-list-critical-minerals ). Having a secure supply of these minerals is essential to our security and economic prosperity. However many of these minerals are sourced from outside of the US. This assignment is to develop a reference catalog of the source or sources of each of these minerals and a judgement on the reliability of each source under stressed circumstance (e.g. war, economic crisis, etc.)\n",
    "Notes:\n",
    "You will need to identify a source or sources for each of the minerals in the 2022 List of Critical Minerals\n",
    "\n",
    "You will need to categorize each source country as an ally, a competitor or a neutral party.\n",
    "\n",
    "You will need to develop data visualizations that tell the story of source dependency and shortfall impact.\n",
    "\n",
    "This assignment is due at the end of week fourteen of the semester"
   ]
  },
  {
   "cell_type": "markdown",
   "metadata": {},
   "source": [
    "If I have:\n",
    "\n",
    "1. Tabular data on List of Countries + Status as either Enemy, Ally, Neutral\n",
    "2. List of Critical Minerals and Import Locations for U.S.\n",
    "\n",
    "That should be everything I need to start making graphics."
   ]
  },
  {
   "cell_type": "markdown",
   "metadata": {},
   "source": []
  },
  {
   "cell_type": "markdown",
   "metadata": {},
   "source": [
    "## Text Recognition for Sources"
   ]
  },
  {
   "cell_type": "code",
   "execution_count": 131,
   "metadata": {},
   "outputs": [
    {
     "data": {
      "text/html": [
       "<div>\n",
       "<style scoped>\n",
       "    .dataframe tbody tr th:only-of-type {\n",
       "        vertical-align: middle;\n",
       "    }\n",
       "\n",
       "    .dataframe tbody tr th {\n",
       "        vertical-align: top;\n",
       "    }\n",
       "\n",
       "    .dataframe thead th {\n",
       "        text-align: right;\n",
       "    }\n",
       "</style>\n",
       "<table border=\"1\" class=\"dataframe\">\n",
       "  <thead>\n",
       "    <tr style=\"text-align: right;\">\n",
       "      <th></th>\n",
       "      <th>Extracted_Text</th>\n",
       "      <th>Extracted_Text</th>\n",
       "    </tr>\n",
       "  </thead>\n",
       "  <tbody>\n",
       "    <tr>\n",
       "      <th>0</th>\n",
       "      <td>ABRASIVES (MANUFACTURED)</td>\n",
       "      <td>Fused aluminum oxide, crude: China,7 93%; Bahrain, 3%; Russia, 2%; Canada, 1%; and \\nother, 1%. Fused aluminum oxide, ground and refined : Canada, 25%; Brazil, 19%; Austria, 15%; China,7 13%; and \\nother, 28%. Total fused aluminum oxide: China,7 63%; Canada, 10%; Brazil, 7%; Austria, 5%; and other, 1 5%. Silicon \\ncarbide, crude: China,7 90%; Netherlands and South Africa, 3% each; Luxembourg, 1%; and other 3%. Silicon \\ncarbide, ground and refined: China,7 48%; Brazil, 21%; Canada, 9%; Russia, 7%; and other, 15%. Total silicon \\ncarbide:  China,7 79%; Brazil, 6%; Netherlands and South Africa, 3 %, each; and other, 9%.  Metallic abrasives: \\nCanada, 33%; Turkey, 16%; China,7 12%; Thailand, 9%; and other, 30%.  \\n</td>\n",
       "    </tr>\n",
       "    <tr>\n",
       "      <th>1</th>\n",
       "      <td>ALUMINUM1</td>\n",
       "      <td>Canada, 50%; United Arab Emirates, 9 %; Russia , 5%; China,8 4%; and other, 32%. \\n</td>\n",
       "    </tr>\n",
       "    <tr>\n",
       "      <th>2</th>\n",
       "      <td>ANTIMONY</td>\n",
       "      <td>Ore and concentrates: China , 46%; Italy, 34%; India, 12%; Belgium, 5 %; and other, 3%. \\nOxide: China,5 74%; Belgium, 10%; Bolivia , 5%; Thailand, 3 %; and other, 8%. Unwrought metal and powder: China,5 \\n30%; India, 2 8%; Vietnam, 13 %; Burma , 12%; and other, 17 %. Total metal and oxide: China,5 63%; Belgiu m, 8%; \\nIndia, 7 %; and other, 22%. \\n</td>\n",
       "    </tr>\n",
       "    <tr>\n",
       "      <th>3</th>\n",
       "      <td>ARSENIC</td>\n",
       "      <td>2 Arsenic acid: Mala ysia, 82%; Hungary, 11%; and China, 7%.  Arsenic metal: China,6 \\n94%; Japan, 5%; and Germany , 1%. Arsenic trioxide: China, 54 %; Morocco, 39 %; Belgium, 5 %; Germany , 1%; and \\nother, 1%. All forms of arsenic : China ,6 57%; Morocco, 35%; Belgium, 4%; and other, 4 %. \\n</td>\n",
       "    </tr>\n",
       "    <tr>\n",
       "      <th>4</th>\n",
       "      <td>ASBESTOS</td>\n",
       "      <td>Brazil, 75%; and Russia, 25%. The U.S. Census Bureau reported imports from China in \\n2021, but bill of lading information and data reported by the Government of China suggest that shipments from China \\nwere misclassified.  \\n</td>\n",
       "    </tr>\n",
       "    <tr>\n",
       "      <th>5</th>\n",
       "      <td>BARITE</td>\n",
       "      <td>China ,6 38%; India, 29%; Morocco, 16%; Mexico, 13%; and other, 4 %. \\n</td>\n",
       "    </tr>\n",
       "    <tr>\n",
       "      <th>6</th>\n",
       "      <td></td>\n",
       "      <td>Bauxite:2 Jamaica, 63%; Brazil, 9%; Guyana  and Turkey , 8% each; and other, 1 2%. \\nAlumina:5 Brazil, 59%; Australia  and Jamaica, 14% each; Canada, 5%; and other, 8 %. \\n</td>\n",
       "    </tr>\n",
       "    <tr>\n",
       "      <th>7</th>\n",
       "      <td>BERYLLIUM</td>\n",
       "      <td>\\n1 Kazakhstan,  43%; Japan, 15 %; Latvia, 1 5%; Brazil , 10%; and other, 17%.  \\n</td>\n",
       "    </tr>\n",
       "    <tr>\n",
       "      <th>8</th>\n",
       "      <td>BISMUTH</td>\n",
       "      <td>China,6 65%; Republic of Korea, 19 %; Mexico, 5 %; Belgium, 3 %; and other, 8 %. \\n</td>\n",
       "    </tr>\n",
       "    <tr>\n",
       "      <th>9</th>\n",
       "      <td>BORON</td>\n",
       "      <td>All forms: Turkey, 90%; Bolivia, 5%; Chile, 2%; and other, 3 %. \\n</td>\n",
       "    </tr>\n",
       "    <tr>\n",
       "      <th>10</th>\n",
       "      <td>BROMINE</td>\n",
       "      <td>\\n5 Israel, 80%; Jordan, 12%; China,6 4%; and other, 4%. \\n</td>\n",
       "    </tr>\n",
       "    <tr>\n",
       "      <th>11</th>\n",
       "      <td>CADMIUM</td>\n",
       "      <td>6 Australia,  27%; Germany , 23%; China,7 20%;  Peru, 12 %; and other,  18%.  \\n</td>\n",
       "    </tr>\n",
       "    <tr>\n",
       "      <th>12</th>\n",
       "      <td>CEMENT</td>\n",
       "      <td>\\n5 Canada, 30%; Turkey, 26 %; Gr eece, 11 %; Mexico , 8%; and other, 25 %. \\n</td>\n",
       "    </tr>\n",
       "    <tr>\n",
       "      <th>13</th>\n",
       "      <td></td>\n",
       "      <td>No reliable data have been available to determine the source of cesium ore imported by \\nthe United States  since 1988. Prior to 2016, Canada was thought to be the primary supplier of cesium ore and refined \\nchemicals . Based on recent import data, it is thought that  Germany was  a source of  refined cesium chemicals.  \\n</td>\n",
       "    </tr>\n",
       "    <tr>\n",
       "      <th>14</th>\n",
       "      <td>CHROMIUM</td>\n",
       "      <td>Chromite (ores and concentrates): South Africa, 9 7%; Canada, 2%; and other, 1% . \\nChromium- containing scrap:7 Canada, 48%; Mexico, 42%; Netherlands , 4%; and other, 6 %. \\nChromium  (primary  metal):8 South Africa, 30%; Kazakhstan,  13%; Russia,  9%; Germany , 7%; and other, 41 %. \\nChromium- containing chemicals: China,9 23%; Germany, 20%; Kazakhstan, 19%; and other, 38%. Total  imports: \\nSouth Africa, 37%; Kazakhstan, 10%; Russia , 7%; Germany , 6%; and other, 40 %. \\n</td>\n",
       "    </tr>\n",
       "    <tr>\n",
       "      <th>15</th>\n",
       "      <td>COPPER</td>\n",
       "      <td>Copper content of blister and anodes: Finland, 90%;  and other,  10%. Copper content of \\nmatte, ash, and precipitates: Canada, 34%;  Belgium, 1 7%; Japan, 15%; Mexico, 11%;  and other, 23%. Copper \\ncontent of ore and concentrates: Mexico, 82 %; Canada , 18%; and other, &lt;1%. Copper content of scrap: Canada, \\n51%; Mexico, 37 %; and other, 12%. Refined copper: Chile, 64 %; Canada, 20%; Mexico, 11%; and other, 5%. Refined \\ncopper accounted for 8 6% of all unmanufactured copper imports.  \\n</td>\n",
       "    </tr>\n",
       "    <tr>\n",
       "      <th>16</th>\n",
       "      <td>DIAMOND (INDUSTRIAL)1</td>\n",
       "      <td>Bort, grit, and dust and powder; natural and synthetic: China,5 81%; Republic of Korea, \\n6%; Ireland, 5 %; Russia, 4 %; and oth er, 4%. Stones, primarily natural: South Africa, 22 %; Congo (Kinshasa), 19%;  \\nIndia, 17 %; Sierra Leone , 10%; and other, 32%.  \\n</td>\n",
       "    </tr>\n",
       "    <tr>\n",
       "      <th>17</th>\n",
       "      <td>DIATOMITE</td>\n",
       "      <td>Canada, 62 %; Mexico, 13 %; Germany, 10%; Argentina, 5%;  Japan, 5 %; and other,  5%. \\n</td>\n",
       "    </tr>\n",
       "    <tr>\n",
       "      <th>18</th>\n",
       "      <td>FELDSPAR AND NEPHELINE SYENITE</td>\n",
       "      <td>Feldspar : Turkey, 94%;  Mexico, 4% ; and other, 2%. Nepheline syenite: Canada, 100%.  \\n</td>\n",
       "    </tr>\n",
       "    <tr>\n",
       "      <th>19</th>\n",
       "      <td>FLUORSPAR</td>\n",
       "      <td>3 Mexico, 66%; Vietnam, 16 %; South Africa, 7 %; Canada, 7%; and other, 4 %. \\n</td>\n",
       "    </tr>\n",
       "    <tr>\n",
       "      <th>20</th>\n",
       "      <td>GALLIUM</td>\n",
       "      <td>Metal: China, 5 3%; Germany  and Japan, 13 % each; Ukraine, 5%; and other , 16%. \\n</td>\n",
       "    </tr>\n",
       "    <tr>\n",
       "      <th>21</th>\n",
       "      <td>GARNET (INDUSTRIAL)1</td>\n",
       "      <td>e South Africa, 48 %; China ,5 18%; India, 18%; Australia, 11%; and other, 5%. \\n</td>\n",
       "    </tr>\n",
       "    <tr>\n",
       "      <th>22</th>\n",
       "      <td>GERMANIUM</td>\n",
       "      <td>1, 6 Germanium metal: China, 54%; Belgium, 27 %; Germany, 9 %; Russia, 8 %; and \\nother , 2%. \\n</td>\n",
       "    </tr>\n",
       "    <tr>\n",
       "      <th>23</th>\n",
       "      <td>GOLD</td>\n",
       "      <td>Ores and concentrates: Canada, 89%; Greece, 9 %; and Germany , 2%. Dore: Mexico, \\n45%; Colombia, 12 %; Peru, 8%; Nicaragua, 7%; and other , 28%. Bullion: Switzerland, 38%; Canada, 23%; Australia \\nand South Africa, 7%  each; and other, 25% . Total: Switzerland , 24%; Mexico , 20%; Canada, 15 %; Colombia, 6 %; \\nand other, 35%.  \\n</td>\n",
       "    </tr>\n",
       "    <tr>\n",
       "      <th>24</th>\n",
       "      <td>GRAPHITE (NATURAL)</td>\n",
       "      <td>China ,5 33%; Mexico, 18 %; Canada, 17%; Madagascar , 10%; and other, 22%. \\n</td>\n",
       "    </tr>\n",
       "    <tr>\n",
       "      <th>25</th>\n",
       "      <td>GYPSUM</td>\n",
       "      <td>Mexico, 35 %; Spain, 33 %; Canada, 28%; and other, 4%. \\n</td>\n",
       "    </tr>\n",
       "    <tr>\n",
       "      <th>26</th>\n",
       "      <td>HELIUM</td>\n",
       "      <td>Qatar, 53%; Canada, 20%; Algeria, 1 5%; Russia , 5%; and other, 7 %. \\n</td>\n",
       "    </tr>\n",
       "    <tr>\n",
       "      <th>27</th>\n",
       "      <td>INDIUM</td>\n",
       "      <td>Republic of Korea, 32%; Canada, 22%; China,6 18%; France, 9%; and other, 19%. \\n</td>\n",
       "    </tr>\n",
       "    <tr>\n",
       "      <th>28</th>\n",
       "      <td>IODINE</td>\n",
       "      <td>Chile, 8 9%; Japan, 10 %; and other, 1%.  \\n</td>\n",
       "    </tr>\n",
       "    <tr>\n",
       "      <th>29</th>\n",
       "      <td>IRON AND STEEL1</td>\n",
       "      <td>Canada, 21 %; Brazil, 1 5%; Mexico, 14%; Republic of Korea, 9%; and other, 41 %. \\n</td>\n",
       "    </tr>\n",
       "    <tr>\n",
       "      <th>30</th>\n",
       "      <td>IRON AND STEEL SLAG</td>\n",
       "      <td>Japan, 46%; Brazil, 1 7%; China, 1 5%; and other, 22%.  \\n</td>\n",
       "    </tr>\n",
       "    <tr>\n",
       "      <th>31</th>\n",
       "      <td>IRON OXIDE PIGMENTS</td>\n",
       "      <td>Natural: Cyprus, 40%; Spain, 30 %; France, 14 %; Austria, 13 %; and other, 3%. \\nSynthetic: China,4 43%; Germany, 3 4%; Brazil, 8%; and other, 15 %. Total: China,4 42%; Germany, 33 %; Brazil, 7%; \\nCanada, 5%; and other, 13 %. \\n</td>\n",
       "    </tr>\n",
       "    <tr>\n",
       "      <th>32</th>\n",
       "      <td>KYANITE AND RELATED MINERALS</td>\n",
       "      <td>4 South Africa, 72%; Peru, 14 %; France, 9 %; United Kingdom, 5 %; and other, &lt; 1%. \\n</td>\n",
       "    </tr>\n",
       "    <tr>\n",
       "      <th>33</th>\n",
       "      <td>LEAD</td>\n",
       "      <td>Refined metal: Canada, 42%; Mexico, 1 8%; Republic of Korea, 14 %; and other, 26%.  \\n</td>\n",
       "    </tr>\n",
       "    <tr>\n",
       "      <th>34</th>\n",
       "      <td>LIME1</td>\n",
       "      <td>Canada, 9 0%; Mexico, 7%; and other, 3%.  \\n</td>\n",
       "    </tr>\n",
       "    <tr>\n",
       "      <th>35</th>\n",
       "      <td></td>\n",
       "      <td>Argentina, 5 1%; Chile, 40%; China, 4%; Russia, 3%; and other , 2%. \\n</td>\n",
       "    </tr>\n",
       "    <tr>\n",
       "      <th>36</th>\n",
       "      <td>MAGNESIUM COMPOUNDS1</td>\n",
       "      <td>Caustic -calcined magnesia: China,5 74%; Canada, 2 0%; Israel, 3%; and other, 3%. \\nCrude magnesite: China,5 87%; Singapore, 1 0%; and other , 3%. Dead- burned and fused magnesia: China,5 68%; \\nBrazil, 1 6%; Turkey, 5 %; Mexico, 3 %; and other, 8 %. Magnesium chloride: Israel, 60%; Netherlands, 2 6%; China,5 \\n5%; and other, 9%. Magnesium hydroxide: Mexico, 5 7%; Netherlands, 15%; Israel, 1 1%; Austria, 7%; and other, \\n10%. Magnesium sulfates: China,5 58%; India, 15 %; Germany, 10 %; Vietnam, 4%; and other, 13%. Total imports: \\nChina,5 61%; Israel , 10%; Canada, 7%; Brazil , 6%; and other, 16 %. \\n</td>\n",
       "    </tr>\n",
       "    <tr>\n",
       "      <th>37</th>\n",
       "      <td>MAGNESIUM METAL1</td>\n",
       "      <td>Magnesium metal (99.8%  purity ): Israel, 31%; Russia, 29%; Turkey , 27%; Canada, 6%;  \\nand other, 7 %. Magnesium alloys  (magnesium content) : Taiwan, 28%; Czechia, 16%; Germany  and Israel, 14%  \\neach; and other, 28% . Sheet, powder, and other  (magnesium content) : Austria , China ,5 and Mexico, 20%  each; \\nCanada, 17% ; and other, 23% . Scrap : Canada, 38%; Mexico, 19%; China,5 14%;  Taiwan, 6%; and other, 23% . \\nCombined total (includes magnesium content of alloys, metal , powder, and ot her): Canada, 21%; Israel, 11%; Mexico, \\n10%; Taiwan, 9%;  and other, 49%.   \\n</td>\n",
       "    </tr>\n",
       "    <tr>\n",
       "      <th>38</th>\n",
       "      <td>MANGANESE</td>\n",
       "      <td>Manganese ore: Gabon, 67%; South Africa, 19 %; Mexico, 12%; and other, 2 %. \\nFerromanganese: Australia, 19%; Malaysia, 18%; South Africa, 17 %; Norway, 15 %; and other, 31 %. \\nSilicomanganese: Georgia, 28 %; South Africa, 22%; Australia, 21 %; and other, 29%. Manganese contained in \\nprincipal manganese imports:8 Gabon, 25 %; South Africa, 19%; Australia, 12%; Georgia, 8%; and other, 36%.  \\n</td>\n",
       "    </tr>\n",
       "    <tr>\n",
       "      <th>39</th>\n",
       "      <td>MICA (NATURAL)</td>\n",
       "      <td>Scrap and flake: Canada, 39%; China, 38%; India, 8%; Finland, 4%; and other , 11%. \\nSheet: China, 72%; Brazil, 9%; Belgium, 4%, Austria, 3%, and other, 12%.  \\n</td>\n",
       "    </tr>\n",
       "    <tr>\n",
       "      <th>40</th>\n",
       "      <td>MOLYBDENUM</td>\n",
       "      <td>Ferromolybdenum: Chile, 69%; Republic of Korea, 26 %; and other, 5 %. Molybdenum \\nores and concentrates: Peru, 60%; Mexico, 15% ; Chile, 14%; and other, 1 1%. Total : Peru, 40%; Chile , 28% ; Mexico, \\n10%; Canada, 9%; and other , 13%. \\n</td>\n",
       "    </tr>\n",
       "    <tr>\n",
       "      <th>41</th>\n",
       "      <td>NICKEL</td>\n",
       "      <td>Primary n ickel: Canada, 45%; Norway, 9 %; Australia , 8%; Finland, 7 %; and other, 31 %. \\nNickel -containing scrap,  including nickel content of stainless -steel scrap: Canada, 38%; Mexico, 26 %; United \\nKingdom, 9%; and other, 27%. \\n</td>\n",
       "    </tr>\n",
       "    <tr>\n",
       "      <th>42</th>\n",
       "      <td>NIOBIUM (COLUMBIUM)</td>\n",
       "      <td>Niobium and tantalum ores and concentrates: Austr alia, 42%; Rwanda, 21%; Congo \\n(Kinshasa) , 12%; Mozambique, 7%; and other, 18 %. Niobium oxide: Brazil, 72%; Estonia , 5%; China, 2%; Germany , \\n1%; and other, 20%. Ferroniobium and niobium metal: Brazil, 6 7%; Canada, 28%; Russia , 3%, Germany, 1%,  and \\nother , 1%. Total imports: Brazil, 66%; Canada, 25% ; and other, 9 %. Of U.S. niobium material imports (by contained \\nweight), 74% was ferroniobium, 16% was niobium metal, 9% was niobium oxide, and 1% was niobium ores and \\nconcentrates . \\n</td>\n",
       "    </tr>\n",
       "    <tr>\n",
       "      <th>43</th>\n",
       "      <td>NITROGEN (FIXED) —AMMONIA</td>\n",
       "      <td>Trinidad and Tobago, 58%; Canada 40%; Venezuela, 1%; and other, 1 %. \\n</td>\n",
       "    </tr>\n",
       "    <tr>\n",
       "      <th>44</th>\n",
       "      <td>PEAT</td>\n",
       "      <td>Canada, 96%; and other, 4%.  \\n</td>\n",
       "    </tr>\n",
       "    <tr>\n",
       "      <th>45</th>\n",
       "      <td>PERLITE</td>\n",
       "      <td>Greece, 92%; China, 5% ; Mexico, 2% ; and other, 1%. \\n</td>\n",
       "    </tr>\n",
       "    <tr>\n",
       "      <th>46</th>\n",
       "      <td>PHOSPHATE ROCK</td>\n",
       "      <td>Peru, 95% ; and Morocco, 5%. \\n</td>\n",
       "    </tr>\n",
       "    <tr>\n",
       "      <th>47</th>\n",
       "      <td></td>\n",
       "      <td>Canada, 79 %; Russia, 9%; Belarus , 7%; and other, 5 %. \\n</td>\n",
       "    </tr>\n",
       "    <tr>\n",
       "      <th>48</th>\n",
       "      <td>PUMICE AND PUMICITE</td>\n",
       "      <td>Greece, 92 %; Iceland, 5 %; and other, 3%. \\n</td>\n",
       "    </tr>\n",
       "    <tr>\n",
       "      <th>49</th>\n",
       "      <td>QUARTZ CRYSTAL (INDUSTRIAL)</td>\n",
       "      <td>Import statistics specific to lascas are not available because they are combined with \\nother types of quartz. Cultured quartz crystal (piezoelectric quartz, unmounted): China,6 90%; Japan, 3%; Russia, 2%; \\nand other, 5 %. \\n</td>\n",
       "    </tr>\n",
       "    <tr>\n",
       "      <th>50</th>\n",
       "      <td>RHENIUM</td>\n",
       "      <td>Ammonium perrhenate: Kazakhstan, 27 %; Poland, 16%; Canada, 1 5%; Germany, 15 %; \\nand other, 27 %. Rhenium metal powder: Chile, 8 4%; Canada, 8%; Germany, 6 %; and other, 2 %. Total imports: Chile, \\n63%; Canada, 10%; Germany, 8%; Kazakhstan, 7 %; and other, 1 2%. \\n</td>\n",
       "    </tr>\n",
       "    <tr>\n",
       "      <th>51</th>\n",
       "      <td>SALT</td>\n",
       "      <td>Chile, 29%; Canada, 28%; Mexico, 13 %; Egypt, 11%; and other, 19%.  \\n</td>\n",
       "    </tr>\n",
       "    <tr>\n",
       "      <th>52</th>\n",
       "      <td>SAND AND GRAVEL (CONSTRUCTION)1</td>\n",
       "      <td>Canada, 95%; Mexico, 2 %; and other, 3 %. \\n</td>\n",
       "    </tr>\n",
       "    <tr>\n",
       "      <th>53</th>\n",
       "      <td>SAND AND GRAVEL (INDUSTRIAL)1</td>\n",
       "      <td>Canada, 87%; Vietnam, 3%; Brazil, Taiwan, and Turkey, 2% each; and other, 4%.  \\n</td>\n",
       "    </tr>\n",
       "    <tr>\n",
       "      <th>54</th>\n",
       "      <td>SCANDIUM1</td>\n",
       "      <td>Although no definitive data exist listing import sources, imported material was mostly \\nfrom Europe, China, Japan, and the Philippines . \\n</td>\n",
       "    </tr>\n",
       "    <tr>\n",
       "      <th>55</th>\n",
       "      <td>SELENIUM</td>\n",
       "      <td>Selen ium: Philippines, 2 1%; Mexico,  15%; Germany, 13%; China,7 9%; and other, 42%. \\nSelenium dioxide: Republic of Korea, 79 %; China, 8 %; Germany, 6%; Philippines , 5%; and other, 2%. \\n</td>\n",
       "    </tr>\n",
       "    <tr>\n",
       "      <th>56</th>\n",
       "      <td>SILVER</td>\n",
       "      <td>2 Mexico, 47%; Canada, 21%; Poland, 5%; Chile , 4%; and other, 23 %. \\n</td>\n",
       "    </tr>\n",
       "    <tr>\n",
       "      <th>57</th>\n",
       "      <td>SODA ASH</td>\n",
       "      <td>Turkey, 89 %; Bulgaria, 3%; Mexico , 2%; and other, 6%. \\n</td>\n",
       "    </tr>\n",
       "    <tr>\n",
       "      <th>58</th>\n",
       "      <td>STONE (CRUSHED)1</td>\n",
       "      <td>Mexico, 53 %; Canada, 28 %; The Bahamas, 13 %; Honduras, 5%; and other , 1%.  \\n</td>\n",
       "    </tr>\n",
       "    <tr>\n",
       "      <th>59</th>\n",
       "      <td>STRONTIUM</td>\n",
       "      <td>Celestite: Mexico, 100%. Strontium compounds: Germany , 47%; Mexico, 45 %; China, \\n4%; and other, 4%. Total imports: Mexico, 75%; Germany, 21 %; China, 2%; and other, 2%.  \\n</td>\n",
       "    </tr>\n",
       "    <tr>\n",
       "      <th>60</th>\n",
       "      <td>SULFUR</td>\n",
       "      <td>Elemental: Canada, 7 2%; Russia, 1 5%; Kazakhstan,  10%; and other, 3 %. Sulf uric acid: \\nCanada, 59%; Mexico, 19 %; Spain, 7 %; Germany, 4%; and other, 11 %. Total sulfur imports: Canada, 68 %; Russia , \\n10%; Kazakhstan, 7 %; Mexico, 6%; and other, 9 %. \\n</td>\n",
       "    </tr>\n",
       "    <tr>\n",
       "      <th>61</th>\n",
       "      <td>TANTALUM</td>\n",
       "      <td>Tantalum ores and concentrates: Australia, 43%; Rwanda , 21%; Congo (Kinshasa), \\n12%;  Mozambique, 7%; and other, 17 %. Tantalum metal and powder: China,6 42%; Germany, 23 %; Kazakhstan, \\n12%; Thailand, 9 %; and other, 14 %. Tantalum waste and scrap: Indonesia, 23 %; China,6 17%; Japan, 1 5%; and \\nother, 45 %. Total: China,6 24%; Germany, 12 %; Australia, 10%; Indonesia, 8%; and other, 46 %. \\n</td>\n",
       "    </tr>\n",
       "    <tr>\n",
       "      <th>62</th>\n",
       "      <td>TELLURIUM</td>\n",
       "      <td>Canada, 5 2%; Germany, 24%; China,7 12%; Philippines, 8 %; and other, 4 %. \\n</td>\n",
       "    </tr>\n",
       "    <tr>\n",
       "      <th>63</th>\n",
       "      <td>THORIUM</td>\n",
       "      <td>Ores and concentrates (m onazite) : China , 80%; United Kingdom , 15% ; and Canada, \\n5%. Thorium compounds: France, 56% ; India,  43%; and other , 1%. \\n</td>\n",
       "    </tr>\n",
       "    <tr>\n",
       "      <th>64</th>\n",
       "      <td>TIN</td>\n",
       "      <td>Refined tin: Peru, 25%; Indonesia, 24% ; Bolivia, 17%;  Malaysia, 16%; and other, 18%. \\nWaste and scrap: Canada, 98%; Mexico, 1%; and other, 1%. \\n</td>\n",
       "    </tr>\n",
       "    <tr>\n",
       "      <th>65</th>\n",
       "      <td>VANADIUM</td>\n",
       "      <td>Ferrovanadium: Austri a, 38%; Canada, 38 %; Russia, 10 %; Japan, 4%; and other, 10%. \\nVanadium pentoxide: Brazil, 50%; South Africa, 32%; China, 6%; Russia , 4%; and other, 8 %. Total: Canada, 31%; \\nChina , 13%; Brazil, 8%; South Africa, 7%; and other, 41 %. \\nNumber  \\n2615.90.6090  \\n2620.40.0030  \\n2620.99.1000  \\n2825.30.0010  \\n2825.30.0050  \\n7202.92.0000  \\n8112.92.7000  \\n8112.99.2000  \\n(3) Normal Trade Relations \\n12–3 1–22 \\nFree. \\nFree. \\nFree. \\n5.5% a d valorem. \\n5.5% a d valorem. \\n4.2% a d valorem. \\n2% ad valorem. \\n2% ad valorem. \\n5.5% a d valorem.</td>\n",
       "    </tr>\n",
       "    <tr>\n",
       "      <th>66</th>\n",
       "      <td>WOLLASTONITE</td>\n",
       "      <td>Comprehensive trade data were not available, but wollastonite was primarily imported \\nfrom Canada and Mexico.  \\n</td>\n",
       "    </tr>\n",
       "    <tr>\n",
       "      <th>67</th>\n",
       "      <td>YTTRIUM1</td>\n",
       "      <td>8 Yttrium compounds: China,9 94%; Germany, 3%; Republic of Korea and Japan , 1% \\neach; and other, 1%. Nearly all imports of yttrium metal and compounds are derived from mineral concentrates \\nprocessed in China. Import sources do not include yttrium contained in  value -added intermediates and finished \\nproducts.  \\n</td>\n",
       "    </tr>\n",
       "    <tr>\n",
       "      <th>68</th>\n",
       "      <td>ZEOLITES (NATURAL)</td>\n",
       "      <td>Comprehensive trade data were not available for natural zeolite minerals because they \\nwere imported and exported under a generic Harmonized Tariff Schedule of the United States code and Schedule B \\nnumber , respectively, that include multiple mineral commodities or under codes for finished products. Nearly all \\nimports and exports were thought to be synthetic zeolites.  \\n</td>\n",
       "    </tr>\n",
       "    <tr>\n",
       "      <th>69</th>\n",
       "      <td>ZINC</td>\n",
       "      <td>Ores and concentrates: Peru, 71 %; Canada, 15 %; China, 7%, Taiwan, 4%; and other, \\n3%. Refined metal: Canada, 66%; Mexico, 16 %; Peru, 6%; Spain, 6%; and other, 6%. Waste and scrap (gross \\nweight): Canada, 62%; Mexico, 36%; and other, 2%. Combined total (includes gross weight of waste and scrap): \\nCanada, 66%; Mexico, 16 %; Peru, 6 %; Spain, 6 %; and other, 6 %. \\n</td>\n",
       "    </tr>\n",
       "    <tr>\n",
       "      <th>70</th>\n",
       "      <td>ZIRCONIUM AND HAFNIUM</td>\n",
       "      <td>Zirconium ores and concentrates: South Africa, 51 %; Senegal, 25 %; Australia, 21%; \\nRussia, 2%; and other, 1%. Zirconium, unwrought, including powder: China, 89 %; Germany, 8%; France, 1%; Japan , \\n1%, and other, 1%. Zirconium, wrought: France, 62 %; Germany, 19 %; Belgium, 6 %; Canada, 4% ; and other, 9%. \\nHafnium, unwrought: Germany, 36%; France, 30%; China, 26 %; Russia, 3 %; and other, 5%. \\n</td>\n",
       "    </tr>\n",
       "  </tbody>\n",
       "</table>\n",
       "</div>"
      ],
      "text/plain": [
       "                     Extracted_Text  \\\n",
       "0          ABRASIVES (MANUFACTURED)   \n",
       "1                         ALUMINUM1   \n",
       "2                          ANTIMONY   \n",
       "3                           ARSENIC   \n",
       "4                          ASBESTOS   \n",
       "5                            BARITE   \n",
       "6                                     \n",
       "7                         BERYLLIUM   \n",
       "8                           BISMUTH   \n",
       "9                             BORON   \n",
       "10                          BROMINE   \n",
       "11                          CADMIUM   \n",
       "12                           CEMENT   \n",
       "13                                    \n",
       "14                         CHROMIUM   \n",
       "15                           COPPER   \n",
       "16            DIAMOND (INDUSTRIAL)1   \n",
       "17                        DIATOMITE   \n",
       "18   FELDSPAR AND NEPHELINE SYENITE   \n",
       "19                        FLUORSPAR   \n",
       "20                          GALLIUM   \n",
       "21             GARNET (INDUSTRIAL)1   \n",
       "22                        GERMANIUM   \n",
       "23                             GOLD   \n",
       "24               GRAPHITE (NATURAL)   \n",
       "25                           GYPSUM   \n",
       "26                           HELIUM   \n",
       "27                           INDIUM   \n",
       "28                           IODINE   \n",
       "29                  IRON AND STEEL1   \n",
       "30              IRON AND STEEL SLAG   \n",
       "31              IRON OXIDE PIGMENTS   \n",
       "32     KYANITE AND RELATED MINERALS   \n",
       "33                             LEAD   \n",
       "34                            LIME1   \n",
       "35                                    \n",
       "36             MAGNESIUM COMPOUNDS1   \n",
       "37                 MAGNESIUM METAL1   \n",
       "38                        MANGANESE   \n",
       "39                   MICA (NATURAL)   \n",
       "40                       MOLYBDENUM   \n",
       "41                           NICKEL   \n",
       "42              NIOBIUM (COLUMBIUM)   \n",
       "43        NITROGEN (FIXED) —AMMONIA   \n",
       "44                             PEAT   \n",
       "45                          PERLITE   \n",
       "46                   PHOSPHATE ROCK   \n",
       "47                                    \n",
       "48              PUMICE AND PUMICITE   \n",
       "49      QUARTZ CRYSTAL (INDUSTRIAL)   \n",
       "50                          RHENIUM   \n",
       "51                             SALT   \n",
       "52  SAND AND GRAVEL (CONSTRUCTION)1   \n",
       "53    SAND AND GRAVEL (INDUSTRIAL)1   \n",
       "54                        SCANDIUM1   \n",
       "55                         SELENIUM   \n",
       "56                           SILVER   \n",
       "57                         SODA ASH   \n",
       "58                 STONE (CRUSHED)1   \n",
       "59                        STRONTIUM   \n",
       "60                           SULFUR   \n",
       "61                         TANTALUM   \n",
       "62                        TELLURIUM   \n",
       "63                          THORIUM   \n",
       "64                              TIN   \n",
       "65                         VANADIUM   \n",
       "66                     WOLLASTONITE   \n",
       "67                         YTTRIUM1   \n",
       "68               ZEOLITES (NATURAL)   \n",
       "69                             ZINC   \n",
       "70            ZIRCONIUM AND HAFNIUM   \n",
       "\n",
       "                                                                                                                                                                                                                                                                                                                                                                                                                                                                                                                                                                                                                                                                                                                                         Extracted_Text  \n",
       "0     Fused aluminum oxide, crude: China,7 93%; Bahrain, 3%; Russia, 2%; Canada, 1%; and \\nother, 1%. Fused aluminum oxide, ground and refined : Canada, 25%; Brazil, 19%; Austria, 15%; China,7 13%; and \\nother, 28%. Total fused aluminum oxide: China,7 63%; Canada, 10%; Brazil, 7%; Austria, 5%; and other, 1 5%. Silicon \\ncarbide, crude: China,7 90%; Netherlands and South Africa, 3% each; Luxembourg, 1%; and other 3%. Silicon \\ncarbide, ground and refined: China,7 48%; Brazil, 21%; Canada, 9%; Russia, 7%; and other, 15%. Total silicon \\ncarbide:  China,7 79%; Brazil, 6%; Netherlands and South Africa, 3 %, each; and other, 9%.  Metallic abrasives: \\nCanada, 33%; Turkey, 16%; China,7 12%; Thailand, 9%; and other, 30%.  \\n  \n",
       "1                                                                                                                                                                                                                                                                                                                                                                                                                                                                                                                                                                                                                                                                   Canada, 50%; United Arab Emirates, 9 %; Russia , 5%; China,8 4%; and other, 32%. \\n  \n",
       "2                                                                                                                                                                                                                                                                                                                                                                                       Ore and concentrates: China , 46%; Italy, 34%; India, 12%; Belgium, 5 %; and other, 3%. \\nOxide: China,5 74%; Belgium, 10%; Bolivia , 5%; Thailand, 3 %; and other, 8%. Unwrought metal and powder: China,5 \\n30%; India, 2 8%; Vietnam, 13 %; Burma , 12%; and other, 17 %. Total metal and oxide: China,5 63%; Belgiu m, 8%; \\nIndia, 7 %; and other, 22%. \\n  \n",
       "3                                                                                                                                                                                                                                                                                                                                                                                                                                                2 Arsenic acid: Mala ysia, 82%; Hungary, 11%; and China, 7%.  Arsenic metal: China,6 \\n94%; Japan, 5%; and Germany , 1%. Arsenic trioxide: China, 54 %; Morocco, 39 %; Belgium, 5 %; Germany , 1%; and \\nother, 1%. All forms of arsenic : China ,6 57%; Morocco, 35%; Belgium, 4%; and other, 4 %. \\n  \n",
       "4                                                                                                                                                                                                                                                                                                                                                                                                                                                                                                                   Brazil, 75%; and Russia, 25%. The U.S. Census Bureau reported imports from China in \\n2021, but bill of lading information and data reported by the Government of China suggest that shipments from China \\nwere misclassified.  \\n  \n",
       "5                                                                                                                                                                                                                                                                                                                                                                                                                                                                                                                                                                                                                                                                               China ,6 38%; India, 29%; Morocco, 16%; Mexico, 13%; and other, 4 %. \\n  \n",
       "6                                                                                                                                                                                                                                                                                                                                                                                                                                                                                                                                                                          Bauxite:2 Jamaica, 63%; Brazil, 9%; Guyana  and Turkey , 8% each; and other, 1 2%. \\nAlumina:5 Brazil, 59%; Australia  and Jamaica, 14% each; Canada, 5%; and other, 8 %. \\n  \n",
       "7                                                                                                                                                                                                                                                                                                                                                                                                                                                                                                                                                                                                                                                                    \\n1 Kazakhstan,  43%; Japan, 15 %; Latvia, 1 5%; Brazil , 10%; and other, 17%.  \\n  \n",
       "8                                                                                                                                                                                                                                                                                                                                                                                                                                                                                                                                                                                                                                                                   China,6 65%; Republic of Korea, 19 %; Mexico, 5 %; Belgium, 3 %; and other, 8 %. \\n  \n",
       "9                                                                                                                                                                                                                                                                                                                                                                                                                                                                                                                                                                                                                                                                                    All forms: Turkey, 90%; Bolivia, 5%; Chile, 2%; and other, 3 %. \\n  \n",
       "10                                                                                                                                                                                                                                                                                                                                                                                                                                                                                                                                                                                                                                                                                          \\n5 Israel, 80%; Jordan, 12%; China,6 4%; and other, 4%. \\n  \n",
       "11                                                                                                                                                                                                                                                                                                                                                                                                                                                                                                                                                                                                                                                                     6 Australia,  27%; Germany , 23%; China,7 20%;  Peru, 12 %; and other,  18%.  \\n  \n",
       "12                                                                                                                                                                                                                                                                                                                                                                                                                                                                                                                                                                                                                                                                       \\n5 Canada, 30%; Turkey, 26 %; Gr eece, 11 %; Mexico , 8%; and other, 25 %. \\n  \n",
       "13                                                                                                                                                                                                                                                                                                                                                                                                                No reliable data have been available to determine the source of cesium ore imported by \\nthe United States  since 1988. Prior to 2016, Canada was thought to be the primary supplier of cesium ore and refined \\nchemicals . Based on recent import data, it is thought that  Germany was  a source of  refined cesium chemicals.  \\n  \n",
       "14                                                                                                                                                                                                                                                      Chromite (ores and concentrates): South Africa, 9 7%; Canada, 2%; and other, 1% . \\nChromium- containing scrap:7 Canada, 48%; Mexico, 42%; Netherlands , 4%; and other, 6 %. \\nChromium  (primary  metal):8 South Africa, 30%; Kazakhstan,  13%; Russia,  9%; Germany , 7%; and other, 41 %. \\nChromium- containing chemicals: China,9 23%; Germany, 20%; Kazakhstan, 19%; and other, 38%. Total  imports: \\nSouth Africa, 37%; Kazakhstan, 10%; Russia , 7%; Germany , 6%; and other, 40 %. \\n  \n",
       "15                                                                                                                                                                                                                                       Copper content of blister and anodes: Finland, 90%;  and other,  10%. Copper content of \\nmatte, ash, and precipitates: Canada, 34%;  Belgium, 1 7%; Japan, 15%; Mexico, 11%;  and other, 23%. Copper \\ncontent of ore and concentrates: Mexico, 82 %; Canada , 18%; and other, <1%. Copper content of scrap: Canada, \\n51%; Mexico, 37 %; and other, 12%. Refined copper: Chile, 64 %; Canada, 20%; Mexico, 11%; and other, 5%. Refined \\ncopper accounted for 8 6% of all unmanufactured copper imports.  \\n  \n",
       "16                                                                                                                                                                                                                                                                                                                                                                                                                                                                               Bort, grit, and dust and powder; natural and synthetic: China,5 81%; Republic of Korea, \\n6%; Ireland, 5 %; Russia, 4 %; and oth er, 4%. Stones, primarily natural: South Africa, 22 %; Congo (Kinshasa), 19%;  \\nIndia, 17 %; Sierra Leone , 10%; and other, 32%.  \\n  \n",
       "17                                                                                                                                                                                                                                                                                                                                                                                                                                                                                                                                                                                                                                                             Canada, 62 %; Mexico, 13 %; Germany, 10%; Argentina, 5%;  Japan, 5 %; and other,  5%. \\n  \n",
       "18                                                                                                                                                                                                                                                                                                                                                                                                                                                                                                                                                                                                                                                            Feldspar : Turkey, 94%;  Mexico, 4% ; and other, 2%. Nepheline syenite: Canada, 100%.  \\n  \n",
       "19                                                                                                                                                                                                                                                                                                                                                                                                                                                                                                                                                                                                                                                                      3 Mexico, 66%; Vietnam, 16 %; South Africa, 7 %; Canada, 7%; and other, 4 %. \\n  \n",
       "20                                                                                                                                                                                                                                                                                                                                                                                                                                                                                                                                                                                                                                                                  Metal: China, 5 3%; Germany  and Japan, 13 % each; Ukraine, 5%; and other , 16%. \\n  \n",
       "21                                                                                                                                                                                                                                                                                                                                                                                                                                                                                                                                                                                                                                                                    e South Africa, 48 %; China ,5 18%; India, 18%; Australia, 11%; and other, 5%. \\n  \n",
       "22                                                                                                                                                                                                                                                                                                                                                                                                                                                                                                                                                                                                                                                     1, 6 Germanium metal: China, 54%; Belgium, 27 %; Germany, 9 %; Russia, 8 %; and \\nother , 2%. \\n  \n",
       "23                                                                                                                                                                                                                                                                                                                                                                                                        Ores and concentrates: Canada, 89%; Greece, 9 %; and Germany , 2%. Dore: Mexico, \\n45%; Colombia, 12 %; Peru, 8%; Nicaragua, 7%; and other , 28%. Bullion: Switzerland, 38%; Canada, 23%; Australia \\nand South Africa, 7%  each; and other, 25% . Total: Switzerland , 24%; Mexico , 20%; Canada, 15 %; Colombia, 6 %; \\nand other, 35%.  \\n  \n",
       "24                                                                                                                                                                                                                                                                                                                                                                                                                                                                                                                                                                                                                                                                        China ,5 33%; Mexico, 18 %; Canada, 17%; Madagascar , 10%; and other, 22%. \\n  \n",
       "25                                                                                                                                                                                                                                                                                                                                                                                                                                                                                                                                                                                                                                                                                            Mexico, 35 %; Spain, 33 %; Canada, 28%; and other, 4%. \\n  \n",
       "26                                                                                                                                                                                                                                                                                                                                                                                                                                                                                                                                                                                                                                                                              Qatar, 53%; Canada, 20%; Algeria, 1 5%; Russia , 5%; and other, 7 %. \\n  \n",
       "27                                                                                                                                                                                                                                                                                                                                                                                                                                                                                                                                                                                                                                                                     Republic of Korea, 32%; Canada, 22%; China,6 18%; France, 9%; and other, 19%. \\n  \n",
       "28                                                                                                                                                                                                                                                                                                                                                                                                                                                                                                                                                                                                                                                                                                         Chile, 8 9%; Japan, 10 %; and other, 1%.  \\n  \n",
       "29                                                                                                                                                                                                                                                                                                                                                                                                                                                                                                                                                                                                                                                                  Canada, 21 %; Brazil, 1 5%; Mexico, 14%; Republic of Korea, 9%; and other, 41 %. \\n  \n",
       "30                                                                                                                                                                                                                                                                                                                                                                                                                                                                                                                                                                                                                                                                                           Japan, 46%; Brazil, 1 7%; China, 1 5%; and other, 22%.  \\n  \n",
       "31                                                                                                                                                                                                                                                                                                                                                                                                                                                                                                                Natural: Cyprus, 40%; Spain, 30 %; France, 14 %; Austria, 13 %; and other, 3%. \\nSynthetic: China,4 43%; Germany, 3 4%; Brazil, 8%; and other, 15 %. Total: China,4 42%; Germany, 33 %; Brazil, 7%; \\nCanada, 5%; and other, 13 %. \\n  \n",
       "32                                                                                                                                                                                                                                                                                                                                                                                                                                                                                                                                                                                                                                                               4 South Africa, 72%; Peru, 14 %; France, 9 %; United Kingdom, 5 %; and other, < 1%. \\n  \n",
       "33                                                                                                                                                                                                                                                                                                                                                                                                                                                                                                                                                                                                                                                               Refined metal: Canada, 42%; Mexico, 1 8%; Republic of Korea, 14 %; and other, 26%.  \\n  \n",
       "34                                                                                                                                                                                                                                                                                                                                                                                                                                                                                                                                                                                                                                                                                                         Canada, 9 0%; Mexico, 7%; and other, 3%.  \\n  \n",
       "35                                                                                                                                                                                                                                                                                                                                                                                                                                                                                                                                                                                                                                                                               Argentina, 5 1%; Chile, 40%; China, 4%; Russia, 3%; and other , 2%. \\n  \n",
       "36                                                                                                                     Caustic -calcined magnesia: China,5 74%; Canada, 2 0%; Israel, 3%; and other, 3%. \\nCrude magnesite: China,5 87%; Singapore, 1 0%; and other , 3%. Dead- burned and fused magnesia: China,5 68%; \\nBrazil, 1 6%; Turkey, 5 %; Mexico, 3 %; and other, 8 %. Magnesium chloride: Israel, 60%; Netherlands, 2 6%; China,5 \\n5%; and other, 9%. Magnesium hydroxide: Mexico, 5 7%; Netherlands, 15%; Israel, 1 1%; Austria, 7%; and other, \\n10%. Magnesium sulfates: China,5 58%; India, 15 %; Germany, 10 %; Vietnam, 4%; and other, 13%. Total imports: \\nChina,5 61%; Israel , 10%; Canada, 7%; Brazil , 6%; and other, 16 %. \\n  \n",
       "37                                                                                                                                               Magnesium metal (99.8%  purity ): Israel, 31%; Russia, 29%; Turkey , 27%; Canada, 6%;  \\nand other, 7 %. Magnesium alloys  (magnesium content) : Taiwan, 28%; Czechia, 16%; Germany  and Israel, 14%  \\neach; and other, 28% . Sheet, powder, and other  (magnesium content) : Austria , China ,5 and Mexico, 20%  each; \\nCanada, 17% ; and other, 23% . Scrap : Canada, 38%; Mexico, 19%; China,5 14%;  Taiwan, 6%; and other, 23% . \\nCombined total (includes magnesium content of alloys, metal , powder, and ot her): Canada, 21%; Israel, 11%; Mexico, \\n10%; Taiwan, 9%;  and other, 49%.   \\n  \n",
       "38                                                                                                                                                                                                                                                                                                                                        Manganese ore: Gabon, 67%; South Africa, 19 %; Mexico, 12%; and other, 2 %. \\nFerromanganese: Australia, 19%; Malaysia, 18%; South Africa, 17 %; Norway, 15 %; and other, 31 %. \\nSilicomanganese: Georgia, 28 %; South Africa, 22%; Australia, 21 %; and other, 29%. Manganese contained in \\nprincipal manganese imports:8 Gabon, 25 %; South Africa, 19%; Australia, 12%; Georgia, 8%; and other, 36%.  \\n  \n",
       "39                                                                                                                                                                                                                                                                                                                                                                                                                                                                                                                                                                                    Scrap and flake: Canada, 39%; China, 38%; India, 8%; Finland, 4%; and other , 11%. \\nSheet: China, 72%; Brazil, 9%; Belgium, 4%, Austria, 3%, and other, 12%.  \\n  \n",
       "40                                                                                                                                                                                                                                                                                                                                                                                                                                                                                                      Ferromolybdenum: Chile, 69%; Republic of Korea, 26 %; and other, 5 %. Molybdenum \\nores and concentrates: Peru, 60%; Mexico, 15% ; Chile, 14%; and other, 1 1%. Total : Peru, 40%; Chile , 28% ; Mexico, \\n10%; Canada, 9%; and other , 13%. \\n  \n",
       "41                                                                                                                                                                                                                                                                                                                                                                                                                                                                                                       Primary n ickel: Canada, 45%; Norway, 9 %; Australia , 8%; Finland, 7 %; and other, 31 %. \\nNickel -containing scrap,  including nickel content of stainless -steel scrap: Canada, 38%; Mexico, 26 %; United \\nKingdom, 9%; and other, 27%. \\n  \n",
       "42                                                                                                                                                                             Niobium and tantalum ores and concentrates: Austr alia, 42%; Rwanda, 21%; Congo \\n(Kinshasa) , 12%; Mozambique, 7%; and other, 18 %. Niobium oxide: Brazil, 72%; Estonia , 5%; China, 2%; Germany , \\n1%; and other, 20%. Ferroniobium and niobium metal: Brazil, 6 7%; Canada, 28%; Russia , 3%, Germany, 1%,  and \\nother , 1%. Total imports: Brazil, 66%; Canada, 25% ; and other, 9 %. Of U.S. niobium material imports (by contained \\nweight), 74% was ferroniobium, 16% was niobium metal, 9% was niobium oxide, and 1% was niobium ores and \\nconcentrates . \\n  \n",
       "43                                                                                                                                                                                                                                                                                                                                                                                                                                                                                                                                                                                                                                                                              Trinidad and Tobago, 58%; Canada 40%; Venezuela, 1%; and other, 1 %. \\n  \n",
       "44                                                                                                                                                                                                                                                                                                                                                                                                                                                                                                                                                                                                                                                                                                                      Canada, 96%; and other, 4%.  \\n  \n",
       "45                                                                                                                                                                                                                                                                                                                                                                                                                                                                                                                                                                                                                                                                                              Greece, 92%; China, 5% ; Mexico, 2% ; and other, 1%. \\n  \n",
       "46                                                                                                                                                                                                                                                                                                                                                                                                                                                                                                                                                                                                                                                                                                                      Peru, 95% ; and Morocco, 5%. \\n  \n",
       "47                                                                                                                                                                                                                                                                                                                                                                                                                                                                                                                                                                                                                                                                                           Canada, 79 %; Russia, 9%; Belarus , 7%; and other, 5 %. \\n  \n",
       "48                                                                                                                                                                                                                                                                                                                                                                                                                                                                                                                                                                                                                                                                                                        Greece, 92 %; Iceland, 5 %; and other, 3%. \\n  \n",
       "49                                                                                                                                                                                                                                                                                                                                                                                                                                                                                                                   Import statistics specific to lascas are not available because they are combined with \\nother types of quartz. Cultured quartz crystal (piezoelectric quartz, unmounted): China,6 90%; Japan, 3%; Russia, 2%; \\nand other, 5 %. \\n  \n",
       "50                                                                                                                                                                                                                                                                                                                                                                                                                                                                         Ammonium perrhenate: Kazakhstan, 27 %; Poland, 16%; Canada, 1 5%; Germany, 15 %; \\nand other, 27 %. Rhenium metal powder: Chile, 8 4%; Canada, 8%; Germany, 6 %; and other, 2 %. Total imports: Chile, \\n63%; Canada, 10%; Germany, 8%; Kazakhstan, 7 %; and other, 1 2%. \\n  \n",
       "51                                                                                                                                                                                                                                                                                                                                                                                                                                                                                                                                                                                                                                                                               Chile, 29%; Canada, 28%; Mexico, 13 %; Egypt, 11%; and other, 19%.  \\n  \n",
       "52                                                                                                                                                                                                                                                                                                                                                                                                                                                                                                                                                                                                                                                                                                         Canada, 95%; Mexico, 2 %; and other, 3 %. \\n  \n",
       "53                                                                                                                                                                                                                                                                                                                                                                                                                                                                                                                                                                                                                                                                    Canada, 87%; Vietnam, 3%; Brazil, Taiwan, and Turkey, 2% each; and other, 4%.  \\n  \n",
       "54                                                                                                                                                                                                                                                                                                                                                                                                                                                                                                                                                                                                         Although no definitive data exist listing import sources, imported material was mostly \\nfrom Europe, China, Japan, and the Philippines . \\n  \n",
       "55                                                                                                                                                                                                                                                                                                                                                                                                                                                                                                                                                      Selen ium: Philippines, 2 1%; Mexico,  15%; Germany, 13%; China,7 9%; and other, 42%. \\nSelenium dioxide: Republic of Korea, 79 %; China, 8 %; Germany, 6%; Philippines , 5%; and other, 2%. \\n  \n",
       "56                                                                                                                                                                                                                                                                                                                                                                                                                                                                                                                                                                                                                                                                              2 Mexico, 47%; Canada, 21%; Poland, 5%; Chile , 4%; and other, 23 %. \\n  \n",
       "57                                                                                                                                                                                                                                                                                                                                                                                                                                                                                                                                                                                                                                                                                           Turkey, 89 %; Bulgaria, 3%; Mexico , 2%; and other, 6%. \\n  \n",
       "58                                                                                                                                                                                                                                                                                                                                                                                                                                                                                                                                                                                                                                                                     Mexico, 53 %; Canada, 28 %; The Bahamas, 13 %; Honduras, 5%; and other , 1%.  \\n  \n",
       "59                                                                                                                                                                                                                                                                                                                                                                                                                                                                                                                                                                      Celestite: Mexico, 100%. Strontium compounds: Germany , 47%; Mexico, 45 %; China, \\n4%; and other, 4%. Total imports: Mexico, 75%; Germany, 21 %; China, 2%; and other, 2%.  \\n  \n",
       "60                                                                                                                                                                                                                                                                                                                                                                                                                                                                                  Elemental: Canada, 7 2%; Russia, 1 5%; Kazakhstan,  10%; and other, 3 %. Sulf uric acid: \\nCanada, 59%; Mexico, 19 %; Spain, 7 %; Germany, 4%; and other, 11 %. Total sulfur imports: Canada, 68 %; Russia , \\n10%; Kazakhstan, 7 %; Mexico, 6%; and other, 9 %. \\n  \n",
       "61                                                                                                                                                                                                                                                                                                                                     Tantalum ores and concentrates: Australia, 43%; Rwanda , 21%; Congo (Kinshasa), \\n12%;  Mozambique, 7%; and other, 17 %. Tantalum metal and powder: China,6 42%; Germany, 23 %; Kazakhstan, \\n12%; Thailand, 9 %; and other, 14 %. Tantalum waste and scrap: Indonesia, 23 %; China,6 17%; Japan, 1 5%; and \\nother, 45 %. Total: China,6 24%; Germany, 12 %; Australia, 10%; Indonesia, 8%; and other, 46 %. \\n  \n",
       "62                                                                                                                                                                                                                                                                                                                                                                                                                                                                                                                                                                                                                                                                        Canada, 5 2%; Germany, 24%; China,7 12%; Philippines, 8 %; and other, 4 %. \\n  \n",
       "63                                                                                                                                                                                                                                                                                                                                                                                                                                                                                                                                                                                           Ores and concentrates (m onazite) : China , 80%; United Kingdom , 15% ; and Canada, \\n5%. Thorium compounds: France, 56% ; India,  43%; and other , 1%. \\n  \n",
       "64                                                                                                                                                                                                                                                                                                                                                                                                                                                                                                                                                                                                 Refined tin: Peru, 25%; Indonesia, 24% ; Bolivia, 17%;  Malaysia, 16%; and other, 18%. \\nWaste and scrap: Canada, 98%; Mexico, 1%; and other, 1%. \\n  \n",
       "65                                                                                                                                                   Ferrovanadium: Austri a, 38%; Canada, 38 %; Russia, 10 %; Japan, 4%; and other, 10%. \\nVanadium pentoxide: Brazil, 50%; South Africa, 32%; China, 6%; Russia , 4%; and other, 8 %. Total: Canada, 31%; \\nChina , 13%; Brazil, 8%; South Africa, 7%; and other, 41 %. \\nNumber  \\n2615.90.6090  \\n2620.40.0030  \\n2620.99.1000  \\n2825.30.0010  \\n2825.30.0050  \\n7202.92.0000  \\n8112.92.7000  \\n8112.99.2000  \\n(3) Normal Trade Relations \\n12–3 1–22 \\nFree. \\nFree. \\nFree. \\n5.5% a d valorem. \\n5.5% a d valorem. \\n4.2% a d valorem. \\n2% ad valorem. \\n2% ad valorem. \\n5.5% a d valorem.   \n",
       "66                                                                                                                                                                                                                                                                                                                                                                                                                                                                                                                                                                                                                                   Comprehensive trade data were not available, but wollastonite was primarily imported \\nfrom Canada and Mexico.  \\n  \n",
       "67                                                                                                                                                                                                                                                                                                                                                                                                                     8 Yttrium compounds: China,9 94%; Germany, 3%; Republic of Korea and Japan , 1% \\neach; and other, 1%. Nearly all imports of yttrium metal and compounds are derived from mineral concentrates \\nprocessed in China. Import sources do not include yttrium contained in  value -added intermediates and finished \\nproducts.  \\n  \n",
       "68                                                                                                                                                                                                                                                                                                                                                          Comprehensive trade data were not available for natural zeolite minerals because they \\nwere imported and exported under a generic Harmonized Tariff Schedule of the United States code and Schedule B \\nnumber , respectively, that include multiple mineral commodities or under codes for finished products. Nearly all \\nimports and exports were thought to be synthetic zeolites.  \\n  \n",
       "69                                                                                                                                                                                                                                                                                                                                                                  Ores and concentrates: Peru, 71 %; Canada, 15 %; China, 7%, Taiwan, 4%; and other, \\n3%. Refined metal: Canada, 66%; Mexico, 16 %; Peru, 6%; Spain, 6%; and other, 6%. Waste and scrap (gross \\nweight): Canada, 62%; Mexico, 36%; and other, 2%. Combined total (includes gross weight of waste and scrap): \\nCanada, 66%; Mexico, 16 %; Peru, 6 %; Spain, 6 %; and other, 6 %. \\n  \n",
       "70                                                                                                                                                                                                                                                                                                                                  Zirconium ores and concentrates: South Africa, 51 %; Senegal, 25 %; Australia, 21%; \\nRussia, 2%; and other, 1%. Zirconium, unwrought, including powder: China, 89 %; Germany, 8%; France, 1%; Japan , \\n1%, and other, 1%. Zirconium, wrought: France, 62 %; Germany, 19 %; Belgium, 6 %; Canada, 4% ; and other, 9%. \\nHafnium, unwrought: Germany, 36%; France, 30%; China, 26 %; Russia, 3 %; and other, 5%. \\n  "
      ]
     },
     "execution_count": 131,
     "metadata": {},
     "output_type": "execute_result"
    }
   ],
   "source": [
    "#Source: https://pubs.usgs.gov/publication/mcs2023\n",
    "\n",
    "import PyPDF2\n",
    "import re\n",
    "\n",
    "# Open the PDF file\n",
    "pdf_file = open('data\\mcs2023.pdf', 'rb')\n",
    "\n",
    "# Create a PDF reader object\n",
    "pdf_reader = PyPDF2.PdfReader(pdf_file)\n",
    "\n",
    "# Initialize an empty list to store extracted text\n",
    "text_data = []\n",
    "mineral_data = []\n",
    "\n",
    "\n",
    "# Iterate through each page in the PDF\n",
    "for page in range(len(pdf_reader.pages)):\n",
    "    # Get the text content of the current page\n",
    "    page = pdf_reader.pages[page]\n",
    "    text = page.extract_text()\n",
    "    \n",
    "    # Use regex to find the pattern \"Import Sources (2018–21):\" and extract text after it\n",
    "    matches = re.findall(r'Import Sources \\(201 8–21\\):(.*?)Tariff :', text, re.DOTALL)\n",
    "    \n",
    "    # If matches are found, find the mineral the sources are for and add the sources to the text_data variable\n",
    "    if matches:\n",
    "        # Finding the mineral\n",
    "        # Find the position of ']' in the page\n",
    "        end_index = text.find(']')\n",
    "\n",
    "        # Extract the text after ']' and before the line break\n",
    "        mineral = text[end_index + 1: text.find('\\n')]\n",
    "        mineral = mineral.strip()\n",
    "        \n",
    "\n",
    "        # Add to mineral data\n",
    "        mineral_data.append(mineral)\n",
    "\n",
    "        # Add to text_data\n",
    "        text_data.extend(matches)\n",
    "\n",
    "# Close the PDF file\n",
    "pdf_file.close()\n",
    "\n",
    "# Create a DataFrame from the extracted text\n",
    "import pandas as pd\n",
    "\n",
    "sources = pd.DataFrame(text_data, columns=['Extracted_Text'])\n",
    "mins = pd.DataFrame(mineral_data, columns =['Extracted_Text'])\n",
    "\n",
    "minerals = pd.concat([mins,sources], axis=1)\n",
    "# Display the DataFrame\n",
    "minerals\n",
    "\n"
   ]
  },
  {
   "cell_type": "code",
   "execution_count": 123,
   "metadata": {},
   "outputs": [
    {
     "data": {
      "text/html": [
       "<div>\n",
       "<style scoped>\n",
       "    .dataframe tbody tr th:only-of-type {\n",
       "        vertical-align: middle;\n",
       "    }\n",
       "\n",
       "    .dataframe tbody tr th {\n",
       "        vertical-align: top;\n",
       "    }\n",
       "\n",
       "    .dataframe thead th {\n",
       "        text-align: right;\n",
       "    }\n",
       "</style>\n",
       "<table border=\"1\" class=\"dataframe\">\n",
       "  <thead>\n",
       "    <tr style=\"text-align: right;\">\n",
       "      <th></th>\n",
       "      <th>Extracted_Text</th>\n",
       "      <th>Extracted_Text</th>\n",
       "    </tr>\n",
       "  </thead>\n",
       "  <tbody>\n",
       "    <tr>\n",
       "      <th>0</th>\n",
       "      <td>ABRASIVES (MANUFACTURED)</td>\n",
       "      <td>Fused aluminum oxide, crude: China,7 93%; Bahrain, 3%; Russia, 2%; Canada, 1%; and \\nother, 1%. Fused aluminum oxide, ground and refined : Canada, 25%; Brazil, 19%; Austria, 15%; China,7 13%; and \\nother, 28%. Total fused aluminum oxide: China,7 63%; Canada, 10%; Brazil, 7%; Austria, 5%; and other, 1 5%. Silicon \\ncarbide, crude: China,7 90%; Netherlands and South Africa, 3% each; Luxembourg, 1%; and other 3%. Silicon \\ncarbide, ground and refined: China,7 48%; Brazil, 21%; Canada, 9%; Russia, 7%; and other, 15%. Total silicon \\ncarbide:  China,7 79%; Brazil, 6%; Netherlands and South Africa, 3 %, each; and other, 9%.  Metallic abrasives: \\nCanada, 33%; Turkey, 16%; China,7 12%; Thailand, 9%; and other, 30%.  \\n</td>\n",
       "    </tr>\n",
       "    <tr>\n",
       "      <th>1</th>\n",
       "      <td>ALUMINUM1</td>\n",
       "      <td>Canada, 50%; United Arab Emirates, 9 %; Russia , 5%; China,8 4%; and other, 32%. \\n</td>\n",
       "    </tr>\n",
       "    <tr>\n",
       "      <th>2</th>\n",
       "      <td>ANTIMONY</td>\n",
       "      <td>Ore and concentrates: China , 46%; Italy, 34%; India, 12%; Belgium, 5 %; and other, 3%. \\nOxide: China,5 74%; Belgium, 10%; Bolivia , 5%; Thailand, 3 %; and other, 8%. Unwrought metal and powder: China,5 \\n30%; India, 2 8%; Vietnam, 13 %; Burma , 12%; and other, 17 %. Total metal and oxide: China,5 63%; Belgiu m, 8%; \\nIndia, 7 %; and other, 22%. \\n</td>\n",
       "    </tr>\n",
       "    <tr>\n",
       "      <th>3</th>\n",
       "      <td>ARSENIC</td>\n",
       "      <td>2 Arsenic acid: Mala ysia, 82%; Hungary, 11%; and China, 7%.  Arsenic metal: China,6 \\n94%; Japan, 5%; and Germany , 1%. Arsenic trioxide: China, 54 %; Morocco, 39 %; Belgium, 5 %; Germany , 1%; and \\nother, 1%. All forms of arsenic : China ,6 57%; Morocco, 35%; Belgium, 4%; and other, 4 %. \\n</td>\n",
       "    </tr>\n",
       "    <tr>\n",
       "      <th>4</th>\n",
       "      <td>ASBESTOS</td>\n",
       "      <td>Brazil, 75%; and Russia, 25%. The U.S. Census Bureau reported imports from China in \\n2021, but bill of lading information and data reported by the Government of China suggest that shipments from China \\nwere misclassified.  \\n</td>\n",
       "    </tr>\n",
       "    <tr>\n",
       "      <th>5</th>\n",
       "      <td>BARITE</td>\n",
       "      <td>China ,6 38%; India, 29%; Morocco, 16%; Mexico, 13%; and other, 4 %. \\n</td>\n",
       "    </tr>\n",
       "    <tr>\n",
       "      <th>6</th>\n",
       "      <td></td>\n",
       "      <td>Bauxite:2 Jamaica, 63%; Brazil, 9%; Guyana  and Turkey , 8% each; and other, 1 2%. \\nAlumina:5 Brazil, 59%; Australia  and Jamaica, 14% each; Canada, 5%; and other, 8 %. \\n</td>\n",
       "    </tr>\n",
       "    <tr>\n",
       "      <th>7</th>\n",
       "      <td>BERYLLIUM</td>\n",
       "      <td>\\n1 Kazakhstan,  43%; Japan, 15 %; Latvia, 1 5%; Brazil , 10%; and other, 17%.  \\n</td>\n",
       "    </tr>\n",
       "    <tr>\n",
       "      <th>8</th>\n",
       "      <td>BISMUTH</td>\n",
       "      <td>China,6 65%; Republic of Korea, 19 %; Mexico, 5 %; Belgium, 3 %; and other, 8 %. \\n</td>\n",
       "    </tr>\n",
       "    <tr>\n",
       "      <th>9</th>\n",
       "      <td>BORON</td>\n",
       "      <td>All forms: Turkey, 90%; Bolivia, 5%; Chile, 2%; and other, 3 %. \\n</td>\n",
       "    </tr>\n",
       "    <tr>\n",
       "      <th>10</th>\n",
       "      <td>BROMINE</td>\n",
       "      <td>\\n5 Israel, 80%; Jordan, 12%; China,6 4%; and other, 4%. \\n</td>\n",
       "    </tr>\n",
       "    <tr>\n",
       "      <th>11</th>\n",
       "      <td>CADMIUM</td>\n",
       "      <td>6 Australia,  27%; Germany , 23%; China,7 20%;  Peru, 12 %; and other,  18%.  \\n</td>\n",
       "    </tr>\n",
       "    <tr>\n",
       "      <th>12</th>\n",
       "      <td>CEMENT</td>\n",
       "      <td>\\n5 Canada, 30%; Turkey, 26 %; Gr eece, 11 %; Mexico , 8%; and other, 25 %. \\n</td>\n",
       "    </tr>\n",
       "    <tr>\n",
       "      <th>13</th>\n",
       "      <td></td>\n",
       "      <td>No reliable data have been available to determine the source of cesium ore imported by \\nthe United States  since 1988. Prior to 2016, Canada was thought to be the primary supplier of cesium ore and refined \\nchemicals . Based on recent import data, it is thought that  Germany was  a source of  refined cesium chemicals.  \\n</td>\n",
       "    </tr>\n",
       "    <tr>\n",
       "      <th>14</th>\n",
       "      <td>CHROMIUM</td>\n",
       "      <td>Chromite (ores and concentrates): South Africa, 9 7%; Canada, 2%; and other, 1% . \\nChromium- containing scrap:7 Canada, 48%; Mexico, 42%; Netherlands , 4%; and other, 6 %. \\nChromium  (primary  metal):8 South Africa, 30%; Kazakhstan,  13%; Russia,  9%; Germany , 7%; and other, 41 %. \\nChromium- containing chemicals: China,9 23%; Germany, 20%; Kazakhstan, 19%; and other, 38%. Total  imports: \\nSouth Africa, 37%; Kazakhstan, 10%; Russia , 7%; Germany , 6%; and other, 40 %. \\n</td>\n",
       "    </tr>\n",
       "    <tr>\n",
       "      <th>15</th>\n",
       "      <td>COPPER</td>\n",
       "      <td>Copper content of blister and anodes: Finland, 90%;  and other,  10%. Copper content of \\nmatte, ash, and precipitates: Canada, 34%;  Belgium, 1 7%; Japan, 15%; Mexico, 11%;  and other, 23%. Copper \\ncontent of ore and concentrates: Mexico, 82 %; Canada , 18%; and other, &lt;1%. Copper content of scrap: Canada, \\n51%; Mexico, 37 %; and other, 12%. Refined copper: Chile, 64 %; Canada, 20%; Mexico, 11%; and other, 5%. Refined \\ncopper accounted for 8 6% of all unmanufactured copper imports.  \\n</td>\n",
       "    </tr>\n",
       "    <tr>\n",
       "      <th>16</th>\n",
       "      <td>DIAMOND (INDUSTRIAL)1</td>\n",
       "      <td>Bort, grit, and dust and powder; natural and synthetic: China,5 81%; Republic of Korea, \\n6%; Ireland, 5 %; Russia, 4 %; and oth er, 4%. Stones, primarily natural: South Africa, 22 %; Congo (Kinshasa), 19%;  \\nIndia, 17 %; Sierra Leone , 10%; and other, 32%.  \\n</td>\n",
       "    </tr>\n",
       "    <tr>\n",
       "      <th>17</th>\n",
       "      <td>DIATOMITE</td>\n",
       "      <td>Canada, 62 %; Mexico, 13 %; Germany, 10%; Argentina, 5%;  Japan, 5 %; and other,  5%. \\n</td>\n",
       "    </tr>\n",
       "    <tr>\n",
       "      <th>18</th>\n",
       "      <td>FELDSPAR AND NEPHELINE SYENITE</td>\n",
       "      <td>Feldspar : Turkey, 94%;  Mexico, 4% ; and other, 2%. Nepheline syenite: Canada, 100%.  \\n</td>\n",
       "    </tr>\n",
       "    <tr>\n",
       "      <th>19</th>\n",
       "      <td>FLUORSPAR</td>\n",
       "      <td>3 Mexico, 66%; Vietnam, 16 %; South Africa, 7 %; Canada, 7%; and other, 4 %. \\n</td>\n",
       "    </tr>\n",
       "    <tr>\n",
       "      <th>20</th>\n",
       "      <td>GALLIUM</td>\n",
       "      <td>Metal: China, 5 3%; Germany  and Japan, 13 % each; Ukraine, 5%; and other , 16%. \\n</td>\n",
       "    </tr>\n",
       "    <tr>\n",
       "      <th>21</th>\n",
       "      <td>GARNET (INDUSTRIAL)1</td>\n",
       "      <td>e South Africa, 48 %; China ,5 18%; India, 18%; Australia, 11%; and other, 5%. \\n</td>\n",
       "    </tr>\n",
       "    <tr>\n",
       "      <th>22</th>\n",
       "      <td>GERMANIUM</td>\n",
       "      <td>1, 6 Germanium metal: China, 54%; Belgium, 27 %; Germany, 9 %; Russia, 8 %; and \\nother , 2%. \\n</td>\n",
       "    </tr>\n",
       "    <tr>\n",
       "      <th>23</th>\n",
       "      <td>GOLD</td>\n",
       "      <td>Ores and concentrates: Canada, 89%; Greece, 9 %; and Germany , 2%. Dore: Mexico, \\n45%; Colombia, 12 %; Peru, 8%; Nicaragua, 7%; and other , 28%. Bullion: Switzerland, 38%; Canada, 23%; Australia \\nand South Africa, 7%  each; and other, 25% . Total: Switzerland , 24%; Mexico , 20%; Canada, 15 %; Colombia, 6 %; \\nand other, 35%.  \\n</td>\n",
       "    </tr>\n",
       "    <tr>\n",
       "      <th>24</th>\n",
       "      <td>GRAPHITE (NATURAL)</td>\n",
       "      <td>China ,5 33%; Mexico, 18 %; Canada, 17%; Madagascar , 10%; and other, 22%. \\n</td>\n",
       "    </tr>\n",
       "    <tr>\n",
       "      <th>25</th>\n",
       "      <td>GYPSUM</td>\n",
       "      <td>Mexico, 35 %; Spain, 33 %; Canada, 28%; and other, 4%. \\n</td>\n",
       "    </tr>\n",
       "    <tr>\n",
       "      <th>26</th>\n",
       "      <td>HELIUM</td>\n",
       "      <td>Qatar, 53%; Canada, 20%; Algeria, 1 5%; Russia , 5%; and other, 7 %. \\n</td>\n",
       "    </tr>\n",
       "    <tr>\n",
       "      <th>27</th>\n",
       "      <td>INDIUM</td>\n",
       "      <td>Republic of Korea, 32%; Canada, 22%; China,6 18%; France, 9%; and other, 19%. \\n</td>\n",
       "    </tr>\n",
       "    <tr>\n",
       "      <th>28</th>\n",
       "      <td>IODINE</td>\n",
       "      <td>Chile, 8 9%; Japan, 10 %; and other, 1%.  \\n</td>\n",
       "    </tr>\n",
       "    <tr>\n",
       "      <th>29</th>\n",
       "      <td>IRON AND STEEL1</td>\n",
       "      <td>Canada, 21 %; Brazil, 1 5%; Mexico, 14%; Republic of Korea, 9%; and other, 41 %. \\n</td>\n",
       "    </tr>\n",
       "    <tr>\n",
       "      <th>30</th>\n",
       "      <td>IRON AND STEEL SLAG</td>\n",
       "      <td>Japan, 46%; Brazil, 1 7%; China, 1 5%; and other, 22%.  \\n</td>\n",
       "    </tr>\n",
       "    <tr>\n",
       "      <th>31</th>\n",
       "      <td>IRON OXIDE PIGMENTS</td>\n",
       "      <td>Natural: Cyprus, 40%; Spain, 30 %; France, 14 %; Austria, 13 %; and other, 3%. \\nSynthetic: China,4 43%; Germany, 3 4%; Brazil, 8%; and other, 15 %. Total: China,4 42%; Germany, 33 %; Brazil, 7%; \\nCanada, 5%; and other, 13 %. \\n</td>\n",
       "    </tr>\n",
       "    <tr>\n",
       "      <th>32</th>\n",
       "      <td>KYANITE AND RELATED MINERALS</td>\n",
       "      <td>4 South Africa, 72%; Peru, 14 %; France, 9 %; United Kingdom, 5 %; and other, &lt; 1%. \\n</td>\n",
       "    </tr>\n",
       "    <tr>\n",
       "      <th>33</th>\n",
       "      <td>LEAD</td>\n",
       "      <td>Refined metal: Canada, 42%; Mexico, 1 8%; Republic of Korea, 14 %; and other, 26%.  \\n</td>\n",
       "    </tr>\n",
       "    <tr>\n",
       "      <th>34</th>\n",
       "      <td>LIME1</td>\n",
       "      <td>Canada, 9 0%; Mexico, 7%; and other, 3%.  \\n</td>\n",
       "    </tr>\n",
       "    <tr>\n",
       "      <th>35</th>\n",
       "      <td></td>\n",
       "      <td>Argentina, 5 1%; Chile, 40%; China, 4%; Russia, 3%; and other , 2%. \\n</td>\n",
       "    </tr>\n",
       "    <tr>\n",
       "      <th>36</th>\n",
       "      <td>MAGNESIUM COMPOUNDS1</td>\n",
       "      <td>Caustic -calcined magnesia: China,5 74%; Canada, 2 0%; Israel, 3%; and other, 3%. \\nCrude magnesite: China,5 87%; Singapore, 1 0%; and other , 3%. Dead- burned and fused magnesia: China,5 68%; \\nBrazil, 1 6%; Turkey, 5 %; Mexico, 3 %; and other, 8 %. Magnesium chloride: Israel, 60%; Netherlands, 2 6%; China,5 \\n5%; and other, 9%. Magnesium hydroxide: Mexico, 5 7%; Netherlands, 15%; Israel, 1 1%; Austria, 7%; and other, \\n10%. Magnesium sulfates: China,5 58%; India, 15 %; Germany, 10 %; Vietnam, 4%; and other, 13%. Total imports: \\nChina,5 61%; Israel , 10%; Canada, 7%; Brazil , 6%; and other, 16 %. \\n</td>\n",
       "    </tr>\n",
       "    <tr>\n",
       "      <th>37</th>\n",
       "      <td>MAGNESIUM METAL1</td>\n",
       "      <td>Magnesium metal (99.8%  purity ): Israel, 31%; Russia, 29%; Turkey , 27%; Canada, 6%;  \\nand other, 7 %. Magnesium alloys  (magnesium content) : Taiwan, 28%; Czechia, 16%; Germany  and Israel, 14%  \\neach; and other, 28% . Sheet, powder, and other  (magnesium content) : Austria , China ,5 and Mexico, 20%  each; \\nCanada, 17% ; and other, 23% . Scrap : Canada, 38%; Mexico, 19%; China,5 14%;  Taiwan, 6%; and other, 23% . \\nCombined total (includes magnesium content of alloys, metal , powder, and ot her): Canada, 21%; Israel, 11%; Mexico, \\n10%; Taiwan, 9%;  and other, 49%.   \\n</td>\n",
       "    </tr>\n",
       "    <tr>\n",
       "      <th>38</th>\n",
       "      <td>MANGANESE</td>\n",
       "      <td>Manganese ore: Gabon, 67%; South Africa, 19 %; Mexico, 12%; and other, 2 %. \\nFerromanganese: Australia, 19%; Malaysia, 18%; South Africa, 17 %; Norway, 15 %; and other, 31 %. \\nSilicomanganese: Georgia, 28 %; South Africa, 22%; Australia, 21 %; and other, 29%. Manganese contained in \\nprincipal manganese imports:8 Gabon, 25 %; South Africa, 19%; Australia, 12%; Georgia, 8%; and other, 36%.  \\n</td>\n",
       "    </tr>\n",
       "    <tr>\n",
       "      <th>39</th>\n",
       "      <td>MICA (NATURAL)</td>\n",
       "      <td>Scrap and flake: Canada, 39%; China, 38%; India, 8%; Finland, 4%; and other , 11%. \\nSheet: China, 72%; Brazil, 9%; Belgium, 4%, Austria, 3%, and other, 12%.  \\n</td>\n",
       "    </tr>\n",
       "    <tr>\n",
       "      <th>40</th>\n",
       "      <td>MOLYBDENUM</td>\n",
       "      <td>Ferromolybdenum: Chile, 69%; Republic of Korea, 26 %; and other, 5 %. Molybdenum \\nores and concentrates: Peru, 60%; Mexico, 15% ; Chile, 14%; and other, 1 1%. Total : Peru, 40%; Chile , 28% ; Mexico, \\n10%; Canada, 9%; and other , 13%. \\n</td>\n",
       "    </tr>\n",
       "    <tr>\n",
       "      <th>41</th>\n",
       "      <td>NICKEL</td>\n",
       "      <td>Primary n ickel: Canada, 45%; Norway, 9 %; Australia , 8%; Finland, 7 %; and other, 31 %. \\nNickel -containing scrap,  including nickel content of stainless -steel scrap: Canada, 38%; Mexico, 26 %; United \\nKingdom, 9%; and other, 27%. \\n</td>\n",
       "    </tr>\n",
       "    <tr>\n",
       "      <th>42</th>\n",
       "      <td>NIOBIUM (COLUMBIUM)</td>\n",
       "      <td>Niobium and tantalum ores and concentrates: Austr alia, 42%; Rwanda, 21%; Congo \\n(Kinshasa) , 12%; Mozambique, 7%; and other, 18 %. Niobium oxide: Brazil, 72%; Estonia , 5%; China, 2%; Germany , \\n1%; and other, 20%. Ferroniobium and niobium metal: Brazil, 6 7%; Canada, 28%; Russia , 3%, Germany, 1%,  and \\nother , 1%. Total imports: Brazil, 66%; Canada, 25% ; and other, 9 %. Of U.S. niobium material imports (by contained \\nweight), 74% was ferroniobium, 16% was niobium metal, 9% was niobium oxide, and 1% was niobium ores and \\nconcentrates . \\n</td>\n",
       "    </tr>\n",
       "    <tr>\n",
       "      <th>43</th>\n",
       "      <td>NITROGEN (FIXED) —AMMONIA</td>\n",
       "      <td>Trinidad and Tobago, 58%; Canada 40%; Venezuela, 1%; and other, 1 %. \\n</td>\n",
       "    </tr>\n",
       "    <tr>\n",
       "      <th>44</th>\n",
       "      <td>PEAT</td>\n",
       "      <td>Canada, 96%; and other, 4%.  \\n</td>\n",
       "    </tr>\n",
       "    <tr>\n",
       "      <th>45</th>\n",
       "      <td>PERLITE</td>\n",
       "      <td>Greece, 92%; China, 5% ; Mexico, 2% ; and other, 1%. \\n</td>\n",
       "    </tr>\n",
       "    <tr>\n",
       "      <th>46</th>\n",
       "      <td>PHOSPHATE ROCK</td>\n",
       "      <td>Peru, 95% ; and Morocco, 5%. \\n</td>\n",
       "    </tr>\n",
       "    <tr>\n",
       "      <th>47</th>\n",
       "      <td></td>\n",
       "      <td>Canada, 79 %; Russia, 9%; Belarus , 7%; and other, 5 %. \\n</td>\n",
       "    </tr>\n",
       "    <tr>\n",
       "      <th>48</th>\n",
       "      <td>PUMICE AND PUMICITE</td>\n",
       "      <td>Greece, 92 %; Iceland, 5 %; and other, 3%. \\n</td>\n",
       "    </tr>\n",
       "    <tr>\n",
       "      <th>49</th>\n",
       "      <td>QUARTZ CRYSTAL (INDUSTRIAL)</td>\n",
       "      <td>Import statistics specific to lascas are not available because they are combined with \\nother types of quartz. Cultured quartz crystal (piezoelectric quartz, unmounted): China,6 90%; Japan, 3%; Russia, 2%; \\nand other, 5 %. \\n</td>\n",
       "    </tr>\n",
       "    <tr>\n",
       "      <th>50</th>\n",
       "      <td>RHENIUM</td>\n",
       "      <td>Ammonium perrhenate: Kazakhstan, 27 %; Poland, 16%; Canada, 1 5%; Germany, 15 %; \\nand other, 27 %. Rhenium metal powder: Chile, 8 4%; Canada, 8%; Germany, 6 %; and other, 2 %. Total imports: Chile, \\n63%; Canada, 10%; Germany, 8%; Kazakhstan, 7 %; and other, 1 2%. \\n</td>\n",
       "    </tr>\n",
       "    <tr>\n",
       "      <th>51</th>\n",
       "      <td>SALT</td>\n",
       "      <td>Chile, 29%; Canada, 28%; Mexico, 13 %; Egypt, 11%; and other, 19%.  \\n</td>\n",
       "    </tr>\n",
       "    <tr>\n",
       "      <th>52</th>\n",
       "      <td>SAND AND GRAVEL (CONSTRUCTION)1</td>\n",
       "      <td>Canada, 95%; Mexico, 2 %; and other, 3 %. \\n</td>\n",
       "    </tr>\n",
       "    <tr>\n",
       "      <th>53</th>\n",
       "      <td>SAND AND GRAVEL (INDUSTRIAL)1</td>\n",
       "      <td>Canada, 87%; Vietnam, 3%; Brazil, Taiwan, and Turkey, 2% each; and other, 4%.  \\n</td>\n",
       "    </tr>\n",
       "    <tr>\n",
       "      <th>54</th>\n",
       "      <td>SCANDIUM1</td>\n",
       "      <td>Although no definitive data exist listing import sources, imported material was mostly \\nfrom Europe, China, Japan, and the Philippines . \\n</td>\n",
       "    </tr>\n",
       "    <tr>\n",
       "      <th>55</th>\n",
       "      <td>SELENIUM</td>\n",
       "      <td>Selen ium: Philippines, 2 1%; Mexico,  15%; Germany, 13%; China,7 9%; and other, 42%. \\nSelenium dioxide: Republic of Korea, 79 %; China, 8 %; Germany, 6%; Philippines , 5%; and other, 2%. \\n</td>\n",
       "    </tr>\n",
       "    <tr>\n",
       "      <th>56</th>\n",
       "      <td>SILVER</td>\n",
       "      <td>2 Mexico, 47%; Canada, 21%; Poland, 5%; Chile , 4%; and other, 23 %. \\n</td>\n",
       "    </tr>\n",
       "    <tr>\n",
       "      <th>57</th>\n",
       "      <td>SODA ASH</td>\n",
       "      <td>Turkey, 89 %; Bulgaria, 3%; Mexico , 2%; and other, 6%. \\n</td>\n",
       "    </tr>\n",
       "    <tr>\n",
       "      <th>58</th>\n",
       "      <td>STONE (CRUSHED)1</td>\n",
       "      <td>Mexico, 53 %; Canada, 28 %; The Bahamas, 13 %; Honduras, 5%; and other , 1%.  \\n</td>\n",
       "    </tr>\n",
       "    <tr>\n",
       "      <th>59</th>\n",
       "      <td>STRONTIUM</td>\n",
       "      <td>Celestite: Mexico, 100%. Strontium compounds: Germany , 47%; Mexico, 45 %; China, \\n4%; and other, 4%. Total imports: Mexico, 75%; Germany, 21 %; China, 2%; and other, 2%.  \\n</td>\n",
       "    </tr>\n",
       "    <tr>\n",
       "      <th>60</th>\n",
       "      <td>SULFUR</td>\n",
       "      <td>Elemental: Canada, 7 2%; Russia, 1 5%; Kazakhstan,  10%; and other, 3 %. Sulf uric acid: \\nCanada, 59%; Mexico, 19 %; Spain, 7 %; Germany, 4%; and other, 11 %. Total sulfur imports: Canada, 68 %; Russia , \\n10%; Kazakhstan, 7 %; Mexico, 6%; and other, 9 %. \\n</td>\n",
       "    </tr>\n",
       "    <tr>\n",
       "      <th>61</th>\n",
       "      <td>TANTALUM</td>\n",
       "      <td>Tantalum ores and concentrates: Australia, 43%; Rwanda , 21%; Congo (Kinshasa), \\n12%;  Mozambique, 7%; and other, 17 %. Tantalum metal and powder: China,6 42%; Germany, 23 %; Kazakhstan, \\n12%; Thailand, 9 %; and other, 14 %. Tantalum waste and scrap: Indonesia, 23 %; China,6 17%; Japan, 1 5%; and \\nother, 45 %. Total: China,6 24%; Germany, 12 %; Australia, 10%; Indonesia, 8%; and other, 46 %. \\n</td>\n",
       "    </tr>\n",
       "    <tr>\n",
       "      <th>62</th>\n",
       "      <td>TELLURIUM</td>\n",
       "      <td>Canada, 5 2%; Germany, 24%; China,7 12%; Philippines, 8 %; and other, 4 %. \\n</td>\n",
       "    </tr>\n",
       "    <tr>\n",
       "      <th>63</th>\n",
       "      <td>THORIUM</td>\n",
       "      <td>Ores and concentrates (m onazite) : China , 80%; United Kingdom , 15% ; and Canada, \\n5%. Thorium compounds: France, 56% ; India,  43%; and other , 1%. \\n</td>\n",
       "    </tr>\n",
       "    <tr>\n",
       "      <th>64</th>\n",
       "      <td>TIN</td>\n",
       "      <td>Refined tin: Peru, 25%; Indonesia, 24% ; Bolivia, 17%;  Malaysia, 16%; and other, 18%. \\nWaste and scrap: Canada, 98%; Mexico, 1%; and other, 1%. \\n</td>\n",
       "    </tr>\n",
       "    <tr>\n",
       "      <th>65</th>\n",
       "      <td>VANADIUM</td>\n",
       "      <td>Ferrovanadium: Austri a, 38%; Canada, 38 %; Russia, 10 %; Japan, 4%; and other, 10%. \\nVanadium pentoxide: Brazil, 50%; South Africa, 32%; China, 6%; Russia , 4%; and other, 8 %. Total: Canada, 31%; \\nChina , 13%; Brazil, 8%; South Africa, 7%; and other, 41 %. \\nNumber  \\n2615.90.6090  \\n2620.40.0030  \\n2620.99.1000  \\n2825.30.0010  \\n2825.30.0050  \\n7202.92.0000  \\n8112.92.7000  \\n8112.99.2000  \\n(3) Normal Trade Relations \\n12–3 1–22 \\nFree. \\nFree. \\nFree. \\n5.5% a d valorem. \\n5.5% a d valorem. \\n4.2% a d valorem. \\n2% ad valorem. \\n2% ad valorem. \\n5.5% a d valorem.</td>\n",
       "    </tr>\n",
       "    <tr>\n",
       "      <th>66</th>\n",
       "      <td>WOLLASTONITE</td>\n",
       "      <td>Comprehensive trade data were not available, but wollastonite was primarily imported \\nfrom Canada and Mexico.  \\n</td>\n",
       "    </tr>\n",
       "    <tr>\n",
       "      <th>67</th>\n",
       "      <td>YTTRIUM1</td>\n",
       "      <td>8 Yttrium compounds: China,9 94%; Germany, 3%; Republic of Korea and Japan , 1% \\neach; and other, 1%. Nearly all imports of yttrium metal and compounds are derived from mineral concentrates \\nprocessed in China. Import sources do not include yttrium contained in  value -added intermediates and finished \\nproducts.  \\n</td>\n",
       "    </tr>\n",
       "    <tr>\n",
       "      <th>68</th>\n",
       "      <td>ZEOLITES (NATURAL)</td>\n",
       "      <td>Comprehensive trade data were not available for natural zeolite minerals because they \\nwere imported and exported under a generic Harmonized Tariff Schedule of the United States code and Schedule B \\nnumber , respectively, that include multiple mineral commodities or under codes for finished products. Nearly all \\nimports and exports were thought to be synthetic zeolites.  \\n</td>\n",
       "    </tr>\n",
       "    <tr>\n",
       "      <th>69</th>\n",
       "      <td>ZINC</td>\n",
       "      <td>Ores and concentrates: Peru, 71 %; Canada, 15 %; China, 7%, Taiwan, 4%; and other, \\n3%. Refined metal: Canada, 66%; Mexico, 16 %; Peru, 6%; Spain, 6%; and other, 6%. Waste and scrap (gross \\nweight): Canada, 62%; Mexico, 36%; and other, 2%. Combined total (includes gross weight of waste and scrap): \\nCanada, 66%; Mexico, 16 %; Peru, 6 %; Spain, 6 %; and other, 6 %. \\n</td>\n",
       "    </tr>\n",
       "    <tr>\n",
       "      <th>70</th>\n",
       "      <td>ZIRCONIUM AND HAFNIUM</td>\n",
       "      <td>Zirconium ores and concentrates: South Africa, 51 %; Senegal, 25 %; Australia, 21%; \\nRussia, 2%; and other, 1%. Zirconium, unwrought, including powder: China, 89 %; Germany, 8%; France, 1%; Japan , \\n1%, and other, 1%. Zirconium, wrought: France, 62 %; Germany, 19 %; Belgium, 6 %; Canada, 4% ; and other, 9%. \\nHafnium, unwrought: Germany, 36%; France, 30%; China, 26 %; Russia, 3 %; and other, 5%. \\n</td>\n",
       "    </tr>\n",
       "  </tbody>\n",
       "</table>\n",
       "</div>"
      ],
      "text/plain": [
       "                     Extracted_Text  \\\n",
       "0          ABRASIVES (MANUFACTURED)   \n",
       "1                         ALUMINUM1   \n",
       "2                          ANTIMONY   \n",
       "3                           ARSENIC   \n",
       "4                          ASBESTOS   \n",
       "5                            BARITE   \n",
       "6                                     \n",
       "7                         BERYLLIUM   \n",
       "8                           BISMUTH   \n",
       "9                             BORON   \n",
       "10                          BROMINE   \n",
       "11                          CADMIUM   \n",
       "12                           CEMENT   \n",
       "13                                    \n",
       "14                         CHROMIUM   \n",
       "15                           COPPER   \n",
       "16            DIAMOND (INDUSTRIAL)1   \n",
       "17                        DIATOMITE   \n",
       "18   FELDSPAR AND NEPHELINE SYENITE   \n",
       "19                        FLUORSPAR   \n",
       "20                          GALLIUM   \n",
       "21             GARNET (INDUSTRIAL)1   \n",
       "22                        GERMANIUM   \n",
       "23                             GOLD   \n",
       "24               GRAPHITE (NATURAL)   \n",
       "25                           GYPSUM   \n",
       "26                           HELIUM   \n",
       "27                           INDIUM   \n",
       "28                           IODINE   \n",
       "29                  IRON AND STEEL1   \n",
       "30              IRON AND STEEL SLAG   \n",
       "31              IRON OXIDE PIGMENTS   \n",
       "32     KYANITE AND RELATED MINERALS   \n",
       "33                             LEAD   \n",
       "34                            LIME1   \n",
       "35                                    \n",
       "36             MAGNESIUM COMPOUNDS1   \n",
       "37                 MAGNESIUM METAL1   \n",
       "38                        MANGANESE   \n",
       "39                   MICA (NATURAL)   \n",
       "40                       MOLYBDENUM   \n",
       "41                           NICKEL   \n",
       "42              NIOBIUM (COLUMBIUM)   \n",
       "43        NITROGEN (FIXED) —AMMONIA   \n",
       "44                             PEAT   \n",
       "45                          PERLITE   \n",
       "46                   PHOSPHATE ROCK   \n",
       "47                                    \n",
       "48              PUMICE AND PUMICITE   \n",
       "49      QUARTZ CRYSTAL (INDUSTRIAL)   \n",
       "50                          RHENIUM   \n",
       "51                             SALT   \n",
       "52  SAND AND GRAVEL (CONSTRUCTION)1   \n",
       "53    SAND AND GRAVEL (INDUSTRIAL)1   \n",
       "54                        SCANDIUM1   \n",
       "55                         SELENIUM   \n",
       "56                           SILVER   \n",
       "57                         SODA ASH   \n",
       "58                 STONE (CRUSHED)1   \n",
       "59                        STRONTIUM   \n",
       "60                           SULFUR   \n",
       "61                         TANTALUM   \n",
       "62                        TELLURIUM   \n",
       "63                          THORIUM   \n",
       "64                              TIN   \n",
       "65                         VANADIUM   \n",
       "66                     WOLLASTONITE   \n",
       "67                         YTTRIUM1   \n",
       "68               ZEOLITES (NATURAL)   \n",
       "69                             ZINC   \n",
       "70            ZIRCONIUM AND HAFNIUM   \n",
       "\n",
       "                                                                                                                                                                                                                                                                                                                                                                                                                                                                                                                                                                                                                                                                                                                                         Extracted_Text  \n",
       "0     Fused aluminum oxide, crude: China,7 93%; Bahrain, 3%; Russia, 2%; Canada, 1%; and \\nother, 1%. Fused aluminum oxide, ground and refined : Canada, 25%; Brazil, 19%; Austria, 15%; China,7 13%; and \\nother, 28%. Total fused aluminum oxide: China,7 63%; Canada, 10%; Brazil, 7%; Austria, 5%; and other, 1 5%. Silicon \\ncarbide, crude: China,7 90%; Netherlands and South Africa, 3% each; Luxembourg, 1%; and other 3%. Silicon \\ncarbide, ground and refined: China,7 48%; Brazil, 21%; Canada, 9%; Russia, 7%; and other, 15%. Total silicon \\ncarbide:  China,7 79%; Brazil, 6%; Netherlands and South Africa, 3 %, each; and other, 9%.  Metallic abrasives: \\nCanada, 33%; Turkey, 16%; China,7 12%; Thailand, 9%; and other, 30%.  \\n  \n",
       "1                                                                                                                                                                                                                                                                                                                                                                                                                                                                                                                                                                                                                                                                   Canada, 50%; United Arab Emirates, 9 %; Russia , 5%; China,8 4%; and other, 32%. \\n  \n",
       "2                                                                                                                                                                                                                                                                                                                                                                                       Ore and concentrates: China , 46%; Italy, 34%; India, 12%; Belgium, 5 %; and other, 3%. \\nOxide: China,5 74%; Belgium, 10%; Bolivia , 5%; Thailand, 3 %; and other, 8%. Unwrought metal and powder: China,5 \\n30%; India, 2 8%; Vietnam, 13 %; Burma , 12%; and other, 17 %. Total metal and oxide: China,5 63%; Belgiu m, 8%; \\nIndia, 7 %; and other, 22%. \\n  \n",
       "3                                                                                                                                                                                                                                                                                                                                                                                                                                                2 Arsenic acid: Mala ysia, 82%; Hungary, 11%; and China, 7%.  Arsenic metal: China,6 \\n94%; Japan, 5%; and Germany , 1%. Arsenic trioxide: China, 54 %; Morocco, 39 %; Belgium, 5 %; Germany , 1%; and \\nother, 1%. All forms of arsenic : China ,6 57%; Morocco, 35%; Belgium, 4%; and other, 4 %. \\n  \n",
       "4                                                                                                                                                                                                                                                                                                                                                                                                                                                                                                                   Brazil, 75%; and Russia, 25%. The U.S. Census Bureau reported imports from China in \\n2021, but bill of lading information and data reported by the Government of China suggest that shipments from China \\nwere misclassified.  \\n  \n",
       "5                                                                                                                                                                                                                                                                                                                                                                                                                                                                                                                                                                                                                                                                               China ,6 38%; India, 29%; Morocco, 16%; Mexico, 13%; and other, 4 %. \\n  \n",
       "6                                                                                                                                                                                                                                                                                                                                                                                                                                                                                                                                                                          Bauxite:2 Jamaica, 63%; Brazil, 9%; Guyana  and Turkey , 8% each; and other, 1 2%. \\nAlumina:5 Brazil, 59%; Australia  and Jamaica, 14% each; Canada, 5%; and other, 8 %. \\n  \n",
       "7                                                                                                                                                                                                                                                                                                                                                                                                                                                                                                                                                                                                                                                                    \\n1 Kazakhstan,  43%; Japan, 15 %; Latvia, 1 5%; Brazil , 10%; and other, 17%.  \\n  \n",
       "8                                                                                                                                                                                                                                                                                                                                                                                                                                                                                                                                                                                                                                                                   China,6 65%; Republic of Korea, 19 %; Mexico, 5 %; Belgium, 3 %; and other, 8 %. \\n  \n",
       "9                                                                                                                                                                                                                                                                                                                                                                                                                                                                                                                                                                                                                                                                                    All forms: Turkey, 90%; Bolivia, 5%; Chile, 2%; and other, 3 %. \\n  \n",
       "10                                                                                                                                                                                                                                                                                                                                                                                                                                                                                                                                                                                                                                                                                          \\n5 Israel, 80%; Jordan, 12%; China,6 4%; and other, 4%. \\n  \n",
       "11                                                                                                                                                                                                                                                                                                                                                                                                                                                                                                                                                                                                                                                                     6 Australia,  27%; Germany , 23%; China,7 20%;  Peru, 12 %; and other,  18%.  \\n  \n",
       "12                                                                                                                                                                                                                                                                                                                                                                                                                                                                                                                                                                                                                                                                       \\n5 Canada, 30%; Turkey, 26 %; Gr eece, 11 %; Mexico , 8%; and other, 25 %. \\n  \n",
       "13                                                                                                                                                                                                                                                                                                                                                                                                                No reliable data have been available to determine the source of cesium ore imported by \\nthe United States  since 1988. Prior to 2016, Canada was thought to be the primary supplier of cesium ore and refined \\nchemicals . Based on recent import data, it is thought that  Germany was  a source of  refined cesium chemicals.  \\n  \n",
       "14                                                                                                                                                                                                                                                      Chromite (ores and concentrates): South Africa, 9 7%; Canada, 2%; and other, 1% . \\nChromium- containing scrap:7 Canada, 48%; Mexico, 42%; Netherlands , 4%; and other, 6 %. \\nChromium  (primary  metal):8 South Africa, 30%; Kazakhstan,  13%; Russia,  9%; Germany , 7%; and other, 41 %. \\nChromium- containing chemicals: China,9 23%; Germany, 20%; Kazakhstan, 19%; and other, 38%. Total  imports: \\nSouth Africa, 37%; Kazakhstan, 10%; Russia , 7%; Germany , 6%; and other, 40 %. \\n  \n",
       "15                                                                                                                                                                                                                                       Copper content of blister and anodes: Finland, 90%;  and other,  10%. Copper content of \\nmatte, ash, and precipitates: Canada, 34%;  Belgium, 1 7%; Japan, 15%; Mexico, 11%;  and other, 23%. Copper \\ncontent of ore and concentrates: Mexico, 82 %; Canada , 18%; and other, <1%. Copper content of scrap: Canada, \\n51%; Mexico, 37 %; and other, 12%. Refined copper: Chile, 64 %; Canada, 20%; Mexico, 11%; and other, 5%. Refined \\ncopper accounted for 8 6% of all unmanufactured copper imports.  \\n  \n",
       "16                                                                                                                                                                                                                                                                                                                                                                                                                                                                               Bort, grit, and dust and powder; natural and synthetic: China,5 81%; Republic of Korea, \\n6%; Ireland, 5 %; Russia, 4 %; and oth er, 4%. Stones, primarily natural: South Africa, 22 %; Congo (Kinshasa), 19%;  \\nIndia, 17 %; Sierra Leone , 10%; and other, 32%.  \\n  \n",
       "17                                                                                                                                                                                                                                                                                                                                                                                                                                                                                                                                                                                                                                                             Canada, 62 %; Mexico, 13 %; Germany, 10%; Argentina, 5%;  Japan, 5 %; and other,  5%. \\n  \n",
       "18                                                                                                                                                                                                                                                                                                                                                                                                                                                                                                                                                                                                                                                            Feldspar : Turkey, 94%;  Mexico, 4% ; and other, 2%. Nepheline syenite: Canada, 100%.  \\n  \n",
       "19                                                                                                                                                                                                                                                                                                                                                                                                                                                                                                                                                                                                                                                                      3 Mexico, 66%; Vietnam, 16 %; South Africa, 7 %; Canada, 7%; and other, 4 %. \\n  \n",
       "20                                                                                                                                                                                                                                                                                                                                                                                                                                                                                                                                                                                                                                                                  Metal: China, 5 3%; Germany  and Japan, 13 % each; Ukraine, 5%; and other , 16%. \\n  \n",
       "21                                                                                                                                                                                                                                                                                                                                                                                                                                                                                                                                                                                                                                                                    e South Africa, 48 %; China ,5 18%; India, 18%; Australia, 11%; and other, 5%. \\n  \n",
       "22                                                                                                                                                                                                                                                                                                                                                                                                                                                                                                                                                                                                                                                     1, 6 Germanium metal: China, 54%; Belgium, 27 %; Germany, 9 %; Russia, 8 %; and \\nother , 2%. \\n  \n",
       "23                                                                                                                                                                                                                                                                                                                                                                                                        Ores and concentrates: Canada, 89%; Greece, 9 %; and Germany , 2%. Dore: Mexico, \\n45%; Colombia, 12 %; Peru, 8%; Nicaragua, 7%; and other , 28%. Bullion: Switzerland, 38%; Canada, 23%; Australia \\nand South Africa, 7%  each; and other, 25% . Total: Switzerland , 24%; Mexico , 20%; Canada, 15 %; Colombia, 6 %; \\nand other, 35%.  \\n  \n",
       "24                                                                                                                                                                                                                                                                                                                                                                                                                                                                                                                                                                                                                                                                        China ,5 33%; Mexico, 18 %; Canada, 17%; Madagascar , 10%; and other, 22%. \\n  \n",
       "25                                                                                                                                                                                                                                                                                                                                                                                                                                                                                                                                                                                                                                                                                            Mexico, 35 %; Spain, 33 %; Canada, 28%; and other, 4%. \\n  \n",
       "26                                                                                                                                                                                                                                                                                                                                                                                                                                                                                                                                                                                                                                                                              Qatar, 53%; Canada, 20%; Algeria, 1 5%; Russia , 5%; and other, 7 %. \\n  \n",
       "27                                                                                                                                                                                                                                                                                                                                                                                                                                                                                                                                                                                                                                                                     Republic of Korea, 32%; Canada, 22%; China,6 18%; France, 9%; and other, 19%. \\n  \n",
       "28                                                                                                                                                                                                                                                                                                                                                                                                                                                                                                                                                                                                                                                                                                         Chile, 8 9%; Japan, 10 %; and other, 1%.  \\n  \n",
       "29                                                                                                                                                                                                                                                                                                                                                                                                                                                                                                                                                                                                                                                                  Canada, 21 %; Brazil, 1 5%; Mexico, 14%; Republic of Korea, 9%; and other, 41 %. \\n  \n",
       "30                                                                                                                                                                                                                                                                                                                                                                                                                                                                                                                                                                                                                                                                                           Japan, 46%; Brazil, 1 7%; China, 1 5%; and other, 22%.  \\n  \n",
       "31                                                                                                                                                                                                                                                                                                                                                                                                                                                                                                                Natural: Cyprus, 40%; Spain, 30 %; France, 14 %; Austria, 13 %; and other, 3%. \\nSynthetic: China,4 43%; Germany, 3 4%; Brazil, 8%; and other, 15 %. Total: China,4 42%; Germany, 33 %; Brazil, 7%; \\nCanada, 5%; and other, 13 %. \\n  \n",
       "32                                                                                                                                                                                                                                                                                                                                                                                                                                                                                                                                                                                                                                                               4 South Africa, 72%; Peru, 14 %; France, 9 %; United Kingdom, 5 %; and other, < 1%. \\n  \n",
       "33                                                                                                                                                                                                                                                                                                                                                                                                                                                                                                                                                                                                                                                               Refined metal: Canada, 42%; Mexico, 1 8%; Republic of Korea, 14 %; and other, 26%.  \\n  \n",
       "34                                                                                                                                                                                                                                                                                                                                                                                                                                                                                                                                                                                                                                                                                                         Canada, 9 0%; Mexico, 7%; and other, 3%.  \\n  \n",
       "35                                                                                                                                                                                                                                                                                                                                                                                                                                                                                                                                                                                                                                                                               Argentina, 5 1%; Chile, 40%; China, 4%; Russia, 3%; and other , 2%. \\n  \n",
       "36                                                                                                                     Caustic -calcined magnesia: China,5 74%; Canada, 2 0%; Israel, 3%; and other, 3%. \\nCrude magnesite: China,5 87%; Singapore, 1 0%; and other , 3%. Dead- burned and fused magnesia: China,5 68%; \\nBrazil, 1 6%; Turkey, 5 %; Mexico, 3 %; and other, 8 %. Magnesium chloride: Israel, 60%; Netherlands, 2 6%; China,5 \\n5%; and other, 9%. Magnesium hydroxide: Mexico, 5 7%; Netherlands, 15%; Israel, 1 1%; Austria, 7%; and other, \\n10%. Magnesium sulfates: China,5 58%; India, 15 %; Germany, 10 %; Vietnam, 4%; and other, 13%. Total imports: \\nChina,5 61%; Israel , 10%; Canada, 7%; Brazil , 6%; and other, 16 %. \\n  \n",
       "37                                                                                                                                               Magnesium metal (99.8%  purity ): Israel, 31%; Russia, 29%; Turkey , 27%; Canada, 6%;  \\nand other, 7 %. Magnesium alloys  (magnesium content) : Taiwan, 28%; Czechia, 16%; Germany  and Israel, 14%  \\neach; and other, 28% . Sheet, powder, and other  (magnesium content) : Austria , China ,5 and Mexico, 20%  each; \\nCanada, 17% ; and other, 23% . Scrap : Canada, 38%; Mexico, 19%; China,5 14%;  Taiwan, 6%; and other, 23% . \\nCombined total (includes magnesium content of alloys, metal , powder, and ot her): Canada, 21%; Israel, 11%; Mexico, \\n10%; Taiwan, 9%;  and other, 49%.   \\n  \n",
       "38                                                                                                                                                                                                                                                                                                                                        Manganese ore: Gabon, 67%; South Africa, 19 %; Mexico, 12%; and other, 2 %. \\nFerromanganese: Australia, 19%; Malaysia, 18%; South Africa, 17 %; Norway, 15 %; and other, 31 %. \\nSilicomanganese: Georgia, 28 %; South Africa, 22%; Australia, 21 %; and other, 29%. Manganese contained in \\nprincipal manganese imports:8 Gabon, 25 %; South Africa, 19%; Australia, 12%; Georgia, 8%; and other, 36%.  \\n  \n",
       "39                                                                                                                                                                                                                                                                                                                                                                                                                                                                                                                                                                                    Scrap and flake: Canada, 39%; China, 38%; India, 8%; Finland, 4%; and other , 11%. \\nSheet: China, 72%; Brazil, 9%; Belgium, 4%, Austria, 3%, and other, 12%.  \\n  \n",
       "40                                                                                                                                                                                                                                                                                                                                                                                                                                                                                                      Ferromolybdenum: Chile, 69%; Republic of Korea, 26 %; and other, 5 %. Molybdenum \\nores and concentrates: Peru, 60%; Mexico, 15% ; Chile, 14%; and other, 1 1%. Total : Peru, 40%; Chile , 28% ; Mexico, \\n10%; Canada, 9%; and other , 13%. \\n  \n",
       "41                                                                                                                                                                                                                                                                                                                                                                                                                                                                                                       Primary n ickel: Canada, 45%; Norway, 9 %; Australia , 8%; Finland, 7 %; and other, 31 %. \\nNickel -containing scrap,  including nickel content of stainless -steel scrap: Canada, 38%; Mexico, 26 %; United \\nKingdom, 9%; and other, 27%. \\n  \n",
       "42                                                                                                                                                                             Niobium and tantalum ores and concentrates: Austr alia, 42%; Rwanda, 21%; Congo \\n(Kinshasa) , 12%; Mozambique, 7%; and other, 18 %. Niobium oxide: Brazil, 72%; Estonia , 5%; China, 2%; Germany , \\n1%; and other, 20%. Ferroniobium and niobium metal: Brazil, 6 7%; Canada, 28%; Russia , 3%, Germany, 1%,  and \\nother , 1%. Total imports: Brazil, 66%; Canada, 25% ; and other, 9 %. Of U.S. niobium material imports (by contained \\nweight), 74% was ferroniobium, 16% was niobium metal, 9% was niobium oxide, and 1% was niobium ores and \\nconcentrates . \\n  \n",
       "43                                                                                                                                                                                                                                                                                                                                                                                                                                                                                                                                                                                                                                                                              Trinidad and Tobago, 58%; Canada 40%; Venezuela, 1%; and other, 1 %. \\n  \n",
       "44                                                                                                                                                                                                                                                                                                                                                                                                                                                                                                                                                                                                                                                                                                                      Canada, 96%; and other, 4%.  \\n  \n",
       "45                                                                                                                                                                                                                                                                                                                                                                                                                                                                                                                                                                                                                                                                                              Greece, 92%; China, 5% ; Mexico, 2% ; and other, 1%. \\n  \n",
       "46                                                                                                                                                                                                                                                                                                                                                                                                                                                                                                                                                                                                                                                                                                                      Peru, 95% ; and Morocco, 5%. \\n  \n",
       "47                                                                                                                                                                                                                                                                                                                                                                                                                                                                                                                                                                                                                                                                                           Canada, 79 %; Russia, 9%; Belarus , 7%; and other, 5 %. \\n  \n",
       "48                                                                                                                                                                                                                                                                                                                                                                                                                                                                                                                                                                                                                                                                                                        Greece, 92 %; Iceland, 5 %; and other, 3%. \\n  \n",
       "49                                                                                                                                                                                                                                                                                                                                                                                                                                                                                                                   Import statistics specific to lascas are not available because they are combined with \\nother types of quartz. Cultured quartz crystal (piezoelectric quartz, unmounted): China,6 90%; Japan, 3%; Russia, 2%; \\nand other, 5 %. \\n  \n",
       "50                                                                                                                                                                                                                                                                                                                                                                                                                                                                         Ammonium perrhenate: Kazakhstan, 27 %; Poland, 16%; Canada, 1 5%; Germany, 15 %; \\nand other, 27 %. Rhenium metal powder: Chile, 8 4%; Canada, 8%; Germany, 6 %; and other, 2 %. Total imports: Chile, \\n63%; Canada, 10%; Germany, 8%; Kazakhstan, 7 %; and other, 1 2%. \\n  \n",
       "51                                                                                                                                                                                                                                                                                                                                                                                                                                                                                                                                                                                                                                                                               Chile, 29%; Canada, 28%; Mexico, 13 %; Egypt, 11%; and other, 19%.  \\n  \n",
       "52                                                                                                                                                                                                                                                                                                                                                                                                                                                                                                                                                                                                                                                                                                         Canada, 95%; Mexico, 2 %; and other, 3 %. \\n  \n",
       "53                                                                                                                                                                                                                                                                                                                                                                                                                                                                                                                                                                                                                                                                    Canada, 87%; Vietnam, 3%; Brazil, Taiwan, and Turkey, 2% each; and other, 4%.  \\n  \n",
       "54                                                                                                                                                                                                                                                                                                                                                                                                                                                                                                                                                                                                         Although no definitive data exist listing import sources, imported material was mostly \\nfrom Europe, China, Japan, and the Philippines . \\n  \n",
       "55                                                                                                                                                                                                                                                                                                                                                                                                                                                                                                                                                      Selen ium: Philippines, 2 1%; Mexico,  15%; Germany, 13%; China,7 9%; and other, 42%. \\nSelenium dioxide: Republic of Korea, 79 %; China, 8 %; Germany, 6%; Philippines , 5%; and other, 2%. \\n  \n",
       "56                                                                                                                                                                                                                                                                                                                                                                                                                                                                                                                                                                                                                                                                              2 Mexico, 47%; Canada, 21%; Poland, 5%; Chile , 4%; and other, 23 %. \\n  \n",
       "57                                                                                                                                                                                                                                                                                                                                                                                                                                                                                                                                                                                                                                                                                           Turkey, 89 %; Bulgaria, 3%; Mexico , 2%; and other, 6%. \\n  \n",
       "58                                                                                                                                                                                                                                                                                                                                                                                                                                                                                                                                                                                                                                                                     Mexico, 53 %; Canada, 28 %; The Bahamas, 13 %; Honduras, 5%; and other , 1%.  \\n  \n",
       "59                                                                                                                                                                                                                                                                                                                                                                                                                                                                                                                                                                      Celestite: Mexico, 100%. Strontium compounds: Germany , 47%; Mexico, 45 %; China, \\n4%; and other, 4%. Total imports: Mexico, 75%; Germany, 21 %; China, 2%; and other, 2%.  \\n  \n",
       "60                                                                                                                                                                                                                                                                                                                                                                                                                                                                                  Elemental: Canada, 7 2%; Russia, 1 5%; Kazakhstan,  10%; and other, 3 %. Sulf uric acid: \\nCanada, 59%; Mexico, 19 %; Spain, 7 %; Germany, 4%; and other, 11 %. Total sulfur imports: Canada, 68 %; Russia , \\n10%; Kazakhstan, 7 %; Mexico, 6%; and other, 9 %. \\n  \n",
       "61                                                                                                                                                                                                                                                                                                                                     Tantalum ores and concentrates: Australia, 43%; Rwanda , 21%; Congo (Kinshasa), \\n12%;  Mozambique, 7%; and other, 17 %. Tantalum metal and powder: China,6 42%; Germany, 23 %; Kazakhstan, \\n12%; Thailand, 9 %; and other, 14 %. Tantalum waste and scrap: Indonesia, 23 %; China,6 17%; Japan, 1 5%; and \\nother, 45 %. Total: China,6 24%; Germany, 12 %; Australia, 10%; Indonesia, 8%; and other, 46 %. \\n  \n",
       "62                                                                                                                                                                                                                                                                                                                                                                                                                                                                                                                                                                                                                                                                        Canada, 5 2%; Germany, 24%; China,7 12%; Philippines, 8 %; and other, 4 %. \\n  \n",
       "63                                                                                                                                                                                                                                                                                                                                                                                                                                                                                                                                                                                           Ores and concentrates (m onazite) : China , 80%; United Kingdom , 15% ; and Canada, \\n5%. Thorium compounds: France, 56% ; India,  43%; and other , 1%. \\n  \n",
       "64                                                                                                                                                                                                                                                                                                                                                                                                                                                                                                                                                                                                 Refined tin: Peru, 25%; Indonesia, 24% ; Bolivia, 17%;  Malaysia, 16%; and other, 18%. \\nWaste and scrap: Canada, 98%; Mexico, 1%; and other, 1%. \\n  \n",
       "65                                                                                                                                                   Ferrovanadium: Austri a, 38%; Canada, 38 %; Russia, 10 %; Japan, 4%; and other, 10%. \\nVanadium pentoxide: Brazil, 50%; South Africa, 32%; China, 6%; Russia , 4%; and other, 8 %. Total: Canada, 31%; \\nChina , 13%; Brazil, 8%; South Africa, 7%; and other, 41 %. \\nNumber  \\n2615.90.6090  \\n2620.40.0030  \\n2620.99.1000  \\n2825.30.0010  \\n2825.30.0050  \\n7202.92.0000  \\n8112.92.7000  \\n8112.99.2000  \\n(3) Normal Trade Relations \\n12–3 1–22 \\nFree. \\nFree. \\nFree. \\n5.5% a d valorem. \\n5.5% a d valorem. \\n4.2% a d valorem. \\n2% ad valorem. \\n2% ad valorem. \\n5.5% a d valorem.   \n",
       "66                                                                                                                                                                                                                                                                                                                                                                                                                                                                                                                                                                                                                                   Comprehensive trade data were not available, but wollastonite was primarily imported \\nfrom Canada and Mexico.  \\n  \n",
       "67                                                                                                                                                                                                                                                                                                                                                                                                                     8 Yttrium compounds: China,9 94%; Germany, 3%; Republic of Korea and Japan , 1% \\neach; and other, 1%. Nearly all imports of yttrium metal and compounds are derived from mineral concentrates \\nprocessed in China. Import sources do not include yttrium contained in  value -added intermediates and finished \\nproducts.  \\n  \n",
       "68                                                                                                                                                                                                                                                                                                                                                          Comprehensive trade data were not available for natural zeolite minerals because they \\nwere imported and exported under a generic Harmonized Tariff Schedule of the United States code and Schedule B \\nnumber , respectively, that include multiple mineral commodities or under codes for finished products. Nearly all \\nimports and exports were thought to be synthetic zeolites.  \\n  \n",
       "69                                                                                                                                                                                                                                                                                                                                                                  Ores and concentrates: Peru, 71 %; Canada, 15 %; China, 7%, Taiwan, 4%; and other, \\n3%. Refined metal: Canada, 66%; Mexico, 16 %; Peru, 6%; Spain, 6%; and other, 6%. Waste and scrap (gross \\nweight): Canada, 62%; Mexico, 36%; and other, 2%. Combined total (includes gross weight of waste and scrap): \\nCanada, 66%; Mexico, 16 %; Peru, 6 %; Spain, 6 %; and other, 6 %. \\n  \n",
       "70                                                                                                                                                                                                                                                                                                                                  Zirconium ores and concentrates: South Africa, 51 %; Senegal, 25 %; Australia, 21%; \\nRussia, 2%; and other, 1%. Zirconium, unwrought, including powder: China, 89 %; Germany, 8%; France, 1%; Japan , \\n1%, and other, 1%. Zirconium, wrought: France, 62 %; Germany, 19 %; Belgium, 6 %; Canada, 4% ; and other, 9%. \\nHafnium, unwrought: Germany, 36%; France, 30%; China, 26 %; Russia, 3 %; and other, 5%. \\n  "
      ]
     },
     "execution_count": 123,
     "metadata": {},
     "output_type": "execute_result"
    }
   ],
   "source": [
    "pd.set_option('display.max_columns', None)\n",
    "pd.set_option('display.max_rows', None)\n",
    "pd.set_option('display.max_colwidth', None)\n",
    "\n",
    "minerals\n",
    "\n"
   ]
  },
  {
   "cell_type": "code",
   "execution_count": 46,
   "metadata": {},
   "outputs": [
    {
     "data": {
      "text/plain": [
       "'  Fused aluminum oxide, crude: China,7 93%; Bahrain, 3%; Russia, 2%; Canada, 1%; and \\nother, 1%. Fused aluminum oxide, ground and refined : Canada, 25%; Brazil, 19%; Austria, 15%; China,7 13%; and \\nother, 28%. Total fused aluminum oxide: China,7 63%; Canada, 10%; Brazil, 7%; Austria, 5%; and other, 1 5%. Silicon \\ncarbide, crude: China,7 90%; Netherlands and South Africa, 3% each; Luxembourg, 1%; and other 3%. Silicon \\ncarbide, ground and refined: China,7 48%; Brazil, 21%; Canada, 9%; Russia, 7%; and other, 15%. Total silicon \\ncarbide:  China,7 79%; Brazil, 6%; Netherlands and South Africa, 3 %, each; and other, 9%.  Metallic abrasives: \\nCanada, 33%; Turkey, 16%; China,7 12%; Thailand, 9%; and other, 30%.  \\n'"
      ]
     },
     "execution_count": 46,
     "metadata": {},
     "output_type": "execute_result"
    }
   ],
   "source": [
    "minerals\n",
    "\n",
    "#reference page 7 to match data\n",
    "#For minerals that have different forms, they break them out, i.e. ABRASIVES is broken out into:\n",
    "# ABRASIVES, fused aluminum oxide\n",
    "# ABRASIVES, silicon carbide\n",
    "\n",
    "minerals.iloc[0,1]"
   ]
  },
  {
   "cell_type": "markdown",
   "metadata": {},
   "source": [
    "### Testing PyPDF2"
   ]
  },
  {
   "cell_type": "code",
   "execution_count": 128,
   "metadata": {},
   "outputs": [],
   "source": [
    "pdf_file = open('data\\mcs2023.pdf', 'rb')\n",
    "pdf_reader = PyPDF2.PdfReader(pdf_file)\n",
    "#31 abraisives\n",
    "#33 aluminum\n",
    "\n",
    "text = pdf_reader.pages[35].extract_text()\n",
    "\n",
    "matches = re.findall(r'Import Sources \\(201 8–21\\):(.+)', text)\n",
    "\n",
    "text\n",
    "\n",
    "pdf_file.close()\n"
   ]
  },
  {
   "cell_type": "code",
   "execution_count": 129,
   "metadata": {},
   "outputs": [
    {
     "data": {
      "text/plain": [
       "'Prepared by  Elizabeth S. Sangine  [Contact Kateryna Klochko, (703) 648–4 977, kklochko@usgs.gov]  ANTIMONY\\n(Data in metric tons of contained antimony unless otherwise noted)  \\nDomestic Production and Use : In 2022 , no marketable antimony was mined in the United  States. A mine in Nevada \\nthat had extracted about 800 tons of stibnite ore from 2013 through 2014 was placed on care- and-maintenance status \\nin 2015 and had no reported production in 2022 . Primary antimony metal and oxide were produced by one company \\nin Montana using imported feedstock. Secondary antimony production was derived mostly from antimonial lead \\nrecovered from spent lead- acid batteries. The estimated value of secondary antimony produced in 2022 was about \\n$60 million. Recycling supplied about 15 % of estimated domestic consumption, and the remainder came mostly from \\nimports. In the United States, the leading uses of antimony were as follows: flame retardants, 40 %; metal products, \\nincluding antimonial lead and ammunition, 36%; and nonmetal products, including ceramics and glass and rubber \\nproducts, 2 4%. \\nSalient Statistics —United States : 2018  2019  2020  2021  2022e \\nProduction:  \\nMine (recoverable antimony)  — — — — — \\nSmelter:  \\nPrimary  331 377 254 379 400 \\nSecondary  4,090  4,140  e4,250  e4,250 4,200  \\nImports for consumption:  \\nOre and concentrates  96 121 105 31 30 \\nOxide  19,200  17,200 15,000  19,100 19,000  \\nUnwrought, powder  5,760 6,030 5,200 6,970 6,500  \\nWaste and scrap1 202 17 6 13 60 \\nExports:  \\nOre and concentrates1 38 9 10 9 67 \\nOxide  1,750  1,570  1,230  1,530 2,100  \\nUnwrought, powder  313 296 296 824 1,300  \\nWaste and scrap1 9 14 11 136 35 \\nConsumption, apparent2 27,300 25,900 23,200 28,300 27,000  \\nPrice, metal, average, dollars per pound3 3.81 3.04  2.67  5.31 6.30 \\nNet import reliance4 as a percentage of apparent  consumption  84 83 81 84 83 \\nRecycling : The bulk of secondary antimony is recovered at secondary lead smelters as antimonial lead, most of \\nwhich was generated by, and then consumed by, the lead- acid battery industry.  \\nImport Sources (201 8–21):  Ore and concentrates: China , 46%; Italy, 34%; India, 12%; Belgium, 5 %; and other, 3%. \\nOxide: China,5 74%; Belgium, 10%; Bolivia , 5%; Thailand, 3 %; and other, 8%. Unwrought metal and powder: China,5 \\n30%; India, 2 8%; Vietnam, 13 %; Burma , 12%; and other, 17 %. Total metal and oxide: China,5 63%; Belgiu m, 8%; \\nIndia, 7 %; and other, 22%. \\nTariff :      Item Number  Normal Trade Relations \\n12–31–22 \\nOre and concentrates  2617.10.0000  Free.  \\nAntimony oxide  2825.80.0000  Free.  \\nAntimony and articles thereof:  \\nUnwrought antimony; powder  8110.10.0000  Free.  \\nWaste and scrap  8110.20.0000  Free.  \\nOther  8110.90.0000  Free.  \\nDepletion Allowance : 22% (domestic), 14% (foreign).  \\nGovernment Stockpile :6 \\nMaterial  Inventory   \\nas of 9 –30–22 FY 202 2 FY 202 3 \\nPotential  \\nacquisitions  Potential  \\ndisposals  Potential  \\nacquisitions  Potential  \\ndisposals  \\nAntimony  90.16 1,100  — 1,100  — \\n32'"
      ]
     },
     "execution_count": 129,
     "metadata": {},
     "output_type": "execute_result"
    }
   ],
   "source": [
    "text"
   ]
  },
  {
   "cell_type": "markdown",
   "metadata": {},
   "source": [
    "## Text Recognition for Net Reliance"
   ]
  },
  {
   "cell_type": "code",
   "execution_count": 132,
   "metadata": {},
   "outputs": [
    {
     "data": {
      "text/html": [
       "<div>\n",
       "<style scoped>\n",
       "    .dataframe tbody tr th:only-of-type {\n",
       "        vertical-align: middle;\n",
       "    }\n",
       "\n",
       "    .dataframe tbody tr th {\n",
       "        vertical-align: top;\n",
       "    }\n",
       "\n",
       "    .dataframe thead th {\n",
       "        text-align: right;\n",
       "    }\n",
       "</style>\n",
       "<table border=\"1\" class=\"dataframe\">\n",
       "  <thead>\n",
       "    <tr style=\"text-align: right;\">\n",
       "      <th></th>\n",
       "      <th>Extracted_Text</th>\n",
       "      <th>Extracted_Text</th>\n",
       "    </tr>\n",
       "  </thead>\n",
       "  <tbody>\n",
       "    <tr>\n",
       "      <th>0</th>\n",
       "      <td>ABRASIVES (MANUFACTURED)</td>\n",
       "      <td>import reliance6 as a percentage of apparent consumption:  \\nFused aluminum oxide  &gt;75 &gt;75 &gt;75 &gt;75 &gt;75\\nSilicon carbide  80 77 70 76 79\\nMetallic abrasives  E E 4 3 E</td>\n",
       "    </tr>\n",
       "    <tr>\n",
       "      <th>1</th>\n",
       "      <td>ALUMINUM1</td>\n",
       "      <td>import reliance7 as a percentage of apparent consumption  50 47 38 41 54</td>\n",
       "    </tr>\n",
       "    <tr>\n",
       "      <th>2</th>\n",
       "      <td>ANTIMONY</td>\n",
       "      <td>import reliance4 as a percentage of apparent  consumption  84 83 81 84 83</td>\n",
       "    </tr>\n",
       "    <tr>\n",
       "      <th>3</th>\n",
       "      <td>ARSENIC</td>\n",
       "      <td>import reliance5 as a percentage of estimated \\nconsumption, all forms of arsenic  100 100 100 100 100</td>\n",
       "    </tr>\n",
       "    <tr>\n",
       "      <th>4</th>\n",
       "      <td>ASBESTOS</td>\n",
       "      <td>import reliance7 as a percentage of estimated consumption  100 100 100 100 100</td>\n",
       "    </tr>\n",
       "    <tr>\n",
       "      <th>5</th>\n",
       "      <td>BARITE</td>\n",
       "      <td>import reliance5 as a percentage of apparent consumption  87 86 &gt;75 &gt;75 &gt;75</td>\n",
       "    </tr>\n",
       "    <tr>\n",
       "      <th>6</th>\n",
       "      <td></td>\n",
       "      <td>import reliance4 as a percentage of apparent consumption  &gt;75 &gt;75 &gt;75 &gt;75 &gt;75\\nAlumina:  \\nProduction, refinery5 1,570  1,410  1,340  1,180 1,200  \\nImports for consumption5 1,530  1,930  1,340  1,550 2,000  \\nExports5 288 200 153 180 160 \\nStocks, industry, yearend5 275 275 234 202 300 \\nConsumption, apparent3 2,800  3,140  2,570 2,580 2,900  \\nPrice, average unit value of imports, f.a.s., dollars per metric ton 592 472 394 462 550 \\nNet import reliance4 as a percentage of apparent consumption  44 55 48 54 59</td>\n",
       "    </tr>\n",
       "    <tr>\n",
       "      <th>7</th>\n",
       "      <td>BERYLLIUM</td>\n",
       "      <td>import reliance6 as a percentage of apparent consumption  18 4 16 11 1</td>\n",
       "    </tr>\n",
       "    <tr>\n",
       "      <th>8</th>\n",
       "      <td>BISMUTH</td>\n",
       "      <td>import reliance5 as a percentage of apparent consumption  96 95 93 92 96</td>\n",
       "    </tr>\n",
       "    <tr>\n",
       "      <th>9</th>\n",
       "      <td>BORON</td>\n",
       "      <td>import reliance2 as a percentage of apparent consumption  E E E E E</td>\n",
       "    </tr>\n",
       "    <tr>\n",
       "      <th>10</th>\n",
       "      <td>BROMINE</td>\n",
       "      <td>import reliance4 as a percentage of apparent consumption  &lt;25 &lt;25 E E &lt;25</td>\n",
       "    </tr>\n",
       "    <tr>\n",
       "      <th>11</th>\n",
       "      <td>CADMIUM</td>\n",
       "      <td>import reliance5 as a percentage of apparent consumption  &lt;75 &lt;75 &lt;75 &lt;50 &lt;25</td>\n",
       "    </tr>\n",
       "    <tr>\n",
       "      <th>12</th>\n",
       "      <td>CEMENT</td>\n",
       "      <td>import reliance4 as a percentage of apparent consumption  14 15 15 18 21</td>\n",
       "    </tr>\n",
       "    <tr>\n",
       "      <th>13</th>\n",
       "      <td>CHROMIUM</td>\n",
       "      <td>import reliance6 as a percentage of apparent consumption  76 74 73 81 83</td>\n",
       "    </tr>\n",
       "    <tr>\n",
       "      <th>14</th>\n",
       "      <td>CLAYS</td>\n",
       "      <td>import reliance5 as a percentage of apparent consumption  E E E E E</td>\n",
       "    </tr>\n",
       "    <tr>\n",
       "      <th>15</th>\n",
       "      <td>COBALT</td>\n",
       "      <td>import reliance6 as a percentage of apparent consumption  64 78 76 73 76</td>\n",
       "    </tr>\n",
       "    <tr>\n",
       "      <th>16</th>\n",
       "      <td>COPPER</td>\n",
       "      <td>import reliance4 as a percentage of apparent consumption  33 37 38 44 41</td>\n",
       "    </tr>\n",
       "    <tr>\n",
       "      <th>17</th>\n",
       "      <td>DIAMOND (INDUSTRIAL)1</td>\n",
       "      <td>import reliance3 as a percentage of apparent consumption  67 57 38 55 62 \\nStones, natural and synthetic:  \\nProduction:  \\nManufactured diamonde — — — — — \\nSecondary  0.13 0.10 0.10 0.08 0.08 \\nImports for consumption  2.52 1.07 0.51 0.33 0.64 \\nExports  — — 0.02 — (4) \\nConsumption, apparent2 2.65 1.17 0.59 0.41 0.71 \\nPrice, unit value of imports, dollars per carat  2.96 5.82 8.41 13.0 10 \\nNet import reliance3 as a percentage of apparent consumption  95 91 83 81 89</td>\n",
       "    </tr>\n",
       "    <tr>\n",
       "      <th>18</th>\n",
       "      <td>DIATOMITE</td>\n",
       "      <td>import reliance3 as a percentage of apparent consumption  E E E E E</td>\n",
       "    </tr>\n",
       "    <tr>\n",
       "      <th>19</th>\n",
       "      <td>FELDSPAR AND NEPHELINE SYENITE</td>\n",
       "      <td>import reliance3 as a percentage of apparent consumption:  \\nFeldspar  24 12 8 33 39 \\nNepheline syenite  &gt;95 &gt;95 &gt;95 &gt;95 &gt;95</td>\n",
       "    </tr>\n",
       "    <tr>\n",
       "      <th>20</th>\n",
       "      <td>FLUORSPAR</td>\n",
       "      <td>import reliance2 as a percentage of apparent consumption  100 100 100 100 100</td>\n",
       "    </tr>\n",
       "    <tr>\n",
       "      <th>21</th>\n",
       "      <td>GALLIUM</td>\n",
       "      <td>import reliance3 as a percentage of reported consumption  100 100 100 100 100</td>\n",
       "    </tr>\n",
       "    <tr>\n",
       "      <th>22</th>\n",
       "      <td>GARNET (INDUSTRIAL)1</td>\n",
       "      <td>import reliance4 as a percentage of apparent consumption  71 65 49 60 69</td>\n",
       "    </tr>\n",
       "    <tr>\n",
       "      <th>23</th>\n",
       "      <td>GEMSTONES1</td>\n",
       "      <td>import reliance5 as a percentage of apparent consumption  99 99 99 99 99</td>\n",
       "    </tr>\n",
       "    <tr>\n",
       "      <th>24</th>\n",
       "      <td>GERMANIUM</td>\n",
       "      <td>import reliance5 as a percentage of estimated consumption  &gt;50 &gt;50 &gt;50 &gt;50 &gt;50</td>\n",
       "    </tr>\n",
       "    <tr>\n",
       "      <th>25</th>\n",
       "      <td>GOLD</td>\n",
       "      <td>import reliance7 as a percentage of apparent consumption8 E E 47 E E</td>\n",
       "    </tr>\n",
       "    <tr>\n",
       "      <th>26</th>\n",
       "      <td>GRAPHITE (NATURAL)</td>\n",
       "      <td>import reliance1 as a percentage of apparent consumption  100 100 100 100 100</td>\n",
       "    </tr>\n",
       "    <tr>\n",
       "      <th>27</th>\n",
       "      <td>GYPSUM</td>\n",
       "      <td>import reliance5 as a percentage of apparent consumption  12 15 15 16 16</td>\n",
       "    </tr>\n",
       "    <tr>\n",
       "      <th>28</th>\n",
       "      <td>HELIUM</td>\n",
       "      <td>import reliance6 as a percentage of apparent consumption  E E E E E \\nThe estimated price for private industry’s Grade- A helium was about $ 11 per cubic meter ($310 per thousand cubic \\nfeet) in 2022, with some producers posting surcharges to this price.</td>\n",
       "    </tr>\n",
       "    <tr>\n",
       "      <th>29</th>\n",
       "      <td>INDIUM</td>\n",
       "      <td>import reliance5 as a percentage of estimated consumption  100 100 100 100 100</td>\n",
       "    </tr>\n",
       "    <tr>\n",
       "      <th>30</th>\n",
       "      <td>IODINE</td>\n",
       "      <td>import reliance2 as a percentage of reported consumption  &gt;50 &gt;50 &gt;50 &gt;50 &gt;50</td>\n",
       "    </tr>\n",
       "    <tr>\n",
       "      <th>31</th>\n",
       "      <td>IRON AND STEEL1</td>\n",
       "      <td>import reliance7 as a percentage of apparent consumption  15 12 12 13 14</td>\n",
       "    </tr>\n",
       "    <tr>\n",
       "      <th>32</th>\n",
       "      <td>IRON AND STEEL SCRAP1</td>\n",
       "      <td>import reliance6 as a percentage of reported consumption  E E E E E</td>\n",
       "    </tr>\n",
       "    <tr>\n",
       "      <th>33</th>\n",
       "      <td>IRON AND STEEL SLAG</td>\n",
       "      <td>import reliance7 as a percentage of apparent consumption  13 10 14 15 13</td>\n",
       "    </tr>\n",
       "    <tr>\n",
       "      <th>34</th>\n",
       "      <td>IRON ORE1</td>\n",
       "      <td>import reliance3 as a percentage of apparent consumption  E E E E E</td>\n",
       "    </tr>\n",
       "    <tr>\n",
       "      <th>35</th>\n",
       "      <td>IRON OXIDE PIGMENTS</td>\n",
       "      <td>import reliance3 as a percentage of apparent consumption  78 89 90 87 87</td>\n",
       "    </tr>\n",
       "    <tr>\n",
       "      <th>36</th>\n",
       "      <td>KYANITE AND RELATED MINERALS</td>\n",
       "      <td>import reliance6 as a percentage of apparent consumption  E E E E E</td>\n",
       "    </tr>\n",
       "    <tr>\n",
       "      <th>37</th>\n",
       "      <td>LEAD</td>\n",
       "      <td>import reliance5 as a percentage of apparent consumption, \\nrefined metal  30 31 26 38 42</td>\n",
       "    </tr>\n",
       "    <tr>\n",
       "      <th>38</th>\n",
       "      <td>LIME1</td>\n",
       "      <td>import reliance5 as a percentage of apparent consumption  E E &lt;1 E &lt;1</td>\n",
       "    </tr>\n",
       "    <tr>\n",
       "      <th>39</th>\n",
       "      <td></td>\n",
       "      <td>import reliance3 as a percentage of estimated consumption  &gt;50 &gt;25 &gt;50 &gt;25 &gt;25</td>\n",
       "    </tr>\n",
       "    <tr>\n",
       "      <th>40</th>\n",
       "      <td>MAGNESIUM COMPOUNDS1</td>\n",
       "      <td>import reliance4 as a percentage of apparent consumption  52 56 53 57 53</td>\n",
       "    </tr>\n",
       "    <tr>\n",
       "      <th>41</th>\n",
       "      <td>MAGNESIUM METAL1</td>\n",
       "      <td>import reliance4 as a percentage of apparent consumption  &gt;25 &gt;25 &gt;25 &gt;25 &gt;50</td>\n",
       "    </tr>\n",
       "    <tr>\n",
       "      <th>42</th>\n",
       "      <td>MANGANESE</td>\n",
       "      <td>import reliance7 as a percentage of apparent consumption, \\nmanganese content  100 100 100 100 100</td>\n",
       "    </tr>\n",
       "    <tr>\n",
       "      <th>43</th>\n",
       "      <td>MERCURY</td>\n",
       "      <td>import reliance1 as a percentage of apparent consumption  NA NA NA NA NA</td>\n",
       "    </tr>\n",
       "    <tr>\n",
       "      <th>44</th>\n",
       "      <td>MICA (NATURAL)</td>\n",
       "      <td>import reliance5 as a percentage of apparent consumption  34 35 31 32 24 \\nSheet:  \\nSold and used  W W W NA NA \\nImports6 1,890  3,150  2,840 3,980 4,200  \\nExports7 686 779 528 633 950 \\nConsumption, apparente, 4 1,200  2,370  2,310 3,350 3,300  \\nPrice, average value, muscovite and phlogopite mica, \\ndollars per kilogram:e \\nBlock  W W W W W \\nSplittings  1.65 1.66 1.57 1.88 1.80 \\nNet import reliance5 as a percentage of apparent consumption  100 100 100 100 100</td>\n",
       "    </tr>\n",
       "    <tr>\n",
       "      <th>45</th>\n",
       "      <td>MOLYBDENUM</td>\n",
       "      <td>import reliance4 as a percentage of apparent consumption  E E E E E</td>\n",
       "    </tr>\n",
       "    <tr>\n",
       "      <th>46</th>\n",
       "      <td>NICKEL</td>\n",
       "      <td>import reliance3, 4 as a percentage of total \\napparent consumption  52 49 48 49 56</td>\n",
       "    </tr>\n",
       "    <tr>\n",
       "      <th>47</th>\n",
       "      <td>NIOBIUM (COLUMBIUM)</td>\n",
       "      <td>import reliance3 as a percentage of apparent consumption  100 100 100 100 100</td>\n",
       "    </tr>\n",
       "    <tr>\n",
       "      <th>48</th>\n",
       "      <td>NITROGEN (FIXED) —AMMONIA</td>\n",
       "      <td>import reliance4 as a percentage of apparent consumption  14 11 11 13 9</td>\n",
       "    </tr>\n",
       "    <tr>\n",
       "      <th>49</th>\n",
       "      <td>PEAT</td>\n",
       "      <td>import reliance2 as a percentage of apparent consumption  75 74 79 84 81</td>\n",
       "    </tr>\n",
       "    <tr>\n",
       "      <th>50</th>\n",
       "      <td>PERLITE</td>\n",
       "      <td>import reliance3 as a percentage of apparent consumption  30 29 21 23 28</td>\n",
       "    </tr>\n",
       "    <tr>\n",
       "      <th>51</th>\n",
       "      <td>PHOSPHATE ROCK</td>\n",
       "      <td>import reliance3 as a percentage of apparent consumption  2 11 5 11 12</td>\n",
       "    </tr>\n",
       "    <tr>\n",
       "      <th>52</th>\n",
       "      <td>PLATINUM -GROUP METALS</td>\n",
       "      <td>import reliance6, 8 as a percentage of apparent \\nconsumption:  \\nPalladium  42 34 35 35 26 \\nPlatinum  74 67 75 72 66</td>\n",
       "    </tr>\n",
       "    <tr>\n",
       "      <th>53</th>\n",
       "      <td></td>\n",
       "      <td>import reliance4 as a percentage of apparent consumption  92 91 92 93 94</td>\n",
       "    </tr>\n",
       "    <tr>\n",
       "      <th>54</th>\n",
       "      <td>PUMICE AND PUMICITE</td>\n",
       "      <td>import reliance3 as a percentage of apparent consumption  23 18 12 13 14</td>\n",
       "    </tr>\n",
       "    <tr>\n",
       "      <th>55</th>\n",
       "      <td>QUARTZ CRYSTAL (INDUSTRIAL)</td>\n",
       "      <td>import reliance5 as a percentage of apparent consumption  NA NA NA NA NA</td>\n",
       "    </tr>\n",
       "    <tr>\n",
       "      <th>56</th>\n",
       "      <td>RARE EARTHS1</td>\n",
       "      <td>import reliance5 as a percentage of apparent consumption:6 \\nCompounds and metals  100 100 100 &gt;95 &gt;95\\nMineral concentrates  E E E E E</td>\n",
       "    </tr>\n",
       "    <tr>\n",
       "      <th>57</th>\n",
       "      <td>RHENIUM</td>\n",
       "      <td>import reliance6 as a percentage of apparent consumption  83 84 74 70 69</td>\n",
       "    </tr>\n",
       "    <tr>\n",
       "      <th>58</th>\n",
       "      <td>SALT</td>\n",
       "      <td>import reliance3 as a percentage of apparent consumption  28 28 25 29 29</td>\n",
       "    </tr>\n",
       "    <tr>\n",
       "      <th>59</th>\n",
       "      <td>SAND AND GRAVEL (CONSTRUCTION)1</td>\n",
       "      <td>import reliance5 as a percentage of apparent consumption  1 1 1 (2) (2)</td>\n",
       "    </tr>\n",
       "    <tr>\n",
       "      <th>60</th>\n",
       "      <td>SAND AND GRAVEL (INDUSTRIAL)1</td>\n",
       "      <td>import reliance3 as a percentage of apparent consumption  E E E E E</td>\n",
       "    </tr>\n",
       "    <tr>\n",
       "      <th>61</th>\n",
       "      <td>SCANDIUM1</td>\n",
       "      <td>import reliance5 as a percentage of apparent consumption  100 100 100 100 100</td>\n",
       "    </tr>\n",
       "    <tr>\n",
       "      <th>62</th>\n",
       "      <td>SELENIUM</td>\n",
       "      <td>import reliance6 as a percentage of apparent consumption  &gt;75 &gt;50 &gt;75 &gt;50 &gt;50</td>\n",
       "    </tr>\n",
       "    <tr>\n",
       "      <th>63</th>\n",
       "      <td>SILICON</td>\n",
       "      <td>import reliance6 as a percentage of apparent consumption:  \\nFerrosilicon, all grades  &lt;50 &lt;50 &gt;50 &lt;50 &gt;50\\nSilicon metal2 &lt;25 &lt;50 &lt;50 &lt;25 &lt;50\\nTotal  32 40 42 34 45</td>\n",
       "    </tr>\n",
       "    <tr>\n",
       "      <th>64</th>\n",
       "      <td>SILVER</td>\n",
       "      <td>import reliance7 as a percentage of apparent consumption  73 74 80 76 69</td>\n",
       "    </tr>\n",
       "    <tr>\n",
       "      <th>65</th>\n",
       "      <td>SODA ASH</td>\n",
       "      <td>import reliance4 as a percentage of apparent consumption  E E E E E</td>\n",
       "    </tr>\n",
       "    <tr>\n",
       "      <th>66</th>\n",
       "      <td>STONE (CRUSHED)1</td>\n",
       "      <td>import reliance5 as a percentage of apparent consumption  1 2 1 1 1</td>\n",
       "    </tr>\n",
       "    <tr>\n",
       "      <th>67</th>\n",
       "      <td>STONE (DIMENSION)1</td>\n",
       "      <td>import reliance5 as a percentage of apparent consumption \\n(based on value)  82 82 80 82 82 \\nGranite only, sold or used by producers:  \\nQuantity  484 430 436 464 470 \\nValue, million dollars  108 105 110 128 130 \\nImports, value, million dollars  915 862 794 903 910 \\nExports, value, million dollars  19 17 13 11 13 \\nConsumption, apparent, value, million dollars3 1,000  950 892 1,020 1,000  \\nPrice  Variable, depending on type of product  \\nEmployment, quarry and mill, number4 800 800 800 800 800 \\nNet import reliance5 as a percentage of apparent consumption \\n(based on value)  89 89 88 87 87</td>\n",
       "    </tr>\n",
       "    <tr>\n",
       "      <th>68</th>\n",
       "      <td>STRONTIUM</td>\n",
       "      <td>import reliance4 as a percentage of apparent consumption  100 100 100 100 100</td>\n",
       "    </tr>\n",
       "    <tr>\n",
       "      <th>69</th>\n",
       "      <td>SULFUR</td>\n",
       "      <td>import reliance2 as a percentage of apparent consumption  7 6 21 15 13</td>\n",
       "    </tr>\n",
       "    <tr>\n",
       "      <th>70</th>\n",
       "      <td>TALC AND PYROPHYLLITE1</td>\n",
       "      <td>import reliance5 as a percentage of apparent consumption  9 9 1 8 19</td>\n",
       "    </tr>\n",
       "    <tr>\n",
       "      <th>71</th>\n",
       "      <td>TANTALUM</td>\n",
       "      <td>import reliance5 as a percentage of apparent consumption  100 100 100 100 100</td>\n",
       "    </tr>\n",
       "    <tr>\n",
       "      <th>72</th>\n",
       "      <td>TELLURIUM</td>\n",
       "      <td>import reliance6 as a percentage of apparent consumption  &gt;95 &gt;95 &gt;95 &gt;95 &gt;75</td>\n",
       "    </tr>\n",
       "    <tr>\n",
       "      <th>73</th>\n",
       "      <td>THALLIUM</td>\n",
       "      <td>import reliance4 as a percentage of estimated consumption  NA NA NA NA NA</td>\n",
       "    </tr>\n",
       "    <tr>\n",
       "      <th>74</th>\n",
       "      <td>THORIUM</td>\n",
       "      <td>import reliance6 as a percentage of apparent \\nconsumption  NA NA NA NA NA</td>\n",
       "    </tr>\n",
       "    <tr>\n",
       "      <th>75</th>\n",
       "      <td>TIN</td>\n",
       "      <td>import reliance4 as a percentage of apparent consumption, \\nrefined  77 76 76 81 77</td>\n",
       "    </tr>\n",
       "    <tr>\n",
       "      <th>76</th>\n",
       "      <td>TITANIUM AND TITANIUM DIOXIDE1</td>\n",
       "      <td>import reliance5 as a percentage of \\napparent consumption  &gt;50 &gt;50 &gt;50 &gt;95 &gt;95\\nTiO2 pigment:  \\nProduction  1,150,000  1,000,000  1,000,000  1,100,000  1,100,000  \\nImports for consumption  268,000  226,000  262,000 251,000  260,000  \\nExports  528,000  401,000  386,000  494,000  420,000  \\nConsumption, apparent2 890,000 825,000 876,000 857,000 940,000 \\nPrice, dollars per metric ton4 2,730  2,750  2,710  2,920  3,400 \\nProducer price index (1982=100), yearend6 205 NA NA NA NA \\nEmployment, numbere 3,050  3,050  3,100  3,200  3,200  \\nNet import reliance5 as a percentage of \\napparent consumption  E E E E E</td>\n",
       "    </tr>\n",
       "    <tr>\n",
       "      <th>77</th>\n",
       "      <td>TITANIUM MINERAL CONCENTRATES1</td>\n",
       "      <td>import reliance7 as a percentage of apparent consumption  91 92 89 90 81</td>\n",
       "    </tr>\n",
       "    <tr>\n",
       "      <th>78</th>\n",
       "      <td>TUNGSTEN</td>\n",
       "      <td>import reliance7 as a percentage of apparent consumption  &gt;50 &gt;50 &gt;50 &gt;50 &gt;50</td>\n",
       "    </tr>\n",
       "    <tr>\n",
       "      <th>79</th>\n",
       "      <td>VANADIUM</td>\n",
       "      <td>import reliance9 as a percentage of apparent consumption  78 65 62 62 54</td>\n",
       "    </tr>\n",
       "    <tr>\n",
       "      <th>80</th>\n",
       "      <td>VERMICULITE</td>\n",
       "      <td>import reliance4 as a percentage of apparent \\nconsumptione, 5 20 20 20 20 20</td>\n",
       "    </tr>\n",
       "    <tr>\n",
       "      <th>81</th>\n",
       "      <td>YTTRIUM1</td>\n",
       "      <td>import reliance6, 7 as a percentage of apparent consumption  100 100 100 100 100</td>\n",
       "    </tr>\n",
       "    <tr>\n",
       "      <th>82</th>\n",
       "      <td>ZEOLITES (NATURAL)</td>\n",
       "      <td>import reliance4 as a percentage of apparent consumption  E E E E E</td>\n",
       "    </tr>\n",
       "    <tr>\n",
       "      <th>83</th>\n",
       "      <td>ZINC</td>\n",
       "      <td>import reliance7 as a percentage of apparent consumption : \\nOres and concentrates  E E E E E \\nRefined zinc  87 88 79 76 76</td>\n",
       "    </tr>\n",
       "    <tr>\n",
       "      <th>84</th>\n",
       "      <td>ZIRCONIUM AND HAFNIUM</td>\n",
       "      <td>import reliance6 as a percentage of apparent \\nconsumption:  \\nZirconium ores and concentrates  E E &lt;25 &lt;25 &lt;50 \\nHafnium  NA NA NA NA NA</td>\n",
       "    </tr>\n",
       "  </tbody>\n",
       "</table>\n",
       "</div>"
      ],
      "text/plain": [
       "                     Extracted_Text  \\\n",
       "0          ABRASIVES (MANUFACTURED)   \n",
       "1                         ALUMINUM1   \n",
       "2                          ANTIMONY   \n",
       "3                           ARSENIC   \n",
       "4                          ASBESTOS   \n",
       "5                            BARITE   \n",
       "6                                     \n",
       "7                         BERYLLIUM   \n",
       "8                           BISMUTH   \n",
       "9                             BORON   \n",
       "10                          BROMINE   \n",
       "11                          CADMIUM   \n",
       "12                           CEMENT   \n",
       "13                         CHROMIUM   \n",
       "14                            CLAYS   \n",
       "15                           COBALT   \n",
       "16                           COPPER   \n",
       "17            DIAMOND (INDUSTRIAL)1   \n",
       "18                        DIATOMITE   \n",
       "19   FELDSPAR AND NEPHELINE SYENITE   \n",
       "20                        FLUORSPAR   \n",
       "21                          GALLIUM   \n",
       "22             GARNET (INDUSTRIAL)1   \n",
       "23                       GEMSTONES1   \n",
       "24                        GERMANIUM   \n",
       "25                             GOLD   \n",
       "26               GRAPHITE (NATURAL)   \n",
       "27                           GYPSUM   \n",
       "28                           HELIUM   \n",
       "29                           INDIUM   \n",
       "30                           IODINE   \n",
       "31                  IRON AND STEEL1   \n",
       "32            IRON AND STEEL SCRAP1   \n",
       "33              IRON AND STEEL SLAG   \n",
       "34                        IRON ORE1   \n",
       "35              IRON OXIDE PIGMENTS   \n",
       "36     KYANITE AND RELATED MINERALS   \n",
       "37                             LEAD   \n",
       "38                            LIME1   \n",
       "39                                    \n",
       "40             MAGNESIUM COMPOUNDS1   \n",
       "41                 MAGNESIUM METAL1   \n",
       "42                        MANGANESE   \n",
       "43                          MERCURY   \n",
       "44                   MICA (NATURAL)   \n",
       "45                       MOLYBDENUM   \n",
       "46                           NICKEL   \n",
       "47              NIOBIUM (COLUMBIUM)   \n",
       "48        NITROGEN (FIXED) —AMMONIA   \n",
       "49                             PEAT   \n",
       "50                          PERLITE   \n",
       "51                   PHOSPHATE ROCK   \n",
       "52           PLATINUM -GROUP METALS   \n",
       "53                                    \n",
       "54              PUMICE AND PUMICITE   \n",
       "55      QUARTZ CRYSTAL (INDUSTRIAL)   \n",
       "56                     RARE EARTHS1   \n",
       "57                          RHENIUM   \n",
       "58                             SALT   \n",
       "59  SAND AND GRAVEL (CONSTRUCTION)1   \n",
       "60    SAND AND GRAVEL (INDUSTRIAL)1   \n",
       "61                        SCANDIUM1   \n",
       "62                         SELENIUM   \n",
       "63                          SILICON   \n",
       "64                           SILVER   \n",
       "65                         SODA ASH   \n",
       "66                 STONE (CRUSHED)1   \n",
       "67               STONE (DIMENSION)1   \n",
       "68                        STRONTIUM   \n",
       "69                           SULFUR   \n",
       "70           TALC AND PYROPHYLLITE1   \n",
       "71                         TANTALUM   \n",
       "72                        TELLURIUM   \n",
       "73                         THALLIUM   \n",
       "74                          THORIUM   \n",
       "75                              TIN   \n",
       "76   TITANIUM AND TITANIUM DIOXIDE1   \n",
       "77   TITANIUM MINERAL CONCENTRATES1   \n",
       "78                         TUNGSTEN   \n",
       "79                         VANADIUM   \n",
       "80                      VERMICULITE   \n",
       "81                         YTTRIUM1   \n",
       "82               ZEOLITES (NATURAL)   \n",
       "83                             ZINC   \n",
       "84            ZIRCONIUM AND HAFNIUM   \n",
       "\n",
       "                                                                                                                                                                                                                                                                                                                                                                                                                                                                                                                                                                                                                                Extracted_Text  \n",
       "0                                                                                                                                                                                                                                                                                                                                                                                                                                                                       import reliance6 as a percentage of apparent consumption:  \\nFused aluminum oxide  >75 >75 >75 >75 >75\\nSilicon carbide  80 77 70 76 79\\nMetallic abrasives  E E 4 3 E  \n",
       "1                                                                                                                                                                                                                                                                                                                                                                                                                                                                                                                                                                    import reliance7 as a percentage of apparent consumption  50 47 38 41 54   \n",
       "2                                                                                                                                                                                                                                                                                                                                                                                                                                                                                                                                                                   import reliance4 as a percentage of apparent  consumption  84 83 81 84 83   \n",
       "3                                                                                                                                                                                                                                                                                                                                                                                                                                                                                                                                      import reliance5 as a percentage of estimated \\nconsumption, all forms of arsenic  100 100 100 100 100   \n",
       "4                                                                                                                                                                                                                                                                                                                                                                                                                                                                                                                                                              import reliance7 as a percentage of estimated consumption  100 100 100 100 100   \n",
       "5                                                                                                                                                                                                                                                                                                                                                                                                                                                                                                                                                                  import reliance5 as a percentage of apparent consumption  87 86 >75 >75 >75  \n",
       "6                                                                                                         import reliance4 as a percentage of apparent consumption  >75 >75 >75 >75 >75\\nAlumina:  \\nProduction, refinery5 1,570  1,410  1,340  1,180 1,200  \\nImports for consumption5 1,530  1,930  1,340  1,550 2,000  \\nExports5 288 200 153 180 160 \\nStocks, industry, yearend5 275 275 234 202 300 \\nConsumption, apparent3 2,800  3,140  2,570 2,580 2,900  \\nPrice, average unit value of imports, f.a.s., dollars per metric ton 592 472 394 462 550 \\nNet import reliance4 as a percentage of apparent consumption  44 55 48 54 59   \n",
       "7                                                                                                                                                                                                                                                                                                                                                                                                                                                                                                                                                                      import reliance6 as a percentage of apparent consumption  18 4 16 11 1   \n",
       "8                                                                                                                                                                                                                                                                                                                                                                                                                                                                                                                                                                    import reliance5 as a percentage of apparent consumption  96 95 93 92 96   \n",
       "9                                                                                                                                                                                                                                                                                                                                                                                                                                                                                                                                                                         import reliance2 as a percentage of apparent consumption  E E E E E   \n",
       "10                                                                                                                                                                                                                                                                                                                                                                                                                                                                                                                                                                  import reliance4 as a percentage of apparent consumption  <25 <25 E E <25   \n",
       "11                                                                                                                                                                                                                                                                                                                                                                                                                                                                                                                                                              import reliance5 as a percentage of apparent consumption  <75 <75 <75 <50 <25   \n",
       "12                                                                                                                                                                                                                                                                                                                                                                                                                                                                                                                                                                   import reliance4 as a percentage of apparent consumption  14 15 15 18 21   \n",
       "13                                                                                                                                                                                                                                                                                                                                                                                                                                                                                                                                                                   import reliance6 as a percentage of apparent consumption  76 74 73 81 83   \n",
       "14                                                                                                                                                                                                                                                                                                                                                                                                                                                                                                                                                                        import reliance5 as a percentage of apparent consumption  E E E E E   \n",
       "15                                                                                                                                                                                                                                                                                                                                                                                                                                                                                                                                                                   import reliance6 as a percentage of apparent consumption  64 78 76 73 76   \n",
       "16                                                                                                                                                                                                                                                                                                                                                                                                                                                                                                                                                                   import reliance4 as a percentage of apparent consumption  33 37 38 44 41   \n",
       "17                                                                                                                                                 import reliance3 as a percentage of apparent consumption  67 57 38 55 62 \\nStones, natural and synthetic:  \\nProduction:  \\nManufactured diamonde — — — — — \\nSecondary  0.13 0.10 0.10 0.08 0.08 \\nImports for consumption  2.52 1.07 0.51 0.33 0.64 \\nExports  — — 0.02 — (4) \\nConsumption, apparent2 2.65 1.17 0.59 0.41 0.71 \\nPrice, unit value of imports, dollars per carat  2.96 5.82 8.41 13.0 10 \\nNet import reliance3 as a percentage of apparent consumption  95 91 83 81 89   \n",
       "18                                                                                                                                                                                                                                                                                                                                                                                                                                                                                                                                                                        import reliance3 as a percentage of apparent consumption  E E E E E   \n",
       "19                                                                                                                                                                                                                                                                                                                                                                                                                                                                                                               import reliance3 as a percentage of apparent consumption:  \\nFeldspar  24 12 8 33 39 \\nNepheline syenite  >95 >95 >95 >95 >95  \n",
       "20                                                                                                                                                                                                                                                                                                                                                                                                                                                                                                                                                              import reliance2 as a percentage of apparent consumption  100 100 100 100 100   \n",
       "21                                                                                                                                                                                                                                                                                                                                                                                                                                                                                                                                                              import reliance3 as a percentage of reported consumption  100 100 100 100 100   \n",
       "22                                                                                                                                                                                                                                                                                                                                                                                                                                                                                                                                                                   import reliance4 as a percentage of apparent consumption  71 65 49 60 69   \n",
       "23                                                                                                                                                                                                                                                                                                                                                                                                                                                                                                                                                                   import reliance5 as a percentage of apparent consumption  99 99 99 99 99   \n",
       "24                                                                                                                                                                                                                                                                                                                                                                                                                                                                                                                                                              import reliance5 as a percentage of estimated consumption  >50 >50 >50 >50 >50  \n",
       "25                                                                                                                                                                                                                                                                                                                                                                                                                                                                                                                                                                       import reliance7 as a percentage of apparent consumption8 E E 47 E E   \n",
       "26                                                                                                                                                                                                                                                                                                                                                                                                                                                                                                                                                              import reliance1 as a percentage of apparent consumption  100 100 100 100 100   \n",
       "27                                                                                                                                                                                                                                                                                                                                                                                                                                                                                                                                                                   import reliance5 as a percentage of apparent consumption  12 15 15 16 16   \n",
       "28                                                                                                                                                                                                                                                                                                                                                                           import reliance6 as a percentage of apparent consumption  E E E E E \\nThe estimated price for private industry’s Grade- A helium was about $ 11 per cubic meter ($310 per thousand cubic \\nfeet) in 2022, with some producers posting surcharges to this price.    \n",
       "29                                                                                                                                                                                                                                                                                                                                                                                                                                                                                                                                                             import reliance5 as a percentage of estimated consumption  100 100 100 100 100   \n",
       "30                                                                                                                                                                                                                                                                                                                                                                                                                                                                                                                                                               import reliance2 as a percentage of reported consumption  >50 >50 >50 >50 >50  \n",
       "31                                                                                                                                                                                                                                                                                                                                                                                                                                                                                                                                                                   import reliance7 as a percentage of apparent consumption  15 12 12 13 14   \n",
       "32                                                                                                                                                                                                                                                                                                                                                                                                                                                                                                                                                                        import reliance6 as a percentage of reported consumption  E E E E E   \n",
       "33                                                                                                                                                                                                                                                                                                                                                                                                                                                                                                                                                                   import reliance7 as a percentage of apparent consumption  13 10 14 15 13   \n",
       "34                                                                                                                                                                                                                                                                                                                                                                                                                                                                                                                                                                        import reliance3 as a percentage of apparent consumption  E E E E E   \n",
       "35                                                                                                                                                                                                                                                                                                                                                                                                                                                                                                                                                                   import reliance3 as a percentage of apparent consumption  78 89 90 87 87   \n",
       "36                                                                                                                                                                                                                                                                                                                                                                                                                                                                                                                                                                        import reliance6 as a percentage of apparent consumption  E E E E E   \n",
       "37                                                                                                                                                                                                                                                                                                                                                                                                                                                                                                                                                  import reliance5 as a percentage of apparent consumption, \\nrefined metal  30 31 26 38 42   \n",
       "38                                                                                                                                                                                                                                                                                                                                                                                                                                                                                                                                                                      import reliance5 as a percentage of apparent consumption  E E <1 E <1   \n",
       "39                                                                                                                                                                                                                                                                                                                                                                                                                                                                                                                                                              import reliance3 as a percentage of estimated consumption  >50 >25 >50 >25 >25  \n",
       "40                                                                                                                                                                                                                                                                                                                                                                                                                                                                                                                                                                   import reliance4 as a percentage of apparent consumption  52 56 53 57 53   \n",
       "41                                                                                                                                                                                                                                                                                                                                                                                                                                                                                                                                                               import reliance4 as a percentage of apparent consumption  >25 >25 >25 >25 >50  \n",
       "42                                                                                                                                                                                                                                                                                                                                                                                                                                                                                                                                         import reliance7 as a percentage of apparent consumption, \\nmanganese content  100 100 100 100 100   \n",
       "43                                                                                                                                                                                                                                                                                                                                                                                                                                                                                                                                                                   import reliance1 as a percentage of apparent consumption  NA NA NA NA NA   \n",
       "44                                                                                                                                                      import reliance5 as a percentage of apparent consumption  34 35 31 32 24 \\nSheet:  \\nSold and used  W W W NA NA \\nImports6 1,890  3,150  2,840 3,980 4,200  \\nExports7 686 779 528 633 950 \\nConsumption, apparente, 4 1,200  2,370  2,310 3,350 3,300  \\nPrice, average value, muscovite and phlogopite mica, \\ndollars per kilogram:e \\nBlock  W W W W W \\nSplittings  1.65 1.66 1.57 1.88 1.80 \\nNet import reliance5 as a percentage of apparent consumption  100 100 100 100 100   \n",
       "45                                                                                                                                                                                                                                                                                                                                                                                                                                                                                                                                                                        import reliance4 as a percentage of apparent consumption  E E E E E   \n",
       "46                                                                                                                                                                                                                                                                                                                                                                                                                                                                                                                                                        import reliance3, 4 as a percentage of total \\napparent consumption  52 49 48 49 56   \n",
       "47                                                                                                                                                                                                                                                                                                                                                                                                                                                                                                                                                              import reliance3 as a percentage of apparent consumption  100 100 100 100 100   \n",
       "48                                                                                                                                                                                                                                                                                                                                                                                                                                                                                                                                                                    import reliance4 as a percentage of apparent consumption  14 11 11 13 9   \n",
       "49                                                                                                                                                                                                                                                                                                                                                                                                                                                                                                                                                                   import reliance2 as a percentage of apparent consumption  75 74 79 84 81   \n",
       "50                                                                                                                                                                                                                                                                                                                                                                                                                                                                                                                                                                   import reliance3 as a percentage of apparent consumption  30 29 21 23 28   \n",
       "51                                                                                                                                                                                                                                                                                                                                                                                                                                                                                                                                                                     import reliance3 as a percentage of apparent consumption  2 11 5 11 12   \n",
       "52                                                                                                                                                                                                                                                                                                                                                                                                                                                                                                                     import reliance6, 8 as a percentage of apparent \\nconsumption:  \\nPalladium  42 34 35 35 26 \\nPlatinum  74 67 75 72 66   \n",
       "53                                                                                                                                                                                                                                                                                                                                                                                                                                                                                                                                                                   import reliance4 as a percentage of apparent consumption  92 91 92 93 94   \n",
       "54                                                                                                                                                                                                                                                                                                                                                                                                                                                                                                                                                                   import reliance3 as a percentage of apparent consumption  23 18 12 13 14   \n",
       "55                                                                                                                                                                                                                                                                                                                                                                                                                                                                                                                                                                   import reliance5 as a percentage of apparent consumption  NA NA NA NA NA   \n",
       "56                                                                                                                                                                                                                                                                                                                                                                                                                                                                                                     import reliance5 as a percentage of apparent consumption:6 \\nCompounds and metals  100 100 100 >95 >95\\nMineral concentrates  E E E E E  \n",
       "57                                                                                                                                                                                                                                                                                                                                                                                                                                                                                                                                                                   import reliance6 as a percentage of apparent consumption  83 84 74 70 69   \n",
       "58                                                                                                                                                                                                                                                                                                                                                                                                                                                                                                                                                                   import reliance3 as a percentage of apparent consumption  28 28 25 29 29   \n",
       "59                                                                                                                                                                                                                                                                                                                                                                                                                                                                                                                                                                     import reliance5 as a percentage of apparent consumption  1 1 1 (2) (2)  \n",
       "60                                                                                                                                                                                                                                                                                                                                                                                                                                                                                                                                                                        import reliance3 as a percentage of apparent consumption  E E E E E   \n",
       "61                                                                                                                                                                                                                                                                                                                                                                                                                                                                                                                                                              import reliance5 as a percentage of apparent consumption  100 100 100 100 100   \n",
       "62                                                                                                                                                                                                                                                                                                                                                                                                                                                                                                                                                               import reliance6 as a percentage of apparent consumption  >75 >50 >75 >50 >50  \n",
       "63                                                                                                                                                                                                                                                                                                                                                                                                                                                                      import reliance6 as a percentage of apparent consumption:  \\nFerrosilicon, all grades  <50 <50 >50 <50 >50\\nSilicon metal2 <25 <50 <50 <25 <50\\nTotal  32 40 42 34 45   \n",
       "64                                                                                                                                                                                                                                                                                                                                                                                                                                                                                                                                                                   import reliance7 as a percentage of apparent consumption  73 74 80 76 69   \n",
       "65                                                                                                                                                                                                                                                                                                                                                                                                                                                                                                                                                                        import reliance4 as a percentage of apparent consumption  E E E E E   \n",
       "66                                                                                                                                                                                                                                                                                                                                                                                                                                                                                                                                                                        import reliance5 as a percentage of apparent consumption  1 2 1 1 1   \n",
       "67                  import reliance5 as a percentage of apparent consumption \\n(based on value)  82 82 80 82 82 \\nGranite only, sold or used by producers:  \\nQuantity  484 430 436 464 470 \\nValue, million dollars  108 105 110 128 130 \\nImports, value, million dollars  915 862 794 903 910 \\nExports, value, million dollars  19 17 13 11 13 \\nConsumption, apparent, value, million dollars3 1,000  950 892 1,020 1,000  \\nPrice  Variable, depending on type of product  \\nEmployment, quarry and mill, number4 800 800 800 800 800 \\nNet import reliance5 as a percentage of apparent consumption \\n(based on value)  89 89 88 87 87   \n",
       "68                                                                                                                                                                                                                                                                                                                                                                                                                                                                                                                                                              import reliance4 as a percentage of apparent consumption  100 100 100 100 100   \n",
       "69                                                                                                                                                                                                                                                                                                                                                                                                                                                                                                                                                                     import reliance2 as a percentage of apparent consumption  7 6 21 15 13   \n",
       "70                                                                                                                                                                                                                                                                                                                                                                                                                                                                                                                                                                       import reliance5 as a percentage of apparent consumption  9 9 1 8 19   \n",
       "71                                                                                                                                                                                                                                                                                                                                                                                                                                                                                                                                                              import reliance5 as a percentage of apparent consumption  100 100 100 100 100   \n",
       "72                                                                                                                                                                                                                                                                                                                                                                                                                                                                                                                                                               import reliance6 as a percentage of apparent consumption  >95 >95 >95 >95 >75  \n",
       "73                                                                                                                                                                                                                                                                                                                                                                                                                                                                                                                                                                  import reliance4 as a percentage of estimated consumption  NA NA NA NA NA   \n",
       "74                                                                                                                                                                                                                                                                                                                                                                                                                                                                                                                                                                 import reliance6 as a percentage of apparent \\nconsumption  NA NA NA NA NA   \n",
       "75                                                                                                                                                                                                                                                                                                                                                                                                                                                                                                                                                        import reliance4 as a percentage of apparent consumption, \\nrefined  77 76 76 81 77   \n",
       "76   import reliance5 as a percentage of \\napparent consumption  >50 >50 >50 >95 >95\\nTiO2 pigment:  \\nProduction  1,150,000  1,000,000  1,000,000  1,100,000  1,100,000  \\nImports for consumption  268,000  226,000  262,000 251,000  260,000  \\nExports  528,000  401,000  386,000  494,000  420,000  \\nConsumption, apparent2 890,000 825,000 876,000 857,000 940,000 \\nPrice, dollars per metric ton4 2,730  2,750  2,710  2,920  3,400 \\nProducer price index (1982=100), yearend6 205 NA NA NA NA \\nEmployment, numbere 3,050  3,050  3,100  3,200  3,200  \\nNet import reliance5 as a percentage of \\napparent consumption  E E E E E   \n",
       "77                                                                                                                                                                                                                                                                                                                                                                                                                                                                                                                                                                   import reliance7 as a percentage of apparent consumption  91 92 89 90 81   \n",
       "78                                                                                                                                                                                                                                                                                                                                                                                                                                                                                                                                                               import reliance7 as a percentage of apparent consumption  >50 >50 >50 >50 >50  \n",
       "79                                                                                                                                                                                                                                                                                                                                                                                                                                                                                                                                                                   import reliance9 as a percentage of apparent consumption  78 65 62 62 54   \n",
       "80                                                                                                                                                                                                                                                                                                                                                                                                                                                                                                                                                              import reliance4 as a percentage of apparent \\nconsumptione, 5 20 20 20 20 20   \n",
       "81                                                                                                                                                                                                                                                                                                                                                                                                                                                                                                                                                           import reliance6, 7 as a percentage of apparent consumption  100 100 100 100 100   \n",
       "82                                                                                                                                                                                                                                                                                                                                                                                                                                                                                                                                                                        import reliance4 as a percentage of apparent consumption  E E E E E   \n",
       "83                                                                                                                                                                                                                                                                                                                                                                                                                                                                                                               import reliance7 as a percentage of apparent consumption : \\nOres and concentrates  E E E E E \\nRefined zinc  87 88 79 76 76   \n",
       "84                                                                                                                                                                                                                                                                                                                                                                                                                                                                                                  import reliance6 as a percentage of apparent \\nconsumption:  \\nZirconium ores and concentrates  E E <25 <25 <50 \\nHafnium  NA NA NA NA NA   "
      ]
     },
     "execution_count": 132,
     "metadata": {},
     "output_type": "execute_result"
    }
   ],
   "source": [
    "import PyPDF2\n",
    "import re\n",
    "\n",
    "# Open the PDF file\n",
    "pdf_file = open('data/mcs2023.pdf', 'rb')\n",
    "\n",
    "# Create a PDF reader object\n",
    "pdf_reader = PyPDF2.PdfReader(pdf_file)\n",
    "\n",
    "# Initialize an empty list to store extracted text\n",
    "text_data = []\n",
    "mineral_data = []\n",
    "\n",
    "# Iterate through each page in the PDF\n",
    "for page in range(len(pdf_reader.pages)):\n",
    "    # Get the text content of the current page\n",
    "    page = pdf_reader.pages[page]\n",
    "    text = page.extract_text()\n",
    "    \n",
    "    # Use regex to find the pattern \"\\nNet.*?\\nRecycling\"\n",
    "    matches = re.findall(r'\\nNet(.*?)\\nRecycling', text, re.DOTALL)\n",
    "    \n",
    "    # If matches are found, find the mineral and add the sources to the text_data variable\n",
    "    if matches:\n",
    "        # Finding the mineral\n",
    "        # Find the position of ']' in the page\n",
    "        end_index = text.find(']')\n",
    "\n",
    "        # Extract the text after ']' and before the line break\n",
    "        mineral = text[end_index + 1: text.find('\\n')]\n",
    "        mineral = mineral.strip()\n",
    "\n",
    "        # Add to mineral data\n",
    "        mineral_data.append(mineral)\n",
    "\n",
    "        # Add to text_data\n",
    "        text_data.extend(matches)\n",
    "\n",
    "# Close the PDF file\n",
    "pdf_file.close()\n",
    "\n",
    "# Create DataFrames from the extracted data\n",
    "import pandas as pd\n",
    "\n",
    "sources = pd.DataFrame(text_data, columns=['Extracted_Text'])\n",
    "mins = pd.DataFrame(mineral_data, columns=['Extracted_Text'])\n",
    "\n",
    "# Concatenate DataFrames\n",
    "minerals = pd.concat([mins, sources], axis=1)\n",
    "\n",
    "# Display the DataFrame\n",
    "minerals\n"
   ]
  },
  {
   "cell_type": "markdown",
   "metadata": {},
   "source": [
    "### Actual Used\n",
    "\n",
    "Source: https://pubs.usgs.gov/publication/mcs2023\n",
    "\n",
    "Click on Mineral Commodity Summaries Prior to 2023\n",
    "\n",
    "Takes you here: https://pubs.usgs.gov/periodicals/mcs2023/mcs2023.pdf\n"
   ]
  },
  {
   "cell_type": "code",
   "execution_count": 116,
   "metadata": {},
   "outputs": [
    {
     "data": {
      "text/html": [
       "<div>\n",
       "<style scoped>\n",
       "    .dataframe tbody tr th:only-of-type {\n",
       "        vertical-align: middle;\n",
       "    }\n",
       "\n",
       "    .dataframe tbody tr th {\n",
       "        vertical-align: top;\n",
       "    }\n",
       "\n",
       "    .dataframe thead th {\n",
       "        text-align: right;\n",
       "    }\n",
       "</style>\n",
       "<table border=\"1\" class=\"dataframe\">\n",
       "  <thead>\n",
       "    <tr style=\"text-align: right;\">\n",
       "      <th></th>\n",
       "      <th>Mineral</th>\n",
       "      <th>Percentage Reliant</th>\n",
       "      <th>Major Sources</th>\n",
       "    </tr>\n",
       "  </thead>\n",
       "  <tbody>\n",
       "    <tr>\n",
       "      <th>0</th>\n",
       "      <td>ARSENIC</td>\n",
       "      <td>100</td>\n",
       "      <td>China, Morocco, Belgium</td>\n",
       "    </tr>\n",
       "    <tr>\n",
       "      <th>1</th>\n",
       "      <td>ASBESTOS</td>\n",
       "      <td>100</td>\n",
       "      <td>Brazil, Russia</td>\n",
       "    </tr>\n",
       "    <tr>\n",
       "      <th>2</th>\n",
       "      <td>CESIUM</td>\n",
       "      <td>100</td>\n",
       "      <td>Germany</td>\n",
       "    </tr>\n",
       "    <tr>\n",
       "      <th>3</th>\n",
       "      <td>FLUORSPAR</td>\n",
       "      <td>100</td>\n",
       "      <td>Mexico, Vietnam, South Africa, Canada</td>\n",
       "    </tr>\n",
       "    <tr>\n",
       "      <th>4</th>\n",
       "      <td>GALLIUM</td>\n",
       "      <td>100</td>\n",
       "      <td>China, Germany, Japan, Ukraine</td>\n",
       "    </tr>\n",
       "    <tr>\n",
       "      <th>5</th>\n",
       "      <td>GRAPHITE</td>\n",
       "      <td>100</td>\n",
       "      <td>China, Mexico, Canada, Madagascar</td>\n",
       "    </tr>\n",
       "    <tr>\n",
       "      <th>6</th>\n",
       "      <td>INDIUM</td>\n",
       "      <td>100</td>\n",
       "      <td>Republic of Korea, Canada, China, France</td>\n",
       "    </tr>\n",
       "    <tr>\n",
       "      <th>7</th>\n",
       "      <td>MANGANESE</td>\n",
       "      <td>100</td>\n",
       "      <td>Gabon, South Africa, Australia, Georgia</td>\n",
       "    </tr>\n",
       "    <tr>\n",
       "      <th>8</th>\n",
       "      <td>MICA</td>\n",
       "      <td>100</td>\n",
       "      <td>China, Brazil, Belgium, Austria</td>\n",
       "    </tr>\n",
       "    <tr>\n",
       "      <th>9</th>\n",
       "      <td>NIOBIUM</td>\n",
       "      <td>100</td>\n",
       "      <td>Brazil, Canada</td>\n",
       "    </tr>\n",
       "    <tr>\n",
       "      <th>10</th>\n",
       "      <td>RUBIDIUM</td>\n",
       "      <td>100</td>\n",
       "      <td>Germany</td>\n",
       "    </tr>\n",
       "    <tr>\n",
       "      <th>11</th>\n",
       "      <td>SCANDIUM</td>\n",
       "      <td>100</td>\n",
       "      <td>Europe, China, Japan, Philippines</td>\n",
       "    </tr>\n",
       "    <tr>\n",
       "      <th>12</th>\n",
       "      <td>STRONTIUM</td>\n",
       "      <td>100</td>\n",
       "      <td>Mexico, Germany, China</td>\n",
       "    </tr>\n",
       "    <tr>\n",
       "      <th>13</th>\n",
       "      <td>TANTALUM</td>\n",
       "      <td>100</td>\n",
       "      <td>China, Germany, Australia, Indonesia</td>\n",
       "    </tr>\n",
       "    <tr>\n",
       "      <th>14</th>\n",
       "      <td>YTTRIUM</td>\n",
       "      <td>100</td>\n",
       "      <td>China, Germany, Republic of Korea, Japan</td>\n",
       "    </tr>\n",
       "    <tr>\n",
       "      <th>15</th>\n",
       "      <td>GEMSTONES</td>\n",
       "      <td>99</td>\n",
       "      <td>India, Israel, Belgium, South Africa</td>\n",
       "    </tr>\n",
       "    <tr>\n",
       "      <th>16</th>\n",
       "      <td>BISMUTH</td>\n",
       "      <td>96</td>\n",
       "      <td>China, Republic of Korea, Mexico, Belgium</td>\n",
       "    </tr>\n",
       "    <tr>\n",
       "      <th>17</th>\n",
       "      <td>NEPHELINE SYENITE</td>\n",
       "      <td>95</td>\n",
       "      <td>Canada</td>\n",
       "    </tr>\n",
       "    <tr>\n",
       "      <th>18</th>\n",
       "      <td>RARE EARTHS</td>\n",
       "      <td>None</td>\n",
       "      <td>None</td>\n",
       "    </tr>\n",
       "    <tr>\n",
       "      <th>19</th>\n",
       "      <td>None</td>\n",
       "      <td>95</td>\n",
       "      <td>China, Malaysia, Estonia, Japan</td>\n",
       "    </tr>\n",
       "    <tr>\n",
       "      <th>20</th>\n",
       "      <td>TITANIUM</td>\n",
       "      <td>95</td>\n",
       "      <td>Japan, Kazakhstan, Ukraine</td>\n",
       "    </tr>\n",
       "    <tr>\n",
       "      <th>21</th>\n",
       "      <td>POTASH</td>\n",
       "      <td>94</td>\n",
       "      <td>Canada, Russia, Belarus</td>\n",
       "    </tr>\n",
       "    <tr>\n",
       "      <th>22</th>\n",
       "      <td>DIAMOND</td>\n",
       "      <td>89</td>\n",
       "      <td>South Africa, Congo (Kinshasa), India, Sierra ...</td>\n",
       "    </tr>\n",
       "    <tr>\n",
       "      <th>23</th>\n",
       "      <td>IRON OXIDE PIGMENTS</td>\n",
       "      <td>87</td>\n",
       "      <td>China, Germany, Brazil, Canada</td>\n",
       "    </tr>\n",
       "    <tr>\n",
       "      <th>24</th>\n",
       "      <td>ANTIMONY</td>\n",
       "      <td>83</td>\n",
       "      <td>China, Belgium, India</td>\n",
       "    </tr>\n",
       "    <tr>\n",
       "      <th>25</th>\n",
       "      <td>CHROMIUM</td>\n",
       "      <td>83</td>\n",
       "      <td>South Africa, Kazakhstan, Russia, Germany</td>\n",
       "    </tr>\n",
       "    <tr>\n",
       "      <th>26</th>\n",
       "      <td>STONE</td>\n",
       "      <td>82</td>\n",
       "      <td>Brazil, China, Italy, India</td>\n",
       "    </tr>\n",
       "    <tr>\n",
       "      <th>27</th>\n",
       "      <td>PEAT</td>\n",
       "      <td>81</td>\n",
       "      <td>Canada</td>\n",
       "    </tr>\n",
       "    <tr>\n",
       "      <th>28</th>\n",
       "      <td>TITANIUM MINERAL CONCENTRATES</td>\n",
       "      <td>81</td>\n",
       "      <td>South Africa, Australia, Madagascar, Canada</td>\n",
       "    </tr>\n",
       "    <tr>\n",
       "      <th>29</th>\n",
       "      <td>ABRASIVES</td>\n",
       "      <td>79</td>\n",
       "      <td>China, Brazil, Netherlands, South Africa</td>\n",
       "    </tr>\n",
       "    <tr>\n",
       "      <th>30</th>\n",
       "      <td>TIN</td>\n",
       "      <td>77</td>\n",
       "      <td>Peru, Indonesia, Bolivia, Malaysia</td>\n",
       "    </tr>\n",
       "    <tr>\n",
       "      <th>31</th>\n",
       "      <td>COBALT</td>\n",
       "      <td>76</td>\n",
       "      <td>Norway, Canada, Finland, Japan</td>\n",
       "    </tr>\n",
       "    <tr>\n",
       "      <th>32</th>\n",
       "      <td>ZINC</td>\n",
       "      <td>76</td>\n",
       "      <td>Canada, Mexico, Peru, Spain</td>\n",
       "    </tr>\n",
       "    <tr>\n",
       "      <th>33</th>\n",
       "      <td>ABRASIVES</td>\n",
       "      <td>75</td>\n",
       "      <td>China, Canada, Brazil, Austria</td>\n",
       "    </tr>\n",
       "    <tr>\n",
       "      <th>34</th>\n",
       "      <td>BARITE</td>\n",
       "      <td>75</td>\n",
       "      <td>China, India, Morocco, Mexico</td>\n",
       "    </tr>\n",
       "    <tr>\n",
       "      <th>35</th>\n",
       "      <td>BAUXITE</td>\n",
       "      <td>75</td>\n",
       "      <td>Jamaica, Brazil, Guyana, Turkey</td>\n",
       "    </tr>\n",
       "    <tr>\n",
       "      <th>36</th>\n",
       "      <td>TELLURIUM</td>\n",
       "      <td>75</td>\n",
       "      <td>Canada, Germany, China, Philippines</td>\n",
       "    </tr>\n",
       "    <tr>\n",
       "      <th>37</th>\n",
       "      <td>GARNET</td>\n",
       "      <td>69</td>\n",
       "      <td>South Africa, China, India, Australia</td>\n",
       "    </tr>\n",
       "    <tr>\n",
       "      <th>38</th>\n",
       "      <td>RHENIUM</td>\n",
       "      <td>69</td>\n",
       "      <td>Chile, Canada, Germany, Kazakhstan</td>\n",
       "    </tr>\n",
       "    <tr>\n",
       "      <th>39</th>\n",
       "      <td>SILVER</td>\n",
       "      <td>69</td>\n",
       "      <td>Mexico, Canada, Poland, Chile</td>\n",
       "    </tr>\n",
       "    <tr>\n",
       "      <th>40</th>\n",
       "      <td>PLATINUM</td>\n",
       "      <td>66</td>\n",
       "      <td>South Africa, Germany, Switzerland, Italy</td>\n",
       "    </tr>\n",
       "    <tr>\n",
       "      <th>41</th>\n",
       "      <td>DIAMOND</td>\n",
       "      <td>62</td>\n",
       "      <td>China, Republic of Korea, Ireland, Russia</td>\n",
       "    </tr>\n",
       "    <tr>\n",
       "      <th>42</th>\n",
       "      <td>ALUMINA</td>\n",
       "      <td>59</td>\n",
       "      <td>Brazil, Australia, Jamaica, Canada</td>\n",
       "    </tr>\n",
       "    <tr>\n",
       "      <th>43</th>\n",
       "      <td>NICKEL</td>\n",
       "      <td>56</td>\n",
       "      <td>Canada, Norway, Australia, Finland</td>\n",
       "    </tr>\n",
       "    <tr>\n",
       "      <th>44</th>\n",
       "      <td>ALUMINUM</td>\n",
       "      <td>54</td>\n",
       "      <td>Canada, United Arab Emirates, Russia, China</td>\n",
       "    </tr>\n",
       "    <tr>\n",
       "      <th>45</th>\n",
       "      <td>VANADIUM</td>\n",
       "      <td>54</td>\n",
       "      <td>Canada, China, Brazil, South Africa</td>\n",
       "    </tr>\n",
       "    <tr>\n",
       "      <th>46</th>\n",
       "      <td>MAGNESIUM COMPOUNDS</td>\n",
       "      <td>53</td>\n",
       "      <td>China, Israel, Canada, Brazil</td>\n",
       "    </tr>\n",
       "    <tr>\n",
       "      <th>47</th>\n",
       "      <td>GERMANIUM</td>\n",
       "      <td>50</td>\n",
       "      <td>China, Belgium, Germany, Russia</td>\n",
       "    </tr>\n",
       "    <tr>\n",
       "      <th>48</th>\n",
       "      <td>IODINE</td>\n",
       "      <td>50</td>\n",
       "      <td>Chile, Japan</td>\n",
       "    </tr>\n",
       "    <tr>\n",
       "      <th>49</th>\n",
       "      <td>MAGNESIUM METAL</td>\n",
       "      <td>50</td>\n",
       "      <td>Canada, Israel, Mexico, Taiwan</td>\n",
       "    </tr>\n",
       "    <tr>\n",
       "      <th>50</th>\n",
       "      <td>SELENIUM</td>\n",
       "      <td>50</td>\n",
       "      <td>Philippines, Mexico, Germany, China</td>\n",
       "    </tr>\n",
       "    <tr>\n",
       "      <th>51</th>\n",
       "      <td>TUNGSTEN</td>\n",
       "      <td>50</td>\n",
       "      <td>China, Germany, Bolivia, Vietnam</td>\n",
       "    </tr>\n",
       "    <tr>\n",
       "      <th>52</th>\n",
       "      <td>ZIRCONIUM</td>\n",
       "      <td>50</td>\n",
       "      <td>South Africa, Senegal, Australia, Russia</td>\n",
       "    </tr>\n",
       "    <tr>\n",
       "      <th>53</th>\n",
       "      <td>SILICON</td>\n",
       "      <td>45</td>\n",
       "      <td>Russia, Brazil, Canada, Norway</td>\n",
       "    </tr>\n",
       "    <tr>\n",
       "      <th>54</th>\n",
       "      <td>LEAD</td>\n",
       "      <td>42</td>\n",
       "      <td>Canada, Mexico, Republic of Korea</td>\n",
       "    </tr>\n",
       "    <tr>\n",
       "      <th>55</th>\n",
       "      <td>COPPER</td>\n",
       "      <td>41</td>\n",
       "      <td>Chile, Canada, Mexico</td>\n",
       "    </tr>\n",
       "    <tr>\n",
       "      <th>56</th>\n",
       "      <td>FELDSPAR</td>\n",
       "      <td>39</td>\n",
       "      <td>Turkey, Mexico</td>\n",
       "    </tr>\n",
       "    <tr>\n",
       "      <th>57</th>\n",
       "      <td>SALT</td>\n",
       "      <td>29</td>\n",
       "      <td>Chile, Canada, Mexico, Egypt</td>\n",
       "    </tr>\n",
       "    <tr>\n",
       "      <th>58</th>\n",
       "      <td>PERLITE</td>\n",
       "      <td>28</td>\n",
       "      <td>Greece, China, Mexico</td>\n",
       "    </tr>\n",
       "    <tr>\n",
       "      <th>59</th>\n",
       "      <td>PALLADIUM</td>\n",
       "      <td>26</td>\n",
       "      <td>Russia, South Africa, Italy, Germany</td>\n",
       "    </tr>\n",
       "    <tr>\n",
       "      <th>60</th>\n",
       "      <td>LITHIUM</td>\n",
       "      <td>25</td>\n",
       "      <td>Argentina, Chile, China, Russia</td>\n",
       "    </tr>\n",
       "    <tr>\n",
       "      <th>61</th>\n",
       "      <td>BROMINE</td>\n",
       "      <td>25</td>\n",
       "      <td>Israel, Jordan, China</td>\n",
       "    </tr>\n",
       "    <tr>\n",
       "      <th>62</th>\n",
       "      <td>CADMIUM</td>\n",
       "      <td>25</td>\n",
       "      <td>Australia, Germany, China, Peru</td>\n",
       "    </tr>\n",
       "    <tr>\n",
       "      <th>63</th>\n",
       "      <td>MICA</td>\n",
       "      <td>24</td>\n",
       "      <td>Canada, China, India, Finland</td>\n",
       "    </tr>\n",
       "    <tr>\n",
       "      <th>64</th>\n",
       "      <td>CEMENT</td>\n",
       "      <td>21</td>\n",
       "      <td>Canada, Turkey, Greece, Mexico</td>\n",
       "    </tr>\n",
       "    <tr>\n",
       "      <th>65</th>\n",
       "      <td>VERMICULITE</td>\n",
       "      <td>20</td>\n",
       "      <td>South Africa, Brazil</td>\n",
       "    </tr>\n",
       "  </tbody>\n",
       "</table>\n",
       "</div>"
      ],
      "text/plain": [
       "                          Mineral Percentage Reliant  \\\n",
       "0                         ARSENIC                100   \n",
       "1                        ASBESTOS                100   \n",
       "2                          CESIUM                100   \n",
       "3                       FLUORSPAR                100   \n",
       "4                         GALLIUM                100   \n",
       "5                        GRAPHITE                100   \n",
       "6                          INDIUM                100   \n",
       "7                       MANGANESE                100   \n",
       "8                            MICA                100   \n",
       "9                         NIOBIUM                100   \n",
       "10                       RUBIDIUM                100   \n",
       "11                       SCANDIUM                100   \n",
       "12                      STRONTIUM                100   \n",
       "13                       TANTALUM                100   \n",
       "14                        YTTRIUM                100   \n",
       "15                      GEMSTONES                 99   \n",
       "16                        BISMUTH                 96   \n",
       "17              NEPHELINE SYENITE                 95   \n",
       "18                    RARE EARTHS               None   \n",
       "19                           None                 95   \n",
       "20                       TITANIUM                 95   \n",
       "21                         POTASH                 94   \n",
       "22                        DIAMOND                 89   \n",
       "23            IRON OXIDE PIGMENTS                 87   \n",
       "24                       ANTIMONY                 83   \n",
       "25                       CHROMIUM                 83   \n",
       "26                          STONE                 82   \n",
       "27                           PEAT                 81   \n",
       "28  TITANIUM MINERAL CONCENTRATES                 81   \n",
       "29                      ABRASIVES                 79   \n",
       "30                            TIN                 77   \n",
       "31                         COBALT                 76   \n",
       "32                           ZINC                 76   \n",
       "33                      ABRASIVES                 75   \n",
       "34                         BARITE                 75   \n",
       "35                        BAUXITE                 75   \n",
       "36                      TELLURIUM                 75   \n",
       "37                         GARNET                 69   \n",
       "38                        RHENIUM                 69   \n",
       "39                         SILVER                 69   \n",
       "40                       PLATINUM                 66   \n",
       "41                        DIAMOND                 62   \n",
       "42                        ALUMINA                 59   \n",
       "43                         NICKEL                 56   \n",
       "44                       ALUMINUM                 54   \n",
       "45                       VANADIUM                 54   \n",
       "46            MAGNESIUM COMPOUNDS                 53   \n",
       "47                      GERMANIUM                 50   \n",
       "48                         IODINE                 50   \n",
       "49                MAGNESIUM METAL                 50   \n",
       "50                       SELENIUM                 50   \n",
       "51                       TUNGSTEN                 50   \n",
       "52                      ZIRCONIUM                 50   \n",
       "53                        SILICON                 45   \n",
       "54                           LEAD                 42   \n",
       "55                         COPPER                 41   \n",
       "56                       FELDSPAR                 39   \n",
       "57                           SALT                 29   \n",
       "58                        PERLITE                 28   \n",
       "59                      PALLADIUM                 26   \n",
       "60                        LITHIUM                 25   \n",
       "61                        BROMINE                 25   \n",
       "62                        CADMIUM                 25   \n",
       "63                           MICA                 24   \n",
       "64                         CEMENT                 21   \n",
       "65                    VERMICULITE                 20   \n",
       "\n",
       "                                        Major Sources  \n",
       "0                             China, Morocco, Belgium  \n",
       "1                                      Brazil, Russia  \n",
       "2                                             Germany  \n",
       "3               Mexico, Vietnam, South Africa, Canada  \n",
       "4                      China, Germany, Japan, Ukraine  \n",
       "5                   China, Mexico, Canada, Madagascar  \n",
       "6            Republic of Korea, Canada, China, France  \n",
       "7             Gabon, South Africa, Australia, Georgia  \n",
       "8                     China, Brazil, Belgium, Austria  \n",
       "9                                      Brazil, Canada  \n",
       "10                                            Germany  \n",
       "11                  Europe, China, Japan, Philippines  \n",
       "12                             Mexico, Germany, China  \n",
       "13               China, Germany, Australia, Indonesia  \n",
       "14           China, Germany, Republic of Korea, Japan  \n",
       "15               India, Israel, Belgium, South Africa  \n",
       "16          China, Republic of Korea, Mexico, Belgium  \n",
       "17                                             Canada  \n",
       "18                                               None  \n",
       "19                    China, Malaysia, Estonia, Japan  \n",
       "20                         Japan, Kazakhstan, Ukraine  \n",
       "21                            Canada, Russia, Belarus  \n",
       "22  South Africa, Congo (Kinshasa), India, Sierra ...  \n",
       "23                     China, Germany, Brazil, Canada  \n",
       "24                              China, Belgium, India  \n",
       "25          South Africa, Kazakhstan, Russia, Germany  \n",
       "26                        Brazil, China, Italy, India  \n",
       "27                                             Canada  \n",
       "28        South Africa, Australia, Madagascar, Canada  \n",
       "29           China, Brazil, Netherlands, South Africa  \n",
       "30                 Peru, Indonesia, Bolivia, Malaysia  \n",
       "31                     Norway, Canada, Finland, Japan  \n",
       "32                        Canada, Mexico, Peru, Spain  \n",
       "33                     China, Canada, Brazil, Austria  \n",
       "34                      China, India, Morocco, Mexico  \n",
       "35                    Jamaica, Brazil, Guyana, Turkey  \n",
       "36                Canada, Germany, China, Philippines  \n",
       "37              South Africa, China, India, Australia  \n",
       "38                 Chile, Canada, Germany, Kazakhstan  \n",
       "39                      Mexico, Canada, Poland, Chile  \n",
       "40          South Africa, Germany, Switzerland, Italy  \n",
       "41          China, Republic of Korea, Ireland, Russia  \n",
       "42                 Brazil, Australia, Jamaica, Canada  \n",
       "43                 Canada, Norway, Australia, Finland  \n",
       "44        Canada, United Arab Emirates, Russia, China  \n",
       "45                Canada, China, Brazil, South Africa  \n",
       "46                      China, Israel, Canada, Brazil  \n",
       "47                    China, Belgium, Germany, Russia  \n",
       "48                                       Chile, Japan  \n",
       "49                     Canada, Israel, Mexico, Taiwan  \n",
       "50                Philippines, Mexico, Germany, China  \n",
       "51                   China, Germany, Bolivia, Vietnam  \n",
       "52           South Africa, Senegal, Australia, Russia  \n",
       "53                     Russia, Brazil, Canada, Norway  \n",
       "54                  Canada, Mexico, Republic of Korea  \n",
       "55                              Chile, Canada, Mexico  \n",
       "56                                     Turkey, Mexico  \n",
       "57                       Chile, Canada, Mexico, Egypt  \n",
       "58                              Greece, China, Mexico  \n",
       "59               Russia, South Africa, Italy, Germany  \n",
       "60                    Argentina, Chile, China, Russia  \n",
       "61                              Israel, Jordan, China  \n",
       "62                    Australia, Germany, China, Peru  \n",
       "63                      Canada, China, India, Finland  \n",
       "64                     Canada, Turkey, Greece, Mexico  \n",
       "65                               South Africa, Brazil  "
      ]
     },
     "execution_count": 116,
     "metadata": {},
     "output_type": "execute_result"
    }
   ],
   "source": [
    "data = '''\n",
    "ARSENIC, all forms 100 China, Morocco, Belgium\n",
    "ASBESTOS 100 Brazil, Russia\n",
    "CESIUM 100 Germany\n",
    "FLUORSPAR 100 Mexico, Vietnam, South Africa, Canada\n",
    "GALLIUM 100 China, Germany, Japan, Ukraine\n",
    "GRAPHITE (NATURAL) 100 China, Mexico, Canada, Madagascar\n",
    "INDIUM 100 Republic of Korea, Canada, China, France\n",
    "MANGANESE 100 Gabon, South Africa, Australia, Georgia\n",
    "MICA (NATURAL), sheet 100 China, Brazil, Belgium, Austria\n",
    "NIOBIUM (COLUMBIUM) 100 Brazil, Canada \n",
    "RUBIDIUM 100 Germany\n",
    "SCANDIUM 100 Europe, China, Japan, Philippines\n",
    "STRONTIUM 100 Mexico, Germany, China\n",
    "TANTALUM 100 China, Germany, Australia, Indonesia\n",
    "YTTRIUM 100 China, Germany, Republic of Korea, Japan\n",
    "GEMSTONES 99 India, Israel, Belgium, South Africa\n",
    "BISMUTH 96 China, Republic of Korea, Mexico, Belgium\n",
    "NEPHELINE SYENITE >95 Canada\n",
    "RARE EARTHS,3\n",
    " compounds and metals >95 China, Malaysia, Estonia, Japan\n",
    "TITANIUM, sponge metal >95 Japan, Kazakhstan, Ukraine\n",
    "POTASH 94 Canada, Russia, Belarus\n",
    "DIAMOND (INDUSTRIAL), stones 89 South Africa, Congo (Kinshasa), India, Sierra Leone\n",
    "IRON OXIDE PIGMENTS, natural and synthetic 87 China, Germany, Brazil, Canada\n",
    "ANTIMONY, metal and oxide 83 China, Belgium, India \n",
    "CHROMIUM, all forms 83 South Africa, Kazakhstan, Russia, Germany\n",
    "STONE (DIMENSION) 82 Brazil, China, Italy, India\n",
    "PEAT 81 Canada\n",
    "TITANIUM MINERAL CONCENTRATES 81 South Africa, Australia, Madagascar, Canada\n",
    "ABRASIVES, silicon carbide 79 China, Brazil, Netherlands, South Africa \n",
    "TIN, refined 77 Peru, Indonesia, Bolivia, Malaysia\n",
    "COBALT 76 Norway, Canada, Finland, Japan\n",
    "ZINC, refined 76 Canada, Mexico, Peru, Spain\n",
    "ABRASIVES, fused aluminum oxide >75 China, Canada, Brazil, Austria\n",
    "BARITE >75 China, India, Morocco, Mexico\n",
    "BAUXITE >75 Jamaica, Brazil, Guyana, Turkey\n",
    "TELLURIUM >75 Canada, Germany, China, Philippines\n",
    "GARNET (INDUSTRIAL) 69 South Africa, China, India, Australia\n",
    "RHENIUM 69 Chile, Canada, Germany, Kazakhstan\n",
    "SILVER 69 Mexico, Canada, Poland, Chile\n",
    "PLATINUM 66 South Africa, Germany, Switzerland, Italy\n",
    "DIAMOND (INDUSTRIAL), bort, grit, dust, and powder 62 China, Republic of Korea, Ireland, Russia\n",
    "ALUMINA 59 Brazil, Australia, Jamaica, Canada\n",
    "NICKEL 56 Canada, Norway, Australia, Finland\n",
    "ALUMINUM 54 Canada, United Arab Emirates, Russia, China\n",
    "VANADIUM 54 Canada, China, Brazil, South Africa\n",
    "MAGNESIUM COMPOUNDS 53 China, Israel, Canada, Brazil\n",
    "GERMANIUM >50 China, Belgium, Germany, Russia\n",
    "IODINE >50 Chile, Japan\n",
    "MAGNESIUM METAL >50 Canada, Israel, Mexico, Taiwan\n",
    "SELENIUM >50 Philippines, Mexico, Germany, China\n",
    "TUNGSTEN >50 China, Germany, Bolivia, Vietnam\n",
    "ZIRCONIUM, ores and concentrates <50 South Africa, Senegal, Australia, Russia\n",
    "SILICON, metal and ferrosilicon 45 Russia, Brazil, Canada, Norway\n",
    "LEAD, refined 42 Canada, Mexico, Republic of Korea\n",
    "COPPER, refined 41 Chile, Canada, Mexico\n",
    "FELDSPAR 39 Turkey, Mexico\n",
    "SALT 29 Chile, Canada, Mexico, Egypt\n",
    "PERLITE 28 Greece, China, Mexico\n",
    "PALLADIUM 26 Russia, South Africa, Italy, Germany \n",
    "LITHIUM >25 Argentina, Chile, China, Russia\n",
    "BROMINE <25 Israel, Jordan, China\n",
    "CADMIUM, unwrought <25 Australia, Germany, China, Peru\n",
    "MICA (NATURAL), scrap and flake 24 Canada, China, India, Finland \n",
    "CEMENT 21 Canada, Turkey, Greece, Mexico\n",
    "VERMICULITE 20 South Africa, Brazil\n",
    "'''\n",
    "\n",
    "\n",
    "# Split the text into individual lines\n",
    "lines = data.strip().split('\\n')\n",
    "\n",
    "# Initialize lists to store data\n",
    "mineral_list = []\n",
    "percentage_list = []\n",
    "sources_list = []\n",
    "\n",
    "# Extracting information and populating lists\n",
    "for line in lines:\n",
    "    # Extracting mineral name\n",
    "    mineral_match = re.match(r'^([A-Z\\s]+[A-Z])(?:[\\s\\,].*)?$', line)\n",
    "    if mineral_match:\n",
    "        mineral_list.append(mineral_match.group(1))\n",
    "    else:\n",
    "        mineral_list.append(None)\n",
    "\n",
    "    # Extracting percentage and sources\n",
    "    percentage_sources_match = re.match(r'^.*?(\\d+\\s*[><]*\\d*).*?([A-Z][a-zA-Z\\s\\,\\(\\)\\-]+)$', line)\n",
    "    if percentage_sources_match:\n",
    "        percentage_list.append(percentage_sources_match.group(1).strip())\n",
    "        sources_list.append(percentage_sources_match.group(2).strip())\n",
    "    else:\n",
    "        percentage_list.append(None)\n",
    "        sources_list.append(None)\n",
    "\n",
    "# Create DataFrame\n",
    "mineral_chart = pd.DataFrame({\n",
    "    'Mineral': mineral_list,\n",
    "    'Percentage Reliant': percentage_list,\n",
    "    'Major Sources': sources_list\n",
    "})\n",
    "\n",
    "mineral_chart\n"
   ]
  },
  {
   "cell_type": "code",
   "execution_count": null,
   "metadata": {},
   "outputs": [],
   "source": [
    "# Set display options to show all columns and rows\n",
    "pd.set_option('display.max_columns', None)\n",
    "pd.set_option('display.max_rows', None)\n",
    "\n",
    "mineral_chart\n"
   ]
  },
  {
   "cell_type": "code",
   "execution_count": 111,
   "metadata": {},
   "outputs": [],
   "source": [
    "pd.set_option('display.max_columns', None)\n",
    "pd.set_option('display.max_rows', None)\n",
    "pd.reset_option('display.max_columns')\n",
    "pd.reset_option('display.max_rows')\n",
    "\n"
   ]
  },
  {
   "cell_type": "code",
   "execution_count": 117,
   "metadata": {},
   "outputs": [
    {
     "data": {
      "text/html": [
       "<div>\n",
       "<style scoped>\n",
       "    .dataframe tbody tr th:only-of-type {\n",
       "        vertical-align: middle;\n",
       "    }\n",
       "\n",
       "    .dataframe tbody tr th {\n",
       "        vertical-align: top;\n",
       "    }\n",
       "\n",
       "    .dataframe thead th {\n",
       "        text-align: right;\n",
       "    }\n",
       "</style>\n",
       "<table border=\"1\" class=\"dataframe\">\n",
       "  <thead>\n",
       "    <tr style=\"text-align: right;\">\n",
       "      <th></th>\n",
       "      <th>Mineral</th>\n",
       "      <th>Percentage Reliant</th>\n",
       "      <th>Major Sources</th>\n",
       "    </tr>\n",
       "  </thead>\n",
       "  <tbody>\n",
       "    <tr>\n",
       "      <th>0</th>\n",
       "      <td>ARSENIC</td>\n",
       "      <td>100</td>\n",
       "      <td>China, Morocco, Belgium</td>\n",
       "    </tr>\n",
       "    <tr>\n",
       "      <th>1</th>\n",
       "      <td>ASBESTOS</td>\n",
       "      <td>100</td>\n",
       "      <td>Brazil, Russia</td>\n",
       "    </tr>\n",
       "    <tr>\n",
       "      <th>2</th>\n",
       "      <td>CESIUM</td>\n",
       "      <td>100</td>\n",
       "      <td>Germany</td>\n",
       "    </tr>\n",
       "    <tr>\n",
       "      <th>3</th>\n",
       "      <td>FLUORSPAR</td>\n",
       "      <td>100</td>\n",
       "      <td>Mexico, Vietnam, South Africa, Canada</td>\n",
       "    </tr>\n",
       "    <tr>\n",
       "      <th>4</th>\n",
       "      <td>GALLIUM</td>\n",
       "      <td>100</td>\n",
       "      <td>China, Germany, Japan, Ukraine</td>\n",
       "    </tr>\n",
       "    <tr>\n",
       "      <th>5</th>\n",
       "      <td>GRAPHITE</td>\n",
       "      <td>100</td>\n",
       "      <td>China, Mexico, Canada, Madagascar</td>\n",
       "    </tr>\n",
       "    <tr>\n",
       "      <th>6</th>\n",
       "      <td>INDIUM</td>\n",
       "      <td>100</td>\n",
       "      <td>Republic of Korea, Canada, China, France</td>\n",
       "    </tr>\n",
       "    <tr>\n",
       "      <th>7</th>\n",
       "      <td>MANGANESE</td>\n",
       "      <td>100</td>\n",
       "      <td>Gabon, South Africa, Australia, Georgia</td>\n",
       "    </tr>\n",
       "    <tr>\n",
       "      <th>8</th>\n",
       "      <td>MICA (NATURAL), sheet</td>\n",
       "      <td>100</td>\n",
       "      <td>China, Brazil, Belgium, Austria</td>\n",
       "    </tr>\n",
       "    <tr>\n",
       "      <th>9</th>\n",
       "      <td>NIOBIUM</td>\n",
       "      <td>100</td>\n",
       "      <td>Brazil, Canada</td>\n",
       "    </tr>\n",
       "    <tr>\n",
       "      <th>10</th>\n",
       "      <td>RUBIDIUM</td>\n",
       "      <td>100</td>\n",
       "      <td>Germany</td>\n",
       "    </tr>\n",
       "    <tr>\n",
       "      <th>11</th>\n",
       "      <td>SCANDIUM</td>\n",
       "      <td>100</td>\n",
       "      <td>Europe, China, Japan, Philippines</td>\n",
       "    </tr>\n",
       "    <tr>\n",
       "      <th>12</th>\n",
       "      <td>STRONTIUM</td>\n",
       "      <td>100</td>\n",
       "      <td>Mexico, Germany, China</td>\n",
       "    </tr>\n",
       "    <tr>\n",
       "      <th>13</th>\n",
       "      <td>TANTALUM</td>\n",
       "      <td>100</td>\n",
       "      <td>China, Germany, Australia, Indonesia</td>\n",
       "    </tr>\n",
       "    <tr>\n",
       "      <th>14</th>\n",
       "      <td>YTTRIUM</td>\n",
       "      <td>100</td>\n",
       "      <td>China, Germany, Republic of Korea, Japan</td>\n",
       "    </tr>\n",
       "    <tr>\n",
       "      <th>15</th>\n",
       "      <td>GEMSTONES</td>\n",
       "      <td>99</td>\n",
       "      <td>India, Israel, Belgium, South Africa</td>\n",
       "    </tr>\n",
       "    <tr>\n",
       "      <th>16</th>\n",
       "      <td>BISMUTH</td>\n",
       "      <td>96</td>\n",
       "      <td>China, Republic of Korea, Mexico, Belgium</td>\n",
       "    </tr>\n",
       "    <tr>\n",
       "      <th>17</th>\n",
       "      <td>NEPHELINE SYENITE</td>\n",
       "      <td>95</td>\n",
       "      <td>Canada</td>\n",
       "    </tr>\n",
       "    <tr>\n",
       "      <th>18</th>\n",
       "      <td>RARE EARTHS</td>\n",
       "      <td>95</td>\n",
       "      <td>China, Malaysia, Estonia, Japan</td>\n",
       "    </tr>\n",
       "    <tr>\n",
       "      <th>20</th>\n",
       "      <td>TITANIUM</td>\n",
       "      <td>95</td>\n",
       "      <td>Japan, Kazakhstan, Ukraine</td>\n",
       "    </tr>\n",
       "    <tr>\n",
       "      <th>21</th>\n",
       "      <td>POTASH</td>\n",
       "      <td>94</td>\n",
       "      <td>Canada, Russia, Belarus</td>\n",
       "    </tr>\n",
       "    <tr>\n",
       "      <th>22</th>\n",
       "      <td>DIAMOND (INDUSTRIAL), stones</td>\n",
       "      <td>89</td>\n",
       "      <td>South Africa, Congo (Kinshasa), India, Sierra ...</td>\n",
       "    </tr>\n",
       "    <tr>\n",
       "      <th>23</th>\n",
       "      <td>IRON OXIDE PIGMENTS</td>\n",
       "      <td>87</td>\n",
       "      <td>China, Germany, Brazil, Canada</td>\n",
       "    </tr>\n",
       "    <tr>\n",
       "      <th>24</th>\n",
       "      <td>ANTIMONY</td>\n",
       "      <td>83</td>\n",
       "      <td>China, Belgium, India</td>\n",
       "    </tr>\n",
       "    <tr>\n",
       "      <th>25</th>\n",
       "      <td>CHROMIUM</td>\n",
       "      <td>83</td>\n",
       "      <td>South Africa, Kazakhstan, Russia, Germany</td>\n",
       "    </tr>\n",
       "    <tr>\n",
       "      <th>26</th>\n",
       "      <td>STONE</td>\n",
       "      <td>82</td>\n",
       "      <td>Brazil, China, Italy, India</td>\n",
       "    </tr>\n",
       "    <tr>\n",
       "      <th>27</th>\n",
       "      <td>PEAT</td>\n",
       "      <td>81</td>\n",
       "      <td>Canada</td>\n",
       "    </tr>\n",
       "    <tr>\n",
       "      <th>28</th>\n",
       "      <td>TITANIUM MINERAL CONCENTRATES</td>\n",
       "      <td>81</td>\n",
       "      <td>South Africa, Australia, Madagascar, Canada</td>\n",
       "    </tr>\n",
       "    <tr>\n",
       "      <th>29</th>\n",
       "      <td>ABRASIVES, silicon carbide</td>\n",
       "      <td>79</td>\n",
       "      <td>China, Brazil, Netherlands, South Africa</td>\n",
       "    </tr>\n",
       "    <tr>\n",
       "      <th>30</th>\n",
       "      <td>TIN</td>\n",
       "      <td>77</td>\n",
       "      <td>Peru, Indonesia, Bolivia, Malaysia</td>\n",
       "    </tr>\n",
       "    <tr>\n",
       "      <th>31</th>\n",
       "      <td>COBALT</td>\n",
       "      <td>76</td>\n",
       "      <td>Norway, Canada, Finland, Japan</td>\n",
       "    </tr>\n",
       "    <tr>\n",
       "      <th>32</th>\n",
       "      <td>ZINC</td>\n",
       "      <td>76</td>\n",
       "      <td>Canada, Mexico, Peru, Spain</td>\n",
       "    </tr>\n",
       "    <tr>\n",
       "      <th>33</th>\n",
       "      <td>ABRASIVES, fused aluminum oxide</td>\n",
       "      <td>75</td>\n",
       "      <td>China, Canada, Brazil, Austria</td>\n",
       "    </tr>\n",
       "    <tr>\n",
       "      <th>34</th>\n",
       "      <td>BARITE</td>\n",
       "      <td>75</td>\n",
       "      <td>China, India, Morocco, Mexico</td>\n",
       "    </tr>\n",
       "    <tr>\n",
       "      <th>35</th>\n",
       "      <td>BAUXITE</td>\n",
       "      <td>75</td>\n",
       "      <td>Jamaica, Brazil, Guyana, Turkey</td>\n",
       "    </tr>\n",
       "    <tr>\n",
       "      <th>36</th>\n",
       "      <td>TELLURIUM</td>\n",
       "      <td>75</td>\n",
       "      <td>Canada, Germany, China, Philippines</td>\n",
       "    </tr>\n",
       "    <tr>\n",
       "      <th>37</th>\n",
       "      <td>GARNET</td>\n",
       "      <td>69</td>\n",
       "      <td>South Africa, China, India, Australia</td>\n",
       "    </tr>\n",
       "    <tr>\n",
       "      <th>38</th>\n",
       "      <td>RHENIUM</td>\n",
       "      <td>69</td>\n",
       "      <td>Chile, Canada, Germany, Kazakhstan</td>\n",
       "    </tr>\n",
       "    <tr>\n",
       "      <th>39</th>\n",
       "      <td>SILVER</td>\n",
       "      <td>69</td>\n",
       "      <td>Mexico, Canada, Poland, Chile</td>\n",
       "    </tr>\n",
       "    <tr>\n",
       "      <th>40</th>\n",
       "      <td>PLATINUM</td>\n",
       "      <td>66</td>\n",
       "      <td>South Africa, Germany, Switzerland, Italy</td>\n",
       "    </tr>\n",
       "    <tr>\n",
       "      <th>41</th>\n",
       "      <td>DIAMOND (INDUSTRIAL), dust/powder</td>\n",
       "      <td>62</td>\n",
       "      <td>China, Republic of Korea, Ireland, Russia</td>\n",
       "    </tr>\n",
       "    <tr>\n",
       "      <th>42</th>\n",
       "      <td>ALUMINA</td>\n",
       "      <td>59</td>\n",
       "      <td>Brazil, Australia, Jamaica, Canada</td>\n",
       "    </tr>\n",
       "    <tr>\n",
       "      <th>43</th>\n",
       "      <td>NICKEL</td>\n",
       "      <td>56</td>\n",
       "      <td>Canada, Norway, Australia, Finland</td>\n",
       "    </tr>\n",
       "    <tr>\n",
       "      <th>44</th>\n",
       "      <td>ALUMINUM</td>\n",
       "      <td>54</td>\n",
       "      <td>Canada, United Arab Emirates, Russia, China</td>\n",
       "    </tr>\n",
       "    <tr>\n",
       "      <th>45</th>\n",
       "      <td>VANADIUM</td>\n",
       "      <td>54</td>\n",
       "      <td>Canada, China, Brazil, South Africa</td>\n",
       "    </tr>\n",
       "    <tr>\n",
       "      <th>46</th>\n",
       "      <td>MAGNESIUM COMPOUNDS</td>\n",
       "      <td>53</td>\n",
       "      <td>China, Israel, Canada, Brazil</td>\n",
       "    </tr>\n",
       "    <tr>\n",
       "      <th>47</th>\n",
       "      <td>GERMANIUM</td>\n",
       "      <td>50</td>\n",
       "      <td>China, Belgium, Germany, Russia</td>\n",
       "    </tr>\n",
       "    <tr>\n",
       "      <th>48</th>\n",
       "      <td>IODINE</td>\n",
       "      <td>50</td>\n",
       "      <td>Chile, Japan</td>\n",
       "    </tr>\n",
       "    <tr>\n",
       "      <th>49</th>\n",
       "      <td>MAGNESIUM METAL</td>\n",
       "      <td>50</td>\n",
       "      <td>Canada, Israel, Mexico, Taiwan</td>\n",
       "    </tr>\n",
       "    <tr>\n",
       "      <th>50</th>\n",
       "      <td>SELENIUM</td>\n",
       "      <td>50</td>\n",
       "      <td>Philippines, Mexico, Germany, China</td>\n",
       "    </tr>\n",
       "    <tr>\n",
       "      <th>51</th>\n",
       "      <td>TUNGSTEN</td>\n",
       "      <td>50</td>\n",
       "      <td>China, Germany, Bolivia, Vietnam</td>\n",
       "    </tr>\n",
       "    <tr>\n",
       "      <th>52</th>\n",
       "      <td>ZIRCONIUM</td>\n",
       "      <td>50</td>\n",
       "      <td>South Africa, Senegal, Australia, Russia</td>\n",
       "    </tr>\n",
       "    <tr>\n",
       "      <th>53</th>\n",
       "      <td>SILICON</td>\n",
       "      <td>45</td>\n",
       "      <td>Russia, Brazil, Canada, Norway</td>\n",
       "    </tr>\n",
       "    <tr>\n",
       "      <th>54</th>\n",
       "      <td>LEAD</td>\n",
       "      <td>42</td>\n",
       "      <td>Canada, Mexico, Republic of Korea</td>\n",
       "    </tr>\n",
       "    <tr>\n",
       "      <th>55</th>\n",
       "      <td>COPPER</td>\n",
       "      <td>41</td>\n",
       "      <td>Chile, Canada, Mexico</td>\n",
       "    </tr>\n",
       "    <tr>\n",
       "      <th>56</th>\n",
       "      <td>FELDSPAR</td>\n",
       "      <td>39</td>\n",
       "      <td>Turkey, Mexico</td>\n",
       "    </tr>\n",
       "    <tr>\n",
       "      <th>57</th>\n",
       "      <td>SALT</td>\n",
       "      <td>29</td>\n",
       "      <td>Chile, Canada, Mexico, Egypt</td>\n",
       "    </tr>\n",
       "    <tr>\n",
       "      <th>58</th>\n",
       "      <td>PERLITE</td>\n",
       "      <td>28</td>\n",
       "      <td>Greece, China, Mexico</td>\n",
       "    </tr>\n",
       "    <tr>\n",
       "      <th>59</th>\n",
       "      <td>PALLADIUM</td>\n",
       "      <td>26</td>\n",
       "      <td>Russia, South Africa, Italy, Germany</td>\n",
       "    </tr>\n",
       "    <tr>\n",
       "      <th>60</th>\n",
       "      <td>LITHIUM</td>\n",
       "      <td>25</td>\n",
       "      <td>Argentina, Chile, China, Russia</td>\n",
       "    </tr>\n",
       "    <tr>\n",
       "      <th>61</th>\n",
       "      <td>BROMINE</td>\n",
       "      <td>25</td>\n",
       "      <td>Israel, Jordan, China</td>\n",
       "    </tr>\n",
       "    <tr>\n",
       "      <th>62</th>\n",
       "      <td>CADMIUM</td>\n",
       "      <td>25</td>\n",
       "      <td>Australia, Germany, China, Peru</td>\n",
       "    </tr>\n",
       "    <tr>\n",
       "      <th>63</th>\n",
       "      <td>MICA (NATURAL), scrap and flake</td>\n",
       "      <td>24</td>\n",
       "      <td>Canada, China, India, Finland</td>\n",
       "    </tr>\n",
       "    <tr>\n",
       "      <th>64</th>\n",
       "      <td>CEMENT</td>\n",
       "      <td>21</td>\n",
       "      <td>Canada, Turkey, Greece, Mexico</td>\n",
       "    </tr>\n",
       "    <tr>\n",
       "      <th>65</th>\n",
       "      <td>VERMICULITE</td>\n",
       "      <td>20</td>\n",
       "      <td>South Africa, Brazil</td>\n",
       "    </tr>\n",
       "  </tbody>\n",
       "</table>\n",
       "</div>"
      ],
      "text/plain": [
       "                              Mineral Percentage Reliant  \\\n",
       "0                             ARSENIC                100   \n",
       "1                            ASBESTOS                100   \n",
       "2                              CESIUM                100   \n",
       "3                           FLUORSPAR                100   \n",
       "4                             GALLIUM                100   \n",
       "5                            GRAPHITE                100   \n",
       "6                              INDIUM                100   \n",
       "7                           MANGANESE                100   \n",
       "8               MICA (NATURAL), sheet                100   \n",
       "9                             NIOBIUM                100   \n",
       "10                           RUBIDIUM                100   \n",
       "11                           SCANDIUM                100   \n",
       "12                          STRONTIUM                100   \n",
       "13                           TANTALUM                100   \n",
       "14                            YTTRIUM                100   \n",
       "15                          GEMSTONES                 99   \n",
       "16                            BISMUTH                 96   \n",
       "17                  NEPHELINE SYENITE                 95   \n",
       "18                        RARE EARTHS                 95   \n",
       "20                           TITANIUM                 95   \n",
       "21                             POTASH                 94   \n",
       "22       DIAMOND (INDUSTRIAL), stones                 89   \n",
       "23                IRON OXIDE PIGMENTS                 87   \n",
       "24                           ANTIMONY                 83   \n",
       "25                           CHROMIUM                 83   \n",
       "26                              STONE                 82   \n",
       "27                               PEAT                 81   \n",
       "28      TITANIUM MINERAL CONCENTRATES                 81   \n",
       "29         ABRASIVES, silicon carbide                 79   \n",
       "30                                TIN                 77   \n",
       "31                             COBALT                 76   \n",
       "32                               ZINC                 76   \n",
       "33    ABRASIVES, fused aluminum oxide                 75   \n",
       "34                             BARITE                 75   \n",
       "35                            BAUXITE                 75   \n",
       "36                          TELLURIUM                 75   \n",
       "37                             GARNET                 69   \n",
       "38                            RHENIUM                 69   \n",
       "39                             SILVER                 69   \n",
       "40                           PLATINUM                 66   \n",
       "41  DIAMOND (INDUSTRIAL), dust/powder                 62   \n",
       "42                            ALUMINA                 59   \n",
       "43                             NICKEL                 56   \n",
       "44                           ALUMINUM                 54   \n",
       "45                           VANADIUM                 54   \n",
       "46                MAGNESIUM COMPOUNDS                 53   \n",
       "47                          GERMANIUM                 50   \n",
       "48                             IODINE                 50   \n",
       "49                    MAGNESIUM METAL                 50   \n",
       "50                           SELENIUM                 50   \n",
       "51                           TUNGSTEN                 50   \n",
       "52                          ZIRCONIUM                 50   \n",
       "53                            SILICON                 45   \n",
       "54                               LEAD                 42   \n",
       "55                             COPPER                 41   \n",
       "56                           FELDSPAR                 39   \n",
       "57                               SALT                 29   \n",
       "58                            PERLITE                 28   \n",
       "59                          PALLADIUM                 26   \n",
       "60                            LITHIUM                 25   \n",
       "61                            BROMINE                 25   \n",
       "62                            CADMIUM                 25   \n",
       "63    MICA (NATURAL), scrap and flake                 24   \n",
       "64                             CEMENT                 21   \n",
       "65                        VERMICULITE                 20   \n",
       "\n",
       "                                        Major Sources  \n",
       "0                             China, Morocco, Belgium  \n",
       "1                                      Brazil, Russia  \n",
       "2                                             Germany  \n",
       "3               Mexico, Vietnam, South Africa, Canada  \n",
       "4                      China, Germany, Japan, Ukraine  \n",
       "5                   China, Mexico, Canada, Madagascar  \n",
       "6            Republic of Korea, Canada, China, France  \n",
       "7             Gabon, South Africa, Australia, Georgia  \n",
       "8                     China, Brazil, Belgium, Austria  \n",
       "9                                      Brazil, Canada  \n",
       "10                                            Germany  \n",
       "11                  Europe, China, Japan, Philippines  \n",
       "12                             Mexico, Germany, China  \n",
       "13               China, Germany, Australia, Indonesia  \n",
       "14           China, Germany, Republic of Korea, Japan  \n",
       "15               India, Israel, Belgium, South Africa  \n",
       "16          China, Republic of Korea, Mexico, Belgium  \n",
       "17                                             Canada  \n",
       "18                    China, Malaysia, Estonia, Japan  \n",
       "20                         Japan, Kazakhstan, Ukraine  \n",
       "21                            Canada, Russia, Belarus  \n",
       "22  South Africa, Congo (Kinshasa), India, Sierra ...  \n",
       "23                     China, Germany, Brazil, Canada  \n",
       "24                              China, Belgium, India  \n",
       "25          South Africa, Kazakhstan, Russia, Germany  \n",
       "26                        Brazil, China, Italy, India  \n",
       "27                                             Canada  \n",
       "28        South Africa, Australia, Madagascar, Canada  \n",
       "29           China, Brazil, Netherlands, South Africa  \n",
       "30                 Peru, Indonesia, Bolivia, Malaysia  \n",
       "31                     Norway, Canada, Finland, Japan  \n",
       "32                        Canada, Mexico, Peru, Spain  \n",
       "33                     China, Canada, Brazil, Austria  \n",
       "34                      China, India, Morocco, Mexico  \n",
       "35                    Jamaica, Brazil, Guyana, Turkey  \n",
       "36                Canada, Germany, China, Philippines  \n",
       "37              South Africa, China, India, Australia  \n",
       "38                 Chile, Canada, Germany, Kazakhstan  \n",
       "39                      Mexico, Canada, Poland, Chile  \n",
       "40          South Africa, Germany, Switzerland, Italy  \n",
       "41          China, Republic of Korea, Ireland, Russia  \n",
       "42                 Brazil, Australia, Jamaica, Canada  \n",
       "43                 Canada, Norway, Australia, Finland  \n",
       "44        Canada, United Arab Emirates, Russia, China  \n",
       "45                Canada, China, Brazil, South Africa  \n",
       "46                      China, Israel, Canada, Brazil  \n",
       "47                    China, Belgium, Germany, Russia  \n",
       "48                                       Chile, Japan  \n",
       "49                     Canada, Israel, Mexico, Taiwan  \n",
       "50                Philippines, Mexico, Germany, China  \n",
       "51                   China, Germany, Bolivia, Vietnam  \n",
       "52           South Africa, Senegal, Australia, Russia  \n",
       "53                     Russia, Brazil, Canada, Norway  \n",
       "54                  Canada, Mexico, Republic of Korea  \n",
       "55                              Chile, Canada, Mexico  \n",
       "56                                     Turkey, Mexico  \n",
       "57                       Chile, Canada, Mexico, Egypt  \n",
       "58                              Greece, China, Mexico  \n",
       "59               Russia, South Africa, Italy, Germany  \n",
       "60                    Argentina, Chile, China, Russia  \n",
       "61                              Israel, Jordan, China  \n",
       "62                    Australia, Germany, China, Peru  \n",
       "63                      Canada, China, India, Finland  \n",
       "64                     Canada, Turkey, Greece, Mexico  \n",
       "65                               South Africa, Brazil  "
      ]
     },
     "execution_count": 117,
     "metadata": {},
     "output_type": "execute_result"
    }
   ],
   "source": [
    "\n",
    "\n",
    "\n",
    "##Dealing with Duplicate Rows and renaming to show differences\n",
    "\n",
    "# ABRASIVES\n",
    "mineral_chart.iloc[29,0] = 'ABRASIVES, silicon carbide'\n",
    "mineral_chart.iloc[33,0] = 'ABRASIVES, fused aluminum oxide'\n",
    "\n",
    "# DIAMOND\n",
    "mineral_chart.iloc[22,0] = 'DIAMOND (INDUSTRIAL), stones'\n",
    "mineral_chart.iloc[41,0] = 'DIAMOND (INDUSTRIAL), dust/powder'\n",
    "\n",
    "# MICA\n",
    "mineral_chart.iloc[8,0] = 'MICA (NATURAL), sheet'\n",
    "mineral_chart.iloc[63,0] = 'MICA (NATURAL), scrap and flake'\n",
    "\n",
    "# Editing cells to reflect true values\n",
    "mineral_chart.iloc[18,1] = 95\n",
    "mineral_chart.iloc[18,2] = 'China, Malaysia, Estonia, Japan'\n",
    "mineral_chart = mineral_chart.drop(19, inplace=False)\n",
    "\n",
    "\n",
    "mineral_chart"
   ]
  },
  {
   "cell_type": "code",
   "execution_count": 118,
   "metadata": {},
   "outputs": [
    {
     "data": {
      "text/html": [
       "<div>\n",
       "<style scoped>\n",
       "    .dataframe tbody tr th:only-of-type {\n",
       "        vertical-align: middle;\n",
       "    }\n",
       "\n",
       "    .dataframe tbody tr th {\n",
       "        vertical-align: top;\n",
       "    }\n",
       "\n",
       "    .dataframe thead th {\n",
       "        text-align: right;\n",
       "    }\n",
       "</style>\n",
       "<table border=\"1\" class=\"dataframe\">\n",
       "  <thead>\n",
       "    <tr style=\"text-align: right;\">\n",
       "      <th></th>\n",
       "      <th>Mineral</th>\n",
       "      <th>Percentage Reliant</th>\n",
       "      <th>Major Sources</th>\n",
       "    </tr>\n",
       "  </thead>\n",
       "  <tbody>\n",
       "  </tbody>\n",
       "</table>\n",
       "</div>"
      ],
      "text/plain": [
       "Empty DataFrame\n",
       "Columns: [Mineral, Percentage Reliant, Major Sources]\n",
       "Index: []"
      ]
     },
     "execution_count": 118,
     "metadata": {},
     "output_type": "execute_result"
    }
   ],
   "source": [
    "duplicates = mineral_chart[mineral_chart.duplicated('Mineral')]\n",
    "duplicates"
   ]
  },
  {
   "cell_type": "code",
   "execution_count": 80,
   "metadata": {},
   "outputs": [
    {
     "data": {
      "text/html": [
       "<div>\n",
       "<style scoped>\n",
       "    .dataframe tbody tr th:only-of-type {\n",
       "        vertical-align: middle;\n",
       "    }\n",
       "\n",
       "    .dataframe tbody tr th {\n",
       "        vertical-align: top;\n",
       "    }\n",
       "\n",
       "    .dataframe thead th {\n",
       "        text-align: right;\n",
       "    }\n",
       "</style>\n",
       "<table border=\"1\" class=\"dataframe\">\n",
       "  <thead>\n",
       "    <tr style=\"text-align: right;\">\n",
       "      <th></th>\n",
       "      <th>name</th>\n",
       "    </tr>\n",
       "  </thead>\n",
       "  <tbody>\n",
       "    <tr>\n",
       "      <th>0</th>\n",
       "      <td>Andorra</td>\n",
       "    </tr>\n",
       "    <tr>\n",
       "      <th>1</th>\n",
       "      <td>United Arab Emirates</td>\n",
       "    </tr>\n",
       "    <tr>\n",
       "      <th>2</th>\n",
       "      <td>Afghanistan</td>\n",
       "    </tr>\n",
       "    <tr>\n",
       "      <th>3</th>\n",
       "      <td>Antigua and Barbuda</td>\n",
       "    </tr>\n",
       "    <tr>\n",
       "      <th>4</th>\n",
       "      <td>Anguilla</td>\n",
       "    </tr>\n",
       "    <tr>\n",
       "      <th>...</th>\n",
       "      <td>...</td>\n",
       "    </tr>\n",
       "    <tr>\n",
       "      <th>240</th>\n",
       "      <td>Yemen</td>\n",
       "    </tr>\n",
       "    <tr>\n",
       "      <th>241</th>\n",
       "      <td>Mayotte</td>\n",
       "    </tr>\n",
       "    <tr>\n",
       "      <th>242</th>\n",
       "      <td>South Africa</td>\n",
       "    </tr>\n",
       "    <tr>\n",
       "      <th>243</th>\n",
       "      <td>Zambia</td>\n",
       "    </tr>\n",
       "    <tr>\n",
       "      <th>244</th>\n",
       "      <td>Zimbabwe</td>\n",
       "    </tr>\n",
       "  </tbody>\n",
       "</table>\n",
       "<p>245 rows × 1 columns</p>\n",
       "</div>"
      ],
      "text/plain": [
       "                     name\n",
       "0                 Andorra\n",
       "1    United Arab Emirates\n",
       "2             Afghanistan\n",
       "3     Antigua and Barbuda\n",
       "4                Anguilla\n",
       "..                    ...\n",
       "240                 Yemen\n",
       "241               Mayotte\n",
       "242          South Africa\n",
       "243                Zambia\n",
       "244              Zimbabwe\n",
       "\n",
       "[245 rows x 1 columns]"
      ]
     },
     "execution_count": 80,
     "metadata": {},
     "output_type": "execute_result"
    }
   ],
   "source": [
    "#Source: \"https://developers.google.com/public-data/docs/canonical/countries_csv\"\n",
    "\n",
    "import pandas as pd\n",
    "\n",
    "# Replace 'your_text_file.txt' with your file path\n",
    "all_countries = 'data\\countries.txt'\n",
    "\n",
    "\n",
    "# Load the text file into a DataFrame\n",
    "countries = pd.read_csv(all_countries, delimiter='\\t')  # Change '\\t' to the appropriate delimiter if needed\n",
    "\n",
    "# Display the DataFrame\n",
    "countries = pd.DataFrame(countries.iloc[:,3])\n",
    "\n",
    "\n",
    "\n",
    "## Establishing Allies and Enemies\n",
    "\n",
    "ally = \"data\\\\allies-2023.csv\"\n",
    "enemy = \"data\\enemies-2023.csv\"\n",
    "\n",
    "# Load the text file into a DataFrame\n",
    "allies = pd.read_csv(ally)\n",
    "allies = pd.DataFrame(allies.iloc[:,4])\n",
    "\n",
    "\n",
    "enemies = pd.read_csv(enemy)\n",
    "\n",
    "enemies = pd.DataFrame(enemies.iloc[0:,4])\n"
   ]
  },
  {
   "cell_type": "code",
   "execution_count": 126,
   "metadata": {},
   "outputs": [
    {
     "data": {
      "text/html": [
       "<div>\n",
       "<style scoped>\n",
       "    .dataframe tbody tr th:only-of-type {\n",
       "        vertical-align: middle;\n",
       "    }\n",
       "\n",
       "    .dataframe tbody tr th {\n",
       "        vertical-align: top;\n",
       "    }\n",
       "\n",
       "    .dataframe thead th {\n",
       "        text-align: right;\n",
       "    }\n",
       "</style>\n",
       "<table border=\"1\" class=\"dataframe\">\n",
       "  <thead>\n",
       "    <tr style=\"text-align: right;\">\n",
       "      <th></th>\n",
       "      <th>name</th>\n",
       "      <th>Status</th>\n",
       "    </tr>\n",
       "  </thead>\n",
       "  <tbody>\n",
       "    <tr>\n",
       "      <th>220</th>\n",
       "      <td>Trinidad and Tobago</td>\n",
       "      <td>Neutral</td>\n",
       "    </tr>\n",
       "  </tbody>\n",
       "</table>\n",
       "</div>"
      ],
      "text/plain": [
       "                    name   Status\n",
       "220  Trinidad and Tobago  Neutral"
      ]
     },
     "execution_count": 126,
     "metadata": {},
     "output_type": "execute_result"
    }
   ],
   "source": [
    "countries[countries['name'] == 'Trinidad and Tobago']"
   ]
  },
  {
   "cell_type": "markdown",
   "metadata": {},
   "source": [
    "Adding Status as Neutral, Ally, or Enemy pending the results in Allies and Enemies DFs"
   ]
  },
  {
   "cell_type": "code",
   "execution_count": 89,
   "metadata": {},
   "outputs": [
    {
     "data": {
      "text/html": [
       "<div>\n",
       "<style scoped>\n",
       "    .dataframe tbody tr th:only-of-type {\n",
       "        vertical-align: middle;\n",
       "    }\n",
       "\n",
       "    .dataframe tbody tr th {\n",
       "        vertical-align: top;\n",
       "    }\n",
       "\n",
       "    .dataframe thead th {\n",
       "        text-align: right;\n",
       "    }\n",
       "</style>\n",
       "<table border=\"1\" class=\"dataframe\">\n",
       "  <thead>\n",
       "    <tr style=\"text-align: right;\">\n",
       "      <th></th>\n",
       "      <th>name</th>\n",
       "      <th>Status</th>\n",
       "    </tr>\n",
       "  </thead>\n",
       "  <tbody>\n",
       "    <tr>\n",
       "      <th>0</th>\n",
       "      <td>Andorra</td>\n",
       "      <td>Neutral</td>\n",
       "    </tr>\n",
       "    <tr>\n",
       "      <th>1</th>\n",
       "      <td>United Arab Emirates</td>\n",
       "      <td>Neutral</td>\n",
       "    </tr>\n",
       "    <tr>\n",
       "      <th>2</th>\n",
       "      <td>Afghanistan</td>\n",
       "      <td>Enemy</td>\n",
       "    </tr>\n",
       "    <tr>\n",
       "      <th>3</th>\n",
       "      <td>Antigua and Barbuda</td>\n",
       "      <td>Neutral</td>\n",
       "    </tr>\n",
       "    <tr>\n",
       "      <th>4</th>\n",
       "      <td>Anguilla</td>\n",
       "      <td>Ally</td>\n",
       "    </tr>\n",
       "    <tr>\n",
       "      <th>...</th>\n",
       "      <td>...</td>\n",
       "      <td>...</td>\n",
       "    </tr>\n",
       "    <tr>\n",
       "      <th>240</th>\n",
       "      <td>Yemen</td>\n",
       "      <td>Enemy</td>\n",
       "    </tr>\n",
       "    <tr>\n",
       "      <th>241</th>\n",
       "      <td>Mayotte</td>\n",
       "      <td>Neutral</td>\n",
       "    </tr>\n",
       "    <tr>\n",
       "      <th>242</th>\n",
       "      <td>South Africa</td>\n",
       "      <td>Neutral</td>\n",
       "    </tr>\n",
       "    <tr>\n",
       "      <th>243</th>\n",
       "      <td>Zambia</td>\n",
       "      <td>Neutral</td>\n",
       "    </tr>\n",
       "    <tr>\n",
       "      <th>244</th>\n",
       "      <td>Zimbabwe</td>\n",
       "      <td>Neutral</td>\n",
       "    </tr>\n",
       "  </tbody>\n",
       "</table>\n",
       "<p>245 rows × 2 columns</p>\n",
       "</div>"
      ],
      "text/plain": [
       "                     name   Status\n",
       "0                 Andorra  Neutral\n",
       "1    United Arab Emirates  Neutral\n",
       "2             Afghanistan    Enemy\n",
       "3     Antigua and Barbuda  Neutral\n",
       "4                Anguilla     Ally\n",
       "..                    ...      ...\n",
       "240                 Yemen    Enemy\n",
       "241               Mayotte  Neutral\n",
       "242          South Africa  Neutral\n",
       "243                Zambia  Neutral\n",
       "244              Zimbabwe  Neutral\n",
       "\n",
       "[245 rows x 2 columns]"
      ]
     },
     "execution_count": 89,
     "metadata": {},
     "output_type": "execute_result"
    }
   ],
   "source": [
    "# Check for allies and enemies using isin() function\n",
    "countries['Status'] = 'Neutral'  # Initialize 'Status' column with None\n",
    "\n",
    "# Set 'Ally' for countries in 'allies' DataFrame\n",
    "countries.loc[df['name'].isin(allies['country']), 'Status'] = 'Ally'\n",
    "\n",
    "# Set 'Enemy' for countries in 'enemies' DataFrame\n",
    "countries.loc[df['name'].isin(enemies['country']), 'Status'] = 'Enemy'\n",
    "\n",
    "countries"
   ]
  },
  {
   "cell_type": "code",
   "execution_count": null,
   "metadata": {},
   "outputs": [],
   "source": [
    "\n",
    "\n",
    "status_list = [Enemy,]"
   ]
  },
  {
   "cell_type": "code",
   "execution_count": 119,
   "metadata": {},
   "outputs": [
    {
     "data": {
      "text/html": [
       "<div>\n",
       "<style scoped>\n",
       "    .dataframe tbody tr th:only-of-type {\n",
       "        vertical-align: middle;\n",
       "    }\n",
       "\n",
       "    .dataframe tbody tr th {\n",
       "        vertical-align: top;\n",
       "    }\n",
       "\n",
       "    .dataframe thead th {\n",
       "        text-align: right;\n",
       "    }\n",
       "</style>\n",
       "<table border=\"1\" class=\"dataframe\">\n",
       "  <thead>\n",
       "    <tr style=\"text-align: right;\">\n",
       "      <th></th>\n",
       "      <th>Mineral</th>\n",
       "      <th>Percentage Reliant</th>\n",
       "      <th>Major Sources</th>\n",
       "    </tr>\n",
       "  </thead>\n",
       "  <tbody>\n",
       "    <tr>\n",
       "      <th>0</th>\n",
       "      <td>ARSENIC</td>\n",
       "      <td>100</td>\n",
       "      <td>China, Morocco, Belgium</td>\n",
       "    </tr>\n",
       "    <tr>\n",
       "      <th>1</th>\n",
       "      <td>ASBESTOS</td>\n",
       "      <td>100</td>\n",
       "      <td>Brazil, Russia</td>\n",
       "    </tr>\n",
       "    <tr>\n",
       "      <th>2</th>\n",
       "      <td>CESIUM</td>\n",
       "      <td>100</td>\n",
       "      <td>Germany</td>\n",
       "    </tr>\n",
       "    <tr>\n",
       "      <th>3</th>\n",
       "      <td>FLUORSPAR</td>\n",
       "      <td>100</td>\n",
       "      <td>Mexico, Vietnam, South Africa, Canada</td>\n",
       "    </tr>\n",
       "    <tr>\n",
       "      <th>4</th>\n",
       "      <td>GALLIUM</td>\n",
       "      <td>100</td>\n",
       "      <td>China, Germany, Japan, Ukraine</td>\n",
       "    </tr>\n",
       "    <tr>\n",
       "      <th>5</th>\n",
       "      <td>GRAPHITE</td>\n",
       "      <td>100</td>\n",
       "      <td>China, Mexico, Canada, Madagascar</td>\n",
       "    </tr>\n",
       "    <tr>\n",
       "      <th>6</th>\n",
       "      <td>INDIUM</td>\n",
       "      <td>100</td>\n",
       "      <td>Republic of Korea, Canada, China, France</td>\n",
       "    </tr>\n",
       "    <tr>\n",
       "      <th>7</th>\n",
       "      <td>MANGANESE</td>\n",
       "      <td>100</td>\n",
       "      <td>Gabon, South Africa, Australia, Georgia</td>\n",
       "    </tr>\n",
       "    <tr>\n",
       "      <th>8</th>\n",
       "      <td>MICA (NATURAL), sheet</td>\n",
       "      <td>100</td>\n",
       "      <td>China, Brazil, Belgium, Austria</td>\n",
       "    </tr>\n",
       "    <tr>\n",
       "      <th>9</th>\n",
       "      <td>NIOBIUM</td>\n",
       "      <td>100</td>\n",
       "      <td>Brazil, Canada</td>\n",
       "    </tr>\n",
       "    <tr>\n",
       "      <th>10</th>\n",
       "      <td>RUBIDIUM</td>\n",
       "      <td>100</td>\n",
       "      <td>Germany</td>\n",
       "    </tr>\n",
       "    <tr>\n",
       "      <th>11</th>\n",
       "      <td>SCANDIUM</td>\n",
       "      <td>100</td>\n",
       "      <td>Europe, China, Japan, Philippines</td>\n",
       "    </tr>\n",
       "    <tr>\n",
       "      <th>12</th>\n",
       "      <td>STRONTIUM</td>\n",
       "      <td>100</td>\n",
       "      <td>Mexico, Germany, China</td>\n",
       "    </tr>\n",
       "    <tr>\n",
       "      <th>13</th>\n",
       "      <td>TANTALUM</td>\n",
       "      <td>100</td>\n",
       "      <td>China, Germany, Australia, Indonesia</td>\n",
       "    </tr>\n",
       "    <tr>\n",
       "      <th>14</th>\n",
       "      <td>YTTRIUM</td>\n",
       "      <td>100</td>\n",
       "      <td>China, Germany, Republic of Korea, Japan</td>\n",
       "    </tr>\n",
       "    <tr>\n",
       "      <th>15</th>\n",
       "      <td>GEMSTONES</td>\n",
       "      <td>99</td>\n",
       "      <td>India, Israel, Belgium, South Africa</td>\n",
       "    </tr>\n",
       "    <tr>\n",
       "      <th>16</th>\n",
       "      <td>BISMUTH</td>\n",
       "      <td>96</td>\n",
       "      <td>China, Republic of Korea, Mexico, Belgium</td>\n",
       "    </tr>\n",
       "    <tr>\n",
       "      <th>17</th>\n",
       "      <td>NEPHELINE SYENITE</td>\n",
       "      <td>95</td>\n",
       "      <td>Canada</td>\n",
       "    </tr>\n",
       "    <tr>\n",
       "      <th>18</th>\n",
       "      <td>RARE EARTHS</td>\n",
       "      <td>95</td>\n",
       "      <td>China, Malaysia, Estonia, Japan</td>\n",
       "    </tr>\n",
       "    <tr>\n",
       "      <th>20</th>\n",
       "      <td>TITANIUM</td>\n",
       "      <td>95</td>\n",
       "      <td>Japan, Kazakhstan, Ukraine</td>\n",
       "    </tr>\n",
       "    <tr>\n",
       "      <th>21</th>\n",
       "      <td>POTASH</td>\n",
       "      <td>94</td>\n",
       "      <td>Canada, Russia, Belarus</td>\n",
       "    </tr>\n",
       "    <tr>\n",
       "      <th>22</th>\n",
       "      <td>DIAMOND (INDUSTRIAL), stones</td>\n",
       "      <td>89</td>\n",
       "      <td>South Africa, Congo (Kinshasa), India, Sierra ...</td>\n",
       "    </tr>\n",
       "    <tr>\n",
       "      <th>23</th>\n",
       "      <td>IRON OXIDE PIGMENTS</td>\n",
       "      <td>87</td>\n",
       "      <td>China, Germany, Brazil, Canada</td>\n",
       "    </tr>\n",
       "    <tr>\n",
       "      <th>24</th>\n",
       "      <td>ANTIMONY</td>\n",
       "      <td>83</td>\n",
       "      <td>China, Belgium, India</td>\n",
       "    </tr>\n",
       "    <tr>\n",
       "      <th>25</th>\n",
       "      <td>CHROMIUM</td>\n",
       "      <td>83</td>\n",
       "      <td>South Africa, Kazakhstan, Russia, Germany</td>\n",
       "    </tr>\n",
       "    <tr>\n",
       "      <th>26</th>\n",
       "      <td>STONE</td>\n",
       "      <td>82</td>\n",
       "      <td>Brazil, China, Italy, India</td>\n",
       "    </tr>\n",
       "    <tr>\n",
       "      <th>27</th>\n",
       "      <td>PEAT</td>\n",
       "      <td>81</td>\n",
       "      <td>Canada</td>\n",
       "    </tr>\n",
       "    <tr>\n",
       "      <th>28</th>\n",
       "      <td>TITANIUM MINERAL CONCENTRATES</td>\n",
       "      <td>81</td>\n",
       "      <td>South Africa, Australia, Madagascar, Canada</td>\n",
       "    </tr>\n",
       "    <tr>\n",
       "      <th>29</th>\n",
       "      <td>ABRASIVES, silicon carbide</td>\n",
       "      <td>79</td>\n",
       "      <td>China, Brazil, Netherlands, South Africa</td>\n",
       "    </tr>\n",
       "    <tr>\n",
       "      <th>30</th>\n",
       "      <td>TIN</td>\n",
       "      <td>77</td>\n",
       "      <td>Peru, Indonesia, Bolivia, Malaysia</td>\n",
       "    </tr>\n",
       "    <tr>\n",
       "      <th>31</th>\n",
       "      <td>COBALT</td>\n",
       "      <td>76</td>\n",
       "      <td>Norway, Canada, Finland, Japan</td>\n",
       "    </tr>\n",
       "    <tr>\n",
       "      <th>32</th>\n",
       "      <td>ZINC</td>\n",
       "      <td>76</td>\n",
       "      <td>Canada, Mexico, Peru, Spain</td>\n",
       "    </tr>\n",
       "    <tr>\n",
       "      <th>33</th>\n",
       "      <td>ABRASIVES, fused aluminum oxide</td>\n",
       "      <td>75</td>\n",
       "      <td>China, Canada, Brazil, Austria</td>\n",
       "    </tr>\n",
       "    <tr>\n",
       "      <th>34</th>\n",
       "      <td>BARITE</td>\n",
       "      <td>75</td>\n",
       "      <td>China, India, Morocco, Mexico</td>\n",
       "    </tr>\n",
       "    <tr>\n",
       "      <th>35</th>\n",
       "      <td>BAUXITE</td>\n",
       "      <td>75</td>\n",
       "      <td>Jamaica, Brazil, Guyana, Turkey</td>\n",
       "    </tr>\n",
       "    <tr>\n",
       "      <th>36</th>\n",
       "      <td>TELLURIUM</td>\n",
       "      <td>75</td>\n",
       "      <td>Canada, Germany, China, Philippines</td>\n",
       "    </tr>\n",
       "    <tr>\n",
       "      <th>37</th>\n",
       "      <td>GARNET</td>\n",
       "      <td>69</td>\n",
       "      <td>South Africa, China, India, Australia</td>\n",
       "    </tr>\n",
       "    <tr>\n",
       "      <th>38</th>\n",
       "      <td>RHENIUM</td>\n",
       "      <td>69</td>\n",
       "      <td>Chile, Canada, Germany, Kazakhstan</td>\n",
       "    </tr>\n",
       "    <tr>\n",
       "      <th>39</th>\n",
       "      <td>SILVER</td>\n",
       "      <td>69</td>\n",
       "      <td>Mexico, Canada, Poland, Chile</td>\n",
       "    </tr>\n",
       "    <tr>\n",
       "      <th>40</th>\n",
       "      <td>PLATINUM</td>\n",
       "      <td>66</td>\n",
       "      <td>South Africa, Germany, Switzerland, Italy</td>\n",
       "    </tr>\n",
       "    <tr>\n",
       "      <th>41</th>\n",
       "      <td>DIAMOND (INDUSTRIAL), dust/powder</td>\n",
       "      <td>62</td>\n",
       "      <td>China, Republic of Korea, Ireland, Russia</td>\n",
       "    </tr>\n",
       "    <tr>\n",
       "      <th>42</th>\n",
       "      <td>ALUMINA</td>\n",
       "      <td>59</td>\n",
       "      <td>Brazil, Australia, Jamaica, Canada</td>\n",
       "    </tr>\n",
       "    <tr>\n",
       "      <th>43</th>\n",
       "      <td>NICKEL</td>\n",
       "      <td>56</td>\n",
       "      <td>Canada, Norway, Australia, Finland</td>\n",
       "    </tr>\n",
       "    <tr>\n",
       "      <th>44</th>\n",
       "      <td>ALUMINUM</td>\n",
       "      <td>54</td>\n",
       "      <td>Canada, United Arab Emirates, Russia, China</td>\n",
       "    </tr>\n",
       "    <tr>\n",
       "      <th>45</th>\n",
       "      <td>VANADIUM</td>\n",
       "      <td>54</td>\n",
       "      <td>Canada, China, Brazil, South Africa</td>\n",
       "    </tr>\n",
       "    <tr>\n",
       "      <th>46</th>\n",
       "      <td>MAGNESIUM COMPOUNDS</td>\n",
       "      <td>53</td>\n",
       "      <td>China, Israel, Canada, Brazil</td>\n",
       "    </tr>\n",
       "    <tr>\n",
       "      <th>47</th>\n",
       "      <td>GERMANIUM</td>\n",
       "      <td>50</td>\n",
       "      <td>China, Belgium, Germany, Russia</td>\n",
       "    </tr>\n",
       "    <tr>\n",
       "      <th>48</th>\n",
       "      <td>IODINE</td>\n",
       "      <td>50</td>\n",
       "      <td>Chile, Japan</td>\n",
       "    </tr>\n",
       "    <tr>\n",
       "      <th>49</th>\n",
       "      <td>MAGNESIUM METAL</td>\n",
       "      <td>50</td>\n",
       "      <td>Canada, Israel, Mexico, Taiwan</td>\n",
       "    </tr>\n",
       "    <tr>\n",
       "      <th>50</th>\n",
       "      <td>SELENIUM</td>\n",
       "      <td>50</td>\n",
       "      <td>Philippines, Mexico, Germany, China</td>\n",
       "    </tr>\n",
       "    <tr>\n",
       "      <th>51</th>\n",
       "      <td>TUNGSTEN</td>\n",
       "      <td>50</td>\n",
       "      <td>China, Germany, Bolivia, Vietnam</td>\n",
       "    </tr>\n",
       "    <tr>\n",
       "      <th>52</th>\n",
       "      <td>ZIRCONIUM</td>\n",
       "      <td>50</td>\n",
       "      <td>South Africa, Senegal, Australia, Russia</td>\n",
       "    </tr>\n",
       "    <tr>\n",
       "      <th>53</th>\n",
       "      <td>SILICON</td>\n",
       "      <td>45</td>\n",
       "      <td>Russia, Brazil, Canada, Norway</td>\n",
       "    </tr>\n",
       "    <tr>\n",
       "      <th>54</th>\n",
       "      <td>LEAD</td>\n",
       "      <td>42</td>\n",
       "      <td>Canada, Mexico, Republic of Korea</td>\n",
       "    </tr>\n",
       "    <tr>\n",
       "      <th>55</th>\n",
       "      <td>COPPER</td>\n",
       "      <td>41</td>\n",
       "      <td>Chile, Canada, Mexico</td>\n",
       "    </tr>\n",
       "    <tr>\n",
       "      <th>56</th>\n",
       "      <td>FELDSPAR</td>\n",
       "      <td>39</td>\n",
       "      <td>Turkey, Mexico</td>\n",
       "    </tr>\n",
       "    <tr>\n",
       "      <th>57</th>\n",
       "      <td>SALT</td>\n",
       "      <td>29</td>\n",
       "      <td>Chile, Canada, Mexico, Egypt</td>\n",
       "    </tr>\n",
       "    <tr>\n",
       "      <th>58</th>\n",
       "      <td>PERLITE</td>\n",
       "      <td>28</td>\n",
       "      <td>Greece, China, Mexico</td>\n",
       "    </tr>\n",
       "    <tr>\n",
       "      <th>59</th>\n",
       "      <td>PALLADIUM</td>\n",
       "      <td>26</td>\n",
       "      <td>Russia, South Africa, Italy, Germany</td>\n",
       "    </tr>\n",
       "    <tr>\n",
       "      <th>60</th>\n",
       "      <td>LITHIUM</td>\n",
       "      <td>25</td>\n",
       "      <td>Argentina, Chile, China, Russia</td>\n",
       "    </tr>\n",
       "    <tr>\n",
       "      <th>61</th>\n",
       "      <td>BROMINE</td>\n",
       "      <td>25</td>\n",
       "      <td>Israel, Jordan, China</td>\n",
       "    </tr>\n",
       "    <tr>\n",
       "      <th>62</th>\n",
       "      <td>CADMIUM</td>\n",
       "      <td>25</td>\n",
       "      <td>Australia, Germany, China, Peru</td>\n",
       "    </tr>\n",
       "    <tr>\n",
       "      <th>63</th>\n",
       "      <td>MICA (NATURAL), scrap and flake</td>\n",
       "      <td>24</td>\n",
       "      <td>Canada, China, India, Finland</td>\n",
       "    </tr>\n",
       "    <tr>\n",
       "      <th>64</th>\n",
       "      <td>CEMENT</td>\n",
       "      <td>21</td>\n",
       "      <td>Canada, Turkey, Greece, Mexico</td>\n",
       "    </tr>\n",
       "    <tr>\n",
       "      <th>65</th>\n",
       "      <td>VERMICULITE</td>\n",
       "      <td>20</td>\n",
       "      <td>South Africa, Brazil</td>\n",
       "    </tr>\n",
       "  </tbody>\n",
       "</table>\n",
       "</div>"
      ],
      "text/plain": [
       "                              Mineral Percentage Reliant  \\\n",
       "0                             ARSENIC                100   \n",
       "1                            ASBESTOS                100   \n",
       "2                              CESIUM                100   \n",
       "3                           FLUORSPAR                100   \n",
       "4                             GALLIUM                100   \n",
       "5                            GRAPHITE                100   \n",
       "6                              INDIUM                100   \n",
       "7                           MANGANESE                100   \n",
       "8               MICA (NATURAL), sheet                100   \n",
       "9                             NIOBIUM                100   \n",
       "10                           RUBIDIUM                100   \n",
       "11                           SCANDIUM                100   \n",
       "12                          STRONTIUM                100   \n",
       "13                           TANTALUM                100   \n",
       "14                            YTTRIUM                100   \n",
       "15                          GEMSTONES                 99   \n",
       "16                            BISMUTH                 96   \n",
       "17                  NEPHELINE SYENITE                 95   \n",
       "18                        RARE EARTHS                 95   \n",
       "20                           TITANIUM                 95   \n",
       "21                             POTASH                 94   \n",
       "22       DIAMOND (INDUSTRIAL), stones                 89   \n",
       "23                IRON OXIDE PIGMENTS                 87   \n",
       "24                           ANTIMONY                 83   \n",
       "25                           CHROMIUM                 83   \n",
       "26                              STONE                 82   \n",
       "27                               PEAT                 81   \n",
       "28      TITANIUM MINERAL CONCENTRATES                 81   \n",
       "29         ABRASIVES, silicon carbide                 79   \n",
       "30                                TIN                 77   \n",
       "31                             COBALT                 76   \n",
       "32                               ZINC                 76   \n",
       "33    ABRASIVES, fused aluminum oxide                 75   \n",
       "34                             BARITE                 75   \n",
       "35                            BAUXITE                 75   \n",
       "36                          TELLURIUM                 75   \n",
       "37                             GARNET                 69   \n",
       "38                            RHENIUM                 69   \n",
       "39                             SILVER                 69   \n",
       "40                           PLATINUM                 66   \n",
       "41  DIAMOND (INDUSTRIAL), dust/powder                 62   \n",
       "42                            ALUMINA                 59   \n",
       "43                             NICKEL                 56   \n",
       "44                           ALUMINUM                 54   \n",
       "45                           VANADIUM                 54   \n",
       "46                MAGNESIUM COMPOUNDS                 53   \n",
       "47                          GERMANIUM                 50   \n",
       "48                             IODINE                 50   \n",
       "49                    MAGNESIUM METAL                 50   \n",
       "50                           SELENIUM                 50   \n",
       "51                           TUNGSTEN                 50   \n",
       "52                          ZIRCONIUM                 50   \n",
       "53                            SILICON                 45   \n",
       "54                               LEAD                 42   \n",
       "55                             COPPER                 41   \n",
       "56                           FELDSPAR                 39   \n",
       "57                               SALT                 29   \n",
       "58                            PERLITE                 28   \n",
       "59                          PALLADIUM                 26   \n",
       "60                            LITHIUM                 25   \n",
       "61                            BROMINE                 25   \n",
       "62                            CADMIUM                 25   \n",
       "63    MICA (NATURAL), scrap and flake                 24   \n",
       "64                             CEMENT                 21   \n",
       "65                        VERMICULITE                 20   \n",
       "\n",
       "                                        Major Sources  \n",
       "0                             China, Morocco, Belgium  \n",
       "1                                      Brazil, Russia  \n",
       "2                                             Germany  \n",
       "3               Mexico, Vietnam, South Africa, Canada  \n",
       "4                      China, Germany, Japan, Ukraine  \n",
       "5                   China, Mexico, Canada, Madagascar  \n",
       "6            Republic of Korea, Canada, China, France  \n",
       "7             Gabon, South Africa, Australia, Georgia  \n",
       "8                     China, Brazil, Belgium, Austria  \n",
       "9                                      Brazil, Canada  \n",
       "10                                            Germany  \n",
       "11                  Europe, China, Japan, Philippines  \n",
       "12                             Mexico, Germany, China  \n",
       "13               China, Germany, Australia, Indonesia  \n",
       "14           China, Germany, Republic of Korea, Japan  \n",
       "15               India, Israel, Belgium, South Africa  \n",
       "16          China, Republic of Korea, Mexico, Belgium  \n",
       "17                                             Canada  \n",
       "18                    China, Malaysia, Estonia, Japan  \n",
       "20                         Japan, Kazakhstan, Ukraine  \n",
       "21                            Canada, Russia, Belarus  \n",
       "22  South Africa, Congo (Kinshasa), India, Sierra ...  \n",
       "23                     China, Germany, Brazil, Canada  \n",
       "24                              China, Belgium, India  \n",
       "25          South Africa, Kazakhstan, Russia, Germany  \n",
       "26                        Brazil, China, Italy, India  \n",
       "27                                             Canada  \n",
       "28        South Africa, Australia, Madagascar, Canada  \n",
       "29           China, Brazil, Netherlands, South Africa  \n",
       "30                 Peru, Indonesia, Bolivia, Malaysia  \n",
       "31                     Norway, Canada, Finland, Japan  \n",
       "32                        Canada, Mexico, Peru, Spain  \n",
       "33                     China, Canada, Brazil, Austria  \n",
       "34                      China, India, Morocco, Mexico  \n",
       "35                    Jamaica, Brazil, Guyana, Turkey  \n",
       "36                Canada, Germany, China, Philippines  \n",
       "37              South Africa, China, India, Australia  \n",
       "38                 Chile, Canada, Germany, Kazakhstan  \n",
       "39                      Mexico, Canada, Poland, Chile  \n",
       "40          South Africa, Germany, Switzerland, Italy  \n",
       "41          China, Republic of Korea, Ireland, Russia  \n",
       "42                 Brazil, Australia, Jamaica, Canada  \n",
       "43                 Canada, Norway, Australia, Finland  \n",
       "44        Canada, United Arab Emirates, Russia, China  \n",
       "45                Canada, China, Brazil, South Africa  \n",
       "46                      China, Israel, Canada, Brazil  \n",
       "47                    China, Belgium, Germany, Russia  \n",
       "48                                       Chile, Japan  \n",
       "49                     Canada, Israel, Mexico, Taiwan  \n",
       "50                Philippines, Mexico, Germany, China  \n",
       "51                   China, Germany, Bolivia, Vietnam  \n",
       "52           South Africa, Senegal, Australia, Russia  \n",
       "53                     Russia, Brazil, Canada, Norway  \n",
       "54                  Canada, Mexico, Republic of Korea  \n",
       "55                              Chile, Canada, Mexico  \n",
       "56                                     Turkey, Mexico  \n",
       "57                       Chile, Canada, Mexico, Egypt  \n",
       "58                              Greece, China, Mexico  \n",
       "59               Russia, South Africa, Italy, Germany  \n",
       "60                    Argentina, Chile, China, Russia  \n",
       "61                              Israel, Jordan, China  \n",
       "62                    Australia, Germany, China, Peru  \n",
       "63                      Canada, China, India, Finland  \n",
       "64                     Canada, Turkey, Greece, Mexico  \n",
       "65                               South Africa, Brazil  "
      ]
     },
     "execution_count": 119,
     "metadata": {},
     "output_type": "execute_result"
    }
   ],
   "source": [
    "#mineral_chart.drop('Status', inplace=True, axis=1)\n",
    "\n",
    "mineral_chart"
   ]
  },
  {
   "cell_type": "code",
   "execution_count": 103,
   "metadata": {},
   "outputs": [
    {
     "data": {
      "text/html": [
       "<div>\n",
       "<style scoped>\n",
       "    .dataframe tbody tr th:only-of-type {\n",
       "        vertical-align: middle;\n",
       "    }\n",
       "\n",
       "    .dataframe tbody tr th {\n",
       "        vertical-align: top;\n",
       "    }\n",
       "\n",
       "    .dataframe thead th {\n",
       "        text-align: right;\n",
       "    }\n",
       "</style>\n",
       "<table border=\"1\" class=\"dataframe\">\n",
       "  <thead>\n",
       "    <tr style=\"text-align: right;\">\n",
       "      <th></th>\n",
       "      <th>Mineral</th>\n",
       "      <th>Percentage Reliant</th>\n",
       "      <th>Major Sources</th>\n",
       "      <th>Status</th>\n",
       "    </tr>\n",
       "  </thead>\n",
       "  <tbody>\n",
       "    <tr>\n",
       "      <th>0</th>\n",
       "      <td>ABRASIVES</td>\n",
       "      <td>75</td>\n",
       "      <td>[China, Canada, Brazil, Austria]</td>\n",
       "      <td>[Neutral, Enemy, Ally]</td>\n",
       "    </tr>\n",
       "    <tr>\n",
       "      <th>1</th>\n",
       "      <td>ABRASIVES</td>\n",
       "      <td>79</td>\n",
       "      <td>[China, Brazil, Netherlands, South Africa]</td>\n",
       "      <td>[Neutral, Enemy, Ally]</td>\n",
       "    </tr>\n",
       "    <tr>\n",
       "      <th>2</th>\n",
       "      <td>ABRASIVES, fused aluminum oxide</td>\n",
       "      <td>75</td>\n",
       "      <td>[China, India, Morocco, Mexico]</td>\n",
       "      <td>[Neutral, Enemy, Ally]</td>\n",
       "    </tr>\n",
       "    <tr>\n",
       "      <th>3</th>\n",
       "      <td>ABRASIVES, silicon carbide</td>\n",
       "      <td>77</td>\n",
       "      <td>[Peru, Indonesia, Bolivia, Malaysia]</td>\n",
       "      <td>[Neutral, Ally]</td>\n",
       "    </tr>\n",
       "    <tr>\n",
       "      <th>4</th>\n",
       "      <td>ALUMINUM</td>\n",
       "      <td>54</td>\n",
       "      <td>[Canada, United Arab Emirates, Russia, China]</td>\n",
       "      <td>[Neutral, Enemy, Ally]</td>\n",
       "    </tr>\n",
       "    <tr>\n",
       "      <th>...</th>\n",
       "      <td>...</td>\n",
       "      <td>...</td>\n",
       "      <td>...</td>\n",
       "      <td>...</td>\n",
       "    </tr>\n",
       "    <tr>\n",
       "      <th>60</th>\n",
       "      <td>VANADIUM</td>\n",
       "      <td>54</td>\n",
       "      <td>[Canada, China, Brazil, South Africa]</td>\n",
       "      <td>[Neutral, Enemy, Ally]</td>\n",
       "    </tr>\n",
       "    <tr>\n",
       "      <th>61</th>\n",
       "      <td>VERMICULITE</td>\n",
       "      <td>20</td>\n",
       "      <td>[South Africa, Brazil]</td>\n",
       "      <td>[Neutral]</td>\n",
       "    </tr>\n",
       "    <tr>\n",
       "      <th>62</th>\n",
       "      <td>YTTRIUM</td>\n",
       "      <td>100</td>\n",
       "      <td>[China, Germany, Republic of Korea, Japan]</td>\n",
       "      <td>[Enemy, nan, Ally]</td>\n",
       "    </tr>\n",
       "    <tr>\n",
       "      <th>63</th>\n",
       "      <td>ZINC</td>\n",
       "      <td>76</td>\n",
       "      <td>[Canada, Mexico, Peru, Spain]</td>\n",
       "      <td>[Neutral, Ally]</td>\n",
       "    </tr>\n",
       "    <tr>\n",
       "      <th>64</th>\n",
       "      <td>ZIRCONIUM</td>\n",
       "      <td>50</td>\n",
       "      <td>[South Africa, Senegal, Australia, Russia]</td>\n",
       "      <td>[Neutral, Enemy, Ally]</td>\n",
       "    </tr>\n",
       "  </tbody>\n",
       "</table>\n",
       "<p>65 rows × 4 columns</p>\n",
       "</div>"
      ],
      "text/plain": [
       "                            Mineral Percentage Reliant  \\\n",
       "0                         ABRASIVES                 75   \n",
       "1                         ABRASIVES                 79   \n",
       "2   ABRASIVES, fused aluminum oxide                 75   \n",
       "3        ABRASIVES, silicon carbide                 77   \n",
       "4                          ALUMINUM                 54   \n",
       "..                              ...                ...   \n",
       "60                         VANADIUM                 54   \n",
       "61                      VERMICULITE                 20   \n",
       "62                          YTTRIUM                100   \n",
       "63                             ZINC                 76   \n",
       "64                        ZIRCONIUM                 50   \n",
       "\n",
       "                                    Major Sources                  Status  \n",
       "0                [China, Canada, Brazil, Austria]  [Neutral, Enemy, Ally]  \n",
       "1      [China, Brazil, Netherlands, South Africa]  [Neutral, Enemy, Ally]  \n",
       "2                 [China, India, Morocco, Mexico]  [Neutral, Enemy, Ally]  \n",
       "3            [Peru, Indonesia, Bolivia, Malaysia]         [Neutral, Ally]  \n",
       "4   [Canada, United Arab Emirates, Russia, China]  [Neutral, Enemy, Ally]  \n",
       "..                                            ...                     ...  \n",
       "60          [Canada, China, Brazil, South Africa]  [Neutral, Enemy, Ally]  \n",
       "61                         [South Africa, Brazil]               [Neutral]  \n",
       "62     [China, Germany, Republic of Korea, Japan]      [Enemy, nan, Ally]  \n",
       "63                  [Canada, Mexico, Peru, Spain]         [Neutral, Ally]  \n",
       "64     [South Africa, Senegal, Australia, Russia]  [Neutral, Enemy, Ally]  \n",
       "\n",
       "[65 rows x 4 columns]"
      ]
     },
     "execution_count": 103,
     "metadata": {},
     "output_type": "execute_result"
    }
   ],
   "source": [
    "exploded_mineral_chart = mineral_chart.explode('Major Sources')\n",
    "\n",
    "# Merge 'countries' DataFrame with exploded 'Major Sources' DataFrame\n",
    "merged_df = pd.merge(exploded_mineral_chart, countries, left_on='Major Sources', right_on='name', how='left')\n",
    "\n",
    "# Drop unnecessary columns ('name' column)\n",
    "merged_df.drop('name', axis=1, inplace=True)\n",
    "\n",
    "# Aggregate data back to original structure\n",
    "aggregated_df = merged_df.groupby(['Mineral', 'Percentage Reliant'], as_index=False).agg({'Major Sources': list, 'Status': lambda x: list(set(x))})\n",
    "\n",
    "aggregated_df"
   ]
  },
  {
   "cell_type": "code",
   "execution_count": 93,
   "metadata": {},
   "outputs": [
    {
     "data": {
      "text/html": [
       "<div>\n",
       "<style scoped>\n",
       "    .dataframe tbody tr th:only-of-type {\n",
       "        vertical-align: middle;\n",
       "    }\n",
       "\n",
       "    .dataframe tbody tr th {\n",
       "        vertical-align: top;\n",
       "    }\n",
       "\n",
       "    .dataframe thead th {\n",
       "        text-align: right;\n",
       "    }\n",
       "</style>\n",
       "<table border=\"1\" class=\"dataframe\">\n",
       "  <thead>\n",
       "    <tr style=\"text-align: right;\">\n",
       "      <th></th>\n",
       "      <th>Mineral</th>\n",
       "      <th>Percentage Reliant</th>\n",
       "      <th>Major Sources</th>\n",
       "      <th>Status</th>\n",
       "    </tr>\n",
       "  </thead>\n",
       "  <tbody>\n",
       "    <tr>\n",
       "      <th>0</th>\n",
       "      <td>ARSENIC</td>\n",
       "      <td>100</td>\n",
       "      <td>[China, Morocco, Belgium]</td>\n",
       "      <td>enemy</td>\n",
       "    </tr>\n",
       "    <tr>\n",
       "      <th>1</th>\n",
       "      <td>ASBESTOS</td>\n",
       "      <td>100</td>\n",
       "      <td>[Brazil, Russia]</td>\n",
       "      <td>enemy</td>\n",
       "    </tr>\n",
       "    <tr>\n",
       "      <th>2</th>\n",
       "      <td>CESIUM</td>\n",
       "      <td>100</td>\n",
       "      <td>[Germany]</td>\n",
       "      <td>neutral</td>\n",
       "    </tr>\n",
       "    <tr>\n",
       "      <th>3</th>\n",
       "      <td>FLUORSPAR</td>\n",
       "      <td>100</td>\n",
       "      <td>[Mexico, Vietnam, South Africa, Canada]</td>\n",
       "      <td>neutral</td>\n",
       "    </tr>\n",
       "    <tr>\n",
       "      <th>4</th>\n",
       "      <td>GALLIUM</td>\n",
       "      <td>100</td>\n",
       "      <td>[China, Germany, Japan, Ukraine]</td>\n",
       "      <td>enemy</td>\n",
       "    </tr>\n",
       "    <tr>\n",
       "      <th>...</th>\n",
       "      <td>...</td>\n",
       "      <td>...</td>\n",
       "      <td>...</td>\n",
       "      <td>...</td>\n",
       "    </tr>\n",
       "    <tr>\n",
       "      <th>61</th>\n",
       "      <td>BROMINE</td>\n",
       "      <td>25</td>\n",
       "      <td>[Israel, Jordan, China]</td>\n",
       "      <td>enemy</td>\n",
       "    </tr>\n",
       "    <tr>\n",
       "      <th>62</th>\n",
       "      <td>CADMIUM</td>\n",
       "      <td>25</td>\n",
       "      <td>[Australia, Germany, China, Peru]</td>\n",
       "      <td>enemy</td>\n",
       "    </tr>\n",
       "    <tr>\n",
       "      <th>63</th>\n",
       "      <td>MICA</td>\n",
       "      <td>24</td>\n",
       "      <td>[Canada, China, India, Finland]</td>\n",
       "      <td>enemy</td>\n",
       "    </tr>\n",
       "    <tr>\n",
       "      <th>64</th>\n",
       "      <td>MICA (NATURAL), scrap and flake</td>\n",
       "      <td>21</td>\n",
       "      <td>[Canada, Turkey, Greece, Mexico]</td>\n",
       "      <td>neutral</td>\n",
       "    </tr>\n",
       "    <tr>\n",
       "      <th>65</th>\n",
       "      <td>VERMICULITE</td>\n",
       "      <td>20</td>\n",
       "      <td>[South Africa, Brazil]</td>\n",
       "      <td>neutral</td>\n",
       "    </tr>\n",
       "  </tbody>\n",
       "</table>\n",
       "<p>65 rows × 4 columns</p>\n",
       "</div>"
      ],
      "text/plain": [
       "                            Mineral Percentage Reliant  \\\n",
       "0                           ARSENIC                100   \n",
       "1                          ASBESTOS                100   \n",
       "2                            CESIUM                100   \n",
       "3                         FLUORSPAR                100   \n",
       "4                           GALLIUM                100   \n",
       "..                              ...                ...   \n",
       "61                          BROMINE                 25   \n",
       "62                          CADMIUM                 25   \n",
       "63                             MICA                 24   \n",
       "64  MICA (NATURAL), scrap and flake                 21   \n",
       "65                      VERMICULITE                 20   \n",
       "\n",
       "                              Major Sources   Status  \n",
       "0                 [China, Morocco, Belgium]    enemy  \n",
       "1                          [Brazil, Russia]    enemy  \n",
       "2                                 [Germany]  neutral  \n",
       "3   [Mexico, Vietnam, South Africa, Canada]  neutral  \n",
       "4          [China, Germany, Japan, Ukraine]    enemy  \n",
       "..                                      ...      ...  \n",
       "61                  [Israel, Jordan, China]    enemy  \n",
       "62        [Australia, Germany, China, Peru]    enemy  \n",
       "63          [Canada, China, India, Finland]    enemy  \n",
       "64         [Canada, Turkey, Greece, Mexico]  neutral  \n",
       "65                   [South Africa, Brazil]  neutral  \n",
       "\n",
       "[65 rows x 4 columns]"
      ]
     },
     "execution_count": 93,
     "metadata": {},
     "output_type": "execute_result"
    }
   ],
   "source": [
    "# Creating a new column 'Status' in mineral_chart\n",
    "mineral_chart['Status'] = mineral_chart['Major Sources'].apply(lambda x: any(country in set(enemies['country']) for country in x))\n",
    "\n",
    "# Converting boolean values to 'enemy' and 'neutral' (or your preferred values)\n",
    "mineral_chart['Status'] = mineral_chart['Status'].map({True: 'enemy', False: 'neutral'})  \n",
    "\n",
    "mineral_chart"
   ]
  },
  {
   "cell_type": "markdown",
   "metadata": {},
   "source": [
    "## Horizontal Bar Chart"
   ]
  },
  {
   "cell_type": "code",
   "execution_count": null,
   "metadata": {},
   "outputs": [],
   "source": [
    "import plotly.graph_objects as go \n",
    "\n",
    "fig = go.Figure()\n",
    "\n",
    "fig.add_trace(\n",
    "    go.Bar(y=mineral_chart['Mineral'], x=mineral_chart['Percentage Reliant'], orientation='h', name='Critical Mineral Dependency', showlegend= False)\n",
    ")"
   ]
  },
  {
   "cell_type": "code",
   "execution_count": 95,
   "metadata": {},
   "outputs": [
    {
     "data": {
      "application/vnd.plotly.v1+json": {
       "config": {
        "plotlyServerURL": "https://plot.ly"
       },
       "data": [
        {
         "marker": {
          "color": "red"
         },
         "name": "Critical Mineral Dependency",
         "orientation": "h",
         "showlegend": false,
         "type": "bar",
         "x": [
          "100"
         ],
         "y": [
          "ARSENIC"
         ]
        },
        {
         "marker": {
          "color": "red"
         },
         "name": "Critical Mineral Dependency",
         "orientation": "h",
         "showlegend": false,
         "type": "bar",
         "x": [
          "100"
         ],
         "y": [
          "ASBESTOS"
         ]
        },
        {
         "marker": {
          "color": "blue"
         },
         "name": "Critical Mineral Dependency",
         "orientation": "h",
         "showlegend": false,
         "type": "bar",
         "x": [
          "100"
         ],
         "y": [
          "CESIUM"
         ]
        },
        {
         "marker": {
          "color": "blue"
         },
         "name": "Critical Mineral Dependency",
         "orientation": "h",
         "showlegend": false,
         "type": "bar",
         "x": [
          "100"
         ],
         "y": [
          "FLUORSPAR"
         ]
        },
        {
         "marker": {
          "color": "red"
         },
         "name": "Critical Mineral Dependency",
         "orientation": "h",
         "showlegend": false,
         "type": "bar",
         "x": [
          "100"
         ],
         "y": [
          "GALLIUM"
         ]
        },
        {
         "marker": {
          "color": "red"
         },
         "name": "Critical Mineral Dependency",
         "orientation": "h",
         "showlegend": false,
         "type": "bar",
         "x": [
          "100"
         ],
         "y": [
          "GRAPHITE"
         ]
        },
        {
         "marker": {
          "color": "red"
         },
         "name": "Critical Mineral Dependency",
         "orientation": "h",
         "showlegend": false,
         "type": "bar",
         "x": [
          "100"
         ],
         "y": [
          "INDIUM"
         ]
        },
        {
         "marker": {
          "color": "blue"
         },
         "name": "Critical Mineral Dependency",
         "orientation": "h",
         "showlegend": false,
         "type": "bar",
         "x": [
          "100"
         ],
         "y": [
          "MANGANESE"
         ]
        },
        {
         "marker": {
          "color": "red"
         },
         "name": "Critical Mineral Dependency",
         "orientation": "h",
         "showlegend": false,
         "type": "bar",
         "x": [
          "100"
         ],
         "y": [
          "MICA (NATURAL), sheet"
         ]
        },
        {
         "marker": {
          "color": "blue"
         },
         "name": "Critical Mineral Dependency",
         "orientation": "h",
         "showlegend": false,
         "type": "bar",
         "x": [
          "100"
         ],
         "y": [
          "NIOBIUM"
         ]
        },
        {
         "marker": {
          "color": "blue"
         },
         "name": "Critical Mineral Dependency",
         "orientation": "h",
         "showlegend": false,
         "type": "bar",
         "x": [
          "100"
         ],
         "y": [
          "RUBIDIUM"
         ]
        },
        {
         "marker": {
          "color": "red"
         },
         "name": "Critical Mineral Dependency",
         "orientation": "h",
         "showlegend": false,
         "type": "bar",
         "x": [
          "100"
         ],
         "y": [
          "SCANDIUM"
         ]
        },
        {
         "marker": {
          "color": "red"
         },
         "name": "Critical Mineral Dependency",
         "orientation": "h",
         "showlegend": false,
         "type": "bar",
         "x": [
          "100"
         ],
         "y": [
          "STRONTIUM"
         ]
        },
        {
         "marker": {
          "color": "red"
         },
         "name": "Critical Mineral Dependency",
         "orientation": "h",
         "showlegend": false,
         "type": "bar",
         "x": [
          "100"
         ],
         "y": [
          "TANTALUM"
         ]
        },
        {
         "marker": {
          "color": "red"
         },
         "name": "Critical Mineral Dependency",
         "orientation": "h",
         "showlegend": false,
         "type": "bar",
         "x": [
          "100"
         ],
         "y": [
          "YTTRIUM"
         ]
        },
        {
         "marker": {
          "color": "blue"
         },
         "name": "Critical Mineral Dependency",
         "orientation": "h",
         "showlegend": false,
         "type": "bar",
         "x": [
          "99"
         ],
         "y": [
          "GEMSTONES"
         ]
        },
        {
         "marker": {
          "color": "red"
         },
         "name": "Critical Mineral Dependency",
         "orientation": "h",
         "showlegend": false,
         "type": "bar",
         "x": [
          "96"
         ],
         "y": [
          "BISMUTH"
         ]
        },
        {
         "marker": {
          "color": "blue"
         },
         "name": "Critical Mineral Dependency",
         "orientation": "h",
         "showlegend": false,
         "type": "bar",
         "x": [
          "95"
         ],
         "y": [
          "NEPHELINE SYENITE"
         ]
        },
        {
         "marker": {
          "color": "red"
         },
         "name": "Critical Mineral Dependency",
         "orientation": "h",
         "showlegend": false,
         "type": "bar",
         "x": [
          95
         ],
         "y": [
          "RARE EARTHS"
         ]
        },
        {
         "marker": {
          "color": "blue"
         },
         "name": "Critical Mineral Dependency",
         "orientation": "h",
         "showlegend": false,
         "type": "bar",
         "x": [
          "95"
         ],
         "y": [
          "TITANIUM"
         ]
        },
        {
         "marker": {
          "color": "red"
         },
         "name": "Critical Mineral Dependency",
         "orientation": "h",
         "showlegend": false,
         "type": "bar",
         "x": [
          "94"
         ],
         "y": [
          "POTASH"
         ]
        },
        {
         "marker": {
          "color": "blue"
         },
         "name": "Critical Mineral Dependency",
         "orientation": "h",
         "showlegend": false,
         "type": "bar",
         "x": [
          "89"
         ],
         "y": [
          "DIAMOND"
         ]
        },
        {
         "marker": {
          "color": "red"
         },
         "name": "Critical Mineral Dependency",
         "orientation": "h",
         "showlegend": false,
         "type": "bar",
         "x": [
          "87"
         ],
         "y": [
          "DIAMOND (INDUSTRIAL), stones"
         ]
        },
        {
         "marker": {
          "color": "red"
         },
         "name": "Critical Mineral Dependency",
         "orientation": "h",
         "showlegend": false,
         "type": "bar",
         "x": [
          "83"
         ],
         "y": [
          "ANTIMONY"
         ]
        },
        {
         "marker": {
          "color": "red"
         },
         "name": "Critical Mineral Dependency",
         "orientation": "h",
         "showlegend": false,
         "type": "bar",
         "x": [
          "83"
         ],
         "y": [
          "CHROMIUM"
         ]
        },
        {
         "marker": {
          "color": "red"
         },
         "name": "Critical Mineral Dependency",
         "orientation": "h",
         "showlegend": false,
         "type": "bar",
         "x": [
          "82"
         ],
         "y": [
          "STONE"
         ]
        },
        {
         "marker": {
          "color": "blue"
         },
         "name": "Critical Mineral Dependency",
         "orientation": "h",
         "showlegend": false,
         "type": "bar",
         "x": [
          "81"
         ],
         "y": [
          "PEAT"
         ]
        },
        {
         "marker": {
          "color": "blue"
         },
         "name": "Critical Mineral Dependency",
         "orientation": "h",
         "showlegend": false,
         "type": "bar",
         "x": [
          "81"
         ],
         "y": [
          "TITANIUM MINERAL CONCENTRATES"
         ]
        },
        {
         "marker": {
          "color": "red"
         },
         "name": "Critical Mineral Dependency",
         "orientation": "h",
         "showlegend": false,
         "type": "bar",
         "x": [
          "79"
         ],
         "y": [
          "ABRASIVES"
         ]
        },
        {
         "marker": {
          "color": "blue"
         },
         "name": "Critical Mineral Dependency",
         "orientation": "h",
         "showlegend": false,
         "type": "bar",
         "x": [
          "77"
         ],
         "y": [
          "ABRASIVES, silicon carbide"
         ]
        },
        {
         "marker": {
          "color": "blue"
         },
         "name": "Critical Mineral Dependency",
         "orientation": "h",
         "showlegend": false,
         "type": "bar",
         "x": [
          "76"
         ],
         "y": [
          "COBALT"
         ]
        },
        {
         "marker": {
          "color": "blue"
         },
         "name": "Critical Mineral Dependency",
         "orientation": "h",
         "showlegend": false,
         "type": "bar",
         "x": [
          "76"
         ],
         "y": [
          "ZINC"
         ]
        },
        {
         "marker": {
          "color": "red"
         },
         "name": "Critical Mineral Dependency",
         "orientation": "h",
         "showlegend": false,
         "type": "bar",
         "x": [
          "75"
         ],
         "y": [
          "ABRASIVES"
         ]
        },
        {
         "marker": {
          "color": "red"
         },
         "name": "Critical Mineral Dependency",
         "orientation": "h",
         "showlegend": false,
         "type": "bar",
         "x": [
          "75"
         ],
         "y": [
          "ABRASIVES, fused aluminum oxide"
         ]
        },
        {
         "marker": {
          "color": "blue"
         },
         "name": "Critical Mineral Dependency",
         "orientation": "h",
         "showlegend": false,
         "type": "bar",
         "x": [
          "75"
         ],
         "y": [
          "BAUXITE"
         ]
        },
        {
         "marker": {
          "color": "red"
         },
         "name": "Critical Mineral Dependency",
         "orientation": "h",
         "showlegend": false,
         "type": "bar",
         "x": [
          "75"
         ],
         "y": [
          "TELLURIUM"
         ]
        },
        {
         "marker": {
          "color": "red"
         },
         "name": "Critical Mineral Dependency",
         "orientation": "h",
         "showlegend": false,
         "type": "bar",
         "x": [
          "69"
         ],
         "y": [
          "GARNET"
         ]
        },
        {
         "marker": {
          "color": "blue"
         },
         "name": "Critical Mineral Dependency",
         "orientation": "h",
         "showlegend": false,
         "type": "bar",
         "x": [
          "69"
         ],
         "y": [
          "RHENIUM"
         ]
        },
        {
         "marker": {
          "color": "blue"
         },
         "name": "Critical Mineral Dependency",
         "orientation": "h",
         "showlegend": false,
         "type": "bar",
         "x": [
          "69"
         ],
         "y": [
          "SILVER"
         ]
        },
        {
         "marker": {
          "color": "blue"
         },
         "name": "Critical Mineral Dependency",
         "orientation": "h",
         "showlegend": false,
         "type": "bar",
         "x": [
          "66"
         ],
         "y": [
          "PLATINUM"
         ]
        },
        {
         "marker": {
          "color": "red"
         },
         "name": "Critical Mineral Dependency",
         "orientation": "h",
         "showlegend": false,
         "type": "bar",
         "x": [
          "62"
         ],
         "y": [
          "DIAMOND"
         ]
        },
        {
         "marker": {
          "color": "blue"
         },
         "name": "Critical Mineral Dependency",
         "orientation": "h",
         "showlegend": false,
         "type": "bar",
         "x": [
          "59"
         ],
         "y": [
          "DIAMOND (INDUSTRIAL), dust/powder"
         ]
        },
        {
         "marker": {
          "color": "blue"
         },
         "name": "Critical Mineral Dependency",
         "orientation": "h",
         "showlegend": false,
         "type": "bar",
         "x": [
          "56"
         ],
         "y": [
          "NICKEL"
         ]
        },
        {
         "marker": {
          "color": "red"
         },
         "name": "Critical Mineral Dependency",
         "orientation": "h",
         "showlegend": false,
         "type": "bar",
         "x": [
          "54"
         ],
         "y": [
          "ALUMINUM"
         ]
        },
        {
         "marker": {
          "color": "red"
         },
         "name": "Critical Mineral Dependency",
         "orientation": "h",
         "showlegend": false,
         "type": "bar",
         "x": [
          "54"
         ],
         "y": [
          "VANADIUM"
         ]
        },
        {
         "marker": {
          "color": "red"
         },
         "name": "Critical Mineral Dependency",
         "orientation": "h",
         "showlegend": false,
         "type": "bar",
         "x": [
          "53"
         ],
         "y": [
          "MAGNESIUM COMPOUNDS"
         ]
        },
        {
         "marker": {
          "color": "red"
         },
         "name": "Critical Mineral Dependency",
         "orientation": "h",
         "showlegend": false,
         "type": "bar",
         "x": [
          "50"
         ],
         "y": [
          "GERMANIUM"
         ]
        },
        {
         "marker": {
          "color": "blue"
         },
         "name": "Critical Mineral Dependency",
         "orientation": "h",
         "showlegend": false,
         "type": "bar",
         "x": [
          "50"
         ],
         "y": [
          "IODINE"
         ]
        },
        {
         "marker": {
          "color": "blue"
         },
         "name": "Critical Mineral Dependency",
         "orientation": "h",
         "showlegend": false,
         "type": "bar",
         "x": [
          "50"
         ],
         "y": [
          "MAGNESIUM METAL"
         ]
        },
        {
         "marker": {
          "color": "red"
         },
         "name": "Critical Mineral Dependency",
         "orientation": "h",
         "showlegend": false,
         "type": "bar",
         "x": [
          "50"
         ],
         "y": [
          "SELENIUM"
         ]
        },
        {
         "marker": {
          "color": "red"
         },
         "name": "Critical Mineral Dependency",
         "orientation": "h",
         "showlegend": false,
         "type": "bar",
         "x": [
          "50"
         ],
         "y": [
          "TUNGSTEN"
         ]
        },
        {
         "marker": {
          "color": "red"
         },
         "name": "Critical Mineral Dependency",
         "orientation": "h",
         "showlegend": false,
         "type": "bar",
         "x": [
          "50"
         ],
         "y": [
          "ZIRCONIUM"
         ]
        },
        {
         "marker": {
          "color": "red"
         },
         "name": "Critical Mineral Dependency",
         "orientation": "h",
         "showlegend": false,
         "type": "bar",
         "x": [
          "45"
         ],
         "y": [
          "SILICON"
         ]
        },
        {
         "marker": {
          "color": "blue"
         },
         "name": "Critical Mineral Dependency",
         "orientation": "h",
         "showlegend": false,
         "type": "bar",
         "x": [
          "42"
         ],
         "y": [
          "LEAD"
         ]
        },
        {
         "marker": {
          "color": "blue"
         },
         "name": "Critical Mineral Dependency",
         "orientation": "h",
         "showlegend": false,
         "type": "bar",
         "x": [
          "41"
         ],
         "y": [
          "COPPER"
         ]
        },
        {
         "marker": {
          "color": "blue"
         },
         "name": "Critical Mineral Dependency",
         "orientation": "h",
         "showlegend": false,
         "type": "bar",
         "x": [
          "39"
         ],
         "y": [
          "FELDSPAR"
         ]
        },
        {
         "marker": {
          "color": "blue"
         },
         "name": "Critical Mineral Dependency",
         "orientation": "h",
         "showlegend": false,
         "type": "bar",
         "x": [
          "29"
         ],
         "y": [
          "SALT"
         ]
        },
        {
         "marker": {
          "color": "red"
         },
         "name": "Critical Mineral Dependency",
         "orientation": "h",
         "showlegend": false,
         "type": "bar",
         "x": [
          "28"
         ],
         "y": [
          "PERLITE"
         ]
        },
        {
         "marker": {
          "color": "red"
         },
         "name": "Critical Mineral Dependency",
         "orientation": "h",
         "showlegend": false,
         "type": "bar",
         "x": [
          "26"
         ],
         "y": [
          "PALLADIUM"
         ]
        },
        {
         "marker": {
          "color": "red"
         },
         "name": "Critical Mineral Dependency",
         "orientation": "h",
         "showlegend": false,
         "type": "bar",
         "x": [
          "25"
         ],
         "y": [
          "LITHIUM"
         ]
        },
        {
         "marker": {
          "color": "red"
         },
         "name": "Critical Mineral Dependency",
         "orientation": "h",
         "showlegend": false,
         "type": "bar",
         "x": [
          "25"
         ],
         "y": [
          "BROMINE"
         ]
        },
        {
         "marker": {
          "color": "red"
         },
         "name": "Critical Mineral Dependency",
         "orientation": "h",
         "showlegend": false,
         "type": "bar",
         "x": [
          "25"
         ],
         "y": [
          "CADMIUM"
         ]
        },
        {
         "marker": {
          "color": "red"
         },
         "name": "Critical Mineral Dependency",
         "orientation": "h",
         "showlegend": false,
         "type": "bar",
         "x": [
          "24"
         ],
         "y": [
          "MICA"
         ]
        },
        {
         "marker": {
          "color": "blue"
         },
         "name": "Critical Mineral Dependency",
         "orientation": "h",
         "showlegend": false,
         "type": "bar",
         "x": [
          "21"
         ],
         "y": [
          "MICA (NATURAL), scrap and flake"
         ]
        },
        {
         "marker": {
          "color": "blue"
         },
         "name": "Critical Mineral Dependency",
         "orientation": "h",
         "showlegend": false,
         "type": "bar",
         "x": [
          "20"
         ],
         "y": [
          "VERMICULITE"
         ]
        }
       ],
       "layout": {
        "template": {
         "data": {
          "bar": [
           {
            "error_x": {
             "color": "#2a3f5f"
            },
            "error_y": {
             "color": "#2a3f5f"
            },
            "marker": {
             "line": {
              "color": "#E5ECF6",
              "width": 0.5
             },
             "pattern": {
              "fillmode": "overlay",
              "size": 10,
              "solidity": 0.2
             }
            },
            "type": "bar"
           }
          ],
          "barpolar": [
           {
            "marker": {
             "line": {
              "color": "#E5ECF6",
              "width": 0.5
             },
             "pattern": {
              "fillmode": "overlay",
              "size": 10,
              "solidity": 0.2
             }
            },
            "type": "barpolar"
           }
          ],
          "carpet": [
           {
            "aaxis": {
             "endlinecolor": "#2a3f5f",
             "gridcolor": "white",
             "linecolor": "white",
             "minorgridcolor": "white",
             "startlinecolor": "#2a3f5f"
            },
            "baxis": {
             "endlinecolor": "#2a3f5f",
             "gridcolor": "white",
             "linecolor": "white",
             "minorgridcolor": "white",
             "startlinecolor": "#2a3f5f"
            },
            "type": "carpet"
           }
          ],
          "choropleth": [
           {
            "colorbar": {
             "outlinewidth": 0,
             "ticks": ""
            },
            "type": "choropleth"
           }
          ],
          "contour": [
           {
            "colorbar": {
             "outlinewidth": 0,
             "ticks": ""
            },
            "colorscale": [
             [
              0,
              "#0d0887"
             ],
             [
              0.1111111111111111,
              "#46039f"
             ],
             [
              0.2222222222222222,
              "#7201a8"
             ],
             [
              0.3333333333333333,
              "#9c179e"
             ],
             [
              0.4444444444444444,
              "#bd3786"
             ],
             [
              0.5555555555555556,
              "#d8576b"
             ],
             [
              0.6666666666666666,
              "#ed7953"
             ],
             [
              0.7777777777777778,
              "#fb9f3a"
             ],
             [
              0.8888888888888888,
              "#fdca26"
             ],
             [
              1,
              "#f0f921"
             ]
            ],
            "type": "contour"
           }
          ],
          "contourcarpet": [
           {
            "colorbar": {
             "outlinewidth": 0,
             "ticks": ""
            },
            "type": "contourcarpet"
           }
          ],
          "heatmap": [
           {
            "colorbar": {
             "outlinewidth": 0,
             "ticks": ""
            },
            "colorscale": [
             [
              0,
              "#0d0887"
             ],
             [
              0.1111111111111111,
              "#46039f"
             ],
             [
              0.2222222222222222,
              "#7201a8"
             ],
             [
              0.3333333333333333,
              "#9c179e"
             ],
             [
              0.4444444444444444,
              "#bd3786"
             ],
             [
              0.5555555555555556,
              "#d8576b"
             ],
             [
              0.6666666666666666,
              "#ed7953"
             ],
             [
              0.7777777777777778,
              "#fb9f3a"
             ],
             [
              0.8888888888888888,
              "#fdca26"
             ],
             [
              1,
              "#f0f921"
             ]
            ],
            "type": "heatmap"
           }
          ],
          "heatmapgl": [
           {
            "colorbar": {
             "outlinewidth": 0,
             "ticks": ""
            },
            "colorscale": [
             [
              0,
              "#0d0887"
             ],
             [
              0.1111111111111111,
              "#46039f"
             ],
             [
              0.2222222222222222,
              "#7201a8"
             ],
             [
              0.3333333333333333,
              "#9c179e"
             ],
             [
              0.4444444444444444,
              "#bd3786"
             ],
             [
              0.5555555555555556,
              "#d8576b"
             ],
             [
              0.6666666666666666,
              "#ed7953"
             ],
             [
              0.7777777777777778,
              "#fb9f3a"
             ],
             [
              0.8888888888888888,
              "#fdca26"
             ],
             [
              1,
              "#f0f921"
             ]
            ],
            "type": "heatmapgl"
           }
          ],
          "histogram": [
           {
            "marker": {
             "pattern": {
              "fillmode": "overlay",
              "size": 10,
              "solidity": 0.2
             }
            },
            "type": "histogram"
           }
          ],
          "histogram2d": [
           {
            "colorbar": {
             "outlinewidth": 0,
             "ticks": ""
            },
            "colorscale": [
             [
              0,
              "#0d0887"
             ],
             [
              0.1111111111111111,
              "#46039f"
             ],
             [
              0.2222222222222222,
              "#7201a8"
             ],
             [
              0.3333333333333333,
              "#9c179e"
             ],
             [
              0.4444444444444444,
              "#bd3786"
             ],
             [
              0.5555555555555556,
              "#d8576b"
             ],
             [
              0.6666666666666666,
              "#ed7953"
             ],
             [
              0.7777777777777778,
              "#fb9f3a"
             ],
             [
              0.8888888888888888,
              "#fdca26"
             ],
             [
              1,
              "#f0f921"
             ]
            ],
            "type": "histogram2d"
           }
          ],
          "histogram2dcontour": [
           {
            "colorbar": {
             "outlinewidth": 0,
             "ticks": ""
            },
            "colorscale": [
             [
              0,
              "#0d0887"
             ],
             [
              0.1111111111111111,
              "#46039f"
             ],
             [
              0.2222222222222222,
              "#7201a8"
             ],
             [
              0.3333333333333333,
              "#9c179e"
             ],
             [
              0.4444444444444444,
              "#bd3786"
             ],
             [
              0.5555555555555556,
              "#d8576b"
             ],
             [
              0.6666666666666666,
              "#ed7953"
             ],
             [
              0.7777777777777778,
              "#fb9f3a"
             ],
             [
              0.8888888888888888,
              "#fdca26"
             ],
             [
              1,
              "#f0f921"
             ]
            ],
            "type": "histogram2dcontour"
           }
          ],
          "mesh3d": [
           {
            "colorbar": {
             "outlinewidth": 0,
             "ticks": ""
            },
            "type": "mesh3d"
           }
          ],
          "parcoords": [
           {
            "line": {
             "colorbar": {
              "outlinewidth": 0,
              "ticks": ""
             }
            },
            "type": "parcoords"
           }
          ],
          "pie": [
           {
            "automargin": true,
            "type": "pie"
           }
          ],
          "scatter": [
           {
            "fillpattern": {
             "fillmode": "overlay",
             "size": 10,
             "solidity": 0.2
            },
            "type": "scatter"
           }
          ],
          "scatter3d": [
           {
            "line": {
             "colorbar": {
              "outlinewidth": 0,
              "ticks": ""
             }
            },
            "marker": {
             "colorbar": {
              "outlinewidth": 0,
              "ticks": ""
             }
            },
            "type": "scatter3d"
           }
          ],
          "scattercarpet": [
           {
            "marker": {
             "colorbar": {
              "outlinewidth": 0,
              "ticks": ""
             }
            },
            "type": "scattercarpet"
           }
          ],
          "scattergeo": [
           {
            "marker": {
             "colorbar": {
              "outlinewidth": 0,
              "ticks": ""
             }
            },
            "type": "scattergeo"
           }
          ],
          "scattergl": [
           {
            "marker": {
             "colorbar": {
              "outlinewidth": 0,
              "ticks": ""
             }
            },
            "type": "scattergl"
           }
          ],
          "scattermapbox": [
           {
            "marker": {
             "colorbar": {
              "outlinewidth": 0,
              "ticks": ""
             }
            },
            "type": "scattermapbox"
           }
          ],
          "scatterpolar": [
           {
            "marker": {
             "colorbar": {
              "outlinewidth": 0,
              "ticks": ""
             }
            },
            "type": "scatterpolar"
           }
          ],
          "scatterpolargl": [
           {
            "marker": {
             "colorbar": {
              "outlinewidth": 0,
              "ticks": ""
             }
            },
            "type": "scatterpolargl"
           }
          ],
          "scatterternary": [
           {
            "marker": {
             "colorbar": {
              "outlinewidth": 0,
              "ticks": ""
             }
            },
            "type": "scatterternary"
           }
          ],
          "surface": [
           {
            "colorbar": {
             "outlinewidth": 0,
             "ticks": ""
            },
            "colorscale": [
             [
              0,
              "#0d0887"
             ],
             [
              0.1111111111111111,
              "#46039f"
             ],
             [
              0.2222222222222222,
              "#7201a8"
             ],
             [
              0.3333333333333333,
              "#9c179e"
             ],
             [
              0.4444444444444444,
              "#bd3786"
             ],
             [
              0.5555555555555556,
              "#d8576b"
             ],
             [
              0.6666666666666666,
              "#ed7953"
             ],
             [
              0.7777777777777778,
              "#fb9f3a"
             ],
             [
              0.8888888888888888,
              "#fdca26"
             ],
             [
              1,
              "#f0f921"
             ]
            ],
            "type": "surface"
           }
          ],
          "table": [
           {
            "cells": {
             "fill": {
              "color": "#EBF0F8"
             },
             "line": {
              "color": "white"
             }
            },
            "header": {
             "fill": {
              "color": "#C8D4E3"
             },
             "line": {
              "color": "white"
             }
            },
            "type": "table"
           }
          ]
         },
         "layout": {
          "annotationdefaults": {
           "arrowcolor": "#2a3f5f",
           "arrowhead": 0,
           "arrowwidth": 1
          },
          "autotypenumbers": "strict",
          "coloraxis": {
           "colorbar": {
            "outlinewidth": 0,
            "ticks": ""
           }
          },
          "colorscale": {
           "diverging": [
            [
             0,
             "#8e0152"
            ],
            [
             0.1,
             "#c51b7d"
            ],
            [
             0.2,
             "#de77ae"
            ],
            [
             0.3,
             "#f1b6da"
            ],
            [
             0.4,
             "#fde0ef"
            ],
            [
             0.5,
             "#f7f7f7"
            ],
            [
             0.6,
             "#e6f5d0"
            ],
            [
             0.7,
             "#b8e186"
            ],
            [
             0.8,
             "#7fbc41"
            ],
            [
             0.9,
             "#4d9221"
            ],
            [
             1,
             "#276419"
            ]
           ],
           "sequential": [
            [
             0,
             "#0d0887"
            ],
            [
             0.1111111111111111,
             "#46039f"
            ],
            [
             0.2222222222222222,
             "#7201a8"
            ],
            [
             0.3333333333333333,
             "#9c179e"
            ],
            [
             0.4444444444444444,
             "#bd3786"
            ],
            [
             0.5555555555555556,
             "#d8576b"
            ],
            [
             0.6666666666666666,
             "#ed7953"
            ],
            [
             0.7777777777777778,
             "#fb9f3a"
            ],
            [
             0.8888888888888888,
             "#fdca26"
            ],
            [
             1,
             "#f0f921"
            ]
           ],
           "sequentialminus": [
            [
             0,
             "#0d0887"
            ],
            [
             0.1111111111111111,
             "#46039f"
            ],
            [
             0.2222222222222222,
             "#7201a8"
            ],
            [
             0.3333333333333333,
             "#9c179e"
            ],
            [
             0.4444444444444444,
             "#bd3786"
            ],
            [
             0.5555555555555556,
             "#d8576b"
            ],
            [
             0.6666666666666666,
             "#ed7953"
            ],
            [
             0.7777777777777778,
             "#fb9f3a"
            ],
            [
             0.8888888888888888,
             "#fdca26"
            ],
            [
             1,
             "#f0f921"
            ]
           ]
          },
          "colorway": [
           "#636efa",
           "#EF553B",
           "#00cc96",
           "#ab63fa",
           "#FFA15A",
           "#19d3f3",
           "#FF6692",
           "#B6E880",
           "#FF97FF",
           "#FECB52"
          ],
          "font": {
           "color": "#2a3f5f"
          },
          "geo": {
           "bgcolor": "white",
           "lakecolor": "white",
           "landcolor": "#E5ECF6",
           "showlakes": true,
           "showland": true,
           "subunitcolor": "white"
          },
          "hoverlabel": {
           "align": "left"
          },
          "hovermode": "closest",
          "mapbox": {
           "style": "light"
          },
          "paper_bgcolor": "white",
          "plot_bgcolor": "#E5ECF6",
          "polar": {
           "angularaxis": {
            "gridcolor": "white",
            "linecolor": "white",
            "ticks": ""
           },
           "bgcolor": "#E5ECF6",
           "radialaxis": {
            "gridcolor": "white",
            "linecolor": "white",
            "ticks": ""
           }
          },
          "scene": {
           "xaxis": {
            "backgroundcolor": "#E5ECF6",
            "gridcolor": "white",
            "gridwidth": 2,
            "linecolor": "white",
            "showbackground": true,
            "ticks": "",
            "zerolinecolor": "white"
           },
           "yaxis": {
            "backgroundcolor": "#E5ECF6",
            "gridcolor": "white",
            "gridwidth": 2,
            "linecolor": "white",
            "showbackground": true,
            "ticks": "",
            "zerolinecolor": "white"
           },
           "zaxis": {
            "backgroundcolor": "#E5ECF6",
            "gridcolor": "white",
            "gridwidth": 2,
            "linecolor": "white",
            "showbackground": true,
            "ticks": "",
            "zerolinecolor": "white"
           }
          },
          "shapedefaults": {
           "line": {
            "color": "#2a3f5f"
           }
          },
          "ternary": {
           "aaxis": {
            "gridcolor": "white",
            "linecolor": "white",
            "ticks": ""
           },
           "baxis": {
            "gridcolor": "white",
            "linecolor": "white",
            "ticks": ""
           },
           "bgcolor": "#E5ECF6",
           "caxis": {
            "gridcolor": "white",
            "linecolor": "white",
            "ticks": ""
           }
          },
          "title": {
           "x": 0.05
          },
          "xaxis": {
           "automargin": true,
           "gridcolor": "white",
           "linecolor": "white",
           "ticks": "",
           "title": {
            "standoff": 15
           },
           "zerolinecolor": "white",
           "zerolinewidth": 2
          },
          "yaxis": {
           "automargin": true,
           "gridcolor": "white",
           "linecolor": "white",
           "ticks": "",
           "title": {
            "standoff": 15
           },
           "zerolinecolor": "white",
           "zerolinewidth": 2
          }
         }
        },
        "title": {
         "text": "Mineral Dependency"
        }
       }
      }
     },
     "metadata": {},
     "output_type": "display_data"
    }
   ],
   "source": [
    "import plotly.graph_objects as go\n",
    "\n",
    "# Assume mineral_chart DataFrame and 'Status' column exist as described previously\n",
    "\n",
    "fig = go.Figure()\n",
    "\n",
    "# Add bars with conditional coloring\n",
    "for mineral, percent, status in zip(mineral_chart['Mineral'], mineral_chart['Percentage Reliant'], mineral_chart['Status']):\n",
    "    bar_color = 'red' if status == 'enemy' else 'blue'  # Change 'red' to any color you want for enemy status\n",
    "\n",
    "    fig.add_trace(\n",
    "        go.Bar(y=[mineral], x=[percent], orientation='h', \n",
    "               marker=dict(color=bar_color),\n",
    "               name='Critical Mineral Dependency', showlegend=False)\n",
    "    )\n",
    "\n",
    "fig.update_layout(title='Mineral Dependency')\n",
    "fig.show()\n"
   ]
  },
  {
   "cell_type": "code",
   "execution_count": 94,
   "metadata": {},
   "outputs": [
    {
     "data": {
      "application/vnd.plotly.v1+json": {
       "config": {
        "plotlyServerURL": "https://plot.ly"
       },
       "data": [
        {
         "alignmentgroup": "True",
         "hovertemplate": "Status=enemy<br>Percentage Reliant=%{x}<br>Mineral=%{y}<extra></extra>",
         "legendgroup": "enemy",
         "marker": {
          "color": "red",
          "pattern": {
           "shape": ""
          }
         },
         "name": "enemy",
         "offsetgroup": "enemy",
         "orientation": "h",
         "showlegend": true,
         "textposition": "auto",
         "type": "bar",
         "x": [
          "100",
          "100",
          "100",
          "100",
          "100",
          "100",
          "100",
          "100",
          "100",
          "100",
          "96",
          95,
          "94",
          "87",
          "83",
          "83",
          "82",
          "79",
          "75",
          "75",
          "75",
          "69",
          "62",
          "54",
          "54",
          "53",
          "50",
          "50",
          "50",
          "50",
          "45",
          "28",
          "26",
          "25",
          "25",
          "25",
          "24"
         ],
         "xaxis": "x",
         "y": [
          "ARSENIC",
          "ASBESTOS",
          "GALLIUM",
          "GRAPHITE",
          "INDIUM",
          "MICA (NATURAL), sheet",
          "SCANDIUM",
          "STRONTIUM",
          "TANTALUM",
          "YTTRIUM",
          "BISMUTH",
          "RARE EARTHS",
          "POTASH",
          "DIAMOND (INDUSTRIAL), stones",
          "ANTIMONY",
          "CHROMIUM",
          "STONE",
          "ABRASIVES",
          "ABRASIVES",
          "ABRASIVES, fused aluminum oxide",
          "TELLURIUM",
          "GARNET",
          "DIAMOND",
          "ALUMINUM",
          "VANADIUM",
          "MAGNESIUM COMPOUNDS",
          "GERMANIUM",
          "SELENIUM",
          "TUNGSTEN",
          "ZIRCONIUM",
          "SILICON",
          "PERLITE",
          "PALLADIUM",
          "LITHIUM",
          "BROMINE",
          "CADMIUM",
          "MICA"
         ],
         "yaxis": "y"
        },
        {
         "alignmentgroup": "True",
         "hovertemplate": "Status=neutral<br>Percentage Reliant=%{x}<br>Mineral=%{y}<extra></extra>",
         "legendgroup": "neutral",
         "marker": {
          "color": "gray",
          "pattern": {
           "shape": ""
          }
         },
         "name": "neutral",
         "offsetgroup": "neutral",
         "orientation": "h",
         "showlegend": true,
         "textposition": "auto",
         "type": "bar",
         "x": [
          "100",
          "100",
          "100",
          "100",
          "100",
          "99",
          "95",
          "95",
          "89",
          "81",
          "81",
          "77",
          "76",
          "76",
          "75",
          "69",
          "69",
          "66",
          "59",
          "56",
          "50",
          "50",
          "42",
          "41",
          "39",
          "29",
          "21",
          "20"
         ],
         "xaxis": "x",
         "y": [
          "CESIUM",
          "FLUORSPAR",
          "MANGANESE",
          "NIOBIUM",
          "RUBIDIUM",
          "GEMSTONES",
          "NEPHELINE SYENITE",
          "TITANIUM",
          "DIAMOND",
          "PEAT",
          "TITANIUM MINERAL CONCENTRATES",
          "ABRASIVES, silicon carbide",
          "COBALT",
          "ZINC",
          "BAUXITE",
          "RHENIUM",
          "SILVER",
          "PLATINUM",
          "DIAMOND (INDUSTRIAL), dust/powder",
          "NICKEL",
          "IODINE",
          "MAGNESIUM METAL",
          "LEAD",
          "COPPER",
          "FELDSPAR",
          "SALT",
          "MICA (NATURAL), scrap and flake",
          "VERMICULITE"
         ],
         "yaxis": "y"
        }
       ],
       "layout": {
        "barmode": "relative",
        "legend": {
         "title": {
          "text": "Status"
         },
         "tracegroupgap": 0
        },
        "showlegend": false,
        "template": {
         "data": {
          "bar": [
           {
            "error_x": {
             "color": "#2a3f5f"
            },
            "error_y": {
             "color": "#2a3f5f"
            },
            "marker": {
             "line": {
              "color": "#E5ECF6",
              "width": 0.5
             },
             "pattern": {
              "fillmode": "overlay",
              "size": 10,
              "solidity": 0.2
             }
            },
            "type": "bar"
           }
          ],
          "barpolar": [
           {
            "marker": {
             "line": {
              "color": "#E5ECF6",
              "width": 0.5
             },
             "pattern": {
              "fillmode": "overlay",
              "size": 10,
              "solidity": 0.2
             }
            },
            "type": "barpolar"
           }
          ],
          "carpet": [
           {
            "aaxis": {
             "endlinecolor": "#2a3f5f",
             "gridcolor": "white",
             "linecolor": "white",
             "minorgridcolor": "white",
             "startlinecolor": "#2a3f5f"
            },
            "baxis": {
             "endlinecolor": "#2a3f5f",
             "gridcolor": "white",
             "linecolor": "white",
             "minorgridcolor": "white",
             "startlinecolor": "#2a3f5f"
            },
            "type": "carpet"
           }
          ],
          "choropleth": [
           {
            "colorbar": {
             "outlinewidth": 0,
             "ticks": ""
            },
            "type": "choropleth"
           }
          ],
          "contour": [
           {
            "colorbar": {
             "outlinewidth": 0,
             "ticks": ""
            },
            "colorscale": [
             [
              0,
              "#0d0887"
             ],
             [
              0.1111111111111111,
              "#46039f"
             ],
             [
              0.2222222222222222,
              "#7201a8"
             ],
             [
              0.3333333333333333,
              "#9c179e"
             ],
             [
              0.4444444444444444,
              "#bd3786"
             ],
             [
              0.5555555555555556,
              "#d8576b"
             ],
             [
              0.6666666666666666,
              "#ed7953"
             ],
             [
              0.7777777777777778,
              "#fb9f3a"
             ],
             [
              0.8888888888888888,
              "#fdca26"
             ],
             [
              1,
              "#f0f921"
             ]
            ],
            "type": "contour"
           }
          ],
          "contourcarpet": [
           {
            "colorbar": {
             "outlinewidth": 0,
             "ticks": ""
            },
            "type": "contourcarpet"
           }
          ],
          "heatmap": [
           {
            "colorbar": {
             "outlinewidth": 0,
             "ticks": ""
            },
            "colorscale": [
             [
              0,
              "#0d0887"
             ],
             [
              0.1111111111111111,
              "#46039f"
             ],
             [
              0.2222222222222222,
              "#7201a8"
             ],
             [
              0.3333333333333333,
              "#9c179e"
             ],
             [
              0.4444444444444444,
              "#bd3786"
             ],
             [
              0.5555555555555556,
              "#d8576b"
             ],
             [
              0.6666666666666666,
              "#ed7953"
             ],
             [
              0.7777777777777778,
              "#fb9f3a"
             ],
             [
              0.8888888888888888,
              "#fdca26"
             ],
             [
              1,
              "#f0f921"
             ]
            ],
            "type": "heatmap"
           }
          ],
          "heatmapgl": [
           {
            "colorbar": {
             "outlinewidth": 0,
             "ticks": ""
            },
            "colorscale": [
             [
              0,
              "#0d0887"
             ],
             [
              0.1111111111111111,
              "#46039f"
             ],
             [
              0.2222222222222222,
              "#7201a8"
             ],
             [
              0.3333333333333333,
              "#9c179e"
             ],
             [
              0.4444444444444444,
              "#bd3786"
             ],
             [
              0.5555555555555556,
              "#d8576b"
             ],
             [
              0.6666666666666666,
              "#ed7953"
             ],
             [
              0.7777777777777778,
              "#fb9f3a"
             ],
             [
              0.8888888888888888,
              "#fdca26"
             ],
             [
              1,
              "#f0f921"
             ]
            ],
            "type": "heatmapgl"
           }
          ],
          "histogram": [
           {
            "marker": {
             "pattern": {
              "fillmode": "overlay",
              "size": 10,
              "solidity": 0.2
             }
            },
            "type": "histogram"
           }
          ],
          "histogram2d": [
           {
            "colorbar": {
             "outlinewidth": 0,
             "ticks": ""
            },
            "colorscale": [
             [
              0,
              "#0d0887"
             ],
             [
              0.1111111111111111,
              "#46039f"
             ],
             [
              0.2222222222222222,
              "#7201a8"
             ],
             [
              0.3333333333333333,
              "#9c179e"
             ],
             [
              0.4444444444444444,
              "#bd3786"
             ],
             [
              0.5555555555555556,
              "#d8576b"
             ],
             [
              0.6666666666666666,
              "#ed7953"
             ],
             [
              0.7777777777777778,
              "#fb9f3a"
             ],
             [
              0.8888888888888888,
              "#fdca26"
             ],
             [
              1,
              "#f0f921"
             ]
            ],
            "type": "histogram2d"
           }
          ],
          "histogram2dcontour": [
           {
            "colorbar": {
             "outlinewidth": 0,
             "ticks": ""
            },
            "colorscale": [
             [
              0,
              "#0d0887"
             ],
             [
              0.1111111111111111,
              "#46039f"
             ],
             [
              0.2222222222222222,
              "#7201a8"
             ],
             [
              0.3333333333333333,
              "#9c179e"
             ],
             [
              0.4444444444444444,
              "#bd3786"
             ],
             [
              0.5555555555555556,
              "#d8576b"
             ],
             [
              0.6666666666666666,
              "#ed7953"
             ],
             [
              0.7777777777777778,
              "#fb9f3a"
             ],
             [
              0.8888888888888888,
              "#fdca26"
             ],
             [
              1,
              "#f0f921"
             ]
            ],
            "type": "histogram2dcontour"
           }
          ],
          "mesh3d": [
           {
            "colorbar": {
             "outlinewidth": 0,
             "ticks": ""
            },
            "type": "mesh3d"
           }
          ],
          "parcoords": [
           {
            "line": {
             "colorbar": {
              "outlinewidth": 0,
              "ticks": ""
             }
            },
            "type": "parcoords"
           }
          ],
          "pie": [
           {
            "automargin": true,
            "type": "pie"
           }
          ],
          "scatter": [
           {
            "fillpattern": {
             "fillmode": "overlay",
             "size": 10,
             "solidity": 0.2
            },
            "type": "scatter"
           }
          ],
          "scatter3d": [
           {
            "line": {
             "colorbar": {
              "outlinewidth": 0,
              "ticks": ""
             }
            },
            "marker": {
             "colorbar": {
              "outlinewidth": 0,
              "ticks": ""
             }
            },
            "type": "scatter3d"
           }
          ],
          "scattercarpet": [
           {
            "marker": {
             "colorbar": {
              "outlinewidth": 0,
              "ticks": ""
             }
            },
            "type": "scattercarpet"
           }
          ],
          "scattergeo": [
           {
            "marker": {
             "colorbar": {
              "outlinewidth": 0,
              "ticks": ""
             }
            },
            "type": "scattergeo"
           }
          ],
          "scattergl": [
           {
            "marker": {
             "colorbar": {
              "outlinewidth": 0,
              "ticks": ""
             }
            },
            "type": "scattergl"
           }
          ],
          "scattermapbox": [
           {
            "marker": {
             "colorbar": {
              "outlinewidth": 0,
              "ticks": ""
             }
            },
            "type": "scattermapbox"
           }
          ],
          "scatterpolar": [
           {
            "marker": {
             "colorbar": {
              "outlinewidth": 0,
              "ticks": ""
             }
            },
            "type": "scatterpolar"
           }
          ],
          "scatterpolargl": [
           {
            "marker": {
             "colorbar": {
              "outlinewidth": 0,
              "ticks": ""
             }
            },
            "type": "scatterpolargl"
           }
          ],
          "scatterternary": [
           {
            "marker": {
             "colorbar": {
              "outlinewidth": 0,
              "ticks": ""
             }
            },
            "type": "scatterternary"
           }
          ],
          "surface": [
           {
            "colorbar": {
             "outlinewidth": 0,
             "ticks": ""
            },
            "colorscale": [
             [
              0,
              "#0d0887"
             ],
             [
              0.1111111111111111,
              "#46039f"
             ],
             [
              0.2222222222222222,
              "#7201a8"
             ],
             [
              0.3333333333333333,
              "#9c179e"
             ],
             [
              0.4444444444444444,
              "#bd3786"
             ],
             [
              0.5555555555555556,
              "#d8576b"
             ],
             [
              0.6666666666666666,
              "#ed7953"
             ],
             [
              0.7777777777777778,
              "#fb9f3a"
             ],
             [
              0.8888888888888888,
              "#fdca26"
             ],
             [
              1,
              "#f0f921"
             ]
            ],
            "type": "surface"
           }
          ],
          "table": [
           {
            "cells": {
             "fill": {
              "color": "#EBF0F8"
             },
             "line": {
              "color": "white"
             }
            },
            "header": {
             "fill": {
              "color": "#C8D4E3"
             },
             "line": {
              "color": "white"
             }
            },
            "type": "table"
           }
          ]
         },
         "layout": {
          "annotationdefaults": {
           "arrowcolor": "#2a3f5f",
           "arrowhead": 0,
           "arrowwidth": 1
          },
          "autotypenumbers": "strict",
          "coloraxis": {
           "colorbar": {
            "outlinewidth": 0,
            "ticks": ""
           }
          },
          "colorscale": {
           "diverging": [
            [
             0,
             "#8e0152"
            ],
            [
             0.1,
             "#c51b7d"
            ],
            [
             0.2,
             "#de77ae"
            ],
            [
             0.3,
             "#f1b6da"
            ],
            [
             0.4,
             "#fde0ef"
            ],
            [
             0.5,
             "#f7f7f7"
            ],
            [
             0.6,
             "#e6f5d0"
            ],
            [
             0.7,
             "#b8e186"
            ],
            [
             0.8,
             "#7fbc41"
            ],
            [
             0.9,
             "#4d9221"
            ],
            [
             1,
             "#276419"
            ]
           ],
           "sequential": [
            [
             0,
             "#0d0887"
            ],
            [
             0.1111111111111111,
             "#46039f"
            ],
            [
             0.2222222222222222,
             "#7201a8"
            ],
            [
             0.3333333333333333,
             "#9c179e"
            ],
            [
             0.4444444444444444,
             "#bd3786"
            ],
            [
             0.5555555555555556,
             "#d8576b"
            ],
            [
             0.6666666666666666,
             "#ed7953"
            ],
            [
             0.7777777777777778,
             "#fb9f3a"
            ],
            [
             0.8888888888888888,
             "#fdca26"
            ],
            [
             1,
             "#f0f921"
            ]
           ],
           "sequentialminus": [
            [
             0,
             "#0d0887"
            ],
            [
             0.1111111111111111,
             "#46039f"
            ],
            [
             0.2222222222222222,
             "#7201a8"
            ],
            [
             0.3333333333333333,
             "#9c179e"
            ],
            [
             0.4444444444444444,
             "#bd3786"
            ],
            [
             0.5555555555555556,
             "#d8576b"
            ],
            [
             0.6666666666666666,
             "#ed7953"
            ],
            [
             0.7777777777777778,
             "#fb9f3a"
            ],
            [
             0.8888888888888888,
             "#fdca26"
            ],
            [
             1,
             "#f0f921"
            ]
           ]
          },
          "colorway": [
           "#636efa",
           "#EF553B",
           "#00cc96",
           "#ab63fa",
           "#FFA15A",
           "#19d3f3",
           "#FF6692",
           "#B6E880",
           "#FF97FF",
           "#FECB52"
          ],
          "font": {
           "color": "#2a3f5f"
          },
          "geo": {
           "bgcolor": "white",
           "lakecolor": "white",
           "landcolor": "#E5ECF6",
           "showlakes": true,
           "showland": true,
           "subunitcolor": "white"
          },
          "hoverlabel": {
           "align": "left"
          },
          "hovermode": "closest",
          "mapbox": {
           "style": "light"
          },
          "paper_bgcolor": "white",
          "plot_bgcolor": "#E5ECF6",
          "polar": {
           "angularaxis": {
            "gridcolor": "white",
            "linecolor": "white",
            "ticks": ""
           },
           "bgcolor": "#E5ECF6",
           "radialaxis": {
            "gridcolor": "white",
            "linecolor": "white",
            "ticks": ""
           }
          },
          "scene": {
           "xaxis": {
            "backgroundcolor": "#E5ECF6",
            "gridcolor": "white",
            "gridwidth": 2,
            "linecolor": "white",
            "showbackground": true,
            "ticks": "",
            "zerolinecolor": "white"
           },
           "yaxis": {
            "backgroundcolor": "#E5ECF6",
            "gridcolor": "white",
            "gridwidth": 2,
            "linecolor": "white",
            "showbackground": true,
            "ticks": "",
            "zerolinecolor": "white"
           },
           "zaxis": {
            "backgroundcolor": "#E5ECF6",
            "gridcolor": "white",
            "gridwidth": 2,
            "linecolor": "white",
            "showbackground": true,
            "ticks": "",
            "zerolinecolor": "white"
           }
          },
          "shapedefaults": {
           "line": {
            "color": "#2a3f5f"
           }
          },
          "ternary": {
           "aaxis": {
            "gridcolor": "white",
            "linecolor": "white",
            "ticks": ""
           },
           "baxis": {
            "gridcolor": "white",
            "linecolor": "white",
            "ticks": ""
           },
           "bgcolor": "#E5ECF6",
           "caxis": {
            "gridcolor": "white",
            "linecolor": "white",
            "ticks": ""
           }
          },
          "title": {
           "x": 0.05
          },
          "xaxis": {
           "automargin": true,
           "gridcolor": "white",
           "linecolor": "white",
           "ticks": "",
           "title": {
            "standoff": 15
           },
           "zerolinecolor": "white",
           "zerolinewidth": 2
          },
          "yaxis": {
           "automargin": true,
           "gridcolor": "white",
           "linecolor": "white",
           "ticks": "",
           "title": {
            "standoff": 15
           },
           "zerolinecolor": "white",
           "zerolinewidth": 2
          }
         }
        },
        "title": {
         "text": "Mineral Dependency"
        },
        "xaxis": {
         "anchor": "y",
         "domain": [
          0,
          1
         ],
         "title": {
          "text": "Percentage Reliant"
         }
        },
        "yaxis": {
         "anchor": "x",
         "domain": [
          0,
          1
         ],
         "title": {
          "text": "Mineral"
         }
        }
       }
      }
     },
     "metadata": {},
     "output_type": "display_data"
    }
   ],
   "source": [
    "import plotly.express as px\n",
    "\n",
    "fig = px.bar(mineral_chart, \n",
    "             x='Percentage Reliant', \n",
    "             y='Mineral', \n",
    "             orientation='h', \n",
    "             color='Status', \n",
    "             color_discrete_map={'enemy': 'red', 'neutral': 'gray' ,'ally':'blue'},  # Assign colors based on status\n",
    "             labels={'Mineral': 'Mineral', 'Percentage Reliant': 'Percentage Reliant'},\n",
    "             title='Mineral Dependency'\n",
    "            )\n",
    "\n",
    "fig.update_layout(showlegend=False)  # Hide the legend if not needed\n",
    "fig.show()"
   ]
  }
 ],
 "metadata": {
  "kernelspec": {
   "display_name": "base",
   "language": "python",
   "name": "python3"
  },
  "language_info": {
   "codemirror_mode": {
    "name": "ipython",
    "version": 3
   },
   "file_extension": ".py",
   "mimetype": "text/x-python",
   "name": "python",
   "nbconvert_exporter": "python",
   "pygments_lexer": "ipython3",
   "version": "3.10.13"
  }
 },
 "nbformat": 4,
 "nbformat_minor": 2
}
