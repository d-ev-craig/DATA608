{
 "cells": [
  {
   "cell_type": "markdown",
   "metadata": {},
   "source": [
    "# Story 7\n",
    "\n",
    "Story - 7 : Where Do Strategic Minerals Come From?\n",
    "The US Geological Survey publishes a list of Strategic Minerals ( https://www.usgs.gov/news/national-news-release/us-geological-survey-releases-2022-list-critical-minerals ). Having a secure supply of these minerals is essential to our security and economic prosperity. However many of these minerals are sourced from outside of the US. This assignment is to develop a reference catalog of the source or sources of each of these minerals and a judgement on the reliability of each source under stressed circumstance (e.g. war, economic crisis, etc.)\n",
    "Notes:\n",
    "You will need to identify a source or sources for each of the minerals in the 2022 List of Critical Minerals\n",
    "\n",
    "You will need to categorize each source country as an ally, a competitor or a neutral party.\n",
    "\n",
    "You will need to develop data visualizations that tell the story of source dependency and shortfall impact.\n",
    "\n",
    "This assignment is due at the end of week fourteen of the semester"
   ]
  },
  {
   "cell_type": "markdown",
   "metadata": {},
   "source": [
    "If I have:\n",
    "\n",
    "1. Tabular data on List of Countries + Status as either Enemy, Ally, Neutral\n",
    "2. List of Critical Minerals and Import Locations for U.S.\n",
    "\n",
    "That should be everything I need to start making graphics."
   ]
  },
  {
   "cell_type": "markdown",
   "metadata": {},
   "source": []
  },
  {
   "cell_type": "code",
   "execution_count": null,
   "metadata": {},
   "outputs": [],
   "source": [
    "pd.set_option('display.max_columns', None)\n",
    "\n",
    "pd.set_option('display.max_colwidth', None)\n",
    "\n",
    "pd.set_option('display.max_rows', None)\n",
    "pd.reset_option('display.max_rows')\n"
   ]
  },
  {
   "cell_type": "code",
   "execution_count": 38,
   "metadata": {},
   "outputs": [
    {
     "data": {
      "text/html": [
       "<div>\n",
       "<style scoped>\n",
       "    .dataframe tbody tr th:only-of-type {\n",
       "        vertical-align: middle;\n",
       "    }\n",
       "\n",
       "    .dataframe tbody tr th {\n",
       "        vertical-align: top;\n",
       "    }\n",
       "\n",
       "    .dataframe thead th {\n",
       "        text-align: right;\n",
       "    }\n",
       "</style>\n",
       "<table border=\"1\" class=\"dataframe\">\n",
       "  <thead>\n",
       "    <tr style=\"text-align: right;\">\n",
       "      <th></th>\n",
       "      <th>Mineral</th>\n",
       "      <th>Country</th>\n",
       "      <th>Percent</th>\n",
       "      <th>Reliance</th>\n",
       "      <th>Value</th>\n",
       "    </tr>\n",
       "  </thead>\n",
       "  <tbody>\n",
       "    <tr>\n",
       "      <th>0</th>\n",
       "      <td>Fused Aluminum Oxide</td>\n",
       "      <td>China</td>\n",
       "      <td>0.93</td>\n",
       "      <td>75</td>\n",
       "      <td>69.75</td>\n",
       "    </tr>\n",
       "    <tr>\n",
       "      <th>1</th>\n",
       "      <td>Fused Aluminum Oxide</td>\n",
       "      <td>Bahrain</td>\n",
       "      <td>0.03</td>\n",
       "      <td>75</td>\n",
       "      <td>2.25</td>\n",
       "    </tr>\n",
       "    <tr>\n",
       "      <th>2</th>\n",
       "      <td>Fused Aluminum Oxide</td>\n",
       "      <td>Other</td>\n",
       "      <td>0.04</td>\n",
       "      <td>75</td>\n",
       "      <td>3.00</td>\n",
       "    </tr>\n",
       "    <tr>\n",
       "      <th>3</th>\n",
       "      <td>Alumina</td>\n",
       "      <td>Brazil</td>\n",
       "      <td>0.59</td>\n",
       "      <td>59</td>\n",
       "      <td>34.81</td>\n",
       "    </tr>\n",
       "    <tr>\n",
       "      <th>4</th>\n",
       "      <td>Alumina</td>\n",
       "      <td>Australia</td>\n",
       "      <td>0.14</td>\n",
       "      <td>59</td>\n",
       "      <td>8.26</td>\n",
       "    </tr>\n",
       "    <tr>\n",
       "      <th>...</th>\n",
       "      <td>...</td>\n",
       "      <td>...</td>\n",
       "      <td>...</td>\n",
       "      <td>...</td>\n",
       "      <td>...</td>\n",
       "    </tr>\n",
       "    <tr>\n",
       "      <th>239</th>\n",
       "      <td>Gemstones</td>\n",
       "      <td>Israel</td>\n",
       "      <td>0.28</td>\n",
       "      <td>100</td>\n",
       "      <td>28.00</td>\n",
       "    </tr>\n",
       "    <tr>\n",
       "      <th>240</th>\n",
       "      <td>Gemstones</td>\n",
       "      <td>Other</td>\n",
       "      <td>0.27</td>\n",
       "      <td>100</td>\n",
       "      <td>27.00</td>\n",
       "    </tr>\n",
       "    <tr>\n",
       "      <th>241</th>\n",
       "      <td>Vermiculite</td>\n",
       "      <td>South Africa</td>\n",
       "      <td>0.64</td>\n",
       "      <td>20</td>\n",
       "      <td>12.80</td>\n",
       "    </tr>\n",
       "    <tr>\n",
       "      <th>242</th>\n",
       "      <td>Vermiculite</td>\n",
       "      <td>Brazil</td>\n",
       "      <td>0.35</td>\n",
       "      <td>20</td>\n",
       "      <td>7.00</td>\n",
       "    </tr>\n",
       "    <tr>\n",
       "      <th>243</th>\n",
       "      <td>Vermiculite</td>\n",
       "      <td>Other</td>\n",
       "      <td>0.01</td>\n",
       "      <td>20</td>\n",
       "      <td>0.20</td>\n",
       "    </tr>\n",
       "  </tbody>\n",
       "</table>\n",
       "<p>244 rows × 5 columns</p>\n",
       "</div>"
      ],
      "text/plain": [
       "                  Mineral       Country  Percent  Reliance  Value\n",
       "0    Fused Aluminum Oxide         China     0.93        75  69.75\n",
       "1    Fused Aluminum Oxide       Bahrain     0.03        75   2.25\n",
       "2    Fused Aluminum Oxide         Other     0.04        75   3.00\n",
       "3                 Alumina        Brazil     0.59        59  34.81\n",
       "4                 Alumina     Australia     0.14        59   8.26\n",
       "..                    ...           ...      ...       ...    ...\n",
       "239             Gemstones        Israel     0.28       100  28.00\n",
       "240             Gemstones         Other     0.27       100  27.00\n",
       "241           Vermiculite  South Africa     0.64        20  12.80\n",
       "242           Vermiculite        Brazil     0.35        20   7.00\n",
       "243           Vermiculite         Other     0.01        20   0.20\n",
       "\n",
       "[244 rows x 5 columns]"
      ]
     },
     "execution_count": 38,
     "metadata": {},
     "output_type": "execute_result"
    }
   ],
   "source": [
    "import pandas as pd\n",
    "\n",
    "file_path = 'data/mineral_summary.csv'\n",
    "\n",
    "mineral_summary = pd.read_csv(file_path)\n",
    "\n",
    "mineral_summary"
   ]
  },
  {
   "cell_type": "markdown",
   "metadata": {},
   "source": [
    "## Grabbing Mineral Chart"
   ]
  },
  {
   "cell_type": "code",
   "execution_count": 6,
   "metadata": {},
   "outputs": [
    {
     "data": {
      "text/html": [
       "<div>\n",
       "<style scoped>\n",
       "    .dataframe tbody tr th:only-of-type {\n",
       "        vertical-align: middle;\n",
       "    }\n",
       "\n",
       "    .dataframe tbody tr th {\n",
       "        vertical-align: top;\n",
       "    }\n",
       "\n",
       "    .dataframe thead th {\n",
       "        text-align: right;\n",
       "    }\n",
       "</style>\n",
       "<table border=\"1\" class=\"dataframe\">\n",
       "  <thead>\n",
       "    <tr style=\"text-align: right;\">\n",
       "      <th></th>\n",
       "      <th>Mineral</th>\n",
       "      <th>Percentage Reliant</th>\n",
       "      <th>Major Sources</th>\n",
       "    </tr>\n",
       "  </thead>\n",
       "  <tbody>\n",
       "    <tr>\n",
       "      <th>0</th>\n",
       "      <td>ARSENIC</td>\n",
       "      <td>100</td>\n",
       "      <td>China, Morocco, Belgium</td>\n",
       "    </tr>\n",
       "    <tr>\n",
       "      <th>1</th>\n",
       "      <td>ASBESTOS</td>\n",
       "      <td>100</td>\n",
       "      <td>Brazil, Russia</td>\n",
       "    </tr>\n",
       "    <tr>\n",
       "      <th>2</th>\n",
       "      <td>CESIUM</td>\n",
       "      <td>100</td>\n",
       "      <td>Germany</td>\n",
       "    </tr>\n",
       "    <tr>\n",
       "      <th>3</th>\n",
       "      <td>FLUORSPAR</td>\n",
       "      <td>100</td>\n",
       "      <td>Mexico, Vietnam, South Africa, Canada</td>\n",
       "    </tr>\n",
       "    <tr>\n",
       "      <th>4</th>\n",
       "      <td>GALLIUM</td>\n",
       "      <td>100</td>\n",
       "      <td>China, Germany, Japan, Ukraine</td>\n",
       "    </tr>\n",
       "    <tr>\n",
       "      <th>...</th>\n",
       "      <td>...</td>\n",
       "      <td>...</td>\n",
       "      <td>...</td>\n",
       "    </tr>\n",
       "    <tr>\n",
       "      <th>61</th>\n",
       "      <td>BROMINE</td>\n",
       "      <td>25</td>\n",
       "      <td>Israel, Jordan, China</td>\n",
       "    </tr>\n",
       "    <tr>\n",
       "      <th>62</th>\n",
       "      <td>CADMIUM</td>\n",
       "      <td>25</td>\n",
       "      <td>Australia, Germany, China, Peru</td>\n",
       "    </tr>\n",
       "    <tr>\n",
       "      <th>63</th>\n",
       "      <td>MICA</td>\n",
       "      <td>24</td>\n",
       "      <td>Canada, China, India, Finland</td>\n",
       "    </tr>\n",
       "    <tr>\n",
       "      <th>64</th>\n",
       "      <td>CEMENT</td>\n",
       "      <td>21</td>\n",
       "      <td>Canada, Turkey, Greece, Mexico</td>\n",
       "    </tr>\n",
       "    <tr>\n",
       "      <th>65</th>\n",
       "      <td>VERMICULITE</td>\n",
       "      <td>20</td>\n",
       "      <td>South Africa, Brazil</td>\n",
       "    </tr>\n",
       "  </tbody>\n",
       "</table>\n",
       "<p>66 rows × 3 columns</p>\n",
       "</div>"
      ],
      "text/plain": [
       "        Mineral Percentage Reliant                          Major Sources\n",
       "0       ARSENIC                100                China, Morocco, Belgium\n",
       "1      ASBESTOS                100                         Brazil, Russia\n",
       "2        CESIUM                100                                Germany\n",
       "3     FLUORSPAR                100  Mexico, Vietnam, South Africa, Canada\n",
       "4       GALLIUM                100         China, Germany, Japan, Ukraine\n",
       "..          ...                ...                                    ...\n",
       "61      BROMINE                 25                  Israel, Jordan, China\n",
       "62      CADMIUM                 25        Australia, Germany, China, Peru\n",
       "63         MICA                 24          Canada, China, India, Finland\n",
       "64       CEMENT                 21         Canada, Turkey, Greece, Mexico\n",
       "65  VERMICULITE                 20                   South Africa, Brazil\n",
       "\n",
       "[66 rows x 3 columns]"
      ]
     },
     "execution_count": 6,
     "metadata": {},
     "output_type": "execute_result"
    }
   ],
   "source": [
    "import PyPDF2\n",
    "import re\n",
    "\n",
    "data = '''\n",
    "ARSENIC, all forms 100 China, Morocco, Belgium\n",
    "ASBESTOS 100 Brazil, Russia\n",
    "CESIUM 100 Germany\n",
    "FLUORSPAR 100 Mexico, Vietnam, South Africa, Canada\n",
    "GALLIUM 100 China, Germany, Japan, Ukraine\n",
    "GRAPHITE (NATURAL) 100 China, Mexico, Canada, Madagascar\n",
    "INDIUM 100 Republic of Korea, Canada, China, France\n",
    "MANGANESE 100 Gabon, South Africa, Australia, Georgia\n",
    "MICA (NATURAL), sheet 100 China, Brazil, Belgium, Austria\n",
    "NIOBIUM (COLUMBIUM) 100 Brazil, Canada \n",
    "RUBIDIUM 100 Germany\n",
    "SCANDIUM 100 Europe, China, Japan, Philippines\n",
    "STRONTIUM 100 Mexico, Germany, China\n",
    "TANTALUM 100 China, Germany, Australia, Indonesia\n",
    "YTTRIUM 100 China, Germany, Republic of Korea, Japan\n",
    "GEMSTONES 99 India, Israel, Belgium, South Africa\n",
    "BISMUTH 96 China, Republic of Korea, Mexico, Belgium\n",
    "NEPHELINE SYENITE >95 Canada\n",
    "RARE EARTHS,3\n",
    " compounds and metals >95 China, Malaysia, Estonia, Japan\n",
    "TITANIUM, sponge metal >95 Japan, Kazakhstan, Ukraine\n",
    "POTASH 94 Canada, Russia, Belarus\n",
    "DIAMOND (INDUSTRIAL), stones 89 South Africa, Congo (Kinshasa), India, Sierra Leone\n",
    "IRON OXIDE PIGMENTS, natural and synthetic 87 China, Germany, Brazil, Canada\n",
    "ANTIMONY, metal and oxide 83 China, Belgium, India \n",
    "CHROMIUM, all forms 83 South Africa, Kazakhstan, Russia, Germany\n",
    "STONE (DIMENSION) 82 Brazil, China, Italy, India\n",
    "PEAT 81 Canada\n",
    "TITANIUM MINERAL CONCENTRATES 81 South Africa, Australia, Madagascar, Canada\n",
    "ABRASIVES, silicon carbide 79 China, Brazil, Netherlands, South Africa \n",
    "TIN, refined 77 Peru, Indonesia, Bolivia, Malaysia\n",
    "COBALT 76 Norway, Canada, Finland, Japan\n",
    "ZINC, refined 76 Canada, Mexico, Peru, Spain\n",
    "ABRASIVES, fused aluminum oxide >75 China, Canada, Brazil, Austria\n",
    "BARITE >75 China, India, Morocco, Mexico\n",
    "BAUXITE >75 Jamaica, Brazil, Guyana, Turkey\n",
    "TELLURIUM >75 Canada, Germany, China, Philippines\n",
    "GARNET (INDUSTRIAL) 69 South Africa, China, India, Australia\n",
    "RHENIUM 69 Chile, Canada, Germany, Kazakhstan\n",
    "SILVER 69 Mexico, Canada, Poland, Chile\n",
    "PLATINUM 66 South Africa, Germany, Switzerland, Italy\n",
    "DIAMOND (INDUSTRIAL), bort, grit, dust, and powder 62 China, Republic of Korea, Ireland, Russia\n",
    "ALUMINA 59 Brazil, Australia, Jamaica, Canada\n",
    "NICKEL 56 Canada, Norway, Australia, Finland\n",
    "ALUMINUM 54 Canada, United Arab Emirates, Russia, China\n",
    "VANADIUM 54 Canada, China, Brazil, South Africa\n",
    "MAGNESIUM COMPOUNDS 53 China, Israel, Canada, Brazil\n",
    "GERMANIUM >50 China, Belgium, Germany, Russia\n",
    "IODINE >50 Chile, Japan\n",
    "MAGNESIUM METAL >50 Canada, Israel, Mexico, Taiwan\n",
    "SELENIUM >50 Philippines, Mexico, Germany, China\n",
    "TUNGSTEN >50 China, Germany, Bolivia, Vietnam\n",
    "ZIRCONIUM, ores and concentrates <50 South Africa, Senegal, Australia, Russia\n",
    "SILICON, metal and ferrosilicon 45 Russia, Brazil, Canada, Norway\n",
    "LEAD, refined 42 Canada, Mexico, Republic of Korea\n",
    "COPPER, refined 41 Chile, Canada, Mexico\n",
    "FELDSPAR 39 Turkey, Mexico\n",
    "SALT 29 Chile, Canada, Mexico, Egypt\n",
    "PERLITE 28 Greece, China, Mexico\n",
    "PALLADIUM 26 Russia, South Africa, Italy, Germany \n",
    "LITHIUM >25 Argentina, Chile, China, Russia\n",
    "BROMINE <25 Israel, Jordan, China\n",
    "CADMIUM, unwrought <25 Australia, Germany, China, Peru\n",
    "MICA (NATURAL), scrap and flake 24 Canada, China, India, Finland \n",
    "CEMENT 21 Canada, Turkey, Greece, Mexico\n",
    "VERMICULITE 20 South Africa, Brazil\n",
    "'''\n",
    "\n",
    "\n",
    "# Split the text into individual lines\n",
    "lines = data.strip().split('\\n')\n",
    "\n",
    "# Initialize lists to store data\n",
    "mineral_list = []\n",
    "percentage_list = []\n",
    "sources_list = []\n",
    "\n",
    "# Extracting information and populating lists\n",
    "for line in lines:\n",
    "    # Extracting mineral name\n",
    "    mineral_match = re.match(r'^([A-Z\\s]+[A-Z])(?:[\\s\\,].*)?$', line)\n",
    "    if mineral_match:\n",
    "        mineral_list.append(mineral_match.group(1))\n",
    "    else:\n",
    "        mineral_list.append(None)\n",
    "\n",
    "    # Extracting percentage and sources\n",
    "    percentage_sources_match = re.match(r'^.*?(\\d+\\s*[><]*\\d*).*?([A-Z][a-zA-Z\\s\\,\\(\\)\\-]+)$', line)\n",
    "    if percentage_sources_match:\n",
    "        percentage_list.append(percentage_sources_match.group(1).strip())\n",
    "        sources_list.append(percentage_sources_match.group(2).strip())\n",
    "    else:\n",
    "        percentage_list.append(None)\n",
    "        sources_list.append(None)\n",
    "\n",
    "# Create DataFrame\n",
    "mineral_chart = pd.DataFrame({\n",
    "    'Mineral': mineral_list,\n",
    "    'Percentage Reliant': percentage_list,\n",
    "    'Major Sources': sources_list\n",
    "})\n",
    "\n",
    "mineral_chart\n"
   ]
  },
  {
   "cell_type": "code",
   "execution_count": null,
   "metadata": {},
   "outputs": [],
   "source": [
    "pd.set_option('display.max_rows', None)\n",
    "mineral_chart"
   ]
  },
  {
   "cell_type": "code",
   "execution_count": null,
   "metadata": {},
   "outputs": [],
   "source": [
    "pd.reset_option('display.max_rows')"
   ]
  },
  {
   "cell_type": "markdown",
   "metadata": {},
   "source": [
    "### Checking for missing minerals\n",
    "\n",
    "We are trying to get only minerals that are above 20% reliant"
   ]
  },
  {
   "cell_type": "code",
   "execution_count": 9,
   "metadata": {},
   "outputs": [
    {
     "name": "stdout",
     "output_type": "stream",
     "text": [
      "['SILVER', 'IODINE', 'MICA', 'ABRASIVES', 'NIOBIUM', 'RHENIUM', 'FELDSPAR', 'ALUMINA', 'YTTRIUM', 'TITANIUM', 'ZIRCONIUM', 'IRON OXIDE PIGMENTS', 'TIN', 'CEMENT', 'ALUMINUM', 'ARSENIC', 'TANTALUM', 'BARITE', 'BISMUTH', 'PERLITE', 'TUNGSTEN', 'STONE', 'NEPHELINE SYENITE', 'PLATINUM', 'TELLURIUM', 'ASBESTOS', 'CESIUM', 'FLUORSPAR', 'TITANIUM MINERAL CONCENTRATES', 'BAUXITE', 'VERMICULITE', 'GEMSTONES', 'GERMANIUM', 'GALLIUM', 'RUBIDIUM', 'MAGNESIUM COMPOUNDS', 'MAGNESIUM METAL', 'LEAD', 'GARNET', 'ANTIMONY', 'CHROMIUM', 'POTASH', 'STRONTIUM', 'SELENIUM', 'SALT', 'BROMINE', 'ZINC', 'INDIUM', 'PEAT', 'CADMIUM', None, 'SCANDIUM', 'RARE EARTHS', 'MANGANESE', 'DIAMOND', 'COBALT', 'SILICON', 'GRAPHITE', 'COPPER', 'LITHIUM', 'PALLADIUM', 'NICKEL', 'VANADIUM']\n",
      "{'Boron', 'Copper (ore)', 'Lithium', 'Barite', 'Lead', 'Scandium', 'Iron and Steel', 'Magnesium Metal', 'Arsenic Metal', 'Soda Ash', 'Nepheline Syenite', 'Bromine', 'Molybdenum (ore)', 'Fused Aluminum Oxide', 'Alumina', 'Cement', 'Wollastonite', 'Sand and Gravel (Industrial)', 'Vanadium', 'Iron and Steel (slag)', 'Silver', 'Fluorspar', 'Beryllium', 'Iron Oxide Pigments (synthetic)', 'Mica (natural)', 'Zirconium (ore)', 'Phosphate Rock', 'Strontium', 'Diamond (powder)', 'Gold (ore)', 'Peat', 'Perlite', 'Sand and Gravel (Construction)', 'Sulfur', 'Manganese (ore)', 'Aluminum', 'Bismuth', 'Graphite', 'Quartz Crystal', 'Stone (Crushed)', 'Bauxite', 'Iodine', 'Magnesium (sulfates)', 'Diatomite', 'Feldspar', 'Tin', 'Thorium (ore)', 'Niobium (ore)', 'Lime', 'Kyanite', 'Cadmium', 'Nitrogen Ammonia', 'Pumice', 'Rhenium (metal powder)', 'Tellurium', 'Helium', 'Gypsum', 'Chromium (primary metal)', 'Tantalum (ore)', 'Indium', 'Gallium', 'Nickel', 'Salt', 'Hafnium', 'Asbestos', 'Antimony', 'Selenium', 'Zinc (ore)'}\n"
     ]
    }
   ],
   "source": [
    "# Get unique minerals in each DataFrame\n",
    "minerals_chart_set = set(mineral_chart['Mineral'])\n",
    "minerals_summary_set = set(mineral_summary['Mineral'])\n",
    "\n",
    "# Find minerals present in mineral_chart but not in mineral_summary\n",
    "unique_minerals = minerals_chart_set - minerals_summary_set\n",
    "\n",
    "print(list(unique_minerals))\n",
    "print(minerals_summary_set)"
   ]
  },
  {
   "cell_type": "markdown",
   "metadata": {},
   "source": [
    "### Testing PyPDF2"
   ]
  },
  {
   "cell_type": "markdown",
   "metadata": {},
   "source": [
    "### Actual Used\n",
    "\n",
    "Source: https://pubs.usgs.gov/publication/mcs2023\n",
    "\n",
    "Click on Mineral Commodity Summaries Prior to 2023\n",
    "\n",
    "Takes you here: https://pubs.usgs.gov/periodicals/mcs2023/mcs2023.pdf\n"
   ]
  },
  {
   "cell_type": "code",
   "execution_count": null,
   "metadata": {},
   "outputs": [],
   "source": [
    "# Set display options to show all columns and rows\n",
    "pd.set_option('display.max_columns', None)\n",
    "pd.set_option('display.max_rows', None)\n",
    "\n",
    "mineral_chart\n"
   ]
  },
  {
   "cell_type": "code",
   "execution_count": 26,
   "metadata": {},
   "outputs": [],
   "source": [
    "pd.set_option('display.max_columns', None)\n",
    "pd.set_option('display.max_rows', None)\n",
    "pd.reset_option('display.max_columns')\n",
    "pd.reset_option('display.max_rows')\n",
    "\n"
   ]
  },
  {
   "cell_type": "code",
   "execution_count": 39,
   "metadata": {},
   "outputs": [],
   "source": [
    "#Source: \"https://developers.google.com/public-data/docs/canonical/countries_csv\"\n",
    "\n",
    "import pandas as pd\n",
    "\n",
    "# Replace 'your_text_file.txt' with your file path\n",
    "all_countries = 'data\\countries.txt'\n",
    "\n",
    "\n",
    "# Load the text file into a DataFrame\n",
    "countries = pd.read_csv(all_countries, delimiter='\\t')  # Change '\\t' to the appropriate delimiter if needed\n",
    "\n",
    "# Display the DataFrame\n",
    "countries = pd.DataFrame(countries.iloc[:,3])\n",
    "\n",
    "\n",
    "\n",
    "## Establishing Allies and Enemies\n",
    "\n",
    "ally = \"data\\\\allies-2023.csv\"\n",
    "enemy = \"data\\enemies-2023.csv\"\n",
    "\n",
    "# Load the text file into a DataFrame\n",
    "allies = pd.read_csv(ally)\n",
    "allies = pd.DataFrame(allies.iloc[:,4])\n",
    "\n",
    "\n",
    "enemies = pd.read_csv(enemy)\n",
    "\n",
    "enemies = pd.DataFrame(enemies.iloc[0:,4])\n"
   ]
  },
  {
   "cell_type": "code",
   "execution_count": 126,
   "metadata": {},
   "outputs": [
    {
     "data": {
      "text/html": [
       "<div>\n",
       "<style scoped>\n",
       "    .dataframe tbody tr th:only-of-type {\n",
       "        vertical-align: middle;\n",
       "    }\n",
       "\n",
       "    .dataframe tbody tr th {\n",
       "        vertical-align: top;\n",
       "    }\n",
       "\n",
       "    .dataframe thead th {\n",
       "        text-align: right;\n",
       "    }\n",
       "</style>\n",
       "<table border=\"1\" class=\"dataframe\">\n",
       "  <thead>\n",
       "    <tr style=\"text-align: right;\">\n",
       "      <th></th>\n",
       "      <th>name</th>\n",
       "      <th>Status</th>\n",
       "    </tr>\n",
       "  </thead>\n",
       "  <tbody>\n",
       "    <tr>\n",
       "      <th>220</th>\n",
       "      <td>Trinidad and Tobago</td>\n",
       "      <td>Neutral</td>\n",
       "    </tr>\n",
       "  </tbody>\n",
       "</table>\n",
       "</div>"
      ],
      "text/plain": [
       "                    name   Status\n",
       "220  Trinidad and Tobago  Neutral"
      ]
     },
     "execution_count": 126,
     "metadata": {},
     "output_type": "execute_result"
    }
   ],
   "source": [
    "countries[countries['name'] == 'Trinidad and Tobago']"
   ]
  },
  {
   "cell_type": "markdown",
   "metadata": {},
   "source": [
    "Adding Status as Neutral, Ally, or Enemy pending the results in Allies and Enemies DFs"
   ]
  },
  {
   "cell_type": "code",
   "execution_count": 40,
   "metadata": {},
   "outputs": [
    {
     "data": {
      "text/html": [
       "<div>\n",
       "<style scoped>\n",
       "    .dataframe tbody tr th:only-of-type {\n",
       "        vertical-align: middle;\n",
       "    }\n",
       "\n",
       "    .dataframe tbody tr th {\n",
       "        vertical-align: top;\n",
       "    }\n",
       "\n",
       "    .dataframe thead th {\n",
       "        text-align: right;\n",
       "    }\n",
       "</style>\n",
       "<table border=\"1\" class=\"dataframe\">\n",
       "  <thead>\n",
       "    <tr style=\"text-align: right;\">\n",
       "      <th></th>\n",
       "      <th>name</th>\n",
       "      <th>Status</th>\n",
       "    </tr>\n",
       "  </thead>\n",
       "  <tbody>\n",
       "    <tr>\n",
       "      <th>0</th>\n",
       "      <td>Andorra</td>\n",
       "      <td>Neutral</td>\n",
       "    </tr>\n",
       "    <tr>\n",
       "      <th>1</th>\n",
       "      <td>United Arab Emirates</td>\n",
       "      <td>Neutral</td>\n",
       "    </tr>\n",
       "    <tr>\n",
       "      <th>2</th>\n",
       "      <td>Afghanistan</td>\n",
       "      <td>Enemy</td>\n",
       "    </tr>\n",
       "    <tr>\n",
       "      <th>3</th>\n",
       "      <td>Antigua and Barbuda</td>\n",
       "      <td>Neutral</td>\n",
       "    </tr>\n",
       "    <tr>\n",
       "      <th>4</th>\n",
       "      <td>Anguilla</td>\n",
       "      <td>Ally</td>\n",
       "    </tr>\n",
       "    <tr>\n",
       "      <th>...</th>\n",
       "      <td>...</td>\n",
       "      <td>...</td>\n",
       "    </tr>\n",
       "    <tr>\n",
       "      <th>240</th>\n",
       "      <td>Yemen</td>\n",
       "      <td>Enemy</td>\n",
       "    </tr>\n",
       "    <tr>\n",
       "      <th>241</th>\n",
       "      <td>Mayotte</td>\n",
       "      <td>Neutral</td>\n",
       "    </tr>\n",
       "    <tr>\n",
       "      <th>242</th>\n",
       "      <td>South Africa</td>\n",
       "      <td>Neutral</td>\n",
       "    </tr>\n",
       "    <tr>\n",
       "      <th>243</th>\n",
       "      <td>Zambia</td>\n",
       "      <td>Neutral</td>\n",
       "    </tr>\n",
       "    <tr>\n",
       "      <th>244</th>\n",
       "      <td>Zimbabwe</td>\n",
       "      <td>Neutral</td>\n",
       "    </tr>\n",
       "  </tbody>\n",
       "</table>\n",
       "<p>245 rows × 2 columns</p>\n",
       "</div>"
      ],
      "text/plain": [
       "                     name   Status\n",
       "0                 Andorra  Neutral\n",
       "1    United Arab Emirates  Neutral\n",
       "2             Afghanistan    Enemy\n",
       "3     Antigua and Barbuda  Neutral\n",
       "4                Anguilla     Ally\n",
       "..                    ...      ...\n",
       "240                 Yemen    Enemy\n",
       "241               Mayotte  Neutral\n",
       "242          South Africa  Neutral\n",
       "243                Zambia  Neutral\n",
       "244              Zimbabwe  Neutral\n",
       "\n",
       "[245 rows x 2 columns]"
      ]
     },
     "execution_count": 40,
     "metadata": {},
     "output_type": "execute_result"
    }
   ],
   "source": [
    "# Check for allies and enemies using isin() function\n",
    "countries['Status'] = 'Neutral'  # Initialize 'Status' column with None\n",
    "\n",
    "# Set 'Ally' for countries in 'allies' DataFrame\n",
    "countries.loc[countries['name'].isin(allies['country']), 'Status'] = 'Ally'\n",
    "\n",
    "# Set 'Enemy' for countries in 'enemies' DataFrame\n",
    "countries.loc[countries['name'].isin(enemies['country']), 'Status'] = 'Enemy'\n",
    "\n",
    "countries"
   ]
  },
  {
   "cell_type": "markdown",
   "metadata": {},
   "source": [
    "## Merging Status and Mineral Summary "
   ]
  },
  {
   "cell_type": "code",
   "execution_count": 41,
   "metadata": {},
   "outputs": [
    {
     "data": {
      "text/html": [
       "<div>\n",
       "<style scoped>\n",
       "    .dataframe tbody tr th:only-of-type {\n",
       "        vertical-align: middle;\n",
       "    }\n",
       "\n",
       "    .dataframe tbody tr th {\n",
       "        vertical-align: top;\n",
       "    }\n",
       "\n",
       "    .dataframe thead th {\n",
       "        text-align: right;\n",
       "    }\n",
       "</style>\n",
       "<table border=\"1\" class=\"dataframe\">\n",
       "  <thead>\n",
       "    <tr style=\"text-align: right;\">\n",
       "      <th></th>\n",
       "      <th>Mineral</th>\n",
       "      <th>Country</th>\n",
       "      <th>Percent</th>\n",
       "      <th>Reliance</th>\n",
       "      <th>Value</th>\n",
       "      <th>Status</th>\n",
       "    </tr>\n",
       "  </thead>\n",
       "  <tbody>\n",
       "    <tr>\n",
       "      <th>0</th>\n",
       "      <td>Fused Aluminum Oxide</td>\n",
       "      <td>China</td>\n",
       "      <td>0.93</td>\n",
       "      <td>75</td>\n",
       "      <td>69.75</td>\n",
       "      <td>Enemy</td>\n",
       "    </tr>\n",
       "    <tr>\n",
       "      <th>1</th>\n",
       "      <td>Fused Aluminum Oxide</td>\n",
       "      <td>Bahrain</td>\n",
       "      <td>0.03</td>\n",
       "      <td>75</td>\n",
       "      <td>2.25</td>\n",
       "      <td>Neutral</td>\n",
       "    </tr>\n",
       "    <tr>\n",
       "      <th>2</th>\n",
       "      <td>Fused Aluminum Oxide</td>\n",
       "      <td>Other</td>\n",
       "      <td>0.04</td>\n",
       "      <td>75</td>\n",
       "      <td>3.00</td>\n",
       "      <td>Misc.</td>\n",
       "    </tr>\n",
       "    <tr>\n",
       "      <th>3</th>\n",
       "      <td>Alumina</td>\n",
       "      <td>Brazil</td>\n",
       "      <td>0.59</td>\n",
       "      <td>59</td>\n",
       "      <td>34.81</td>\n",
       "      <td>Neutral</td>\n",
       "    </tr>\n",
       "    <tr>\n",
       "      <th>4</th>\n",
       "      <td>Alumina</td>\n",
       "      <td>Australia</td>\n",
       "      <td>0.14</td>\n",
       "      <td>59</td>\n",
       "      <td>8.26</td>\n",
       "      <td>Ally</td>\n",
       "    </tr>\n",
       "    <tr>\n",
       "      <th>...</th>\n",
       "      <td>...</td>\n",
       "      <td>...</td>\n",
       "      <td>...</td>\n",
       "      <td>...</td>\n",
       "      <td>...</td>\n",
       "      <td>...</td>\n",
       "    </tr>\n",
       "    <tr>\n",
       "      <th>239</th>\n",
       "      <td>Gemstones</td>\n",
       "      <td>Israel</td>\n",
       "      <td>0.28</td>\n",
       "      <td>100</td>\n",
       "      <td>28.00</td>\n",
       "      <td>Ally</td>\n",
       "    </tr>\n",
       "    <tr>\n",
       "      <th>240</th>\n",
       "      <td>Gemstones</td>\n",
       "      <td>Other</td>\n",
       "      <td>0.27</td>\n",
       "      <td>100</td>\n",
       "      <td>27.00</td>\n",
       "      <td>Misc.</td>\n",
       "    </tr>\n",
       "    <tr>\n",
       "      <th>241</th>\n",
       "      <td>Vermiculite</td>\n",
       "      <td>South Africa</td>\n",
       "      <td>0.64</td>\n",
       "      <td>20</td>\n",
       "      <td>12.80</td>\n",
       "      <td>Neutral</td>\n",
       "    </tr>\n",
       "    <tr>\n",
       "      <th>242</th>\n",
       "      <td>Vermiculite</td>\n",
       "      <td>Brazil</td>\n",
       "      <td>0.35</td>\n",
       "      <td>20</td>\n",
       "      <td>7.00</td>\n",
       "      <td>Neutral</td>\n",
       "    </tr>\n",
       "    <tr>\n",
       "      <th>243</th>\n",
       "      <td>Vermiculite</td>\n",
       "      <td>Other</td>\n",
       "      <td>0.01</td>\n",
       "      <td>20</td>\n",
       "      <td>0.20</td>\n",
       "      <td>Misc.</td>\n",
       "    </tr>\n",
       "  </tbody>\n",
       "</table>\n",
       "<p>244 rows × 6 columns</p>\n",
       "</div>"
      ],
      "text/plain": [
       "                  Mineral       Country  Percent  Reliance  Value   Status\n",
       "0    Fused Aluminum Oxide         China     0.93        75  69.75    Enemy\n",
       "1    Fused Aluminum Oxide       Bahrain     0.03        75   2.25  Neutral\n",
       "2    Fused Aluminum Oxide         Other     0.04        75   3.00    Misc.\n",
       "3                 Alumina        Brazil     0.59        59  34.81  Neutral\n",
       "4                 Alumina     Australia     0.14        59   8.26     Ally\n",
       "..                    ...           ...      ...       ...    ...      ...\n",
       "239             Gemstones        Israel     0.28       100  28.00     Ally\n",
       "240             Gemstones         Other     0.27       100  27.00    Misc.\n",
       "241           Vermiculite  South Africa     0.64        20  12.80  Neutral\n",
       "242           Vermiculite        Brazil     0.35        20   7.00  Neutral\n",
       "243           Vermiculite         Other     0.01        20   0.20    Misc.\n",
       "\n",
       "[244 rows x 6 columns]"
      ]
     },
     "execution_count": 41,
     "metadata": {},
     "output_type": "execute_result"
    }
   ],
   "source": [
    "# Merge 'mineral_summary' with 'countries' on the 'Country' column to add the 'Status' column\n",
    "mineral_catalog = pd.merge(mineral_summary, countries, left_on='Country', right_on='name', how='left')\n",
    "\n",
    "# Drop the redundant 'name' column\n",
    "mineral_catalog.drop('name', axis=1, inplace=True)\n",
    "\n",
    "mineral_catalog = mineral_catalog.fillna('Misc.')\n",
    "\n",
    "mineral_catalog"
   ]
  },
  {
   "cell_type": "code",
   "execution_count": 293,
   "metadata": {},
   "outputs": [
    {
     "data": {
      "text/html": [
       "<div>\n",
       "<style scoped>\n",
       "    .dataframe tbody tr th:only-of-type {\n",
       "        vertical-align: middle;\n",
       "    }\n",
       "\n",
       "    .dataframe tbody tr th {\n",
       "        vertical-align: top;\n",
       "    }\n",
       "\n",
       "    .dataframe thead th {\n",
       "        text-align: right;\n",
       "    }\n",
       "</style>\n",
       "<table border=\"1\" class=\"dataframe\">\n",
       "  <thead>\n",
       "    <tr style=\"text-align: right;\">\n",
       "      <th></th>\n",
       "      <th>Mineral</th>\n",
       "      <th>Country</th>\n",
       "      <th>Percent</th>\n",
       "      <th>Reliance</th>\n",
       "      <th>Value</th>\n",
       "      <th>Status</th>\n",
       "      <th>Color</th>\n",
       "    </tr>\n",
       "  </thead>\n",
       "  <tbody>\n",
       "    <tr>\n",
       "      <th>182</th>\n",
       "      <td>Silicon</td>\n",
       "      <td>Canada</td>\n",
       "      <td>0.14</td>\n",
       "      <td>45</td>\n",
       "      <td>6.3</td>\n",
       "      <td>Ally</td>\n",
       "      <td>blue</td>\n",
       "    </tr>\n",
       "    <tr>\n",
       "      <th>181</th>\n",
       "      <td>Silicon</td>\n",
       "      <td>Russia</td>\n",
       "      <td>0.40</td>\n",
       "      <td>45</td>\n",
       "      <td>18.0</td>\n",
       "      <td>Enemy</td>\n",
       "      <td>red</td>\n",
       "    </tr>\n",
       "    <tr>\n",
       "      <th>183</th>\n",
       "      <td>Silicon</td>\n",
       "      <td>Other</td>\n",
       "      <td>0.46</td>\n",
       "      <td>45</td>\n",
       "      <td>20.7</td>\n",
       "      <td>Misc.</td>\n",
       "      <td>orange</td>\n",
       "    </tr>\n",
       "    <tr>\n",
       "      <th>90</th>\n",
       "      <td>Iodine</td>\n",
       "      <td>Japan</td>\n",
       "      <td>0.10</td>\n",
       "      <td>50</td>\n",
       "      <td>5.0</td>\n",
       "      <td>Ally</td>\n",
       "      <td>blue</td>\n",
       "    </tr>\n",
       "    <tr>\n",
       "      <th>218</th>\n",
       "      <td>Tungsten</td>\n",
       "      <td>Germany</td>\n",
       "      <td>0.11</td>\n",
       "      <td>50</td>\n",
       "      <td>5.5</td>\n",
       "      <td>Ally</td>\n",
       "      <td>blue</td>\n",
       "    </tr>\n",
       "    <tr>\n",
       "      <th>...</th>\n",
       "      <td>...</td>\n",
       "      <td>...</td>\n",
       "      <td>...</td>\n",
       "      <td>...</td>\n",
       "      <td>...</td>\n",
       "      <td>...</td>\n",
       "      <td>...</td>\n",
       "    </tr>\n",
       "    <tr>\n",
       "      <th>132</th>\n",
       "      <td>Niobium (ore)</td>\n",
       "      <td>Rwanda</td>\n",
       "      <td>0.21</td>\n",
       "      <td>100</td>\n",
       "      <td>21.0</td>\n",
       "      <td>Neutral</td>\n",
       "      <td>gray</td>\n",
       "    </tr>\n",
       "    <tr>\n",
       "      <th>203</th>\n",
       "      <td>Tantalum (ore)</td>\n",
       "      <td>Rwanda</td>\n",
       "      <td>0.21</td>\n",
       "      <td>100</td>\n",
       "      <td>21.0</td>\n",
       "      <td>Neutral</td>\n",
       "      <td>gray</td>\n",
       "    </tr>\n",
       "    <tr>\n",
       "      <th>238</th>\n",
       "      <td>Gemstones</td>\n",
       "      <td>India</td>\n",
       "      <td>0.45</td>\n",
       "      <td>100</td>\n",
       "      <td>45.0</td>\n",
       "      <td>Neutral</td>\n",
       "      <td>gray</td>\n",
       "    </tr>\n",
       "    <tr>\n",
       "      <th>119</th>\n",
       "      <td>Manganese (ore)</td>\n",
       "      <td>Gabon</td>\n",
       "      <td>0.67</td>\n",
       "      <td>100</td>\n",
       "      <td>67.0</td>\n",
       "      <td>Neutral</td>\n",
       "      <td>gray</td>\n",
       "    </tr>\n",
       "    <tr>\n",
       "      <th>15</th>\n",
       "      <td>Asbestos</td>\n",
       "      <td>Brazil</td>\n",
       "      <td>0.75</td>\n",
       "      <td>100</td>\n",
       "      <td>75.0</td>\n",
       "      <td>Neutral</td>\n",
       "      <td>gray</td>\n",
       "    </tr>\n",
       "  </tbody>\n",
       "</table>\n",
       "<p>143 rows × 7 columns</p>\n",
       "</div>"
      ],
      "text/plain": [
       "             Mineral  Country  Percent  Reliance  Value   Status   Color\n",
       "182          Silicon   Canada     0.14        45    6.3     Ally    blue\n",
       "181          Silicon   Russia     0.40        45   18.0    Enemy     red\n",
       "183          Silicon    Other     0.46        45   20.7    Misc.  orange\n",
       "90            Iodine    Japan     0.10        50    5.0     Ally    blue\n",
       "218         Tungsten  Germany     0.11        50    5.5     Ally    blue\n",
       "..               ...      ...      ...       ...    ...      ...     ...\n",
       "132    Niobium (ore)   Rwanda     0.21       100   21.0  Neutral    gray\n",
       "203   Tantalum (ore)   Rwanda     0.21       100   21.0  Neutral    gray\n",
       "238        Gemstones    India     0.45       100   45.0  Neutral    gray\n",
       "119  Manganese (ore)    Gabon     0.67       100   67.0  Neutral    gray\n",
       "15          Asbestos   Brazil     0.75       100   75.0  Neutral    gray\n",
       "\n",
       "[143 rows x 7 columns]"
      ]
     },
     "execution_count": 293,
     "metadata": {},
     "output_type": "execute_result"
    }
   ],
   "source": [
    "# Adding color mapping for each row\n",
    "\n",
    "status_color_map = {\n",
    "    'Enemy': 'red',\n",
    "    'Neutral': 'gray',\n",
    "    'Ally': 'blue',\n",
    "    'Misc.': 'orange'\n",
    "}\n",
    "\n",
    "# Map Status values to colors using the status_color_map\n",
    "mineral_catalog['Color'] = mineral_catalog['Status'].map(status_color_map)\n",
    "\n",
    "restricted_catalog = mineral_catalog[mineral_catalog['Reliance'] >= 45]\n",
    "\n",
    "# Sorting values based on Reliance\n",
    "restricted_catalog= restricted_catalog.sort_values(by=['Reliance', 'Status', 'Value'], ascending=True)\n",
    "\n",
    "\n",
    "restricted_catalog"
   ]
  },
  {
   "cell_type": "markdown",
   "metadata": {},
   "source": [
    "## Horizontal Bar Chart"
   ]
  },
  {
   "cell_type": "code",
   "execution_count": 309,
   "metadata": {},
   "outputs": [
    {
     "data": {
      "application/vnd.plotly.v1+json": {
       "config": {
        "plotlyServerURL": "https://plot.ly"
       },
       "data": [
        {
         "marker": {
          "color": [
           "blue",
           "red",
           "orange",
           "blue",
           "blue",
           "blue",
           "blue",
           "blue",
           "blue",
           "red",
           "red",
           "red",
           "orange",
           "orange",
           "orange",
           "orange",
           "orange",
           "orange",
           "gray",
           "gray",
           "gray",
           "red",
           "orange",
           "gray",
           "blue",
           "blue",
           "red",
           "orange",
           "orange",
           "gray",
           "blue",
           "blue",
           "orange",
           "blue",
           "orange",
           "gray",
           "blue",
           "red",
           "orange",
           "blue",
           "orange",
           "gray",
           "blue",
           "blue",
           "blue",
           "red",
           "orange",
           "orange",
           "orange",
           "gray",
           "gray",
           "blue",
           "blue",
           "red",
           "red",
           "orange",
           "orange",
           "orange",
           "orange",
           "gray",
           "gray",
           "gray",
           "gray",
           "blue",
           "orange",
           "gray",
           "orange",
           "gray",
           "gray",
           "blue",
           "orange",
           "red",
           "orange",
           "gray",
           "blue",
           "red",
           "orange",
           "orange",
           "gray",
           "gray",
           "blue",
           "red",
           "orange",
           "blue",
           "red",
           "orange",
           "blue",
           "blue",
           "blue",
           "red",
           "orange",
           "orange",
           "orange",
           "gray",
           "blue",
           "red",
           "orange",
           "blue",
           "blue",
           "blue",
           "blue",
           "blue",
           "blue",
           "blue",
           "blue",
           "blue",
           "blue",
           "blue",
           "blue",
           "blue",
           "blue",
           "blue",
           "blue",
           "blue",
           "red",
           "red",
           "red",
           "red",
           "red",
           "red",
           "red",
           "orange",
           "orange",
           "orange",
           "orange",
           "orange",
           "orange",
           "orange",
           "orange",
           "orange",
           "orange",
           "orange",
           "orange",
           "orange",
           "orange",
           "orange",
           "gray",
           "gray",
           "gray",
           "gray",
           "gray",
           "gray",
           "gray"
          ]
         },
         "orientation": "h",
         "type": "bar",
         "x": [
          6.3,
          18,
          20.7,
          5,
          5.5,
          7.5,
          10.5,
          13.5,
          15.5,
          14.5,
          14.5,
          27,
          0.5,
          9.5,
          12,
          20,
          30,
          32,
          12.5,
          25.5,
          44.5,
          30.74,
          14.31,
          7.95,
          16.74,
          27,
          7.02,
          22.14,
          30.24,
          4.86,
          5.04,
          25.2,
          25.76,
          8.26,
          15.93,
          34.81,
          3.72,
          50.22,
          8.06,
          11.88,
          31.68,
          22.44,
          5.52,
          14.49,
          32.43,
          12.42,
          5.52000000000001,
          22.08,
          23.46,
          33.12,
          57.96,
          18,
          39,
          28.5,
          69.75,
          3,
          18,
          21,
          24.75,
          2.25,
          6.75,
          21.75,
          47.25,
          11.4,
          10.64,
          53.96,
          39.27,
          18.48,
          19.25,
          77.76,
          3.24,
          18.86,
          44.28,
          18.86,
          28.22,
          38.18,
          16.6,
          47.31,
          10.79,
          24.9,
          29.58,
          37.41,
          20.01,
          74.26,
          8.46,
          11.28,
          7.6,
          84.55,
          95,
          70.3,
          0,
          1.9,
          17.1,
          8.55,
          18.24,
          62.4,
          15.36,
          3,
          5,
          13,
          18,
          21,
          22,
          28,
          32,
          33,
          33,
          35,
          39,
          42,
          43,
          66,
          75,
          100,
          25,
          33,
          35,
          38,
          53,
          94,
          94,
          0,
          1,
          3,
          4,
          14,
          18,
          23,
          27,
          30,
          33,
          34,
          36,
          37,
          46,
          49,
          16,
          19,
          21,
          21,
          45,
          67,
          75
         ],
         "y": [
          "Silicon",
          "Silicon",
          "Silicon",
          "Iodine",
          "Tungsten",
          "Selenium",
          "Selenium",
          "Germanium",
          "Magnesium Metal",
          "Magnesium Metal",
          "Tungsten",
          "Germanium",
          "Iodine",
          "Germanium",
          "Zirconium (ore)",
          "Magnesium Metal",
          "Tungsten",
          "Selenium",
          "Zirconium (ore)",
          "Zirconium (ore)",
          "Iodine",
          "Magnesium (sulfates)",
          "Magnesium (sulfates)",
          "Magnesium (sulfates)",
          "Vanadium",
          "Aluminum",
          "Vanadium",
          "Aluminum",
          "Vanadium",
          "Aluminum",
          "Nickel",
          "Nickel",
          "Nickel",
          "Alumina",
          "Alumina",
          "Alumina",
          "Diamond (powder)",
          "Diamond (powder)",
          "Diamond (powder)",
          "Platinum",
          "Platinum",
          "Platinum",
          "Rhenium (metal powder)",
          "Silver",
          "Silver",
          "Garnet (Industrial)",
          "Rhenium (metal powder)",
          "Silver",
          "Garnet (Industrial)",
          "Garnet (Industrial)",
          "Rhenium (metal powder)",
          "Tellurium",
          "Tellurium",
          "Barite",
          "Fused Aluminum Oxide",
          "Fused Aluminum Oxide",
          "Tellurium",
          "Bauxite",
          "Barite",
          "Fused Aluminum Oxide",
          "Bauxite",
          "Barite",
          "Bauxite",
          "Zinc (ore)",
          "Zinc (ore)",
          "Zinc (ore)",
          "Tin",
          "Tin",
          "Tin",
          "Peat",
          "Peat",
          "Stone (Dimension)",
          "Stone (Dimension)",
          "Stone (Dimension)",
          "Antimony",
          "Antimony",
          "Antimony",
          "Chromium (primary metal)",
          "Chromium (primary metal)",
          "Chromium (primary metal)",
          "Iron Oxide Pigments (synthetic)",
          "Iron Oxide Pigments (synthetic)",
          "Iron Oxide Pigments (synthetic)",
          "Potash",
          "Potash",
          "Potash",
          "Rare Earths",
          "Titanium (sponge metal)",
          "Nepheline Syenite",
          "Rare Earths",
          "Nepheline Syenite",
          "Titanium (sponge metal)",
          "Rare Earths",
          "Titanium (sponge metal)",
          "Bismuth",
          "Bismuth",
          "Bismuth",
          "Yttrium",
          "Arsenic Metal",
          "Gallium",
          "Graphite",
          "Strontium",
          "Indium",
          "Gemstones",
          "Indium",
          "Cesium",
          "Cesium",
          "Scandium",
          "Mica (natural)",
          "Niobium (ore)",
          "Tantalum (ore)",
          "Fluorspar",
          "Strontium",
          "Rubidium",
          "Asbestos",
          "Graphite",
          "Scandium",
          "Mica (natural)",
          "Gallium",
          "Arsenic Metal",
          "Yttrium",
          "Asbestos",
          "Arsenic Metal",
          "Yttrium",
          "Strontium",
          "Manganese (ore)",
          "Fluorspar",
          "Mica (natural)",
          "Gemstones",
          "Scandium",
          "Cesium",
          "Gallium",
          "Tantalum (ore)",
          "Niobium (ore)",
          "Indium",
          "Graphite",
          "Fluorspar",
          "Manganese (ore)",
          "Niobium (ore)",
          "Tantalum (ore)",
          "Gemstones",
          "Manganese (ore)",
          "Asbestos"
         ]
        }
       ],
       "layout": {
        "annotations": [
         {
          "font": {
           "color": "red",
           "size": 15
          },
          "showarrow": false,
          "text": "<b>25 of the 49 critical minerals of various forms are sourced from enemy entities. </b>",
          "x": 0.06,
          "xanchor": "left",
          "xref": "paper",
          "xshift": 0,
          "y": 1.025,
          "yref": "paper"
         },
         {
          "font": {
           "color": "black",
           "size": 11
          },
          "showarrow": false,
          "text": "Only minerals with greater than 45% reliance on external",
          "x": 0.67,
          "xanchor": "left",
          "xref": "paper",
          "xshift": 0,
          "y": 0.22,
          "yref": "paper"
         },
         {
          "font": {
           "color": "black",
           "size": 11
          },
          "showarrow": false,
          "text": "sources are shown.",
          "x": 0.675,
          "xanchor": "left",
          "xref": "paper",
          "xshift": 0,
          "y": 0.21,
          "yref": "paper"
         },
         {
          "font": {
           "color": "black",
           "size": 11
          },
          "showarrow": false,
          "text": "Reliance is measured as a percent of consumption from imports",
          "x": 0.67,
          "xanchor": "left",
          "xref": "paper",
          "xshift": 0,
          "y": 0.25,
          "yref": "paper"
         },
         {
          "font": {
           "color": "black",
           "size": 11
          },
          "showarrow": false,
          "text": "exceeding production and exports",
          "x": 0.675,
          "xanchor": "left",
          "xref": "paper",
          "xshift": 0,
          "y": 0.24,
          "yref": "paper"
         },
         {
          "font": {
           "color": "black",
           "size": 12
          },
          "showarrow": false,
          "text": "<b>Source Allegiance:</b>",
          "x": 0.895,
          "xref": "paper",
          "y": 0.36,
          "yref": "paper"
         },
         {
          "font": {
           "color": "orange",
           "size": 12
          },
          "showarrow": false,
          "text": "<b>Misc.</b>",
          "x": 0.869,
          "xref": "paper",
          "y": 0.277,
          "yref": "paper"
         },
         {
          "font": {
           "color": "gray",
           "size": 12
          },
          "showarrow": false,
          "text": "<b>Neutral</b>",
          "x": 0.885,
          "xref": "paper",
          "y": 0.3,
          "yref": "paper"
         },
         {
          "font": {
           "color": "blue",
           "size": 12
          },
          "showarrow": false,
          "text": "<b>Ally</b>",
          "x": 0.86,
          "xref": "paper",
          "y": 0.32,
          "yref": "paper"
         },
         {
          "font": {
           "color": "red",
           "size": 12
          },
          "showarrow": false,
          "text": "<b>Enemy</b>",
          "x": 0.88,
          "xref": "paper",
          "y": 0.345,
          "yref": "paper"
         }
        ],
        "bargap": 0.3,
        "height": 1200,
        "shapes": [
         {
          "fillcolor": "orange",
          "line": {
           "color": "orange"
          },
          "type": "rect",
          "x0": 0.8,
          "x1": 0.83,
          "xref": "paper",
          "y0": 0.28,
          "y1": 0.29,
          "yref": "paper"
         },
         {
          "fillcolor": "gray",
          "line": {
           "color": "gray"
          },
          "type": "rect",
          "x0": 0.8,
          "x1": 0.83,
          "xref": "paper",
          "y0": 0.3,
          "y1": 0.31,
          "yref": "paper"
         },
         {
          "fillcolor": "blue",
          "line": {
           "color": "blue"
          },
          "type": "rect",
          "x0": 0.8,
          "x1": 0.83,
          "xref": "paper",
          "y0": 0.32,
          "y1": 0.33,
          "yref": "paper"
         },
         {
          "fillcolor": "red",
          "line": {
           "color": "red"
          },
          "type": "rect",
          "x0": 0.8,
          "x1": 0.83,
          "xref": "paper",
          "y0": 0.35,
          "y1": 0.34,
          "yref": "paper"
         }
        ],
        "template": {
         "data": {
          "bar": [
           {
            "error_x": {
             "color": "#2a3f5f"
            },
            "error_y": {
             "color": "#2a3f5f"
            },
            "marker": {
             "line": {
              "color": "#E5ECF6",
              "width": 0.5
             },
             "pattern": {
              "fillmode": "overlay",
              "size": 10,
              "solidity": 0.2
             }
            },
            "type": "bar"
           }
          ],
          "barpolar": [
           {
            "marker": {
             "line": {
              "color": "#E5ECF6",
              "width": 0.5
             },
             "pattern": {
              "fillmode": "overlay",
              "size": 10,
              "solidity": 0.2
             }
            },
            "type": "barpolar"
           }
          ],
          "carpet": [
           {
            "aaxis": {
             "endlinecolor": "#2a3f5f",
             "gridcolor": "white",
             "linecolor": "white",
             "minorgridcolor": "white",
             "startlinecolor": "#2a3f5f"
            },
            "baxis": {
             "endlinecolor": "#2a3f5f",
             "gridcolor": "white",
             "linecolor": "white",
             "minorgridcolor": "white",
             "startlinecolor": "#2a3f5f"
            },
            "type": "carpet"
           }
          ],
          "choropleth": [
           {
            "colorbar": {
             "outlinewidth": 0,
             "ticks": ""
            },
            "type": "choropleth"
           }
          ],
          "contour": [
           {
            "colorbar": {
             "outlinewidth": 0,
             "ticks": ""
            },
            "colorscale": [
             [
              0,
              "#0d0887"
             ],
             [
              0.1111111111111111,
              "#46039f"
             ],
             [
              0.2222222222222222,
              "#7201a8"
             ],
             [
              0.3333333333333333,
              "#9c179e"
             ],
             [
              0.4444444444444444,
              "#bd3786"
             ],
             [
              0.5555555555555556,
              "#d8576b"
             ],
             [
              0.6666666666666666,
              "#ed7953"
             ],
             [
              0.7777777777777778,
              "#fb9f3a"
             ],
             [
              0.8888888888888888,
              "#fdca26"
             ],
             [
              1,
              "#f0f921"
             ]
            ],
            "type": "contour"
           }
          ],
          "contourcarpet": [
           {
            "colorbar": {
             "outlinewidth": 0,
             "ticks": ""
            },
            "type": "contourcarpet"
           }
          ],
          "heatmap": [
           {
            "colorbar": {
             "outlinewidth": 0,
             "ticks": ""
            },
            "colorscale": [
             [
              0,
              "#0d0887"
             ],
             [
              0.1111111111111111,
              "#46039f"
             ],
             [
              0.2222222222222222,
              "#7201a8"
             ],
             [
              0.3333333333333333,
              "#9c179e"
             ],
             [
              0.4444444444444444,
              "#bd3786"
             ],
             [
              0.5555555555555556,
              "#d8576b"
             ],
             [
              0.6666666666666666,
              "#ed7953"
             ],
             [
              0.7777777777777778,
              "#fb9f3a"
             ],
             [
              0.8888888888888888,
              "#fdca26"
             ],
             [
              1,
              "#f0f921"
             ]
            ],
            "type": "heatmap"
           }
          ],
          "heatmapgl": [
           {
            "colorbar": {
             "outlinewidth": 0,
             "ticks": ""
            },
            "colorscale": [
             [
              0,
              "#0d0887"
             ],
             [
              0.1111111111111111,
              "#46039f"
             ],
             [
              0.2222222222222222,
              "#7201a8"
             ],
             [
              0.3333333333333333,
              "#9c179e"
             ],
             [
              0.4444444444444444,
              "#bd3786"
             ],
             [
              0.5555555555555556,
              "#d8576b"
             ],
             [
              0.6666666666666666,
              "#ed7953"
             ],
             [
              0.7777777777777778,
              "#fb9f3a"
             ],
             [
              0.8888888888888888,
              "#fdca26"
             ],
             [
              1,
              "#f0f921"
             ]
            ],
            "type": "heatmapgl"
           }
          ],
          "histogram": [
           {
            "marker": {
             "pattern": {
              "fillmode": "overlay",
              "size": 10,
              "solidity": 0.2
             }
            },
            "type": "histogram"
           }
          ],
          "histogram2d": [
           {
            "colorbar": {
             "outlinewidth": 0,
             "ticks": ""
            },
            "colorscale": [
             [
              0,
              "#0d0887"
             ],
             [
              0.1111111111111111,
              "#46039f"
             ],
             [
              0.2222222222222222,
              "#7201a8"
             ],
             [
              0.3333333333333333,
              "#9c179e"
             ],
             [
              0.4444444444444444,
              "#bd3786"
             ],
             [
              0.5555555555555556,
              "#d8576b"
             ],
             [
              0.6666666666666666,
              "#ed7953"
             ],
             [
              0.7777777777777778,
              "#fb9f3a"
             ],
             [
              0.8888888888888888,
              "#fdca26"
             ],
             [
              1,
              "#f0f921"
             ]
            ],
            "type": "histogram2d"
           }
          ],
          "histogram2dcontour": [
           {
            "colorbar": {
             "outlinewidth": 0,
             "ticks": ""
            },
            "colorscale": [
             [
              0,
              "#0d0887"
             ],
             [
              0.1111111111111111,
              "#46039f"
             ],
             [
              0.2222222222222222,
              "#7201a8"
             ],
             [
              0.3333333333333333,
              "#9c179e"
             ],
             [
              0.4444444444444444,
              "#bd3786"
             ],
             [
              0.5555555555555556,
              "#d8576b"
             ],
             [
              0.6666666666666666,
              "#ed7953"
             ],
             [
              0.7777777777777778,
              "#fb9f3a"
             ],
             [
              0.8888888888888888,
              "#fdca26"
             ],
             [
              1,
              "#f0f921"
             ]
            ],
            "type": "histogram2dcontour"
           }
          ],
          "mesh3d": [
           {
            "colorbar": {
             "outlinewidth": 0,
             "ticks": ""
            },
            "type": "mesh3d"
           }
          ],
          "parcoords": [
           {
            "line": {
             "colorbar": {
              "outlinewidth": 0,
              "ticks": ""
             }
            },
            "type": "parcoords"
           }
          ],
          "pie": [
           {
            "automargin": true,
            "type": "pie"
           }
          ],
          "scatter": [
           {
            "fillpattern": {
             "fillmode": "overlay",
             "size": 10,
             "solidity": 0.2
            },
            "type": "scatter"
           }
          ],
          "scatter3d": [
           {
            "line": {
             "colorbar": {
              "outlinewidth": 0,
              "ticks": ""
             }
            },
            "marker": {
             "colorbar": {
              "outlinewidth": 0,
              "ticks": ""
             }
            },
            "type": "scatter3d"
           }
          ],
          "scattercarpet": [
           {
            "marker": {
             "colorbar": {
              "outlinewidth": 0,
              "ticks": ""
             }
            },
            "type": "scattercarpet"
           }
          ],
          "scattergeo": [
           {
            "marker": {
             "colorbar": {
              "outlinewidth": 0,
              "ticks": ""
             }
            },
            "type": "scattergeo"
           }
          ],
          "scattergl": [
           {
            "marker": {
             "colorbar": {
              "outlinewidth": 0,
              "ticks": ""
             }
            },
            "type": "scattergl"
           }
          ],
          "scattermapbox": [
           {
            "marker": {
             "colorbar": {
              "outlinewidth": 0,
              "ticks": ""
             }
            },
            "type": "scattermapbox"
           }
          ],
          "scatterpolar": [
           {
            "marker": {
             "colorbar": {
              "outlinewidth": 0,
              "ticks": ""
             }
            },
            "type": "scatterpolar"
           }
          ],
          "scatterpolargl": [
           {
            "marker": {
             "colorbar": {
              "outlinewidth": 0,
              "ticks": ""
             }
            },
            "type": "scatterpolargl"
           }
          ],
          "scatterternary": [
           {
            "marker": {
             "colorbar": {
              "outlinewidth": 0,
              "ticks": ""
             }
            },
            "type": "scatterternary"
           }
          ],
          "surface": [
           {
            "colorbar": {
             "outlinewidth": 0,
             "ticks": ""
            },
            "colorscale": [
             [
              0,
              "#0d0887"
             ],
             [
              0.1111111111111111,
              "#46039f"
             ],
             [
              0.2222222222222222,
              "#7201a8"
             ],
             [
              0.3333333333333333,
              "#9c179e"
             ],
             [
              0.4444444444444444,
              "#bd3786"
             ],
             [
              0.5555555555555556,
              "#d8576b"
             ],
             [
              0.6666666666666666,
              "#ed7953"
             ],
             [
              0.7777777777777778,
              "#fb9f3a"
             ],
             [
              0.8888888888888888,
              "#fdca26"
             ],
             [
              1,
              "#f0f921"
             ]
            ],
            "type": "surface"
           }
          ],
          "table": [
           {
            "cells": {
             "fill": {
              "color": "#EBF0F8"
             },
             "line": {
              "color": "white"
             }
            },
            "header": {
             "fill": {
              "color": "#C8D4E3"
             },
             "line": {
              "color": "white"
             }
            },
            "type": "table"
           }
          ]
         },
         "layout": {
          "annotationdefaults": {
           "arrowcolor": "#2a3f5f",
           "arrowhead": 0,
           "arrowwidth": 1
          },
          "autotypenumbers": "strict",
          "coloraxis": {
           "colorbar": {
            "outlinewidth": 0,
            "ticks": ""
           }
          },
          "colorscale": {
           "diverging": [
            [
             0,
             "#8e0152"
            ],
            [
             0.1,
             "#c51b7d"
            ],
            [
             0.2,
             "#de77ae"
            ],
            [
             0.3,
             "#f1b6da"
            ],
            [
             0.4,
             "#fde0ef"
            ],
            [
             0.5,
             "#f7f7f7"
            ],
            [
             0.6,
             "#e6f5d0"
            ],
            [
             0.7,
             "#b8e186"
            ],
            [
             0.8,
             "#7fbc41"
            ],
            [
             0.9,
             "#4d9221"
            ],
            [
             1,
             "#276419"
            ]
           ],
           "sequential": [
            [
             0,
             "#0d0887"
            ],
            [
             0.1111111111111111,
             "#46039f"
            ],
            [
             0.2222222222222222,
             "#7201a8"
            ],
            [
             0.3333333333333333,
             "#9c179e"
            ],
            [
             0.4444444444444444,
             "#bd3786"
            ],
            [
             0.5555555555555556,
             "#d8576b"
            ],
            [
             0.6666666666666666,
             "#ed7953"
            ],
            [
             0.7777777777777778,
             "#fb9f3a"
            ],
            [
             0.8888888888888888,
             "#fdca26"
            ],
            [
             1,
             "#f0f921"
            ]
           ],
           "sequentialminus": [
            [
             0,
             "#0d0887"
            ],
            [
             0.1111111111111111,
             "#46039f"
            ],
            [
             0.2222222222222222,
             "#7201a8"
            ],
            [
             0.3333333333333333,
             "#9c179e"
            ],
            [
             0.4444444444444444,
             "#bd3786"
            ],
            [
             0.5555555555555556,
             "#d8576b"
            ],
            [
             0.6666666666666666,
             "#ed7953"
            ],
            [
             0.7777777777777778,
             "#fb9f3a"
            ],
            [
             0.8888888888888888,
             "#fdca26"
            ],
            [
             1,
             "#f0f921"
            ]
           ]
          },
          "colorway": [
           "#636efa",
           "#EF553B",
           "#00cc96",
           "#ab63fa",
           "#FFA15A",
           "#19d3f3",
           "#FF6692",
           "#B6E880",
           "#FF97FF",
           "#FECB52"
          ],
          "font": {
           "color": "#2a3f5f"
          },
          "geo": {
           "bgcolor": "white",
           "lakecolor": "white",
           "landcolor": "#E5ECF6",
           "showlakes": true,
           "showland": true,
           "subunitcolor": "white"
          },
          "hoverlabel": {
           "align": "left"
          },
          "hovermode": "closest",
          "mapbox": {
           "style": "light"
          },
          "paper_bgcolor": "white",
          "plot_bgcolor": "#E5ECF6",
          "polar": {
           "angularaxis": {
            "gridcolor": "white",
            "linecolor": "white",
            "ticks": ""
           },
           "bgcolor": "#E5ECF6",
           "radialaxis": {
            "gridcolor": "white",
            "linecolor": "white",
            "ticks": ""
           }
          },
          "scene": {
           "xaxis": {
            "backgroundcolor": "#E5ECF6",
            "gridcolor": "white",
            "gridwidth": 2,
            "linecolor": "white",
            "showbackground": true,
            "ticks": "",
            "zerolinecolor": "white"
           },
           "yaxis": {
            "backgroundcolor": "#E5ECF6",
            "gridcolor": "white",
            "gridwidth": 2,
            "linecolor": "white",
            "showbackground": true,
            "ticks": "",
            "zerolinecolor": "white"
           },
           "zaxis": {
            "backgroundcolor": "#E5ECF6",
            "gridcolor": "white",
            "gridwidth": 2,
            "linecolor": "white",
            "showbackground": true,
            "ticks": "",
            "zerolinecolor": "white"
           }
          },
          "shapedefaults": {
           "line": {
            "color": "#2a3f5f"
           }
          },
          "ternary": {
           "aaxis": {
            "gridcolor": "white",
            "linecolor": "white",
            "ticks": ""
           },
           "baxis": {
            "gridcolor": "white",
            "linecolor": "white",
            "ticks": ""
           },
           "bgcolor": "#E5ECF6",
           "caxis": {
            "gridcolor": "white",
            "linecolor": "white",
            "ticks": ""
           }
          },
          "title": {
           "x": 0.05
          },
          "xaxis": {
           "automargin": true,
           "gridcolor": "white",
           "linecolor": "white",
           "ticks": "",
           "title": {
            "standoff": 15
           },
           "zerolinecolor": "white",
           "zerolinewidth": 2
          },
          "yaxis": {
           "automargin": true,
           "gridcolor": "white",
           "linecolor": "white",
           "ticks": "",
           "title": {
            "standoff": 15
           },
           "zerolinecolor": "white",
           "zerolinewidth": 2
          }
         }
        },
        "title": {
         "text": "Critical Minerals Imported and Country Allegiance"
        },
        "xaxis": {
         "title": {
          "text": "Percentage of Imports"
         }
        },
        "yaxis": {
         "title": {
          "text": "Mineral"
         }
        }
       }
      }
     },
     "metadata": {},
     "output_type": "display_data"
    }
   ],
   "source": [
    "import plotly.graph_objects as go\n",
    "\n",
    "fig = go.Figure()\n",
    "\n",
    "fig.add_trace(\n",
    "    go.Bar(\n",
    "        y=restricted_catalog['Mineral'],\n",
    "        x=restricted_catalog['Value'],\n",
    "        orientation='h',\n",
    "        marker=dict(\n",
    "            color=restricted_catalog['Color'])\n",
    "        )\n",
    "    )\n",
    "\n",
    "\n",
    "fig.update_layout(\n",
    "    title='Critical Minerals Imported and Country Allegiance',\n",
    "    xaxis=dict(title='Percentage of Imports'),\n",
    "    yaxis=dict(title='Mineral'),\n",
    "    bargap=0.3,  # Adjust the gap between bars\n",
    "    height=1200,  # Set a larger height for the plot\n",
    ")\n",
    "\n",
    "\n",
    "# Add Kicker\n",
    "#\n",
    "kicker = go.layout.Annotation(\n",
    "     text=\"<b>25 of the 49 critical minerals of various forms are sourced from enemy entities. </b>\",\n",
    "     x=.06,\n",
    "     y= 1.025,\n",
    "     xref = 'paper',\n",
    "     yref = 'paper',\n",
    "     showarrow=False,\n",
    "     xanchor=\"left\",\n",
    "     xshift=0,\n",
    "     font=dict(size=15,color ='red')\n",
    " )\n",
    "fig.add_annotation(kicker)\n",
    "\n",
    "\n",
    "# Add Note\n",
    "note = go.layout.Annotation(\n",
    "     text=\"Only minerals with greater than 45% reliance on external\",\n",
    "     x=.670,\n",
    "     y= .22,\n",
    "     xref = 'paper',\n",
    "     yref = 'paper',\n",
    "     showarrow=False,\n",
    "     xanchor=\"left\",\n",
    "     xshift=0,\n",
    "     font=dict(size=11,color ='black')\n",
    " )\n",
    "fig.add_annotation(note)\n",
    "\n",
    "\n",
    "\n",
    "\n",
    "# Add Note\n",
    "note = go.layout.Annotation(\n",
    "     text=\"sources are shown.\",\n",
    "     x=.675,\n",
    "     y= .21,\n",
    "     xref = 'paper',\n",
    "     yref = 'paper',\n",
    "     showarrow=False,\n",
    "     xanchor=\"left\",\n",
    "     xshift=0,\n",
    "     font=dict(size=11,color ='black')\n",
    " )\n",
    "fig.add_annotation(note)\n",
    "\n",
    "\n",
    "# Add Note\n",
    "note = go.layout.Annotation(\n",
    "     text=\"Reliance is measured as a percent of consumption from imports\",\n",
    "     x=.670,\n",
    "     y= .25,\n",
    "     xref = 'paper',\n",
    "     yref = 'paper',\n",
    "     showarrow=False,\n",
    "     xanchor=\"left\",\n",
    "     xshift=0,\n",
    "     font=dict(size=11,color ='black')\n",
    " )\n",
    "fig.add_annotation(note)\n",
    "\n",
    "note_2 = go.layout.Annotation(\n",
    "     text=\"exceeding production and exports\",\n",
    "     x=.675,\n",
    "     y=.24,\n",
    "     xref = 'paper',\n",
    "     yref = 'paper',\n",
    "     showarrow=False,\n",
    "     xanchor=\"left\",\n",
    "     xshift=0,\n",
    "     font=dict(size=11,color ='black')\n",
    " )\n",
    "fig.add_annotation(note_2)\n",
    "\n",
    "\n",
    "#Sources: Legend text\n",
    "fig.add_annotation(\n",
    "    x=.895,\n",
    "    y= .36,\n",
    "    xref=\"paper\",\n",
    "    yref=\"paper\",\n",
    "    text=\"<b>Source Allegiance:</b>\",\n",
    "    showarrow=False,\n",
    "    font=dict(color=\"black\", size=12)\n",
    ")\n",
    "\n",
    "\n",
    "#Orange Misc. Legend\n",
    "fig.add_shape(\n",
    "    type=\"rect\",\n",
    "    xref=\"paper\",\n",
    "    yref=\"paper\",\n",
    "    x0=.80,\n",
    "    y0=.28,\n",
    "    x1=.83,\n",
    "    y1=.29,\n",
    "    fillcolor=\"orange\",\n",
    "    line=dict(color=\"orange\"),\n",
    ")\n",
    "fig.add_annotation(\n",
    "    x=.869,\n",
    "    y= .277,\n",
    "    xref=\"paper\",\n",
    "    yref=\"paper\",\n",
    "    text=\"<b>Misc.</b>\",\n",
    "    showarrow=False,\n",
    "    font=dict(color=\"orange\", size=12)\n",
    ")\n",
    "\n",
    "#Gray Neutral Legend\n",
    "fig.add_shape(\n",
    "    type=\"rect\",\n",
    "    xref=\"paper\",\n",
    "    yref=\"paper\",\n",
    "    x0=.80,\n",
    "    y0=.30,\n",
    "    x1=.83,\n",
    "    y1=.31,\n",
    "    fillcolor=\"gray\",\n",
    "    line=dict(color=\"gray\"),\n",
    ")\n",
    "fig.add_annotation(\n",
    "    x=.885,\n",
    "    y= .30,\n",
    "    xref=\"paper\",\n",
    "    yref=\"paper\",\n",
    "    text=\"<b>Neutral</b>\",\n",
    "    showarrow=False,\n",
    "    font=dict(color=\"gray\", size=12)\n",
    ")\n",
    "\n",
    "#Blue Ally Legend\n",
    "fig.add_shape(\n",
    "    type=\"rect\",\n",
    "    xref=\"paper\",\n",
    "    yref=\"paper\",\n",
    "    x0=.80,\n",
    "    y0=.32,\n",
    "    x1=.83,\n",
    "    y1=.33,\n",
    "    fillcolor=\"blue\",\n",
    "    line=dict(color=\"blue\"),\n",
    ")\n",
    "fig.add_annotation(\n",
    "    x=.86,\n",
    "    y= .32,\n",
    "    xref=\"paper\",\n",
    "    yref=\"paper\",\n",
    "    text=\"<b>Ally</b>\",\n",
    "    showarrow=False,\n",
    "    font=dict(color=\"blue\", size=12)\n",
    ")\n",
    "\n",
    "#Red Enemy Legend\n",
    "fig.add_shape(\n",
    "    type=\"rect\",\n",
    "    xref=\"paper\",\n",
    "    yref=\"paper\",\n",
    "    x0=.80,\n",
    "    y0=.35,\n",
    "    x1=.83,\n",
    "    y1=.34,\n",
    "    # x0=.55,\n",
    "    # y0=.24,\n",
    "    # x1=.58,\n",
    "    # y1=.25,\n",
    "    fillcolor=\"red\",\n",
    "    line=dict(color=\"red\"),\n",
    ")\n",
    "fig.add_annotation(\n",
    "    x=.88,\n",
    "    y= .345,\n",
    "    xref=\"paper\",\n",
    "    yref=\"paper\",\n",
    "    text=\"<b>Enemy</b>\",\n",
    "    showarrow=False,\n",
    "    font=dict(color=\"red\", size=12)\n",
    ")\n",
    "\n",
    "\n",
    "\n",
    "fig.show()"
   ]
  },
  {
   "cell_type": "code",
   "execution_count": 182,
   "metadata": {},
   "outputs": [
    {
     "name": "stdout",
     "output_type": "stream",
     "text": [
      "20\n",
      "5\n"
     ]
    },
    {
     "name": "stderr",
     "output_type": "stream",
     "text": [
      "C:\\Users\\dcrai\\AppData\\Local\\Temp\\ipykernel_32956\\3673724590.py:10: SettingWithCopyWarning:\n",
      "\n",
      "\n",
      "A value is trying to be set on a copy of a slice from a DataFrame.\n",
      "Try using .loc[row_indexer,col_indexer] = value instead\n",
      "\n",
      "See the caveats in the documentation: https://pandas.pydata.org/pandas-docs/stable/user_guide/indexing.html#returning-a-view-versus-a-copy\n",
      "\n"
     ]
    }
   ],
   "source": [
    "enemy_catalog = restricted_catalog[restricted_catalog['Status'] == 'Enemy']\n",
    "\n",
    "\n",
    "country_color_map = {\n",
    "    'China': 'red',\n",
    "    'Russia': 'orange'\n",
    "}\n",
    "\n",
    "# Map Status values to colors using the status_color_map\n",
    "enemy_catalog['Color'] = enemy_catalog['Country'].map(country_color_map)\n",
    "\n",
    "enemy_catalog = enemy_catalog.sort_values(by = ['Value'])\n",
    "\n",
    "print(len(enemy_catalog[enemy_catalog['Country'] == 'China']))\n",
    "print(len(enemy_catalog[enemy_catalog['Country'] == 'Russia']))"
   ]
  },
  {
   "cell_type": "code",
   "execution_count": 196,
   "metadata": {},
   "outputs": [
    {
     "data": {
      "application/vnd.plotly.v1+json": {
       "config": {
        "plotlyServerURL": "https://plot.ly"
       },
       "data": [
        {
         "marker": {
          "color": [
           "red",
           "red",
           "orange",
           "orange",
           "red",
           "orange",
           "red",
           "orange",
           "red",
           "orange",
           "red",
           "red",
           "red",
           "red",
           "red",
           "red",
           "red",
           "red",
           "red",
           "red",
           "red",
           "red",
           "red",
           "red",
           "red"
          ]
         },
         "orientation": "h",
         "type": "bar",
         "x": [
          1.4,
          7.02,
          8.46,
          8.84,
          12.42,
          14.5,
          14.5,
          18,
          18.86,
          25,
          27,
          28.5,
          30.74,
          33,
          35,
          37.41,
          38,
          38.18,
          50.22,
          53,
          62.4,
          69.75,
          70.3,
          94,
          94
         ],
         "y": [
          "Perlite",
          "Vanadium",
          "Potash",
          "Palladium",
          "Garnet (Industrial)",
          "Magnesium Metal",
          "Tungsten",
          "Silicon",
          "Stone (Dimension)",
          "Asbestos",
          "Germanium",
          "Barite",
          "Magnesium (sulfates)",
          "Graphite",
          "Scandium",
          "Iron Oxide Pigments (synthetic)",
          "Mica (natural)",
          "Antimony",
          "Diamond (powder)",
          "Gallium",
          "Bismuth",
          "Fused Aluminum Oxide",
          "Rare Earths",
          "Arsenic Metal",
          "Yttrium"
         ]
        }
       ],
       "layout": {
        "annotations": [
         {
          "font": {
           "color": "black",
           "size": 15
          },
          "showarrow": false,
          "text": "<b>Of the 25 enemy sourced critical minerals, 20 are sourced from China. 5 are sourced from Russia. </b>",
          "x": 0.06,
          "xanchor": "left",
          "xref": "paper",
          "xshift": 0,
          "y": 1.05,
          "yref": "paper"
         },
         {
          "ax": 10,
          "ay": 150,
          "font": {
           "size": 14
          },
          "showarrow": true,
          "text": "94% of all imported Yttrium and Arsenic metals are sourced from China.",
          "x": 90,
          "xanchor": "right",
          "y": "Arsenic Metal"
         },
         {
          "font": {
           "color": "black",
           "size": 12
          },
          "showarrow": false,
          "text": "<b>Country:</b>",
          "x": 0.76,
          "xref": "paper",
          "y": 0.38,
          "yref": "paper"
         },
         {
          "font": {
           "color": "orange",
           "size": 12
          },
          "showarrow": false,
          "text": "<b>Russia</b>",
          "x": 0.775,
          "xref": "paper",
          "y": 0.31,
          "yref": "paper"
         },
         {
          "font": {
           "color": "red",
           "size": 12
          },
          "showarrow": false,
          "text": "<b>China</b>",
          "x": 0.77,
          "xref": "paper",
          "y": 0.345,
          "yref": "paper"
         }
        ],
        "bargap": 0.3,
        "height": 800,
        "shapes": [
         {
          "fillcolor": "orange",
          "line": {
           "color": "orange"
          },
          "type": "rect",
          "x0": 0.7,
          "x1": 0.73,
          "xref": "paper",
          "y0": 0.32,
          "y1": 0.33,
          "yref": "paper"
         },
         {
          "fillcolor": "red",
          "line": {
           "color": "red"
          },
          "type": "rect",
          "x0": 0.7,
          "x1": 0.73,
          "xref": "paper",
          "y0": 0.35,
          "y1": 0.34,
          "yref": "paper"
         }
        ],
        "template": {
         "data": {
          "bar": [
           {
            "error_x": {
             "color": "#2a3f5f"
            },
            "error_y": {
             "color": "#2a3f5f"
            },
            "marker": {
             "line": {
              "color": "#E5ECF6",
              "width": 0.5
             },
             "pattern": {
              "fillmode": "overlay",
              "size": 10,
              "solidity": 0.2
             }
            },
            "type": "bar"
           }
          ],
          "barpolar": [
           {
            "marker": {
             "line": {
              "color": "#E5ECF6",
              "width": 0.5
             },
             "pattern": {
              "fillmode": "overlay",
              "size": 10,
              "solidity": 0.2
             }
            },
            "type": "barpolar"
           }
          ],
          "carpet": [
           {
            "aaxis": {
             "endlinecolor": "#2a3f5f",
             "gridcolor": "white",
             "linecolor": "white",
             "minorgridcolor": "white",
             "startlinecolor": "#2a3f5f"
            },
            "baxis": {
             "endlinecolor": "#2a3f5f",
             "gridcolor": "white",
             "linecolor": "white",
             "minorgridcolor": "white",
             "startlinecolor": "#2a3f5f"
            },
            "type": "carpet"
           }
          ],
          "choropleth": [
           {
            "colorbar": {
             "outlinewidth": 0,
             "ticks": ""
            },
            "type": "choropleth"
           }
          ],
          "contour": [
           {
            "colorbar": {
             "outlinewidth": 0,
             "ticks": ""
            },
            "colorscale": [
             [
              0,
              "#0d0887"
             ],
             [
              0.1111111111111111,
              "#46039f"
             ],
             [
              0.2222222222222222,
              "#7201a8"
             ],
             [
              0.3333333333333333,
              "#9c179e"
             ],
             [
              0.4444444444444444,
              "#bd3786"
             ],
             [
              0.5555555555555556,
              "#d8576b"
             ],
             [
              0.6666666666666666,
              "#ed7953"
             ],
             [
              0.7777777777777778,
              "#fb9f3a"
             ],
             [
              0.8888888888888888,
              "#fdca26"
             ],
             [
              1,
              "#f0f921"
             ]
            ],
            "type": "contour"
           }
          ],
          "contourcarpet": [
           {
            "colorbar": {
             "outlinewidth": 0,
             "ticks": ""
            },
            "type": "contourcarpet"
           }
          ],
          "heatmap": [
           {
            "colorbar": {
             "outlinewidth": 0,
             "ticks": ""
            },
            "colorscale": [
             [
              0,
              "#0d0887"
             ],
             [
              0.1111111111111111,
              "#46039f"
             ],
             [
              0.2222222222222222,
              "#7201a8"
             ],
             [
              0.3333333333333333,
              "#9c179e"
             ],
             [
              0.4444444444444444,
              "#bd3786"
             ],
             [
              0.5555555555555556,
              "#d8576b"
             ],
             [
              0.6666666666666666,
              "#ed7953"
             ],
             [
              0.7777777777777778,
              "#fb9f3a"
             ],
             [
              0.8888888888888888,
              "#fdca26"
             ],
             [
              1,
              "#f0f921"
             ]
            ],
            "type": "heatmap"
           }
          ],
          "heatmapgl": [
           {
            "colorbar": {
             "outlinewidth": 0,
             "ticks": ""
            },
            "colorscale": [
             [
              0,
              "#0d0887"
             ],
             [
              0.1111111111111111,
              "#46039f"
             ],
             [
              0.2222222222222222,
              "#7201a8"
             ],
             [
              0.3333333333333333,
              "#9c179e"
             ],
             [
              0.4444444444444444,
              "#bd3786"
             ],
             [
              0.5555555555555556,
              "#d8576b"
             ],
             [
              0.6666666666666666,
              "#ed7953"
             ],
             [
              0.7777777777777778,
              "#fb9f3a"
             ],
             [
              0.8888888888888888,
              "#fdca26"
             ],
             [
              1,
              "#f0f921"
             ]
            ],
            "type": "heatmapgl"
           }
          ],
          "histogram": [
           {
            "marker": {
             "pattern": {
              "fillmode": "overlay",
              "size": 10,
              "solidity": 0.2
             }
            },
            "type": "histogram"
           }
          ],
          "histogram2d": [
           {
            "colorbar": {
             "outlinewidth": 0,
             "ticks": ""
            },
            "colorscale": [
             [
              0,
              "#0d0887"
             ],
             [
              0.1111111111111111,
              "#46039f"
             ],
             [
              0.2222222222222222,
              "#7201a8"
             ],
             [
              0.3333333333333333,
              "#9c179e"
             ],
             [
              0.4444444444444444,
              "#bd3786"
             ],
             [
              0.5555555555555556,
              "#d8576b"
             ],
             [
              0.6666666666666666,
              "#ed7953"
             ],
             [
              0.7777777777777778,
              "#fb9f3a"
             ],
             [
              0.8888888888888888,
              "#fdca26"
             ],
             [
              1,
              "#f0f921"
             ]
            ],
            "type": "histogram2d"
           }
          ],
          "histogram2dcontour": [
           {
            "colorbar": {
             "outlinewidth": 0,
             "ticks": ""
            },
            "colorscale": [
             [
              0,
              "#0d0887"
             ],
             [
              0.1111111111111111,
              "#46039f"
             ],
             [
              0.2222222222222222,
              "#7201a8"
             ],
             [
              0.3333333333333333,
              "#9c179e"
             ],
             [
              0.4444444444444444,
              "#bd3786"
             ],
             [
              0.5555555555555556,
              "#d8576b"
             ],
             [
              0.6666666666666666,
              "#ed7953"
             ],
             [
              0.7777777777777778,
              "#fb9f3a"
             ],
             [
              0.8888888888888888,
              "#fdca26"
             ],
             [
              1,
              "#f0f921"
             ]
            ],
            "type": "histogram2dcontour"
           }
          ],
          "mesh3d": [
           {
            "colorbar": {
             "outlinewidth": 0,
             "ticks": ""
            },
            "type": "mesh3d"
           }
          ],
          "parcoords": [
           {
            "line": {
             "colorbar": {
              "outlinewidth": 0,
              "ticks": ""
             }
            },
            "type": "parcoords"
           }
          ],
          "pie": [
           {
            "automargin": true,
            "type": "pie"
           }
          ],
          "scatter": [
           {
            "fillpattern": {
             "fillmode": "overlay",
             "size": 10,
             "solidity": 0.2
            },
            "type": "scatter"
           }
          ],
          "scatter3d": [
           {
            "line": {
             "colorbar": {
              "outlinewidth": 0,
              "ticks": ""
             }
            },
            "marker": {
             "colorbar": {
              "outlinewidth": 0,
              "ticks": ""
             }
            },
            "type": "scatter3d"
           }
          ],
          "scattercarpet": [
           {
            "marker": {
             "colorbar": {
              "outlinewidth": 0,
              "ticks": ""
             }
            },
            "type": "scattercarpet"
           }
          ],
          "scattergeo": [
           {
            "marker": {
             "colorbar": {
              "outlinewidth": 0,
              "ticks": ""
             }
            },
            "type": "scattergeo"
           }
          ],
          "scattergl": [
           {
            "marker": {
             "colorbar": {
              "outlinewidth": 0,
              "ticks": ""
             }
            },
            "type": "scattergl"
           }
          ],
          "scattermapbox": [
           {
            "marker": {
             "colorbar": {
              "outlinewidth": 0,
              "ticks": ""
             }
            },
            "type": "scattermapbox"
           }
          ],
          "scatterpolar": [
           {
            "marker": {
             "colorbar": {
              "outlinewidth": 0,
              "ticks": ""
             }
            },
            "type": "scatterpolar"
           }
          ],
          "scatterpolargl": [
           {
            "marker": {
             "colorbar": {
              "outlinewidth": 0,
              "ticks": ""
             }
            },
            "type": "scatterpolargl"
           }
          ],
          "scatterternary": [
           {
            "marker": {
             "colorbar": {
              "outlinewidth": 0,
              "ticks": ""
             }
            },
            "type": "scatterternary"
           }
          ],
          "surface": [
           {
            "colorbar": {
             "outlinewidth": 0,
             "ticks": ""
            },
            "colorscale": [
             [
              0,
              "#0d0887"
             ],
             [
              0.1111111111111111,
              "#46039f"
             ],
             [
              0.2222222222222222,
              "#7201a8"
             ],
             [
              0.3333333333333333,
              "#9c179e"
             ],
             [
              0.4444444444444444,
              "#bd3786"
             ],
             [
              0.5555555555555556,
              "#d8576b"
             ],
             [
              0.6666666666666666,
              "#ed7953"
             ],
             [
              0.7777777777777778,
              "#fb9f3a"
             ],
             [
              0.8888888888888888,
              "#fdca26"
             ],
             [
              1,
              "#f0f921"
             ]
            ],
            "type": "surface"
           }
          ],
          "table": [
           {
            "cells": {
             "fill": {
              "color": "#EBF0F8"
             },
             "line": {
              "color": "white"
             }
            },
            "header": {
             "fill": {
              "color": "#C8D4E3"
             },
             "line": {
              "color": "white"
             }
            },
            "type": "table"
           }
          ]
         },
         "layout": {
          "annotationdefaults": {
           "arrowcolor": "#2a3f5f",
           "arrowhead": 0,
           "arrowwidth": 1
          },
          "autotypenumbers": "strict",
          "coloraxis": {
           "colorbar": {
            "outlinewidth": 0,
            "ticks": ""
           }
          },
          "colorscale": {
           "diverging": [
            [
             0,
             "#8e0152"
            ],
            [
             0.1,
             "#c51b7d"
            ],
            [
             0.2,
             "#de77ae"
            ],
            [
             0.3,
             "#f1b6da"
            ],
            [
             0.4,
             "#fde0ef"
            ],
            [
             0.5,
             "#f7f7f7"
            ],
            [
             0.6,
             "#e6f5d0"
            ],
            [
             0.7,
             "#b8e186"
            ],
            [
             0.8,
             "#7fbc41"
            ],
            [
             0.9,
             "#4d9221"
            ],
            [
             1,
             "#276419"
            ]
           ],
           "sequential": [
            [
             0,
             "#0d0887"
            ],
            [
             0.1111111111111111,
             "#46039f"
            ],
            [
             0.2222222222222222,
             "#7201a8"
            ],
            [
             0.3333333333333333,
             "#9c179e"
            ],
            [
             0.4444444444444444,
             "#bd3786"
            ],
            [
             0.5555555555555556,
             "#d8576b"
            ],
            [
             0.6666666666666666,
             "#ed7953"
            ],
            [
             0.7777777777777778,
             "#fb9f3a"
            ],
            [
             0.8888888888888888,
             "#fdca26"
            ],
            [
             1,
             "#f0f921"
            ]
           ],
           "sequentialminus": [
            [
             0,
             "#0d0887"
            ],
            [
             0.1111111111111111,
             "#46039f"
            ],
            [
             0.2222222222222222,
             "#7201a8"
            ],
            [
             0.3333333333333333,
             "#9c179e"
            ],
            [
             0.4444444444444444,
             "#bd3786"
            ],
            [
             0.5555555555555556,
             "#d8576b"
            ],
            [
             0.6666666666666666,
             "#ed7953"
            ],
            [
             0.7777777777777778,
             "#fb9f3a"
            ],
            [
             0.8888888888888888,
             "#fdca26"
            ],
            [
             1,
             "#f0f921"
            ]
           ]
          },
          "colorway": [
           "#636efa",
           "#EF553B",
           "#00cc96",
           "#ab63fa",
           "#FFA15A",
           "#19d3f3",
           "#FF6692",
           "#B6E880",
           "#FF97FF",
           "#FECB52"
          ],
          "font": {
           "color": "#2a3f5f"
          },
          "geo": {
           "bgcolor": "white",
           "lakecolor": "white",
           "landcolor": "#E5ECF6",
           "showlakes": true,
           "showland": true,
           "subunitcolor": "white"
          },
          "hoverlabel": {
           "align": "left"
          },
          "hovermode": "closest",
          "mapbox": {
           "style": "light"
          },
          "paper_bgcolor": "white",
          "plot_bgcolor": "#E5ECF6",
          "polar": {
           "angularaxis": {
            "gridcolor": "white",
            "linecolor": "white",
            "ticks": ""
           },
           "bgcolor": "#E5ECF6",
           "radialaxis": {
            "gridcolor": "white",
            "linecolor": "white",
            "ticks": ""
           }
          },
          "scene": {
           "xaxis": {
            "backgroundcolor": "#E5ECF6",
            "gridcolor": "white",
            "gridwidth": 2,
            "linecolor": "white",
            "showbackground": true,
            "ticks": "",
            "zerolinecolor": "white"
           },
           "yaxis": {
            "backgroundcolor": "#E5ECF6",
            "gridcolor": "white",
            "gridwidth": 2,
            "linecolor": "white",
            "showbackground": true,
            "ticks": "",
            "zerolinecolor": "white"
           },
           "zaxis": {
            "backgroundcolor": "#E5ECF6",
            "gridcolor": "white",
            "gridwidth": 2,
            "linecolor": "white",
            "showbackground": true,
            "ticks": "",
            "zerolinecolor": "white"
           }
          },
          "shapedefaults": {
           "line": {
            "color": "#2a3f5f"
           }
          },
          "ternary": {
           "aaxis": {
            "gridcolor": "white",
            "linecolor": "white",
            "ticks": ""
           },
           "baxis": {
            "gridcolor": "white",
            "linecolor": "white",
            "ticks": ""
           },
           "bgcolor": "#E5ECF6",
           "caxis": {
            "gridcolor": "white",
            "linecolor": "white",
            "ticks": ""
           }
          },
          "title": {
           "x": 0.05
          },
          "xaxis": {
           "automargin": true,
           "gridcolor": "white",
           "linecolor": "white",
           "ticks": "",
           "title": {
            "standoff": 15
           },
           "zerolinecolor": "white",
           "zerolinewidth": 2
          },
          "yaxis": {
           "automargin": true,
           "gridcolor": "white",
           "linecolor": "white",
           "ticks": "",
           "title": {
            "standoff": 15
           },
           "zerolinecolor": "white",
           "zerolinewidth": 2
          }
         }
        },
        "title": {
         "text": "Critical Minerals - Enemy Sourced"
        },
        "xaxis": {
         "title": {
          "text": "Mineral Import Percentage"
         }
        },
        "yaxis": {
         "title": {
          "text": "Mineral"
         }
        }
       }
      }
     },
     "metadata": {},
     "output_type": "display_data"
    }
   ],
   "source": [
    "\n",
    "\n",
    "import plotly.graph_objects as go\n",
    "\n",
    "fig = go.Figure()\n",
    "\n",
    "fig.add_trace(\n",
    "    go.Bar(\n",
    "        y=enemy_catalog['Mineral'],\n",
    "        x=enemy_catalog['Value'],\n",
    "        orientation='h',\n",
    "        marker=dict(\n",
    "            color=enemy_catalog['Color'])\n",
    "        )\n",
    "    )\n",
    "\n",
    "\n",
    "fig.update_layout(\n",
    "    title='Critical Minerals - Enemy Sourced',\n",
    "    xaxis=dict(title='Mineral Import Percentage'),\n",
    "    yaxis=dict(title='Mineral'),\n",
    "    bargap=0.3,  # Adjust the gap between bars\n",
    "    height=800,  # Set a larger height for the plot\n",
    ")\n",
    "\n",
    "\n",
    "# Add Kicker\n",
    "#\n",
    "kicker = go.layout.Annotation(\n",
    "     text=\"<b>Of the 25 enemy sourced critical minerals, 20 are sourced from China. 5 are sourced from Russia. </b>\",\n",
    "     x=.06,\n",
    "     y= 1.05,\n",
    "     xref = 'paper',\n",
    "     yref = 'paper',\n",
    "     showarrow=False,\n",
    "     xanchor=\"left\",\n",
    "     xshift=0,\n",
    "     font=dict(size=15,color ='black')\n",
    " )\n",
    "fig.add_annotation(kicker)\n",
    "\n",
    "point_out_text = go.layout.Annotation(\n",
    "    text=\"94% of all imported Yttrium and Arsenic metals are sourced from China.\",\n",
    "    x=90,\n",
    "    y= \"Arsenic Metal\",\n",
    "    ax = 10,\n",
    "    ay = 150,\n",
    "    showarrow=True,\n",
    "    xanchor=\"right\",\n",
    "    font=dict(size=14)\n",
    ")\n",
    "fig.add_annotation(point_out_text)\n",
    "\n",
    "\n",
    "#Sources: Legend text\n",
    "fig.add_annotation(\n",
    "    x=.76,\n",
    "    y= .38,\n",
    "    xref=\"paper\",\n",
    "    yref=\"paper\",\n",
    "    text=\"<b>Country:</b>\",\n",
    "    showarrow=False,\n",
    "    font=dict(color=\"black\", size=12)\n",
    ")\n",
    "\n",
    "#Blue Ally Legend\n",
    "fig.add_shape(\n",
    "    type=\"rect\",\n",
    "    xref=\"paper\",\n",
    "    yref=\"paper\",\n",
    "    x0=.70,\n",
    "    y0=.32,\n",
    "    x1=.73,\n",
    "    y1=.33,\n",
    "    fillcolor=\"orange\",\n",
    "    line=dict(color=\"orange\"),\n",
    ")\n",
    "fig.add_annotation(\n",
    "    x=.775,\n",
    "    y= .31,\n",
    "    xref=\"paper\",\n",
    "    yref=\"paper\",\n",
    "    text=\"<b>Russia</b>\",\n",
    "    showarrow=False,\n",
    "    font=dict(color=\"orange\", size=12)\n",
    ")\n",
    "\n",
    "#Red Enemy Legend\n",
    "fig.add_shape(\n",
    "    type=\"rect\",\n",
    "    xref=\"paper\",\n",
    "    yref=\"paper\",\n",
    "    x0=.70,\n",
    "    y0=.35,\n",
    "    x1=.73,\n",
    "    y1=.34,\n",
    "    fillcolor=\"red\",\n",
    "    line=dict(color=\"red\"),\n",
    ")\n",
    "fig.add_annotation(\n",
    "    x=.77,\n",
    "    y= .345,\n",
    "    xref=\"paper\",\n",
    "    yref=\"paper\",\n",
    "    text=\"<b>China</b>\",\n",
    "    showarrow=False,\n",
    "    font=dict(color=\"red\", size=12)\n",
    ")\n",
    "\n",
    "fig.show()\n"
   ]
  },
  {
   "cell_type": "markdown",
   "metadata": {},
   "source": [
    "## Sankey Diagram\n"
   ]
  },
  {
   "cell_type": "code",
   "execution_count": 267,
   "metadata": {},
   "outputs": [
    {
     "data": {
      "text/plain": [
       "['Yttrium',\n",
       " 'China',\n",
       " 'Japan/Burma',\n",
       " 'Arsenic (metals)',\n",
       " 'China',\n",
       " 'Morocco/Belgium',\n",
       " 'Rare Earths',\n",
       " 'China',\n",
       " 'Brazil/India',\n",
       " 'Fused Alum. Oxide',\n",
       " 'China',\n",
       " 'Canada/Brazil',\n",
       " 'Bismuth',\n",
       " 'China',\n",
       " 'Zinc Processing',\n",
       " 'Gallium',\n",
       " 'China',\n",
       " 'Zinc Processing',\n",
       " 'Diamond (powder)',\n",
       " 'China',\n",
       " '15 countries',\n",
       " 'Antimony',\n",
       " 'China',\n",
       " 'Australia/Domestic',\n",
       " 'Mica (Natural)',\n",
       " 'China',\n",
       " 'Brazil/India/Domestic',\n",
       " 'Iron Oxide Pigments',\n",
       " 'China',\n",
       " 'India/Germany',\n",
       " 'Scandium',\n",
       " 'China',\n",
       " 'Australia/Canada',\n",
       " 'Graphite',\n",
       " 'China',\n",
       " 'Mozambique/Madagascar',\n",
       " 'Rare Earths',\n",
       " 'China',\n",
       " 'Brazil/India',\n",
       " 'Magnesium (sulfates)',\n",
       " 'China',\n",
       " 'Worldwide',\n",
       " 'Barite',\n",
       " 'China',\n",
       " 'India/Domestic',\n",
       " 'Germanium',\n",
       " 'China',\n",
       " 'Domestic/Zinc Proc./Silicon',\n",
       " 'Asbestos',\n",
       " 'Russia',\n",
       " 'Calcium Silicate',\n",
       " 'Stone (Dimension)',\n",
       " 'China',\n",
       " 'Worldwide',\n",
       " 'Silicon',\n",
       " 'Russia',\n",
       " 'Worldwide',\n",
       " 'Tungsten',\n",
       " 'China',\n",
       " 'Worldwide',\n",
       " 'Magnesium Metal',\n",
       " 'Russia',\n",
       " 'Worldwide',\n",
       " 'Garnet (Industrial)',\n",
       " 'China',\n",
       " 'Worldwide',\n",
       " 'Palladium',\n",
       " 'Russia',\n",
       " 'South Africa/Platinum',\n",
       " 'Potash',\n",
       " 'Russia',\n",
       " 'Domestic/Worldwide',\n",
       " 'Vandium',\n",
       " 'China',\n",
       " 'Worldwide',\n",
       " 'Perlite',\n",
       " 'China',\n",
       " 'Domestic/Greece/Turkey']"
      ]
     },
     "execution_count": 267,
     "metadata": {},
     "output_type": "execute_result"
    }
   ],
   "source": [
    "text_list = [\n",
    "    'Yttrium', 'China', 'Japan/Burma', 'Arsenic (metals)', 'China', 'Morocco/Belgium', 'Rare Earths', 'China',\n",
    "    'Brazil/India', 'Fused Alum. Oxide', 'China', 'Canada/Brazil', 'Bismuth', 'China', 'Zinc Processing', 'Gallium', 'China',\n",
    "    'Zinc Processing', 'Diamond (powder)', 'China', '15 countries', 'Antimony', 'China', 'Australia/Domestic',\n",
    "    'Mica (Natural)', 'China', 'Brazil/India/Domestic', 'Iron Oxide Pigments', 'China', 'India/Germany', 'Scandium',\n",
    "    'China', 'Australia/Canada', 'Graphite', 'China', 'Mozambique/Madagascar', 'Rare Earths', 'China', 'Brazil/India',\n",
    "    'Magnesium (sulfates)', 'China', 'Worldwide', 'Barite', 'China', 'India/Domestic', 'Germanium', 'China',\n",
    "    'Domestic/Zinc Proc./Silicon', 'Asbestos', 'Russia', 'Calcium Silicate', 'Stone (Dimension)', 'China', 'Worldwide',\n",
    "    'Silicon', 'Russia', 'Worldwide', 'Tungsten', 'China', 'Worldwide', 'Magnesium Metal', 'Russia', 'Worldwide',\n",
    "    'Garnet (Industrial)', 'China', 'Worldwide', 'Palladium', 'Russia', 'South Africa/Platinum', 'Potash', 'Russia',\n",
    "    'Domestic/Worldwide', 'Vandium', 'China', 'Worldwide', 'Perlite', 'China', 'Domestic/Greece/Turkey'\n",
    "]\n",
    "\n",
    "text_list"
   ]
  },
  {
   "cell_type": "code",
   "execution_count": 275,
   "metadata": {},
   "outputs": [
    {
     "data": {
      "text/html": [
       "<div>\n",
       "<style scoped>\n",
       "    .dataframe tbody tr th:only-of-type {\n",
       "        vertical-align: middle;\n",
       "    }\n",
       "\n",
       "    .dataframe tbody tr th {\n",
       "        vertical-align: top;\n",
       "    }\n",
       "\n",
       "    .dataframe thead th {\n",
       "        text-align: right;\n",
       "    }\n",
       "</style>\n",
       "<table border=\"1\" class=\"dataframe\">\n",
       "  <thead>\n",
       "    <tr style=\"text-align: right;\">\n",
       "      <th></th>\n",
       "      <th>Mineral</th>\n",
       "      <th>Source</th>\n",
       "      <th>Alternative</th>\n",
       "      <th>Category</th>\n",
       "    </tr>\n",
       "  </thead>\n",
       "  <tbody>\n",
       "    <tr>\n",
       "      <th>0</th>\n",
       "      <td>Yttrium</td>\n",
       "      <td>China</td>\n",
       "      <td>Japan/Burma</td>\n",
       "      <td>Limited</td>\n",
       "    </tr>\n",
       "    <tr>\n",
       "      <th>1</th>\n",
       "      <td>Arsenic (metals)</td>\n",
       "      <td>China</td>\n",
       "      <td>Morocco/Belgium</td>\n",
       "      <td>Morocco</td>\n",
       "    </tr>\n",
       "    <tr>\n",
       "      <th>2</th>\n",
       "      <td>Rare Earths</td>\n",
       "      <td>China</td>\n",
       "      <td>Brazil/India</td>\n",
       "      <td>Brazil</td>\n",
       "    </tr>\n",
       "    <tr>\n",
       "      <th>3</th>\n",
       "      <td>Fused Alum. Oxide</td>\n",
       "      <td>China</td>\n",
       "      <td>Canada/Brazil</td>\n",
       "      <td>Brazil</td>\n",
       "    </tr>\n",
       "    <tr>\n",
       "      <th>4</th>\n",
       "      <td>Bismuth</td>\n",
       "      <td>China</td>\n",
       "      <td>Zinc Processing</td>\n",
       "      <td>Zinc Processing</td>\n",
       "    </tr>\n",
       "    <tr>\n",
       "      <th>5</th>\n",
       "      <td>Gallium</td>\n",
       "      <td>China</td>\n",
       "      <td>Zinc Processing</td>\n",
       "      <td>Zinc Processing</td>\n",
       "    </tr>\n",
       "    <tr>\n",
       "      <th>6</th>\n",
       "      <td>Diamond (powder)</td>\n",
       "      <td>China</td>\n",
       "      <td>15 countries</td>\n",
       "      <td>Worldwide</td>\n",
       "    </tr>\n",
       "    <tr>\n",
       "      <th>7</th>\n",
       "      <td>Antimony</td>\n",
       "      <td>China</td>\n",
       "      <td>Australia/Domestic</td>\n",
       "      <td>Australia</td>\n",
       "    </tr>\n",
       "    <tr>\n",
       "      <th>8</th>\n",
       "      <td>Mica (Natural)</td>\n",
       "      <td>China</td>\n",
       "      <td>Brazil/India/Domestic</td>\n",
       "      <td>Brazil</td>\n",
       "    </tr>\n",
       "    <tr>\n",
       "      <th>9</th>\n",
       "      <td>Iron Oxide Pigments</td>\n",
       "      <td>China</td>\n",
       "      <td>India/Germany</td>\n",
       "      <td>India</td>\n",
       "    </tr>\n",
       "    <tr>\n",
       "      <th>10</th>\n",
       "      <td>Scandium</td>\n",
       "      <td>China</td>\n",
       "      <td>Australia/Canada</td>\n",
       "      <td>Australia</td>\n",
       "    </tr>\n",
       "    <tr>\n",
       "      <th>11</th>\n",
       "      <td>Graphite</td>\n",
       "      <td>China</td>\n",
       "      <td>Mozambique/Madagascar</td>\n",
       "      <td>Mozambique</td>\n",
       "    </tr>\n",
       "    <tr>\n",
       "      <th>12</th>\n",
       "      <td>Rare Earths</td>\n",
       "      <td>China</td>\n",
       "      <td>Brazil/India</td>\n",
       "      <td>Brazil</td>\n",
       "    </tr>\n",
       "    <tr>\n",
       "      <th>13</th>\n",
       "      <td>Magnesium (sulfates)</td>\n",
       "      <td>China</td>\n",
       "      <td>Worldwide</td>\n",
       "      <td>Worldwide</td>\n",
       "    </tr>\n",
       "    <tr>\n",
       "      <th>14</th>\n",
       "      <td>Barite</td>\n",
       "      <td>China</td>\n",
       "      <td>India/Domestic</td>\n",
       "      <td>India</td>\n",
       "    </tr>\n",
       "    <tr>\n",
       "      <th>15</th>\n",
       "      <td>Germanium</td>\n",
       "      <td>China</td>\n",
       "      <td>Domestic/Zinc Proc./Silicon</td>\n",
       "      <td>Zinc Processing</td>\n",
       "    </tr>\n",
       "    <tr>\n",
       "      <th>16</th>\n",
       "      <td>Asbestos</td>\n",
       "      <td>Russia</td>\n",
       "      <td>Calcium Silicate</td>\n",
       "      <td>Substitute</td>\n",
       "    </tr>\n",
       "    <tr>\n",
       "      <th>17</th>\n",
       "      <td>Stone (Dimension)</td>\n",
       "      <td>China</td>\n",
       "      <td>Worldwide</td>\n",
       "      <td>Worldwide</td>\n",
       "    </tr>\n",
       "    <tr>\n",
       "      <th>18</th>\n",
       "      <td>Silicon</td>\n",
       "      <td>Russia</td>\n",
       "      <td>Worldwide</td>\n",
       "      <td>Worldwide</td>\n",
       "    </tr>\n",
       "    <tr>\n",
       "      <th>19</th>\n",
       "      <td>Tungsten</td>\n",
       "      <td>China</td>\n",
       "      <td>Worldwide</td>\n",
       "      <td>Worldwide</td>\n",
       "    </tr>\n",
       "    <tr>\n",
       "      <th>20</th>\n",
       "      <td>Magnesium Metal</td>\n",
       "      <td>Russia</td>\n",
       "      <td>Worldwide</td>\n",
       "      <td>Worldwide</td>\n",
       "    </tr>\n",
       "    <tr>\n",
       "      <th>21</th>\n",
       "      <td>Garnet (Industrial)</td>\n",
       "      <td>China</td>\n",
       "      <td>Worldwide</td>\n",
       "      <td>Worldwide</td>\n",
       "    </tr>\n",
       "    <tr>\n",
       "      <th>22</th>\n",
       "      <td>Palladium</td>\n",
       "      <td>Russia</td>\n",
       "      <td>South Africa/Platinum</td>\n",
       "      <td>South Africa</td>\n",
       "    </tr>\n",
       "    <tr>\n",
       "      <th>23</th>\n",
       "      <td>Potash</td>\n",
       "      <td>Russia</td>\n",
       "      <td>Domestic/Worldwide</td>\n",
       "      <td>Domestic</td>\n",
       "    </tr>\n",
       "    <tr>\n",
       "      <th>24</th>\n",
       "      <td>Vandium</td>\n",
       "      <td>China</td>\n",
       "      <td>Worldwide</td>\n",
       "      <td>Worldwide</td>\n",
       "    </tr>\n",
       "    <tr>\n",
       "      <th>25</th>\n",
       "      <td>Perlite</td>\n",
       "      <td>China</td>\n",
       "      <td>Domestic/Greece/Turkey</td>\n",
       "      <td>Domestic</td>\n",
       "    </tr>\n",
       "  </tbody>\n",
       "</table>\n",
       "</div>"
      ],
      "text/plain": [
       "                 Mineral  Source                  Alternative         Category\n",
       "0                Yttrium   China                  Japan/Burma          Limited\n",
       "1       Arsenic (metals)   China              Morocco/Belgium          Morocco\n",
       "2            Rare Earths   China                 Brazil/India           Brazil\n",
       "3      Fused Alum. Oxide   China                Canada/Brazil           Brazil\n",
       "4                Bismuth   China              Zinc Processing  Zinc Processing\n",
       "5                Gallium   China              Zinc Processing  Zinc Processing\n",
       "6       Diamond (powder)   China                 15 countries        Worldwide\n",
       "7               Antimony   China           Australia/Domestic        Australia\n",
       "8         Mica (Natural)   China        Brazil/India/Domestic           Brazil\n",
       "9    Iron Oxide Pigments   China                India/Germany            India\n",
       "10              Scandium   China             Australia/Canada        Australia\n",
       "11              Graphite   China        Mozambique/Madagascar       Mozambique\n",
       "12           Rare Earths   China                 Brazil/India           Brazil\n",
       "13  Magnesium (sulfates)   China                    Worldwide        Worldwide\n",
       "14                Barite   China               India/Domestic            India\n",
       "15             Germanium   China  Domestic/Zinc Proc./Silicon  Zinc Processing\n",
       "16              Asbestos  Russia             Calcium Silicate       Substitute\n",
       "17     Stone (Dimension)   China                    Worldwide        Worldwide\n",
       "18               Silicon  Russia                    Worldwide        Worldwide\n",
       "19              Tungsten   China                    Worldwide        Worldwide\n",
       "20       Magnesium Metal  Russia                    Worldwide        Worldwide\n",
       "21   Garnet (Industrial)   China                    Worldwide        Worldwide\n",
       "22             Palladium  Russia        South Africa/Platinum     South Africa\n",
       "23                Potash  Russia           Domestic/Worldwide         Domestic\n",
       "24               Vandium   China                    Worldwide        Worldwide\n",
       "25               Perlite   China       Domestic/Greece/Turkey         Domestic"
      ]
     },
     "execution_count": 275,
     "metadata": {},
     "output_type": "execute_result"
    }
   ],
   "source": [
    "import numpy as np\n",
    "\n",
    "# Convert the list to a numpy array and reshape it into 3 columns\n",
    "array = np.array(text_list)\n",
    "columns = 3\n",
    "rows = -1  # Infer the number of rows based on the number of columns\n",
    "reshaped_array = np.reshape(array, (rows, columns))\n",
    "\n",
    "# Convert the reshaped array into a DataFrame\n",
    "alternatives = pd.DataFrame(reshaped_array, columns=['Mineral', 'Source', 'Alternative'])\n",
    "\n",
    "alternatives['Category'] = ['Limited','Morocco','Brazil','Brazil','Zinc Processing','Zinc Processing','Worldwide','Australia','Brazil','India','Australia','Mozambique','Brazil','Worldwide','India','Zinc Processing','Substitute','Worldwide','Worldwide','Worldwide','Worldwide','Worldwide','South Africa','Domestic','Worldwide','Domestic']\n",
    "alternatives"
   ]
  },
  {
   "cell_type": "code",
   "execution_count": 276,
   "metadata": {},
   "outputs": [
    {
     "name": "stdout",
     "output_type": "stream",
     "text": [
      "0, China\n",
      "1, Russia\n",
      "2, Yttrium\n",
      "3, Arsenic (metals)\n",
      "4, Rare Earths\n",
      "5, Fused Alum. Oxide\n",
      "6, Bismuth\n",
      "7, Gallium\n",
      "8, Diamond (powder)\n",
      "9, Antimony\n",
      "10, Mica (Natural)\n",
      "11, Iron Oxide Pigments\n",
      "12, Scandium\n",
      "13, Graphite\n",
      "14, Magnesium (sulfates)\n",
      "15, Barite\n",
      "16, Germanium\n",
      "17, Asbestos\n",
      "18, Stone (Dimension)\n",
      "19, Silicon\n",
      "20, Tungsten\n",
      "21, Magnesium Metal\n",
      "22, Garnet (Industrial)\n",
      "23, Palladium\n",
      "24, Potash\n",
      "25, Vandium\n",
      "26, Perlite\n",
      "27, Limited\n",
      "28, Morocco\n",
      "29, Brazil\n",
      "30, Zinc Processing\n",
      "31, Worldwide\n",
      "32, Australia\n",
      "33, India\n",
      "34, Mozambique\n",
      "35, Substitute\n",
      "36, South Africa\n",
      "37, Domestic\n"
     ]
    }
   ],
   "source": [
    "labels = alternatives['Source'].unique().tolist() + alternatives['Mineral'].unique().tolist() + alternatives['Category'].unique().tolist()\n",
    "for index, value in enumerate(labels):\n",
    "    print(f\"{index}, {value}\")"
   ]
  },
  {
   "cell_type": "code",
   "execution_count": 277,
   "metadata": {},
   "outputs": [
    {
     "data": {
      "text/html": [
       "<div>\n",
       "<style scoped>\n",
       "    .dataframe tbody tr th:only-of-type {\n",
       "        vertical-align: middle;\n",
       "    }\n",
       "\n",
       "    .dataframe tbody tr th {\n",
       "        vertical-align: top;\n",
       "    }\n",
       "\n",
       "    .dataframe thead th {\n",
       "        text-align: right;\n",
       "    }\n",
       "</style>\n",
       "<table border=\"1\" class=\"dataframe\">\n",
       "  <thead>\n",
       "    <tr style=\"text-align: right;\">\n",
       "      <th></th>\n",
       "      <th>Index</th>\n",
       "      <th>Values</th>\n",
       "      <th>Color</th>\n",
       "    </tr>\n",
       "  </thead>\n",
       "  <tbody>\n",
       "    <tr>\n",
       "      <th>0</th>\n",
       "      <td>0</td>\n",
       "      <td>China</td>\n",
       "      <td>red</td>\n",
       "    </tr>\n",
       "    <tr>\n",
       "      <th>1</th>\n",
       "      <td>1</td>\n",
       "      <td>Russia</td>\n",
       "      <td>orange</td>\n",
       "    </tr>\n",
       "    <tr>\n",
       "      <th>2</th>\n",
       "      <td>2</td>\n",
       "      <td>Yttrium</td>\n",
       "      <td>black</td>\n",
       "    </tr>\n",
       "    <tr>\n",
       "      <th>3</th>\n",
       "      <td>3</td>\n",
       "      <td>Arsenic (metals)</td>\n",
       "      <td>black</td>\n",
       "    </tr>\n",
       "    <tr>\n",
       "      <th>4</th>\n",
       "      <td>4</td>\n",
       "      <td>Rare Earths</td>\n",
       "      <td>black</td>\n",
       "    </tr>\n",
       "    <tr>\n",
       "      <th>5</th>\n",
       "      <td>5</td>\n",
       "      <td>Fused Alum. Oxide</td>\n",
       "      <td>black</td>\n",
       "    </tr>\n",
       "    <tr>\n",
       "      <th>6</th>\n",
       "      <td>6</td>\n",
       "      <td>Bismuth</td>\n",
       "      <td>black</td>\n",
       "    </tr>\n",
       "    <tr>\n",
       "      <th>7</th>\n",
       "      <td>7</td>\n",
       "      <td>Gallium</td>\n",
       "      <td>black</td>\n",
       "    </tr>\n",
       "    <tr>\n",
       "      <th>8</th>\n",
       "      <td>8</td>\n",
       "      <td>Diamond (powder)</td>\n",
       "      <td>black</td>\n",
       "    </tr>\n",
       "    <tr>\n",
       "      <th>9</th>\n",
       "      <td>9</td>\n",
       "      <td>Antimony</td>\n",
       "      <td>black</td>\n",
       "    </tr>\n",
       "    <tr>\n",
       "      <th>10</th>\n",
       "      <td>10</td>\n",
       "      <td>Mica (Natural)</td>\n",
       "      <td>black</td>\n",
       "    </tr>\n",
       "    <tr>\n",
       "      <th>11</th>\n",
       "      <td>11</td>\n",
       "      <td>Iron Oxide Pigments</td>\n",
       "      <td>black</td>\n",
       "    </tr>\n",
       "    <tr>\n",
       "      <th>12</th>\n",
       "      <td>12</td>\n",
       "      <td>Scandium</td>\n",
       "      <td>black</td>\n",
       "    </tr>\n",
       "    <tr>\n",
       "      <th>13</th>\n",
       "      <td>13</td>\n",
       "      <td>Graphite</td>\n",
       "      <td>black</td>\n",
       "    </tr>\n",
       "    <tr>\n",
       "      <th>14</th>\n",
       "      <td>14</td>\n",
       "      <td>Magnesium (sulfates)</td>\n",
       "      <td>black</td>\n",
       "    </tr>\n",
       "    <tr>\n",
       "      <th>15</th>\n",
       "      <td>15</td>\n",
       "      <td>Barite</td>\n",
       "      <td>black</td>\n",
       "    </tr>\n",
       "    <tr>\n",
       "      <th>16</th>\n",
       "      <td>16</td>\n",
       "      <td>Germanium</td>\n",
       "      <td>black</td>\n",
       "    </tr>\n",
       "    <tr>\n",
       "      <th>17</th>\n",
       "      <td>17</td>\n",
       "      <td>Asbestos</td>\n",
       "      <td>black</td>\n",
       "    </tr>\n",
       "    <tr>\n",
       "      <th>18</th>\n",
       "      <td>18</td>\n",
       "      <td>Stone (Dimension)</td>\n",
       "      <td>black</td>\n",
       "    </tr>\n",
       "    <tr>\n",
       "      <th>19</th>\n",
       "      <td>19</td>\n",
       "      <td>Silicon</td>\n",
       "      <td>black</td>\n",
       "    </tr>\n",
       "    <tr>\n",
       "      <th>20</th>\n",
       "      <td>20</td>\n",
       "      <td>Tungsten</td>\n",
       "      <td>black</td>\n",
       "    </tr>\n",
       "    <tr>\n",
       "      <th>21</th>\n",
       "      <td>21</td>\n",
       "      <td>Magnesium Metal</td>\n",
       "      <td>black</td>\n",
       "    </tr>\n",
       "    <tr>\n",
       "      <th>22</th>\n",
       "      <td>22</td>\n",
       "      <td>Garnet (Industrial)</td>\n",
       "      <td>black</td>\n",
       "    </tr>\n",
       "    <tr>\n",
       "      <th>23</th>\n",
       "      <td>23</td>\n",
       "      <td>Palladium</td>\n",
       "      <td>black</td>\n",
       "    </tr>\n",
       "    <tr>\n",
       "      <th>24</th>\n",
       "      <td>24</td>\n",
       "      <td>Potash</td>\n",
       "      <td>black</td>\n",
       "    </tr>\n",
       "    <tr>\n",
       "      <th>25</th>\n",
       "      <td>25</td>\n",
       "      <td>Vandium</td>\n",
       "      <td>black</td>\n",
       "    </tr>\n",
       "    <tr>\n",
       "      <th>26</th>\n",
       "      <td>26</td>\n",
       "      <td>Perlite</td>\n",
       "      <td>black</td>\n",
       "    </tr>\n",
       "    <tr>\n",
       "      <th>27</th>\n",
       "      <td>27</td>\n",
       "      <td>Limited</td>\n",
       "      <td>gray</td>\n",
       "    </tr>\n",
       "    <tr>\n",
       "      <th>28</th>\n",
       "      <td>28</td>\n",
       "      <td>Morocco</td>\n",
       "      <td>magenta</td>\n",
       "    </tr>\n",
       "    <tr>\n",
       "      <th>29</th>\n",
       "      <td>29</td>\n",
       "      <td>Brazil</td>\n",
       "      <td>green</td>\n",
       "    </tr>\n",
       "    <tr>\n",
       "      <th>30</th>\n",
       "      <td>30</td>\n",
       "      <td>Zinc Processing</td>\n",
       "      <td>black</td>\n",
       "    </tr>\n",
       "    <tr>\n",
       "      <th>31</th>\n",
       "      <td>31</td>\n",
       "      <td>Worldwide</td>\n",
       "      <td>gray</td>\n",
       "    </tr>\n",
       "    <tr>\n",
       "      <th>32</th>\n",
       "      <td>32</td>\n",
       "      <td>Australia</td>\n",
       "      <td>blue</td>\n",
       "    </tr>\n",
       "    <tr>\n",
       "      <th>33</th>\n",
       "      <td>33</td>\n",
       "      <td>India</td>\n",
       "      <td>white</td>\n",
       "    </tr>\n",
       "    <tr>\n",
       "      <th>34</th>\n",
       "      <td>34</td>\n",
       "      <td>Mozambique</td>\n",
       "      <td>chocolate</td>\n",
       "    </tr>\n",
       "    <tr>\n",
       "      <th>35</th>\n",
       "      <td>35</td>\n",
       "      <td>Substitute</td>\n",
       "      <td>gray</td>\n",
       "    </tr>\n",
       "    <tr>\n",
       "      <th>36</th>\n",
       "      <td>36</td>\n",
       "      <td>South Africa</td>\n",
       "      <td>yellow</td>\n",
       "    </tr>\n",
       "    <tr>\n",
       "      <th>37</th>\n",
       "      <td>37</td>\n",
       "      <td>Domestic</td>\n",
       "      <td>cornflowerblue</td>\n",
       "    </tr>\n",
       "  </tbody>\n",
       "</table>\n",
       "</div>"
      ],
      "text/plain": [
       "    Index                Values           Color\n",
       "0       0                 China             red\n",
       "1       1                Russia          orange\n",
       "2       2               Yttrium           black\n",
       "3       3      Arsenic (metals)           black\n",
       "4       4           Rare Earths           black\n",
       "5       5     Fused Alum. Oxide           black\n",
       "6       6               Bismuth           black\n",
       "7       7               Gallium           black\n",
       "8       8      Diamond (powder)           black\n",
       "9       9              Antimony           black\n",
       "10     10        Mica (Natural)           black\n",
       "11     11   Iron Oxide Pigments           black\n",
       "12     12              Scandium           black\n",
       "13     13              Graphite           black\n",
       "14     14  Magnesium (sulfates)           black\n",
       "15     15                Barite           black\n",
       "16     16             Germanium           black\n",
       "17     17              Asbestos           black\n",
       "18     18     Stone (Dimension)           black\n",
       "19     19               Silicon           black\n",
       "20     20              Tungsten           black\n",
       "21     21       Magnesium Metal           black\n",
       "22     22   Garnet (Industrial)           black\n",
       "23     23             Palladium           black\n",
       "24     24                Potash           black\n",
       "25     25               Vandium           black\n",
       "26     26               Perlite           black\n",
       "27     27               Limited            gray\n",
       "28     28               Morocco         magenta\n",
       "29     29                Brazil           green\n",
       "30     30       Zinc Processing           black\n",
       "31     31             Worldwide            gray\n",
       "32     32             Australia            blue\n",
       "33     33                 India           white\n",
       "34     34            Mozambique       chocolate\n",
       "35     35            Substitute            gray\n",
       "36     36          South Africa          yellow\n",
       "37     37              Domestic  cornflowerblue"
      ]
     },
     "execution_count": 277,
     "metadata": {},
     "output_type": "execute_result"
    }
   ],
   "source": [
    "label_df = pd.DataFrame(labels, columns=['Values'], index=range(len(labels)))\n",
    "\n",
    "# inplace = True will create a new column with the indexes\n",
    "label_df.reset_index(inplace=True)\n",
    "label_df.columns = ['Index', 'Values']\n",
    "\n",
    "color_map = {\n",
    "    'China': 'red',\n",
    "    'Russia': 'orange',\n",
    "    'Morocco': 'magenta',\n",
    "    'Limited':'gray',\n",
    "    'Brazil':'green',\n",
    "    'Zinc Processing':'black',\n",
    "    'Worldwide':'gray',\n",
    "    'Australia':'blue',\n",
    "    'India': 'white',\n",
    "    'Mozambique':'chocolate',\n",
    "    'Substitute':'gray',\n",
    "    'South Africa':'yellow',\n",
    "    'Domestic': 'cornflowerblue'}\n",
    "\n",
    "\n",
    "# Assign colors based on the color map\n",
    "label_df['Color'] = label_df['Values'].map(color_map)\n",
    "\n",
    "\n",
    "label_df['Color'].fillna('black', inplace = True)\n",
    "\n",
    "label_df\n",
    "\n"
   ]
  },
  {
   "cell_type": "code",
   "execution_count": 278,
   "metadata": {},
   "outputs": [],
   "source": [
    "converted_alternatives = pd.DataFrame()\n",
    "\n",
    "converted_alternatives['Mineral'] = alternatives['Mineral'].map(\n",
    "    label_df.set_index('Values')['Index'].to_dict()\n",
    ")\n",
    "converted_alternatives['Source'] = alternatives['Source'].map(\n",
    "    label_df.set_index('Values')['Index'].to_dict()\n",
    ")\n",
    "\n",
    "converted_alternatives['Category'] = alternatives['Category'].map(\n",
    "    label_df.set_index('Values')['Index'].to_dict()\n",
    ")\n",
    "\n",
    "converted_alternatives = converted_alternatives.sort_values(by = ['Source','Category','Mineral'])"
   ]
  },
  {
   "cell_type": "code",
   "execution_count": 279,
   "metadata": {},
   "outputs": [
    {
     "data": {
      "text/plain": [
       "0     27\n",
       "1     28\n",
       "2     29\n",
       "12    29\n",
       "3     29\n",
       "8     29\n",
       "4     30\n",
       "5     30\n",
       "15    30\n",
       "6     31\n",
       "13    31\n",
       "17    31\n",
       "19    31\n",
       "21    31\n",
       "24    31\n",
       "7     32\n",
       "10    32\n",
       "9     33\n",
       "14    33\n",
       "11    34\n",
       "25    37\n",
       "18    32\n",
       "20    32\n",
       "16    36\n",
       "22    37\n",
       "23    38\n",
       "dtype: int64"
      ]
     },
     "execution_count": 279,
     "metadata": {},
     "output_type": "execute_result"
    }
   ],
   "source": [
    "converted_alternatives['Source'] + converted_alternatives['Category']"
   ]
  },
  {
   "cell_type": "code",
   "execution_count": 280,
   "metadata": {},
   "outputs": [
    {
     "data": {
      "text/html": [
       "<div>\n",
       "<style scoped>\n",
       "    .dataframe tbody tr th:only-of-type {\n",
       "        vertical-align: middle;\n",
       "    }\n",
       "\n",
       "    .dataframe tbody tr th {\n",
       "        vertical-align: top;\n",
       "    }\n",
       "\n",
       "    .dataframe thead th {\n",
       "        text-align: right;\n",
       "    }\n",
       "</style>\n",
       "<table border=\"1\" class=\"dataframe\">\n",
       "  <thead>\n",
       "    <tr style=\"text-align: right;\">\n",
       "      <th></th>\n",
       "      <th>Source</th>\n",
       "      <th>Target</th>\n",
       "    </tr>\n",
       "  </thead>\n",
       "  <tbody>\n",
       "    <tr>\n",
       "      <th>0</th>\n",
       "      <td>China</td>\n",
       "      <td>Limited</td>\n",
       "    </tr>\n",
       "    <tr>\n",
       "      <th>1</th>\n",
       "      <td>China</td>\n",
       "      <td>Morocco</td>\n",
       "    </tr>\n",
       "    <tr>\n",
       "      <th>2</th>\n",
       "      <td>China</td>\n",
       "      <td>Brazil</td>\n",
       "    </tr>\n",
       "    <tr>\n",
       "      <th>3</th>\n",
       "      <td>China</td>\n",
       "      <td>Brazil</td>\n",
       "    </tr>\n",
       "    <tr>\n",
       "      <th>4</th>\n",
       "      <td>China</td>\n",
       "      <td>Brazil</td>\n",
       "    </tr>\n",
       "    <tr>\n",
       "      <th>5</th>\n",
       "      <td>China</td>\n",
       "      <td>Brazil</td>\n",
       "    </tr>\n",
       "    <tr>\n",
       "      <th>6</th>\n",
       "      <td>China</td>\n",
       "      <td>Zinc Processing</td>\n",
       "    </tr>\n",
       "    <tr>\n",
       "      <th>7</th>\n",
       "      <td>China</td>\n",
       "      <td>Zinc Processing</td>\n",
       "    </tr>\n",
       "    <tr>\n",
       "      <th>8</th>\n",
       "      <td>China</td>\n",
       "      <td>Zinc Processing</td>\n",
       "    </tr>\n",
       "    <tr>\n",
       "      <th>9</th>\n",
       "      <td>China</td>\n",
       "      <td>Worldwide</td>\n",
       "    </tr>\n",
       "    <tr>\n",
       "      <th>10</th>\n",
       "      <td>China</td>\n",
       "      <td>Worldwide</td>\n",
       "    </tr>\n",
       "    <tr>\n",
       "      <th>11</th>\n",
       "      <td>China</td>\n",
       "      <td>Worldwide</td>\n",
       "    </tr>\n",
       "    <tr>\n",
       "      <th>12</th>\n",
       "      <td>China</td>\n",
       "      <td>Worldwide</td>\n",
       "    </tr>\n",
       "    <tr>\n",
       "      <th>13</th>\n",
       "      <td>China</td>\n",
       "      <td>Worldwide</td>\n",
       "    </tr>\n",
       "    <tr>\n",
       "      <th>14</th>\n",
       "      <td>China</td>\n",
       "      <td>Worldwide</td>\n",
       "    </tr>\n",
       "    <tr>\n",
       "      <th>15</th>\n",
       "      <td>China</td>\n",
       "      <td>Australia</td>\n",
       "    </tr>\n",
       "    <tr>\n",
       "      <th>16</th>\n",
       "      <td>China</td>\n",
       "      <td>Australia</td>\n",
       "    </tr>\n",
       "    <tr>\n",
       "      <th>17</th>\n",
       "      <td>China</td>\n",
       "      <td>India</td>\n",
       "    </tr>\n",
       "    <tr>\n",
       "      <th>18</th>\n",
       "      <td>China</td>\n",
       "      <td>India</td>\n",
       "    </tr>\n",
       "    <tr>\n",
       "      <th>19</th>\n",
       "      <td>China</td>\n",
       "      <td>Mozambique</td>\n",
       "    </tr>\n",
       "    <tr>\n",
       "      <th>20</th>\n",
       "      <td>China</td>\n",
       "      <td>Domestic</td>\n",
       "    </tr>\n",
       "    <tr>\n",
       "      <th>21</th>\n",
       "      <td>Russia</td>\n",
       "      <td>Worldwide</td>\n",
       "    </tr>\n",
       "    <tr>\n",
       "      <th>22</th>\n",
       "      <td>Russia</td>\n",
       "      <td>Worldwide</td>\n",
       "    </tr>\n",
       "    <tr>\n",
       "      <th>23</th>\n",
       "      <td>Russia</td>\n",
       "      <td>Substitute</td>\n",
       "    </tr>\n",
       "    <tr>\n",
       "      <th>24</th>\n",
       "      <td>Russia</td>\n",
       "      <td>South Africa</td>\n",
       "    </tr>\n",
       "    <tr>\n",
       "      <th>25</th>\n",
       "      <td>Russia</td>\n",
       "      <td>Domestic</td>\n",
       "    </tr>\n",
       "    <tr>\n",
       "      <th>26</th>\n",
       "      <td>Limited</td>\n",
       "      <td>Yttrium</td>\n",
       "    </tr>\n",
       "    <tr>\n",
       "      <th>27</th>\n",
       "      <td>Morocco</td>\n",
       "      <td>Arsenic (metals)</td>\n",
       "    </tr>\n",
       "    <tr>\n",
       "      <th>28</th>\n",
       "      <td>Brazil</td>\n",
       "      <td>Rare Earths</td>\n",
       "    </tr>\n",
       "    <tr>\n",
       "      <th>29</th>\n",
       "      <td>Brazil</td>\n",
       "      <td>Rare Earths</td>\n",
       "    </tr>\n",
       "    <tr>\n",
       "      <th>30</th>\n",
       "      <td>Brazil</td>\n",
       "      <td>Fused Alum. Oxide</td>\n",
       "    </tr>\n",
       "    <tr>\n",
       "      <th>31</th>\n",
       "      <td>Brazil</td>\n",
       "      <td>Mica (Natural)</td>\n",
       "    </tr>\n",
       "    <tr>\n",
       "      <th>32</th>\n",
       "      <td>Zinc Processing</td>\n",
       "      <td>Bismuth</td>\n",
       "    </tr>\n",
       "    <tr>\n",
       "      <th>33</th>\n",
       "      <td>Zinc Processing</td>\n",
       "      <td>Gallium</td>\n",
       "    </tr>\n",
       "    <tr>\n",
       "      <th>34</th>\n",
       "      <td>Zinc Processing</td>\n",
       "      <td>Germanium</td>\n",
       "    </tr>\n",
       "    <tr>\n",
       "      <th>35</th>\n",
       "      <td>Worldwide</td>\n",
       "      <td>Diamond (powder)</td>\n",
       "    </tr>\n",
       "    <tr>\n",
       "      <th>36</th>\n",
       "      <td>Worldwide</td>\n",
       "      <td>Magnesium (sulfates)</td>\n",
       "    </tr>\n",
       "    <tr>\n",
       "      <th>37</th>\n",
       "      <td>Worldwide</td>\n",
       "      <td>Stone (Dimension)</td>\n",
       "    </tr>\n",
       "    <tr>\n",
       "      <th>38</th>\n",
       "      <td>Worldwide</td>\n",
       "      <td>Tungsten</td>\n",
       "    </tr>\n",
       "    <tr>\n",
       "      <th>39</th>\n",
       "      <td>Worldwide</td>\n",
       "      <td>Garnet (Industrial)</td>\n",
       "    </tr>\n",
       "    <tr>\n",
       "      <th>40</th>\n",
       "      <td>Worldwide</td>\n",
       "      <td>Vandium</td>\n",
       "    </tr>\n",
       "    <tr>\n",
       "      <th>41</th>\n",
       "      <td>Australia</td>\n",
       "      <td>Antimony</td>\n",
       "    </tr>\n",
       "    <tr>\n",
       "      <th>42</th>\n",
       "      <td>Australia</td>\n",
       "      <td>Scandium</td>\n",
       "    </tr>\n",
       "    <tr>\n",
       "      <th>43</th>\n",
       "      <td>India</td>\n",
       "      <td>Iron Oxide Pigments</td>\n",
       "    </tr>\n",
       "    <tr>\n",
       "      <th>44</th>\n",
       "      <td>India</td>\n",
       "      <td>Barite</td>\n",
       "    </tr>\n",
       "    <tr>\n",
       "      <th>45</th>\n",
       "      <td>Mozambique</td>\n",
       "      <td>Graphite</td>\n",
       "    </tr>\n",
       "    <tr>\n",
       "      <th>46</th>\n",
       "      <td>Domestic</td>\n",
       "      <td>Perlite</td>\n",
       "    </tr>\n",
       "    <tr>\n",
       "      <th>47</th>\n",
       "      <td>Worldwide</td>\n",
       "      <td>Silicon</td>\n",
       "    </tr>\n",
       "    <tr>\n",
       "      <th>48</th>\n",
       "      <td>Worldwide</td>\n",
       "      <td>Magnesium Metal</td>\n",
       "    </tr>\n",
       "    <tr>\n",
       "      <th>49</th>\n",
       "      <td>Substitute</td>\n",
       "      <td>Asbestos</td>\n",
       "    </tr>\n",
       "    <tr>\n",
       "      <th>50</th>\n",
       "      <td>South Africa</td>\n",
       "      <td>Palladium</td>\n",
       "    </tr>\n",
       "    <tr>\n",
       "      <th>51</th>\n",
       "      <td>Domestic</td>\n",
       "      <td>Potash</td>\n",
       "    </tr>\n",
       "  </tbody>\n",
       "</table>\n",
       "</div>"
      ],
      "text/plain": [
       "             Source                Target\n",
       "0             China               Limited\n",
       "1             China               Morocco\n",
       "2             China                Brazil\n",
       "3             China                Brazil\n",
       "4             China                Brazil\n",
       "5             China                Brazil\n",
       "6             China       Zinc Processing\n",
       "7             China       Zinc Processing\n",
       "8             China       Zinc Processing\n",
       "9             China             Worldwide\n",
       "10            China             Worldwide\n",
       "11            China             Worldwide\n",
       "12            China             Worldwide\n",
       "13            China             Worldwide\n",
       "14            China             Worldwide\n",
       "15            China             Australia\n",
       "16            China             Australia\n",
       "17            China                 India\n",
       "18            China                 India\n",
       "19            China            Mozambique\n",
       "20            China              Domestic\n",
       "21           Russia             Worldwide\n",
       "22           Russia             Worldwide\n",
       "23           Russia            Substitute\n",
       "24           Russia          South Africa\n",
       "25           Russia              Domestic\n",
       "26          Limited               Yttrium\n",
       "27          Morocco      Arsenic (metals)\n",
       "28           Brazil           Rare Earths\n",
       "29           Brazil           Rare Earths\n",
       "30           Brazil     Fused Alum. Oxide\n",
       "31           Brazil        Mica (Natural)\n",
       "32  Zinc Processing               Bismuth\n",
       "33  Zinc Processing               Gallium\n",
       "34  Zinc Processing             Germanium\n",
       "35        Worldwide      Diamond (powder)\n",
       "36        Worldwide  Magnesium (sulfates)\n",
       "37        Worldwide     Stone (Dimension)\n",
       "38        Worldwide              Tungsten\n",
       "39        Worldwide   Garnet (Industrial)\n",
       "40        Worldwide               Vandium\n",
       "41        Australia              Antimony\n",
       "42        Australia              Scandium\n",
       "43            India   Iron Oxide Pigments\n",
       "44            India                Barite\n",
       "45       Mozambique              Graphite\n",
       "46         Domestic               Perlite\n",
       "47        Worldwide               Silicon\n",
       "48        Worldwide       Magnesium Metal\n",
       "49       Substitute              Asbestos\n",
       "50     South Africa             Palladium\n",
       "51         Domestic                Potash"
      ]
     },
     "execution_count": 280,
     "metadata": {},
     "output_type": "execute_result"
    }
   ],
   "source": [
    "sources_numeric = pd.concat([converted_alternatives['Source'],converted_alternatives['Category']], axis = 0)\n",
    "targets_numeric = pd.concat([converted_alternatives['Category'],converted_alternatives['Mineral']], axis = 0)\n",
    "\n",
    "flow_chart_num = pd.concat([sources_numeric,targets_numeric], axis = 1)\n",
    "flow_chart_num.columns = ['Source','Target']\n",
    "flow_chart_num = flow_chart_num.reset_index(drop=True)\n",
    "\n",
    "\n",
    "flow_chart = pd.DataFrame()\n",
    "\n",
    "flow_chart['Source'] = flow_chart_num['Source'].map(\n",
    "    label_df.set_index('Index')['Values'].to_dict()\n",
    ")\n",
    "\n",
    "flow_chart['Target'] = flow_chart_num['Target'].map(\n",
    "    label_df.set_index('Index')['Values'].to_dict()\n",
    ")\n",
    "\n",
    "flow_chart\n",
    "\n",
    "\n"
   ]
  },
  {
   "cell_type": "code",
   "execution_count": 290,
   "metadata": {},
   "outputs": [
    {
     "data": {
      "application/vnd.plotly.v1+json": {
       "config": {
        "plotlyServerURL": "https://plot.ly"
       },
       "data": [
        {
         "link": {
          "source": [
           0,
           0,
           0,
           0,
           0,
           0,
           0,
           0,
           0,
           0,
           0,
           0,
           0,
           0,
           0,
           0,
           0,
           0,
           0,
           0,
           0,
           1,
           1,
           1,
           1,
           1,
           27,
           28,
           29,
           29,
           29,
           29,
           30,
           30,
           30,
           31,
           31,
           31,
           31,
           31,
           31,
           32,
           32,
           33,
           33,
           34,
           37,
           31,
           31,
           35,
           36,
           37
          ],
          "target": [
           27,
           28,
           29,
           29,
           29,
           29,
           30,
           30,
           30,
           31,
           31,
           31,
           31,
           31,
           31,
           32,
           32,
           33,
           33,
           34,
           37,
           31,
           31,
           35,
           36,
           37,
           2,
           3,
           4,
           4,
           5,
           10,
           6,
           7,
           16,
           8,
           14,
           18,
           20,
           22,
           25,
           9,
           12,
           11,
           15,
           13,
           26,
           19,
           21,
           17,
           23,
           24
          ],
          "value": [
           "1",
           "1",
           "1",
           "1",
           "1",
           "1",
           "1",
           "1",
           "1",
           "1",
           "1",
           "1",
           "1",
           "1",
           "1",
           "1",
           "1",
           "1",
           "1",
           "1",
           "1",
           "1",
           "1",
           "1",
           "1",
           "1",
           "1",
           "1",
           "1",
           "1",
           "1",
           "1",
           "1",
           "1",
           "1",
           "1",
           "1",
           "1",
           "1",
           "1",
           "1",
           "1",
           "1",
           "1",
           "1",
           "1",
           "1",
           "1",
           "1",
           "1",
           "1",
           "1"
          ]
         },
         "node": {
          "color": [
           "red",
           "orange",
           "black",
           "black",
           "black",
           "black",
           "black",
           "black",
           "black",
           "black",
           "black",
           "black",
           "black",
           "black",
           "black",
           "black",
           "black",
           "black",
           "black",
           "black",
           "black",
           "black",
           "black",
           "black",
           "black",
           "black",
           "black",
           "gray",
           "magenta",
           "green",
           "black",
           "gray",
           "blue",
           "white",
           "chocolate",
           "gray",
           "yellow",
           "cornflowerblue"
          ],
          "label": [
           "China",
           "Russia",
           "Yttrium",
           "Arsenic (metals)",
           "Rare Earths",
           "Fused Alum. Oxide",
           "Bismuth",
           "Gallium",
           "Diamond (powder)",
           "Antimony",
           "Mica (Natural)",
           "Iron Oxide Pigments",
           "Scandium",
           "Graphite",
           "Magnesium (sulfates)",
           "Barite",
           "Germanium",
           "Asbestos",
           "Stone (Dimension)",
           "Silicon",
           "Tungsten",
           "Magnesium Metal",
           "Garnet (Industrial)",
           "Palladium",
           "Potash",
           "Vandium",
           "Perlite",
           "Limited",
           "Morocco",
           "Brazil",
           "Zinc Processing",
           "Worldwide",
           "Australia",
           "India",
           "Mozambique",
           "Substitute",
           "South Africa",
           "Domestic"
          ],
          "line": {
           "color": "black",
           "width": 0.5
          },
          "pad": 15,
          "thickness": 20
         },
         "type": "sankey"
        }
       ],
       "layout": {
        "annotations": [
         {
          "font": {
           "color": "black",
           "size": 14
          },
          "showarrow": false,
          "text": "<b>Brazil, Australia, and India are prime alternatives as trade partners.</b>",
          "x": 0.06,
          "xanchor": "left",
          "xref": "paper",
          "xshift": 0,
          "y": 1.02,
          "yref": "paper"
         },
         {
          "font": {
           "color": "black",
           "size": 14
          },
          "showarrow": false,
          "text": "<b>Yttrium, a rare earth mineral, is specifically difficult to source elsewhere.</b>",
          "x": 0.06,
          "xanchor": "left",
          "xref": "paper",
          "xshift": 0,
          "y": 0.9,
          "yref": "paper"
         }
        ],
        "height": 700,
        "template": {
         "data": {
          "bar": [
           {
            "error_x": {
             "color": "#2a3f5f"
            },
            "error_y": {
             "color": "#2a3f5f"
            },
            "marker": {
             "line": {
              "color": "#E5ECF6",
              "width": 0.5
             },
             "pattern": {
              "fillmode": "overlay",
              "size": 10,
              "solidity": 0.2
             }
            },
            "type": "bar"
           }
          ],
          "barpolar": [
           {
            "marker": {
             "line": {
              "color": "#E5ECF6",
              "width": 0.5
             },
             "pattern": {
              "fillmode": "overlay",
              "size": 10,
              "solidity": 0.2
             }
            },
            "type": "barpolar"
           }
          ],
          "carpet": [
           {
            "aaxis": {
             "endlinecolor": "#2a3f5f",
             "gridcolor": "white",
             "linecolor": "white",
             "minorgridcolor": "white",
             "startlinecolor": "#2a3f5f"
            },
            "baxis": {
             "endlinecolor": "#2a3f5f",
             "gridcolor": "white",
             "linecolor": "white",
             "minorgridcolor": "white",
             "startlinecolor": "#2a3f5f"
            },
            "type": "carpet"
           }
          ],
          "choropleth": [
           {
            "colorbar": {
             "outlinewidth": 0,
             "ticks": ""
            },
            "type": "choropleth"
           }
          ],
          "contour": [
           {
            "colorbar": {
             "outlinewidth": 0,
             "ticks": ""
            },
            "colorscale": [
             [
              0,
              "#0d0887"
             ],
             [
              0.1111111111111111,
              "#46039f"
             ],
             [
              0.2222222222222222,
              "#7201a8"
             ],
             [
              0.3333333333333333,
              "#9c179e"
             ],
             [
              0.4444444444444444,
              "#bd3786"
             ],
             [
              0.5555555555555556,
              "#d8576b"
             ],
             [
              0.6666666666666666,
              "#ed7953"
             ],
             [
              0.7777777777777778,
              "#fb9f3a"
             ],
             [
              0.8888888888888888,
              "#fdca26"
             ],
             [
              1,
              "#f0f921"
             ]
            ],
            "type": "contour"
           }
          ],
          "contourcarpet": [
           {
            "colorbar": {
             "outlinewidth": 0,
             "ticks": ""
            },
            "type": "contourcarpet"
           }
          ],
          "heatmap": [
           {
            "colorbar": {
             "outlinewidth": 0,
             "ticks": ""
            },
            "colorscale": [
             [
              0,
              "#0d0887"
             ],
             [
              0.1111111111111111,
              "#46039f"
             ],
             [
              0.2222222222222222,
              "#7201a8"
             ],
             [
              0.3333333333333333,
              "#9c179e"
             ],
             [
              0.4444444444444444,
              "#bd3786"
             ],
             [
              0.5555555555555556,
              "#d8576b"
             ],
             [
              0.6666666666666666,
              "#ed7953"
             ],
             [
              0.7777777777777778,
              "#fb9f3a"
             ],
             [
              0.8888888888888888,
              "#fdca26"
             ],
             [
              1,
              "#f0f921"
             ]
            ],
            "type": "heatmap"
           }
          ],
          "heatmapgl": [
           {
            "colorbar": {
             "outlinewidth": 0,
             "ticks": ""
            },
            "colorscale": [
             [
              0,
              "#0d0887"
             ],
             [
              0.1111111111111111,
              "#46039f"
             ],
             [
              0.2222222222222222,
              "#7201a8"
             ],
             [
              0.3333333333333333,
              "#9c179e"
             ],
             [
              0.4444444444444444,
              "#bd3786"
             ],
             [
              0.5555555555555556,
              "#d8576b"
             ],
             [
              0.6666666666666666,
              "#ed7953"
             ],
             [
              0.7777777777777778,
              "#fb9f3a"
             ],
             [
              0.8888888888888888,
              "#fdca26"
             ],
             [
              1,
              "#f0f921"
             ]
            ],
            "type": "heatmapgl"
           }
          ],
          "histogram": [
           {
            "marker": {
             "pattern": {
              "fillmode": "overlay",
              "size": 10,
              "solidity": 0.2
             }
            },
            "type": "histogram"
           }
          ],
          "histogram2d": [
           {
            "colorbar": {
             "outlinewidth": 0,
             "ticks": ""
            },
            "colorscale": [
             [
              0,
              "#0d0887"
             ],
             [
              0.1111111111111111,
              "#46039f"
             ],
             [
              0.2222222222222222,
              "#7201a8"
             ],
             [
              0.3333333333333333,
              "#9c179e"
             ],
             [
              0.4444444444444444,
              "#bd3786"
             ],
             [
              0.5555555555555556,
              "#d8576b"
             ],
             [
              0.6666666666666666,
              "#ed7953"
             ],
             [
              0.7777777777777778,
              "#fb9f3a"
             ],
             [
              0.8888888888888888,
              "#fdca26"
             ],
             [
              1,
              "#f0f921"
             ]
            ],
            "type": "histogram2d"
           }
          ],
          "histogram2dcontour": [
           {
            "colorbar": {
             "outlinewidth": 0,
             "ticks": ""
            },
            "colorscale": [
             [
              0,
              "#0d0887"
             ],
             [
              0.1111111111111111,
              "#46039f"
             ],
             [
              0.2222222222222222,
              "#7201a8"
             ],
             [
              0.3333333333333333,
              "#9c179e"
             ],
             [
              0.4444444444444444,
              "#bd3786"
             ],
             [
              0.5555555555555556,
              "#d8576b"
             ],
             [
              0.6666666666666666,
              "#ed7953"
             ],
             [
              0.7777777777777778,
              "#fb9f3a"
             ],
             [
              0.8888888888888888,
              "#fdca26"
             ],
             [
              1,
              "#f0f921"
             ]
            ],
            "type": "histogram2dcontour"
           }
          ],
          "mesh3d": [
           {
            "colorbar": {
             "outlinewidth": 0,
             "ticks": ""
            },
            "type": "mesh3d"
           }
          ],
          "parcoords": [
           {
            "line": {
             "colorbar": {
              "outlinewidth": 0,
              "ticks": ""
             }
            },
            "type": "parcoords"
           }
          ],
          "pie": [
           {
            "automargin": true,
            "type": "pie"
           }
          ],
          "scatter": [
           {
            "fillpattern": {
             "fillmode": "overlay",
             "size": 10,
             "solidity": 0.2
            },
            "type": "scatter"
           }
          ],
          "scatter3d": [
           {
            "line": {
             "colorbar": {
              "outlinewidth": 0,
              "ticks": ""
             }
            },
            "marker": {
             "colorbar": {
              "outlinewidth": 0,
              "ticks": ""
             }
            },
            "type": "scatter3d"
           }
          ],
          "scattercarpet": [
           {
            "marker": {
             "colorbar": {
              "outlinewidth": 0,
              "ticks": ""
             }
            },
            "type": "scattercarpet"
           }
          ],
          "scattergeo": [
           {
            "marker": {
             "colorbar": {
              "outlinewidth": 0,
              "ticks": ""
             }
            },
            "type": "scattergeo"
           }
          ],
          "scattergl": [
           {
            "marker": {
             "colorbar": {
              "outlinewidth": 0,
              "ticks": ""
             }
            },
            "type": "scattergl"
           }
          ],
          "scattermapbox": [
           {
            "marker": {
             "colorbar": {
              "outlinewidth": 0,
              "ticks": ""
             }
            },
            "type": "scattermapbox"
           }
          ],
          "scatterpolar": [
           {
            "marker": {
             "colorbar": {
              "outlinewidth": 0,
              "ticks": ""
             }
            },
            "type": "scatterpolar"
           }
          ],
          "scatterpolargl": [
           {
            "marker": {
             "colorbar": {
              "outlinewidth": 0,
              "ticks": ""
             }
            },
            "type": "scatterpolargl"
           }
          ],
          "scatterternary": [
           {
            "marker": {
             "colorbar": {
              "outlinewidth": 0,
              "ticks": ""
             }
            },
            "type": "scatterternary"
           }
          ],
          "surface": [
           {
            "colorbar": {
             "outlinewidth": 0,
             "ticks": ""
            },
            "colorscale": [
             [
              0,
              "#0d0887"
             ],
             [
              0.1111111111111111,
              "#46039f"
             ],
             [
              0.2222222222222222,
              "#7201a8"
             ],
             [
              0.3333333333333333,
              "#9c179e"
             ],
             [
              0.4444444444444444,
              "#bd3786"
             ],
             [
              0.5555555555555556,
              "#d8576b"
             ],
             [
              0.6666666666666666,
              "#ed7953"
             ],
             [
              0.7777777777777778,
              "#fb9f3a"
             ],
             [
              0.8888888888888888,
              "#fdca26"
             ],
             [
              1,
              "#f0f921"
             ]
            ],
            "type": "surface"
           }
          ],
          "table": [
           {
            "cells": {
             "fill": {
              "color": "#EBF0F8"
             },
             "line": {
              "color": "white"
             }
            },
            "header": {
             "fill": {
              "color": "#C8D4E3"
             },
             "line": {
              "color": "white"
             }
            },
            "type": "table"
           }
          ]
         },
         "layout": {
          "annotationdefaults": {
           "arrowcolor": "#2a3f5f",
           "arrowhead": 0,
           "arrowwidth": 1
          },
          "autotypenumbers": "strict",
          "coloraxis": {
           "colorbar": {
            "outlinewidth": 0,
            "ticks": ""
           }
          },
          "colorscale": {
           "diverging": [
            [
             0,
             "#8e0152"
            ],
            [
             0.1,
             "#c51b7d"
            ],
            [
             0.2,
             "#de77ae"
            ],
            [
             0.3,
             "#f1b6da"
            ],
            [
             0.4,
             "#fde0ef"
            ],
            [
             0.5,
             "#f7f7f7"
            ],
            [
             0.6,
             "#e6f5d0"
            ],
            [
             0.7,
             "#b8e186"
            ],
            [
             0.8,
             "#7fbc41"
            ],
            [
             0.9,
             "#4d9221"
            ],
            [
             1,
             "#276419"
            ]
           ],
           "sequential": [
            [
             0,
             "#0d0887"
            ],
            [
             0.1111111111111111,
             "#46039f"
            ],
            [
             0.2222222222222222,
             "#7201a8"
            ],
            [
             0.3333333333333333,
             "#9c179e"
            ],
            [
             0.4444444444444444,
             "#bd3786"
            ],
            [
             0.5555555555555556,
             "#d8576b"
            ],
            [
             0.6666666666666666,
             "#ed7953"
            ],
            [
             0.7777777777777778,
             "#fb9f3a"
            ],
            [
             0.8888888888888888,
             "#fdca26"
            ],
            [
             1,
             "#f0f921"
            ]
           ],
           "sequentialminus": [
            [
             0,
             "#0d0887"
            ],
            [
             0.1111111111111111,
             "#46039f"
            ],
            [
             0.2222222222222222,
             "#7201a8"
            ],
            [
             0.3333333333333333,
             "#9c179e"
            ],
            [
             0.4444444444444444,
             "#bd3786"
            ],
            [
             0.5555555555555556,
             "#d8576b"
            ],
            [
             0.6666666666666666,
             "#ed7953"
            ],
            [
             0.7777777777777778,
             "#fb9f3a"
            ],
            [
             0.8888888888888888,
             "#fdca26"
            ],
            [
             1,
             "#f0f921"
            ]
           ]
          },
          "colorway": [
           "#636efa",
           "#EF553B",
           "#00cc96",
           "#ab63fa",
           "#FFA15A",
           "#19d3f3",
           "#FF6692",
           "#B6E880",
           "#FF97FF",
           "#FECB52"
          ],
          "font": {
           "color": "#2a3f5f"
          },
          "geo": {
           "bgcolor": "white",
           "lakecolor": "white",
           "landcolor": "#E5ECF6",
           "showlakes": true,
           "showland": true,
           "subunitcolor": "white"
          },
          "hoverlabel": {
           "align": "left"
          },
          "hovermode": "closest",
          "mapbox": {
           "style": "light"
          },
          "paper_bgcolor": "white",
          "plot_bgcolor": "#E5ECF6",
          "polar": {
           "angularaxis": {
            "gridcolor": "white",
            "linecolor": "white",
            "ticks": ""
           },
           "bgcolor": "#E5ECF6",
           "radialaxis": {
            "gridcolor": "white",
            "linecolor": "white",
            "ticks": ""
           }
          },
          "scene": {
           "xaxis": {
            "backgroundcolor": "#E5ECF6",
            "gridcolor": "white",
            "gridwidth": 2,
            "linecolor": "white",
            "showbackground": true,
            "ticks": "",
            "zerolinecolor": "white"
           },
           "yaxis": {
            "backgroundcolor": "#E5ECF6",
            "gridcolor": "white",
            "gridwidth": 2,
            "linecolor": "white",
            "showbackground": true,
            "ticks": "",
            "zerolinecolor": "white"
           },
           "zaxis": {
            "backgroundcolor": "#E5ECF6",
            "gridcolor": "white",
            "gridwidth": 2,
            "linecolor": "white",
            "showbackground": true,
            "ticks": "",
            "zerolinecolor": "white"
           }
          },
          "shapedefaults": {
           "line": {
            "color": "#2a3f5f"
           }
          },
          "ternary": {
           "aaxis": {
            "gridcolor": "white",
            "linecolor": "white",
            "ticks": ""
           },
           "baxis": {
            "gridcolor": "white",
            "linecolor": "white",
            "ticks": ""
           },
           "bgcolor": "#E5ECF6",
           "caxis": {
            "gridcolor": "white",
            "linecolor": "white",
            "ticks": ""
           }
          },
          "title": {
           "x": 0.05
          },
          "xaxis": {
           "automargin": true,
           "gridcolor": "white",
           "linecolor": "white",
           "ticks": "",
           "title": {
            "standoff": 15
           },
           "zerolinecolor": "white",
           "zerolinewidth": 2
          },
          "yaxis": {
           "automargin": true,
           "gridcolor": "white",
           "linecolor": "white",
           "ticks": "",
           "title": {
            "standoff": 15
           },
           "zerolinecolor": "white",
           "zerolinewidth": 2
          }
         }
        },
        "title": {
         "text": "Alternatives for Enemy Sourced Minerals"
        }
       }
      }
     },
     "metadata": {},
     "output_type": "display_data"
    }
   ],
   "source": [
    "import plotly.graph_objects as go\n",
    "\n",
    "fig = go.Figure(data=[go.Sankey(\n",
    "    node = dict(\n",
    "      pad = 15,\n",
    "      thickness = 20,\n",
    "      line = dict(color = \"black\", width = 0.5),\n",
    "      label = label_df['Values'],\n",
    "      color = label_df['Color']\n",
    "    ),\n",
    "    link = dict(\n",
    "      source = flow_chart_num['Source'], # indices correspond to labels, eg A1, A2, A1, B1, ...\n",
    "      target = flow_chart_num['Target'],\n",
    "      value = ['1'] *(len(flow_chart_num))\n",
    "  ))])\n",
    "\n",
    "# Add Kicker\n",
    "#\n",
    "kicker = go.layout.Annotation(\n",
    "     text=\"<b>Brazil, Australia, and India are prime alternatives as trade partners.</b>\",\n",
    "     x=.06,\n",
    "     y= 1.02,\n",
    "     xref = 'paper',\n",
    "     yref = 'paper',\n",
    "     showarrow=False,\n",
    "     xanchor=\"left\",\n",
    "     xshift=0,\n",
    "     font=dict(size=14,color ='black')\n",
    " )\n",
    "fig.add_annotation(kicker)\n",
    "\n",
    "kicker2 = go.layout.Annotation(\n",
    "     text=\"<b>Yttrium, a rare earth mineral, is specifically difficult to source elsewhere.</b>\",\n",
    "     x=.06,\n",
    "     y= .90,\n",
    "     xref = 'paper',\n",
    "     yref = 'paper',\n",
    "     showarrow=False,\n",
    "     xanchor=\"left\",\n",
    "     xshift=0,\n",
    "     font=dict(size=14,color ='black')\n",
    " )\n",
    "fig.add_annotation(kicker2)\n",
    "\n",
    "fig.update_layout(title_text=\"Alternatives for Enemy Sourced Minerals\", height = 700)\n",
    "fig.show()"
   ]
  },
  {
   "cell_type": "code",
   "execution_count": null,
   "metadata": {},
   "outputs": [],
   "source": []
  },
  {
   "cell_type": "code",
   "execution_count": 209,
   "metadata": {},
   "outputs": [
    {
     "data": {
      "application/vnd.plotly.v1+json": {
       "config": {
        "plotlyServerURL": "https://plot.ly"
       },
       "data": [
        {
         "link": {
          "source": [
           35,
           37,
           11,
           0,
           20,
           28,
           14,
           31,
           7,
           25,
           2,
           19,
           11,
           21,
           1,
           16,
           30,
           5,
           23,
           10,
           3,
           8,
           33,
           22,
           29,
           15,
           70,
           70,
           70,
           70,
           70,
           70,
           70,
           70,
           70,
           70,
           70,
           70,
           70,
           70,
           70,
           70,
           62,
           70,
           62,
           70,
           62,
           70,
           62,
           62,
           70,
           70
          ],
          "target": [
           103,
           94,
           93,
           93,
           103,
           85,
           80,
           110,
           93,
           112,
           110,
           89,
           93,
           80,
           112,
           85,
           102,
           80,
           80,
           80,
           80,
           80,
           82,
           88,
           80,
           88
          ],
          "value": [
           1,
           1,
           1,
           1,
           1,
           1,
           1,
           1,
           1,
           1,
           1,
           1,
           1,
           1,
           1,
           1,
           1,
           1,
           1,
           1,
           1,
           1,
           1,
           1,
           1,
           1,
           1,
           1,
           1,
           1,
           1,
           1,
           1,
           1,
           1,
           1,
           1,
           1,
           1,
           1,
           1,
           1,
           1,
           1,
           1,
           1,
           1,
           1,
           1,
           1,
           1,
           1
          ]
         },
         "node": {
          "label": [
           "Fused Alum. Oxide",
           "Barite",
           "Scandium",
           "Magnesium Metal",
           "Worldwide",
           "Stone (Dimension)",
           "South Africa",
           "Mica (Natural)",
           "Garnet (Industrial)",
           "Zinc Processing",
           "Tungsten",
           "Rare Earths",
           "Domestic",
           "Mozambique",
           "Diamond (powder)",
           "Perlite",
           "Germanium",
           "Brazil",
           "Morocco",
           "Graphite",
           "Bismuth",
           "Magnesium (sulfates)",
           "Potash",
           "Silicon",
           "Russia",
           "Iron Oxide Pigments",
           "Substitute",
           "Limited",
           "Gallium",
           "Vandium",
           "Asbestos",
           "Antimony",
           "China",
           "Palladium",
           "Australia",
           "Yttrium",
           "India",
           "Arsenic (metals)"
          ],
          "line": {
           "color": "black",
           "width": 0.5
          },
          "pad": 15,
          "thickness": 20
         },
         "type": "sankey"
        }
       ],
       "layout": {
        "height": 1500,
        "template": {
         "data": {
          "bar": [
           {
            "error_x": {
             "color": "#2a3f5f"
            },
            "error_y": {
             "color": "#2a3f5f"
            },
            "marker": {
             "line": {
              "color": "#E5ECF6",
              "width": 0.5
             },
             "pattern": {
              "fillmode": "overlay",
              "size": 10,
              "solidity": 0.2
             }
            },
            "type": "bar"
           }
          ],
          "barpolar": [
           {
            "marker": {
             "line": {
              "color": "#E5ECF6",
              "width": 0.5
             },
             "pattern": {
              "fillmode": "overlay",
              "size": 10,
              "solidity": 0.2
             }
            },
            "type": "barpolar"
           }
          ],
          "carpet": [
           {
            "aaxis": {
             "endlinecolor": "#2a3f5f",
             "gridcolor": "white",
             "linecolor": "white",
             "minorgridcolor": "white",
             "startlinecolor": "#2a3f5f"
            },
            "baxis": {
             "endlinecolor": "#2a3f5f",
             "gridcolor": "white",
             "linecolor": "white",
             "minorgridcolor": "white",
             "startlinecolor": "#2a3f5f"
            },
            "type": "carpet"
           }
          ],
          "choropleth": [
           {
            "colorbar": {
             "outlinewidth": 0,
             "ticks": ""
            },
            "type": "choropleth"
           }
          ],
          "contour": [
           {
            "colorbar": {
             "outlinewidth": 0,
             "ticks": ""
            },
            "colorscale": [
             [
              0,
              "#0d0887"
             ],
             [
              0.1111111111111111,
              "#46039f"
             ],
             [
              0.2222222222222222,
              "#7201a8"
             ],
             [
              0.3333333333333333,
              "#9c179e"
             ],
             [
              0.4444444444444444,
              "#bd3786"
             ],
             [
              0.5555555555555556,
              "#d8576b"
             ],
             [
              0.6666666666666666,
              "#ed7953"
             ],
             [
              0.7777777777777778,
              "#fb9f3a"
             ],
             [
              0.8888888888888888,
              "#fdca26"
             ],
             [
              1,
              "#f0f921"
             ]
            ],
            "type": "contour"
           }
          ],
          "contourcarpet": [
           {
            "colorbar": {
             "outlinewidth": 0,
             "ticks": ""
            },
            "type": "contourcarpet"
           }
          ],
          "heatmap": [
           {
            "colorbar": {
             "outlinewidth": 0,
             "ticks": ""
            },
            "colorscale": [
             [
              0,
              "#0d0887"
             ],
             [
              0.1111111111111111,
              "#46039f"
             ],
             [
              0.2222222222222222,
              "#7201a8"
             ],
             [
              0.3333333333333333,
              "#9c179e"
             ],
             [
              0.4444444444444444,
              "#bd3786"
             ],
             [
              0.5555555555555556,
              "#d8576b"
             ],
             [
              0.6666666666666666,
              "#ed7953"
             ],
             [
              0.7777777777777778,
              "#fb9f3a"
             ],
             [
              0.8888888888888888,
              "#fdca26"
             ],
             [
              1,
              "#f0f921"
             ]
            ],
            "type": "heatmap"
           }
          ],
          "heatmapgl": [
           {
            "colorbar": {
             "outlinewidth": 0,
             "ticks": ""
            },
            "colorscale": [
             [
              0,
              "#0d0887"
             ],
             [
              0.1111111111111111,
              "#46039f"
             ],
             [
              0.2222222222222222,
              "#7201a8"
             ],
             [
              0.3333333333333333,
              "#9c179e"
             ],
             [
              0.4444444444444444,
              "#bd3786"
             ],
             [
              0.5555555555555556,
              "#d8576b"
             ],
             [
              0.6666666666666666,
              "#ed7953"
             ],
             [
              0.7777777777777778,
              "#fb9f3a"
             ],
             [
              0.8888888888888888,
              "#fdca26"
             ],
             [
              1,
              "#f0f921"
             ]
            ],
            "type": "heatmapgl"
           }
          ],
          "histogram": [
           {
            "marker": {
             "pattern": {
              "fillmode": "overlay",
              "size": 10,
              "solidity": 0.2
             }
            },
            "type": "histogram"
           }
          ],
          "histogram2d": [
           {
            "colorbar": {
             "outlinewidth": 0,
             "ticks": ""
            },
            "colorscale": [
             [
              0,
              "#0d0887"
             ],
             [
              0.1111111111111111,
              "#46039f"
             ],
             [
              0.2222222222222222,
              "#7201a8"
             ],
             [
              0.3333333333333333,
              "#9c179e"
             ],
             [
              0.4444444444444444,
              "#bd3786"
             ],
             [
              0.5555555555555556,
              "#d8576b"
             ],
             [
              0.6666666666666666,
              "#ed7953"
             ],
             [
              0.7777777777777778,
              "#fb9f3a"
             ],
             [
              0.8888888888888888,
              "#fdca26"
             ],
             [
              1,
              "#f0f921"
             ]
            ],
            "type": "histogram2d"
           }
          ],
          "histogram2dcontour": [
           {
            "colorbar": {
             "outlinewidth": 0,
             "ticks": ""
            },
            "colorscale": [
             [
              0,
              "#0d0887"
             ],
             [
              0.1111111111111111,
              "#46039f"
             ],
             [
              0.2222222222222222,
              "#7201a8"
             ],
             [
              0.3333333333333333,
              "#9c179e"
             ],
             [
              0.4444444444444444,
              "#bd3786"
             ],
             [
              0.5555555555555556,
              "#d8576b"
             ],
             [
              0.6666666666666666,
              "#ed7953"
             ],
             [
              0.7777777777777778,
              "#fb9f3a"
             ],
             [
              0.8888888888888888,
              "#fdca26"
             ],
             [
              1,
              "#f0f921"
             ]
            ],
            "type": "histogram2dcontour"
           }
          ],
          "mesh3d": [
           {
            "colorbar": {
             "outlinewidth": 0,
             "ticks": ""
            },
            "type": "mesh3d"
           }
          ],
          "parcoords": [
           {
            "line": {
             "colorbar": {
              "outlinewidth": 0,
              "ticks": ""
             }
            },
            "type": "parcoords"
           }
          ],
          "pie": [
           {
            "automargin": true,
            "type": "pie"
           }
          ],
          "scatter": [
           {
            "fillpattern": {
             "fillmode": "overlay",
             "size": 10,
             "solidity": 0.2
            },
            "type": "scatter"
           }
          ],
          "scatter3d": [
           {
            "line": {
             "colorbar": {
              "outlinewidth": 0,
              "ticks": ""
             }
            },
            "marker": {
             "colorbar": {
              "outlinewidth": 0,
              "ticks": ""
             }
            },
            "type": "scatter3d"
           }
          ],
          "scattercarpet": [
           {
            "marker": {
             "colorbar": {
              "outlinewidth": 0,
              "ticks": ""
             }
            },
            "type": "scattercarpet"
           }
          ],
          "scattergeo": [
           {
            "marker": {
             "colorbar": {
              "outlinewidth": 0,
              "ticks": ""
             }
            },
            "type": "scattergeo"
           }
          ],
          "scattergl": [
           {
            "marker": {
             "colorbar": {
              "outlinewidth": 0,
              "ticks": ""
             }
            },
            "type": "scattergl"
           }
          ],
          "scattermapbox": [
           {
            "marker": {
             "colorbar": {
              "outlinewidth": 0,
              "ticks": ""
             }
            },
            "type": "scattermapbox"
           }
          ],
          "scatterpolar": [
           {
            "marker": {
             "colorbar": {
              "outlinewidth": 0,
              "ticks": ""
             }
            },
            "type": "scatterpolar"
           }
          ],
          "scatterpolargl": [
           {
            "marker": {
             "colorbar": {
              "outlinewidth": 0,
              "ticks": ""
             }
            },
            "type": "scatterpolargl"
           }
          ],
          "scatterternary": [
           {
            "marker": {
             "colorbar": {
              "outlinewidth": 0,
              "ticks": ""
             }
            },
            "type": "scatterternary"
           }
          ],
          "surface": [
           {
            "colorbar": {
             "outlinewidth": 0,
             "ticks": ""
            },
            "colorscale": [
             [
              0,
              "#0d0887"
             ],
             [
              0.1111111111111111,
              "#46039f"
             ],
             [
              0.2222222222222222,
              "#7201a8"
             ],
             [
              0.3333333333333333,
              "#9c179e"
             ],
             [
              0.4444444444444444,
              "#bd3786"
             ],
             [
              0.5555555555555556,
              "#d8576b"
             ],
             [
              0.6666666666666666,
              "#ed7953"
             ],
             [
              0.7777777777777778,
              "#fb9f3a"
             ],
             [
              0.8888888888888888,
              "#fdca26"
             ],
             [
              1,
              "#f0f921"
             ]
            ],
            "type": "surface"
           }
          ],
          "table": [
           {
            "cells": {
             "fill": {
              "color": "#EBF0F8"
             },
             "line": {
              "color": "white"
             }
            },
            "header": {
             "fill": {
              "color": "#C8D4E3"
             },
             "line": {
              "color": "white"
             }
            },
            "type": "table"
           }
          ]
         },
         "layout": {
          "annotationdefaults": {
           "arrowcolor": "#2a3f5f",
           "arrowhead": 0,
           "arrowwidth": 1
          },
          "autotypenumbers": "strict",
          "coloraxis": {
           "colorbar": {
            "outlinewidth": 0,
            "ticks": ""
           }
          },
          "colorscale": {
           "diverging": [
            [
             0,
             "#8e0152"
            ],
            [
             0.1,
             "#c51b7d"
            ],
            [
             0.2,
             "#de77ae"
            ],
            [
             0.3,
             "#f1b6da"
            ],
            [
             0.4,
             "#fde0ef"
            ],
            [
             0.5,
             "#f7f7f7"
            ],
            [
             0.6,
             "#e6f5d0"
            ],
            [
             0.7,
             "#b8e186"
            ],
            [
             0.8,
             "#7fbc41"
            ],
            [
             0.9,
             "#4d9221"
            ],
            [
             1,
             "#276419"
            ]
           ],
           "sequential": [
            [
             0,
             "#0d0887"
            ],
            [
             0.1111111111111111,
             "#46039f"
            ],
            [
             0.2222222222222222,
             "#7201a8"
            ],
            [
             0.3333333333333333,
             "#9c179e"
            ],
            [
             0.4444444444444444,
             "#bd3786"
            ],
            [
             0.5555555555555556,
             "#d8576b"
            ],
            [
             0.6666666666666666,
             "#ed7953"
            ],
            [
             0.7777777777777778,
             "#fb9f3a"
            ],
            [
             0.8888888888888888,
             "#fdca26"
            ],
            [
             1,
             "#f0f921"
            ]
           ],
           "sequentialminus": [
            [
             0,
             "#0d0887"
            ],
            [
             0.1111111111111111,
             "#46039f"
            ],
            [
             0.2222222222222222,
             "#7201a8"
            ],
            [
             0.3333333333333333,
             "#9c179e"
            ],
            [
             0.4444444444444444,
             "#bd3786"
            ],
            [
             0.5555555555555556,
             "#d8576b"
            ],
            [
             0.6666666666666666,
             "#ed7953"
            ],
            [
             0.7777777777777778,
             "#fb9f3a"
            ],
            [
             0.8888888888888888,
             "#fdca26"
            ],
            [
             1,
             "#f0f921"
            ]
           ]
          },
          "colorway": [
           "#636efa",
           "#EF553B",
           "#00cc96",
           "#ab63fa",
           "#FFA15A",
           "#19d3f3",
           "#FF6692",
           "#B6E880",
           "#FF97FF",
           "#FECB52"
          ],
          "font": {
           "color": "#2a3f5f"
          },
          "geo": {
           "bgcolor": "white",
           "lakecolor": "white",
           "landcolor": "#E5ECF6",
           "showlakes": true,
           "showland": true,
           "subunitcolor": "white"
          },
          "hoverlabel": {
           "align": "left"
          },
          "hovermode": "closest",
          "mapbox": {
           "style": "light"
          },
          "paper_bgcolor": "white",
          "plot_bgcolor": "#E5ECF6",
          "polar": {
           "angularaxis": {
            "gridcolor": "white",
            "linecolor": "white",
            "ticks": ""
           },
           "bgcolor": "#E5ECF6",
           "radialaxis": {
            "gridcolor": "white",
            "linecolor": "white",
            "ticks": ""
           }
          },
          "scene": {
           "xaxis": {
            "backgroundcolor": "#E5ECF6",
            "gridcolor": "white",
            "gridwidth": 2,
            "linecolor": "white",
            "showbackground": true,
            "ticks": "",
            "zerolinecolor": "white"
           },
           "yaxis": {
            "backgroundcolor": "#E5ECF6",
            "gridcolor": "white",
            "gridwidth": 2,
            "linecolor": "white",
            "showbackground": true,
            "ticks": "",
            "zerolinecolor": "white"
           },
           "zaxis": {
            "backgroundcolor": "#E5ECF6",
            "gridcolor": "white",
            "gridwidth": 2,
            "linecolor": "white",
            "showbackground": true,
            "ticks": "",
            "zerolinecolor": "white"
           }
          },
          "shapedefaults": {
           "line": {
            "color": "#2a3f5f"
           }
          },
          "ternary": {
           "aaxis": {
            "gridcolor": "white",
            "linecolor": "white",
            "ticks": ""
           },
           "baxis": {
            "gridcolor": "white",
            "linecolor": "white",
            "ticks": ""
           },
           "bgcolor": "#E5ECF6",
           "caxis": {
            "gridcolor": "white",
            "linecolor": "white",
            "ticks": ""
           }
          },
          "title": {
           "x": 0.05
          },
          "xaxis": {
           "automargin": true,
           "gridcolor": "white",
           "linecolor": "white",
           "ticks": "",
           "title": {
            "standoff": 15
           },
           "zerolinecolor": "white",
           "zerolinewidth": 2
          },
          "yaxis": {
           "automargin": true,
           "gridcolor": "white",
           "linecolor": "white",
           "ticks": "",
           "title": {
            "standoff": 15
           },
           "zerolinecolor": "white",
           "zerolinewidth": 2
          }
         }
        },
        "title": {
         "text": "Minerals by Category Sankey Diagram"
        }
       }
      }
     },
     "metadata": {},
     "output_type": "display_data"
    }
   ],
   "source": [
    "# Counting unique nodes\n",
    "nodes = alternatives['Mineral'].tolist() + alternatives['Source'].tolist() + alternatives['Category'].tolist()\n",
    "nodes = list(set(nodes))  # Get unique nodes\n",
    "\n",
    "# Creating indexes for source and target nodes\n",
    "source_indexes = [nodes.index(mineral) for mineral in alternatives['Mineral']]\n",
    "source_indexes += [len(nodes) + nodes.index(source) for source in alternatives['Source']]\n",
    "target_indexes = [2 * len(nodes) + nodes.index(category) for category in alternatives['Category']]\n",
    "\n",
    "# Creating Sankey diagram\n",
    "fig = go.Figure(data=[go.Sankey(\n",
    "    node=dict(\n",
    "        pad=15,\n",
    "        thickness=20,\n",
    "        line=dict(color=\"black\", width=0.5),\n",
    "        label=nodes,  # Nodes labels\n",
    "    ),\n",
    "    link=dict(\n",
    "        source=source_indexes,\n",
    "        target=target_indexes,\n",
    "        value=[1] * len(alternatives) * 2  # Same value for each mineral and source pair\n",
    "    )\n",
    ")])\n",
    "\n",
    "fig.update_layout(title_text=\"Minerals by Category Sankey Diagram\", height = 1500)\n",
    "fig.show()\n"
   ]
  },
  {
   "cell_type": "code",
   "execution_count": 94,
   "metadata": {},
   "outputs": [
    {
     "data": {
      "application/vnd.plotly.v1+json": {
       "config": {
        "plotlyServerURL": "https://plot.ly"
       },
       "data": [
        {
         "alignmentgroup": "True",
         "hovertemplate": "Status=enemy<br>Percentage Reliant=%{x}<br>Mineral=%{y}<extra></extra>",
         "legendgroup": "enemy",
         "marker": {
          "color": "red",
          "pattern": {
           "shape": ""
          }
         },
         "name": "enemy",
         "offsetgroup": "enemy",
         "orientation": "h",
         "showlegend": true,
         "textposition": "auto",
         "type": "bar",
         "x": [
          "100",
          "100",
          "100",
          "100",
          "100",
          "100",
          "100",
          "100",
          "100",
          "100",
          "96",
          95,
          "94",
          "87",
          "83",
          "83",
          "82",
          "79",
          "75",
          "75",
          "75",
          "69",
          "62",
          "54",
          "54",
          "53",
          "50",
          "50",
          "50",
          "50",
          "45",
          "28",
          "26",
          "25",
          "25",
          "25",
          "24"
         ],
         "xaxis": "x",
         "y": [
          "ARSENIC",
          "ASBESTOS",
          "GALLIUM",
          "GRAPHITE",
          "INDIUM",
          "MICA (NATURAL), sheet",
          "SCANDIUM",
          "STRONTIUM",
          "TANTALUM",
          "YTTRIUM",
          "BISMUTH",
          "RARE EARTHS",
          "POTASH",
          "DIAMOND (INDUSTRIAL), stones",
          "ANTIMONY",
          "CHROMIUM",
          "STONE",
          "ABRASIVES",
          "ABRASIVES",
          "ABRASIVES, fused aluminum oxide",
          "TELLURIUM",
          "GARNET",
          "DIAMOND",
          "ALUMINUM",
          "VANADIUM",
          "MAGNESIUM COMPOUNDS",
          "GERMANIUM",
          "SELENIUM",
          "TUNGSTEN",
          "ZIRCONIUM",
          "SILICON",
          "PERLITE",
          "PALLADIUM",
          "LITHIUM",
          "BROMINE",
          "CADMIUM",
          "MICA"
         ],
         "yaxis": "y"
        },
        {
         "alignmentgroup": "True",
         "hovertemplate": "Status=neutral<br>Percentage Reliant=%{x}<br>Mineral=%{y}<extra></extra>",
         "legendgroup": "neutral",
         "marker": {
          "color": "gray",
          "pattern": {
           "shape": ""
          }
         },
         "name": "neutral",
         "offsetgroup": "neutral",
         "orientation": "h",
         "showlegend": true,
         "textposition": "auto",
         "type": "bar",
         "x": [
          "100",
          "100",
          "100",
          "100",
          "100",
          "99",
          "95",
          "95",
          "89",
          "81",
          "81",
          "77",
          "76",
          "76",
          "75",
          "69",
          "69",
          "66",
          "59",
          "56",
          "50",
          "50",
          "42",
          "41",
          "39",
          "29",
          "21",
          "20"
         ],
         "xaxis": "x",
         "y": [
          "CESIUM",
          "FLUORSPAR",
          "MANGANESE",
          "NIOBIUM",
          "RUBIDIUM",
          "GEMSTONES",
          "NEPHELINE SYENITE",
          "TITANIUM",
          "DIAMOND",
          "PEAT",
          "TITANIUM MINERAL CONCENTRATES",
          "ABRASIVES, silicon carbide",
          "COBALT",
          "ZINC",
          "BAUXITE",
          "RHENIUM",
          "SILVER",
          "PLATINUM",
          "DIAMOND (INDUSTRIAL), dust/powder",
          "NICKEL",
          "IODINE",
          "MAGNESIUM METAL",
          "LEAD",
          "COPPER",
          "FELDSPAR",
          "SALT",
          "MICA (NATURAL), scrap and flake",
          "VERMICULITE"
         ],
         "yaxis": "y"
        }
       ],
       "layout": {
        "barmode": "relative",
        "legend": {
         "title": {
          "text": "Status"
         },
         "tracegroupgap": 0
        },
        "showlegend": false,
        "template": {
         "data": {
          "bar": [
           {
            "error_x": {
             "color": "#2a3f5f"
            },
            "error_y": {
             "color": "#2a3f5f"
            },
            "marker": {
             "line": {
              "color": "#E5ECF6",
              "width": 0.5
             },
             "pattern": {
              "fillmode": "overlay",
              "size": 10,
              "solidity": 0.2
             }
            },
            "type": "bar"
           }
          ],
          "barpolar": [
           {
            "marker": {
             "line": {
              "color": "#E5ECF6",
              "width": 0.5
             },
             "pattern": {
              "fillmode": "overlay",
              "size": 10,
              "solidity": 0.2
             }
            },
            "type": "barpolar"
           }
          ],
          "carpet": [
           {
            "aaxis": {
             "endlinecolor": "#2a3f5f",
             "gridcolor": "white",
             "linecolor": "white",
             "minorgridcolor": "white",
             "startlinecolor": "#2a3f5f"
            },
            "baxis": {
             "endlinecolor": "#2a3f5f",
             "gridcolor": "white",
             "linecolor": "white",
             "minorgridcolor": "white",
             "startlinecolor": "#2a3f5f"
            },
            "type": "carpet"
           }
          ],
          "choropleth": [
           {
            "colorbar": {
             "outlinewidth": 0,
             "ticks": ""
            },
            "type": "choropleth"
           }
          ],
          "contour": [
           {
            "colorbar": {
             "outlinewidth": 0,
             "ticks": ""
            },
            "colorscale": [
             [
              0,
              "#0d0887"
             ],
             [
              0.1111111111111111,
              "#46039f"
             ],
             [
              0.2222222222222222,
              "#7201a8"
             ],
             [
              0.3333333333333333,
              "#9c179e"
             ],
             [
              0.4444444444444444,
              "#bd3786"
             ],
             [
              0.5555555555555556,
              "#d8576b"
             ],
             [
              0.6666666666666666,
              "#ed7953"
             ],
             [
              0.7777777777777778,
              "#fb9f3a"
             ],
             [
              0.8888888888888888,
              "#fdca26"
             ],
             [
              1,
              "#f0f921"
             ]
            ],
            "type": "contour"
           }
          ],
          "contourcarpet": [
           {
            "colorbar": {
             "outlinewidth": 0,
             "ticks": ""
            },
            "type": "contourcarpet"
           }
          ],
          "heatmap": [
           {
            "colorbar": {
             "outlinewidth": 0,
             "ticks": ""
            },
            "colorscale": [
             [
              0,
              "#0d0887"
             ],
             [
              0.1111111111111111,
              "#46039f"
             ],
             [
              0.2222222222222222,
              "#7201a8"
             ],
             [
              0.3333333333333333,
              "#9c179e"
             ],
             [
              0.4444444444444444,
              "#bd3786"
             ],
             [
              0.5555555555555556,
              "#d8576b"
             ],
             [
              0.6666666666666666,
              "#ed7953"
             ],
             [
              0.7777777777777778,
              "#fb9f3a"
             ],
             [
              0.8888888888888888,
              "#fdca26"
             ],
             [
              1,
              "#f0f921"
             ]
            ],
            "type": "heatmap"
           }
          ],
          "heatmapgl": [
           {
            "colorbar": {
             "outlinewidth": 0,
             "ticks": ""
            },
            "colorscale": [
             [
              0,
              "#0d0887"
             ],
             [
              0.1111111111111111,
              "#46039f"
             ],
             [
              0.2222222222222222,
              "#7201a8"
             ],
             [
              0.3333333333333333,
              "#9c179e"
             ],
             [
              0.4444444444444444,
              "#bd3786"
             ],
             [
              0.5555555555555556,
              "#d8576b"
             ],
             [
              0.6666666666666666,
              "#ed7953"
             ],
             [
              0.7777777777777778,
              "#fb9f3a"
             ],
             [
              0.8888888888888888,
              "#fdca26"
             ],
             [
              1,
              "#f0f921"
             ]
            ],
            "type": "heatmapgl"
           }
          ],
          "histogram": [
           {
            "marker": {
             "pattern": {
              "fillmode": "overlay",
              "size": 10,
              "solidity": 0.2
             }
            },
            "type": "histogram"
           }
          ],
          "histogram2d": [
           {
            "colorbar": {
             "outlinewidth": 0,
             "ticks": ""
            },
            "colorscale": [
             [
              0,
              "#0d0887"
             ],
             [
              0.1111111111111111,
              "#46039f"
             ],
             [
              0.2222222222222222,
              "#7201a8"
             ],
             [
              0.3333333333333333,
              "#9c179e"
             ],
             [
              0.4444444444444444,
              "#bd3786"
             ],
             [
              0.5555555555555556,
              "#d8576b"
             ],
             [
              0.6666666666666666,
              "#ed7953"
             ],
             [
              0.7777777777777778,
              "#fb9f3a"
             ],
             [
              0.8888888888888888,
              "#fdca26"
             ],
             [
              1,
              "#f0f921"
             ]
            ],
            "type": "histogram2d"
           }
          ],
          "histogram2dcontour": [
           {
            "colorbar": {
             "outlinewidth": 0,
             "ticks": ""
            },
            "colorscale": [
             [
              0,
              "#0d0887"
             ],
             [
              0.1111111111111111,
              "#46039f"
             ],
             [
              0.2222222222222222,
              "#7201a8"
             ],
             [
              0.3333333333333333,
              "#9c179e"
             ],
             [
              0.4444444444444444,
              "#bd3786"
             ],
             [
              0.5555555555555556,
              "#d8576b"
             ],
             [
              0.6666666666666666,
              "#ed7953"
             ],
             [
              0.7777777777777778,
              "#fb9f3a"
             ],
             [
              0.8888888888888888,
              "#fdca26"
             ],
             [
              1,
              "#f0f921"
             ]
            ],
            "type": "histogram2dcontour"
           }
          ],
          "mesh3d": [
           {
            "colorbar": {
             "outlinewidth": 0,
             "ticks": ""
            },
            "type": "mesh3d"
           }
          ],
          "parcoords": [
           {
            "line": {
             "colorbar": {
              "outlinewidth": 0,
              "ticks": ""
             }
            },
            "type": "parcoords"
           }
          ],
          "pie": [
           {
            "automargin": true,
            "type": "pie"
           }
          ],
          "scatter": [
           {
            "fillpattern": {
             "fillmode": "overlay",
             "size": 10,
             "solidity": 0.2
            },
            "type": "scatter"
           }
          ],
          "scatter3d": [
           {
            "line": {
             "colorbar": {
              "outlinewidth": 0,
              "ticks": ""
             }
            },
            "marker": {
             "colorbar": {
              "outlinewidth": 0,
              "ticks": ""
             }
            },
            "type": "scatter3d"
           }
          ],
          "scattercarpet": [
           {
            "marker": {
             "colorbar": {
              "outlinewidth": 0,
              "ticks": ""
             }
            },
            "type": "scattercarpet"
           }
          ],
          "scattergeo": [
           {
            "marker": {
             "colorbar": {
              "outlinewidth": 0,
              "ticks": ""
             }
            },
            "type": "scattergeo"
           }
          ],
          "scattergl": [
           {
            "marker": {
             "colorbar": {
              "outlinewidth": 0,
              "ticks": ""
             }
            },
            "type": "scattergl"
           }
          ],
          "scattermapbox": [
           {
            "marker": {
             "colorbar": {
              "outlinewidth": 0,
              "ticks": ""
             }
            },
            "type": "scattermapbox"
           }
          ],
          "scatterpolar": [
           {
            "marker": {
             "colorbar": {
              "outlinewidth": 0,
              "ticks": ""
             }
            },
            "type": "scatterpolar"
           }
          ],
          "scatterpolargl": [
           {
            "marker": {
             "colorbar": {
              "outlinewidth": 0,
              "ticks": ""
             }
            },
            "type": "scatterpolargl"
           }
          ],
          "scatterternary": [
           {
            "marker": {
             "colorbar": {
              "outlinewidth": 0,
              "ticks": ""
             }
            },
            "type": "scatterternary"
           }
          ],
          "surface": [
           {
            "colorbar": {
             "outlinewidth": 0,
             "ticks": ""
            },
            "colorscale": [
             [
              0,
              "#0d0887"
             ],
             [
              0.1111111111111111,
              "#46039f"
             ],
             [
              0.2222222222222222,
              "#7201a8"
             ],
             [
              0.3333333333333333,
              "#9c179e"
             ],
             [
              0.4444444444444444,
              "#bd3786"
             ],
             [
              0.5555555555555556,
              "#d8576b"
             ],
             [
              0.6666666666666666,
              "#ed7953"
             ],
             [
              0.7777777777777778,
              "#fb9f3a"
             ],
             [
              0.8888888888888888,
              "#fdca26"
             ],
             [
              1,
              "#f0f921"
             ]
            ],
            "type": "surface"
           }
          ],
          "table": [
           {
            "cells": {
             "fill": {
              "color": "#EBF0F8"
             },
             "line": {
              "color": "white"
             }
            },
            "header": {
             "fill": {
              "color": "#C8D4E3"
             },
             "line": {
              "color": "white"
             }
            },
            "type": "table"
           }
          ]
         },
         "layout": {
          "annotationdefaults": {
           "arrowcolor": "#2a3f5f",
           "arrowhead": 0,
           "arrowwidth": 1
          },
          "autotypenumbers": "strict",
          "coloraxis": {
           "colorbar": {
            "outlinewidth": 0,
            "ticks": ""
           }
          },
          "colorscale": {
           "diverging": [
            [
             0,
             "#8e0152"
            ],
            [
             0.1,
             "#c51b7d"
            ],
            [
             0.2,
             "#de77ae"
            ],
            [
             0.3,
             "#f1b6da"
            ],
            [
             0.4,
             "#fde0ef"
            ],
            [
             0.5,
             "#f7f7f7"
            ],
            [
             0.6,
             "#e6f5d0"
            ],
            [
             0.7,
             "#b8e186"
            ],
            [
             0.8,
             "#7fbc41"
            ],
            [
             0.9,
             "#4d9221"
            ],
            [
             1,
             "#276419"
            ]
           ],
           "sequential": [
            [
             0,
             "#0d0887"
            ],
            [
             0.1111111111111111,
             "#46039f"
            ],
            [
             0.2222222222222222,
             "#7201a8"
            ],
            [
             0.3333333333333333,
             "#9c179e"
            ],
            [
             0.4444444444444444,
             "#bd3786"
            ],
            [
             0.5555555555555556,
             "#d8576b"
            ],
            [
             0.6666666666666666,
             "#ed7953"
            ],
            [
             0.7777777777777778,
             "#fb9f3a"
            ],
            [
             0.8888888888888888,
             "#fdca26"
            ],
            [
             1,
             "#f0f921"
            ]
           ],
           "sequentialminus": [
            [
             0,
             "#0d0887"
            ],
            [
             0.1111111111111111,
             "#46039f"
            ],
            [
             0.2222222222222222,
             "#7201a8"
            ],
            [
             0.3333333333333333,
             "#9c179e"
            ],
            [
             0.4444444444444444,
             "#bd3786"
            ],
            [
             0.5555555555555556,
             "#d8576b"
            ],
            [
             0.6666666666666666,
             "#ed7953"
            ],
            [
             0.7777777777777778,
             "#fb9f3a"
            ],
            [
             0.8888888888888888,
             "#fdca26"
            ],
            [
             1,
             "#f0f921"
            ]
           ]
          },
          "colorway": [
           "#636efa",
           "#EF553B",
           "#00cc96",
           "#ab63fa",
           "#FFA15A",
           "#19d3f3",
           "#FF6692",
           "#B6E880",
           "#FF97FF",
           "#FECB52"
          ],
          "font": {
           "color": "#2a3f5f"
          },
          "geo": {
           "bgcolor": "white",
           "lakecolor": "white",
           "landcolor": "#E5ECF6",
           "showlakes": true,
           "showland": true,
           "subunitcolor": "white"
          },
          "hoverlabel": {
           "align": "left"
          },
          "hovermode": "closest",
          "mapbox": {
           "style": "light"
          },
          "paper_bgcolor": "white",
          "plot_bgcolor": "#E5ECF6",
          "polar": {
           "angularaxis": {
            "gridcolor": "white",
            "linecolor": "white",
            "ticks": ""
           },
           "bgcolor": "#E5ECF6",
           "radialaxis": {
            "gridcolor": "white",
            "linecolor": "white",
            "ticks": ""
           }
          },
          "scene": {
           "xaxis": {
            "backgroundcolor": "#E5ECF6",
            "gridcolor": "white",
            "gridwidth": 2,
            "linecolor": "white",
            "showbackground": true,
            "ticks": "",
            "zerolinecolor": "white"
           },
           "yaxis": {
            "backgroundcolor": "#E5ECF6",
            "gridcolor": "white",
            "gridwidth": 2,
            "linecolor": "white",
            "showbackground": true,
            "ticks": "",
            "zerolinecolor": "white"
           },
           "zaxis": {
            "backgroundcolor": "#E5ECF6",
            "gridcolor": "white",
            "gridwidth": 2,
            "linecolor": "white",
            "showbackground": true,
            "ticks": "",
            "zerolinecolor": "white"
           }
          },
          "shapedefaults": {
           "line": {
            "color": "#2a3f5f"
           }
          },
          "ternary": {
           "aaxis": {
            "gridcolor": "white",
            "linecolor": "white",
            "ticks": ""
           },
           "baxis": {
            "gridcolor": "white",
            "linecolor": "white",
            "ticks": ""
           },
           "bgcolor": "#E5ECF6",
           "caxis": {
            "gridcolor": "white",
            "linecolor": "white",
            "ticks": ""
           }
          },
          "title": {
           "x": 0.05
          },
          "xaxis": {
           "automargin": true,
           "gridcolor": "white",
           "linecolor": "white",
           "ticks": "",
           "title": {
            "standoff": 15
           },
           "zerolinecolor": "white",
           "zerolinewidth": 2
          },
          "yaxis": {
           "automargin": true,
           "gridcolor": "white",
           "linecolor": "white",
           "ticks": "",
           "title": {
            "standoff": 15
           },
           "zerolinecolor": "white",
           "zerolinewidth": 2
          }
         }
        },
        "title": {
         "text": "Mineral Dependency"
        },
        "xaxis": {
         "anchor": "y",
         "domain": [
          0,
          1
         ],
         "title": {
          "text": "Percentage Reliant"
         }
        },
        "yaxis": {
         "anchor": "x",
         "domain": [
          0,
          1
         ],
         "title": {
          "text": "Mineral"
         }
        }
       }
      }
     },
     "metadata": {},
     "output_type": "display_data"
    }
   ],
   "source": [
    "import plotly.express as px\n",
    "\n",
    "fig = px.bar(mineral_chart, \n",
    "             x='Percentage Reliant', \n",
    "             y='Mineral', \n",
    "             orientation='h', \n",
    "             color='Status', \n",
    "             color_discrete_map={'enemy': 'red', 'neutral': 'gray' ,'ally':'blue'},  # Assign colors based on status\n",
    "             labels={'Mineral': 'Mineral', 'Percentage Reliant': 'Percentage Reliant'},\n",
    "             title='Mineral Dependency'\n",
    "            )\n",
    "\n",
    "fig.update_layout(showlegend=False)  # Hide the legend if not needed\n",
    "fig.show()"
   ]
  }
 ],
 "metadata": {
  "kernelspec": {
   "display_name": "base",
   "language": "python",
   "name": "python3"
  },
  "language_info": {
   "codemirror_mode": {
    "name": "ipython",
    "version": 3
   },
   "file_extension": ".py",
   "mimetype": "text/x-python",
   "name": "python",
   "nbconvert_exporter": "python",
   "pygments_lexer": "ipython3",
   "version": "3.10.13"
  }
 },
 "nbformat": 4,
 "nbformat_minor": 2
}
