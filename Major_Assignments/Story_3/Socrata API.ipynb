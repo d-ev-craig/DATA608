from soapy import Socrata

# Unauthenticated client only works with public data sets. Note 'None'
# in place of application token, and no username or password:
client = Socrata("data.cdc.gov", None)

# Example authenticated client (needed for non-public datasets):
# client = Socrata(data.cdc.gov,
#                  MyAppToken,
#                  username="user@example.com",
#                  password="AFakePassword")

# Firearm-related injury

# First 2000 results, returned as JSON from API / converted to Python list of
# dictionaries by sodapy.
results = client.get("489q-934x", cause_of_death="Firearm-related injury")

# Convert to pandas DataFrame
results_df = pd.DataFrame.from_records(results)